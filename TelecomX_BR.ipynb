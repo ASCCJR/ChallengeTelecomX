{
  "cells": [
    {
      "cell_type": "markdown",
      "metadata": {
        "id": "view-in-github",
        "colab_type": "text"
      },
      "source": [
        "<a href=\"https://colab.research.google.com/github/ASCCJR/ChallengeTelecomX/blob/main/TelecomX_BR.ipynb\" target=\"_parent\"><img src=\"https://colab.research.google.com/assets/colab-badge.svg\" alt=\"Open In Colab\"/></a>"
      ]
    },
    {
      "cell_type": "markdown",
      "metadata": {
        "id": "4foVEKhrlqcH"
      },
      "source": [
        "#📌 **Extração**"
      ]
    },
    {
      "cell_type": "code",
      "source": [
        "# Importando as bibliotecas necessárias\n",
        "import pandas as pd\n",
        "import json\n",
        "from google.colab import drive\n",
        "\n",
        "# Montando o Google Drive\n",
        "drive.mount('/content/drive')\n",
        "\n",
        "# Definindo o caminho do arquivo (ajuste se necessário)\n",
        "file_path = '/content/drive/MyDrive/Colab Notebooks/Challenge Telecom X/TelecomX_Data.json'\n",
        "\n",
        "# Carregando o arquivo JSON bruto\n",
        "with open(file_path, 'r') as f:\n",
        "    dados_json = json.load(f)\n",
        "\n",
        "# Criando um DataFrame inicial para visualização\n",
        "dados_brutos = pd.DataFrame(dados_json)\n",
        "\n",
        "print(\"Visualizar as 5 primeiras linhas:\")\n",
        "display(dados_brutos.head())"
      ],
      "metadata": {
        "colab": {
          "base_uri": "https://localhost:8080/",
          "height": 0
        },
        "id": "j5JoXHfxzbfd",
        "outputId": "5c63ca2d-6c45-4977-9657-ead18ba7d535"
      },
      "execution_count": 1,
      "outputs": [
        {
          "output_type": "stream",
          "name": "stdout",
          "text": [
            "Drive already mounted at /content/drive; to attempt to forcibly remount, call drive.mount(\"/content/drive\", force_remount=True).\n",
            "Visualizar as 5 primeiras linhas:\n"
          ]
        },
        {
          "output_type": "display_data",
          "data": {
            "text/plain": [
              "   customerID Churn                                           customer  \\\n",
              "0  0002-ORFBO    No  {'gender': 'Female', 'SeniorCitizen': 0, 'Part...   \n",
              "1  0003-MKNFE    No  {'gender': 'Male', 'SeniorCitizen': 0, 'Partne...   \n",
              "2  0004-TLHLJ   Yes  {'gender': 'Male', 'SeniorCitizen': 0, 'Partne...   \n",
              "3  0011-IGKFF   Yes  {'gender': 'Male', 'SeniorCitizen': 1, 'Partne...   \n",
              "4  0013-EXCHZ   Yes  {'gender': 'Female', 'SeniorCitizen': 1, 'Part...   \n",
              "\n",
              "                                             phone  \\\n",
              "0   {'PhoneService': 'Yes', 'MultipleLines': 'No'}   \n",
              "1  {'PhoneService': 'Yes', 'MultipleLines': 'Yes'}   \n",
              "2   {'PhoneService': 'Yes', 'MultipleLines': 'No'}   \n",
              "3   {'PhoneService': 'Yes', 'MultipleLines': 'No'}   \n",
              "4   {'PhoneService': 'Yes', 'MultipleLines': 'No'}   \n",
              "\n",
              "                                            internet  \\\n",
              "0  {'InternetService': 'DSL', 'OnlineSecurity': '...   \n",
              "1  {'InternetService': 'DSL', 'OnlineSecurity': '...   \n",
              "2  {'InternetService': 'Fiber optic', 'OnlineSecu...   \n",
              "3  {'InternetService': 'Fiber optic', 'OnlineSecu...   \n",
              "4  {'InternetService': 'Fiber optic', 'OnlineSecu...   \n",
              "\n",
              "                                             account  \n",
              "0  {'Contract': 'One year', 'PaperlessBilling': '...  \n",
              "1  {'Contract': 'Month-to-month', 'PaperlessBilli...  \n",
              "2  {'Contract': 'Month-to-month', 'PaperlessBilli...  \n",
              "3  {'Contract': 'Month-to-month', 'PaperlessBilli...  \n",
              "4  {'Contract': 'Month-to-month', 'PaperlessBilli...  "
            ],
            "text/html": [
              "\n",
              "  <div id=\"df-fbd6b015-dc0d-490b-8d05-004098675b1b\" class=\"colab-df-container\">\n",
              "    <div>\n",
              "<style scoped>\n",
              "    .dataframe tbody tr th:only-of-type {\n",
              "        vertical-align: middle;\n",
              "    }\n",
              "\n",
              "    .dataframe tbody tr th {\n",
              "        vertical-align: top;\n",
              "    }\n",
              "\n",
              "    .dataframe thead th {\n",
              "        text-align: right;\n",
              "    }\n",
              "</style>\n",
              "<table border=\"1\" class=\"dataframe\">\n",
              "  <thead>\n",
              "    <tr style=\"text-align: right;\">\n",
              "      <th></th>\n",
              "      <th>customerID</th>\n",
              "      <th>Churn</th>\n",
              "      <th>customer</th>\n",
              "      <th>phone</th>\n",
              "      <th>internet</th>\n",
              "      <th>account</th>\n",
              "    </tr>\n",
              "  </thead>\n",
              "  <tbody>\n",
              "    <tr>\n",
              "      <th>0</th>\n",
              "      <td>0002-ORFBO</td>\n",
              "      <td>No</td>\n",
              "      <td>{'gender': 'Female', 'SeniorCitizen': 0, 'Part...</td>\n",
              "      <td>{'PhoneService': 'Yes', 'MultipleLines': 'No'}</td>\n",
              "      <td>{'InternetService': 'DSL', 'OnlineSecurity': '...</td>\n",
              "      <td>{'Contract': 'One year', 'PaperlessBilling': '...</td>\n",
              "    </tr>\n",
              "    <tr>\n",
              "      <th>1</th>\n",
              "      <td>0003-MKNFE</td>\n",
              "      <td>No</td>\n",
              "      <td>{'gender': 'Male', 'SeniorCitizen': 0, 'Partne...</td>\n",
              "      <td>{'PhoneService': 'Yes', 'MultipleLines': 'Yes'}</td>\n",
              "      <td>{'InternetService': 'DSL', 'OnlineSecurity': '...</td>\n",
              "      <td>{'Contract': 'Month-to-month', 'PaperlessBilli...</td>\n",
              "    </tr>\n",
              "    <tr>\n",
              "      <th>2</th>\n",
              "      <td>0004-TLHLJ</td>\n",
              "      <td>Yes</td>\n",
              "      <td>{'gender': 'Male', 'SeniorCitizen': 0, 'Partne...</td>\n",
              "      <td>{'PhoneService': 'Yes', 'MultipleLines': 'No'}</td>\n",
              "      <td>{'InternetService': 'Fiber optic', 'OnlineSecu...</td>\n",
              "      <td>{'Contract': 'Month-to-month', 'PaperlessBilli...</td>\n",
              "    </tr>\n",
              "    <tr>\n",
              "      <th>3</th>\n",
              "      <td>0011-IGKFF</td>\n",
              "      <td>Yes</td>\n",
              "      <td>{'gender': 'Male', 'SeniorCitizen': 1, 'Partne...</td>\n",
              "      <td>{'PhoneService': 'Yes', 'MultipleLines': 'No'}</td>\n",
              "      <td>{'InternetService': 'Fiber optic', 'OnlineSecu...</td>\n",
              "      <td>{'Contract': 'Month-to-month', 'PaperlessBilli...</td>\n",
              "    </tr>\n",
              "    <tr>\n",
              "      <th>4</th>\n",
              "      <td>0013-EXCHZ</td>\n",
              "      <td>Yes</td>\n",
              "      <td>{'gender': 'Female', 'SeniorCitizen': 1, 'Part...</td>\n",
              "      <td>{'PhoneService': 'Yes', 'MultipleLines': 'No'}</td>\n",
              "      <td>{'InternetService': 'Fiber optic', 'OnlineSecu...</td>\n",
              "      <td>{'Contract': 'Month-to-month', 'PaperlessBilli...</td>\n",
              "    </tr>\n",
              "  </tbody>\n",
              "</table>\n",
              "</div>\n",
              "    <div class=\"colab-df-buttons\">\n",
              "\n",
              "  <div class=\"colab-df-container\">\n",
              "    <button class=\"colab-df-convert\" onclick=\"convertToInteractive('df-fbd6b015-dc0d-490b-8d05-004098675b1b')\"\n",
              "            title=\"Convert this dataframe to an interactive table.\"\n",
              "            style=\"display:none;\">\n",
              "\n",
              "  <svg xmlns=\"http://www.w3.org/2000/svg\" height=\"24px\" viewBox=\"0 -960 960 960\">\n",
              "    <path d=\"M120-120v-720h720v720H120Zm60-500h600v-160H180v160Zm220 220h160v-160H400v160Zm0 220h160v-160H400v160ZM180-400h160v-160H180v160Zm440 0h160v-160H620v160ZM180-180h160v-160H180v160Zm440 0h160v-160H620v160Z\"/>\n",
              "  </svg>\n",
              "    </button>\n",
              "\n",
              "  <style>\n",
              "    .colab-df-container {\n",
              "      display:flex;\n",
              "      gap: 12px;\n",
              "    }\n",
              "\n",
              "    .colab-df-convert {\n",
              "      background-color: #E8F0FE;\n",
              "      border: none;\n",
              "      border-radius: 50%;\n",
              "      cursor: pointer;\n",
              "      display: none;\n",
              "      fill: #1967D2;\n",
              "      height: 32px;\n",
              "      padding: 0 0 0 0;\n",
              "      width: 32px;\n",
              "    }\n",
              "\n",
              "    .colab-df-convert:hover {\n",
              "      background-color: #E2EBFA;\n",
              "      box-shadow: 0px 1px 2px rgba(60, 64, 67, 0.3), 0px 1px 3px 1px rgba(60, 64, 67, 0.15);\n",
              "      fill: #174EA6;\n",
              "    }\n",
              "\n",
              "    .colab-df-buttons div {\n",
              "      margin-bottom: 4px;\n",
              "    }\n",
              "\n",
              "    [theme=dark] .colab-df-convert {\n",
              "      background-color: #3B4455;\n",
              "      fill: #D2E3FC;\n",
              "    }\n",
              "\n",
              "    [theme=dark] .colab-df-convert:hover {\n",
              "      background-color: #434B5C;\n",
              "      box-shadow: 0px 1px 3px 1px rgba(0, 0, 0, 0.15);\n",
              "      filter: drop-shadow(0px 1px 2px rgba(0, 0, 0, 0.3));\n",
              "      fill: #FFFFFF;\n",
              "    }\n",
              "  </style>\n",
              "\n",
              "    <script>\n",
              "      const buttonEl =\n",
              "        document.querySelector('#df-fbd6b015-dc0d-490b-8d05-004098675b1b button.colab-df-convert');\n",
              "      buttonEl.style.display =\n",
              "        google.colab.kernel.accessAllowed ? 'block' : 'none';\n",
              "\n",
              "      async function convertToInteractive(key) {\n",
              "        const element = document.querySelector('#df-fbd6b015-dc0d-490b-8d05-004098675b1b');\n",
              "        const dataTable =\n",
              "          await google.colab.kernel.invokeFunction('convertToInteractive',\n",
              "                                                    [key], {});\n",
              "        if (!dataTable) return;\n",
              "\n",
              "        const docLinkHtml = 'Like what you see? Visit the ' +\n",
              "          '<a target=\"_blank\" href=https://colab.research.google.com/notebooks/data_table.ipynb>data table notebook</a>'\n",
              "          + ' to learn more about interactive tables.';\n",
              "        element.innerHTML = '';\n",
              "        dataTable['output_type'] = 'display_data';\n",
              "        await google.colab.output.renderOutput(dataTable, element);\n",
              "        const docLink = document.createElement('div');\n",
              "        docLink.innerHTML = docLinkHtml;\n",
              "        element.appendChild(docLink);\n",
              "      }\n",
              "    </script>\n",
              "  </div>\n",
              "\n",
              "\n",
              "    <div id=\"df-c0a4aef3-d22b-4344-b0c7-f5f09aa177f9\">\n",
              "      <button class=\"colab-df-quickchart\" onclick=\"quickchart('df-c0a4aef3-d22b-4344-b0c7-f5f09aa177f9')\"\n",
              "                title=\"Suggest charts\"\n",
              "                style=\"display:none;\">\n",
              "\n",
              "<svg xmlns=\"http://www.w3.org/2000/svg\" height=\"24px\"viewBox=\"0 0 24 24\"\n",
              "     width=\"24px\">\n",
              "    <g>\n",
              "        <path d=\"M19 3H5c-1.1 0-2 .9-2 2v14c0 1.1.9 2 2 2h14c1.1 0 2-.9 2-2V5c0-1.1-.9-2-2-2zM9 17H7v-7h2v7zm4 0h-2V7h2v10zm4 0h-2v-4h2v4z\"/>\n",
              "    </g>\n",
              "</svg>\n",
              "      </button>\n",
              "\n",
              "<style>\n",
              "  .colab-df-quickchart {\n",
              "      --bg-color: #E8F0FE;\n",
              "      --fill-color: #1967D2;\n",
              "      --hover-bg-color: #E2EBFA;\n",
              "      --hover-fill-color: #174EA6;\n",
              "      --disabled-fill-color: #AAA;\n",
              "      --disabled-bg-color: #DDD;\n",
              "  }\n",
              "\n",
              "  [theme=dark] .colab-df-quickchart {\n",
              "      --bg-color: #3B4455;\n",
              "      --fill-color: #D2E3FC;\n",
              "      --hover-bg-color: #434B5C;\n",
              "      --hover-fill-color: #FFFFFF;\n",
              "      --disabled-bg-color: #3B4455;\n",
              "      --disabled-fill-color: #666;\n",
              "  }\n",
              "\n",
              "  .colab-df-quickchart {\n",
              "    background-color: var(--bg-color);\n",
              "    border: none;\n",
              "    border-radius: 50%;\n",
              "    cursor: pointer;\n",
              "    display: none;\n",
              "    fill: var(--fill-color);\n",
              "    height: 32px;\n",
              "    padding: 0;\n",
              "    width: 32px;\n",
              "  }\n",
              "\n",
              "  .colab-df-quickchart:hover {\n",
              "    background-color: var(--hover-bg-color);\n",
              "    box-shadow: 0 1px 2px rgba(60, 64, 67, 0.3), 0 1px 3px 1px rgba(60, 64, 67, 0.15);\n",
              "    fill: var(--button-hover-fill-color);\n",
              "  }\n",
              "\n",
              "  .colab-df-quickchart-complete:disabled,\n",
              "  .colab-df-quickchart-complete:disabled:hover {\n",
              "    background-color: var(--disabled-bg-color);\n",
              "    fill: var(--disabled-fill-color);\n",
              "    box-shadow: none;\n",
              "  }\n",
              "\n",
              "  .colab-df-spinner {\n",
              "    border: 2px solid var(--fill-color);\n",
              "    border-color: transparent;\n",
              "    border-bottom-color: var(--fill-color);\n",
              "    animation:\n",
              "      spin 1s steps(1) infinite;\n",
              "  }\n",
              "\n",
              "  @keyframes spin {\n",
              "    0% {\n",
              "      border-color: transparent;\n",
              "      border-bottom-color: var(--fill-color);\n",
              "      border-left-color: var(--fill-color);\n",
              "    }\n",
              "    20% {\n",
              "      border-color: transparent;\n",
              "      border-left-color: var(--fill-color);\n",
              "      border-top-color: var(--fill-color);\n",
              "    }\n",
              "    30% {\n",
              "      border-color: transparent;\n",
              "      border-left-color: var(--fill-color);\n",
              "      border-top-color: var(--fill-color);\n",
              "      border-right-color: var(--fill-color);\n",
              "    }\n",
              "    40% {\n",
              "      border-color: transparent;\n",
              "      border-right-color: var(--fill-color);\n",
              "      border-top-color: var(--fill-color);\n",
              "    }\n",
              "    60% {\n",
              "      border-color: transparent;\n",
              "      border-right-color: var(--fill-color);\n",
              "    }\n",
              "    80% {\n",
              "      border-color: transparent;\n",
              "      border-right-color: var(--fill-color);\n",
              "      border-bottom-color: var(--fill-color);\n",
              "    }\n",
              "    90% {\n",
              "      border-color: transparent;\n",
              "      border-bottom-color: var(--fill-color);\n",
              "    }\n",
              "  }\n",
              "</style>\n",
              "\n",
              "      <script>\n",
              "        async function quickchart(key) {\n",
              "          const quickchartButtonEl =\n",
              "            document.querySelector('#' + key + ' button');\n",
              "          quickchartButtonEl.disabled = true;  // To prevent multiple clicks.\n",
              "          quickchartButtonEl.classList.add('colab-df-spinner');\n",
              "          try {\n",
              "            const charts = await google.colab.kernel.invokeFunction(\n",
              "                'suggestCharts', [key], {});\n",
              "          } catch (error) {\n",
              "            console.error('Error during call to suggestCharts:', error);\n",
              "          }\n",
              "          quickchartButtonEl.classList.remove('colab-df-spinner');\n",
              "          quickchartButtonEl.classList.add('colab-df-quickchart-complete');\n",
              "        }\n",
              "        (() => {\n",
              "          let quickchartButtonEl =\n",
              "            document.querySelector('#df-c0a4aef3-d22b-4344-b0c7-f5f09aa177f9 button');\n",
              "          quickchartButtonEl.style.display =\n",
              "            google.colab.kernel.accessAllowed ? 'block' : 'none';\n",
              "        })();\n",
              "      </script>\n",
              "    </div>\n",
              "\n",
              "    </div>\n",
              "  </div>\n"
            ],
            "application/vnd.google.colaboratory.intrinsic+json": {
              "type": "dataframe",
              "summary": "{\n  \"name\": \"display(dados_brutos\",\n  \"rows\": 5,\n  \"fields\": [\n    {\n      \"column\": \"customerID\",\n      \"properties\": {\n        \"dtype\": \"string\",\n        \"num_unique_values\": 5,\n        \"samples\": [\n          \"0003-MKNFE\",\n          \"0013-EXCHZ\",\n          \"0004-TLHLJ\"\n        ],\n        \"semantic_type\": \"\",\n        \"description\": \"\"\n      }\n    },\n    {\n      \"column\": \"Churn\",\n      \"properties\": {\n        \"dtype\": \"category\",\n        \"num_unique_values\": 2,\n        \"samples\": [\n          \"Yes\",\n          \"No\"\n        ],\n        \"semantic_type\": \"\",\n        \"description\": \"\"\n      }\n    },\n    {\n      \"column\": \"customer\",\n      \"properties\": {\n        \"dtype\": \"object\",\n        \"semantic_type\": \"\",\n        \"description\": \"\"\n      }\n    },\n    {\n      \"column\": \"phone\",\n      \"properties\": {\n        \"dtype\": \"object\",\n        \"semantic_type\": \"\",\n        \"description\": \"\"\n      }\n    },\n    {\n      \"column\": \"internet\",\n      \"properties\": {\n        \"dtype\": \"object\",\n        \"semantic_type\": \"\",\n        \"description\": \"\"\n      }\n    },\n    {\n      \"column\": \"account\",\n      \"properties\": {\n        \"dtype\": \"object\",\n        \"semantic_type\": \"\",\n        \"description\": \"\"\n      }\n    }\n  ]\n}"
            }
          },
          "metadata": {}
        }
      ]
    },
    {
      "cell_type": "markdown",
      "source": [
        "**Comentario**\n",
        "\n",
        "Ao olhar para o `head()` acima, a primeira coisa que notamos é que as colunas customer, phone, internet, e account não contêm valores simples como 'Yes' ou 123. Elas contêm dicionários (dados dentro de dados). Isso torna a análise direta impossível.\n",
        "\n",
        "Nosso primeiro desafio é \"desempacotar\" ou \"achatar\" essas colunas. Uma ferramenta excelente para isso é o pandas.json_normalize."
      ],
      "metadata": {
        "id": "Ewl8uoImzKVa"
      }
    },
    {
      "cell_type": "markdown",
      "metadata": {
        "id": "1lSZP8zmmGZu"
      },
      "source": [
        "#🔧 **Transformação**"
      ]
    },
    {
      "cell_type": "markdown",
      "source": [
        "#### Dicionário de dados\n",
        "\n",
        "* `customerID`: número de identificação único de cada cliente\n",
        "* `Churn`: se o cliente deixou ou não a empresa\n",
        "* `gender`: gênero (masculino e feminino)\n",
        "* `SeniorCitizen`: informação sobre um cliente ter ou não idade igual ou maior que 65 anos\n",
        "* `Partner`:  se o cliente possui ou não um parceiro ou parceira\n",
        "* `Dependents`: se o cliente possui ou não dependentes\n",
        "* `tenure`:  meses de contrato do cliente\n",
        "* `PhoneService`: assinatura de serviço telefônico\n",
        "* `MultipleLines`: assisnatura de mais de uma linha de telefone\n",
        "* `InternetService`: assinatura de um provedor internet\n",
        "* `OnlineSecurity`: assinatura adicional de segurança online\n",
        "* `OnlineBackup`: assinatura adicional de backup online\n",
        "* `DeviceProtection`: assinatura adicional de proteção no dispositivo\n",
        "* `TechSupport`: assinatura adicional de suporte técnico, menos tempo de espera\n",
        "* `StreamingTV`: assinatura de TV a cabo\n",
        "* `StreamingMovies`: assinatura de streaming de filmes\n",
        "* `Contract`: tipo de contrato\n",
        "* `PaperlessBilling`: se o cliente prefere receber online a fatura\n",
        "* `PaymentMethod`: forma de pagamento\n",
        "* `Charges.Monthly`: total de todos os serviços do cliente por mês\n",
        "* `Charges.Total`: total gasto pelo cliente"
      ],
      "metadata": {
        "id": "MIg2kFXn5sDG"
      }
    },
    {
      "cell_type": "code",
      "source": [
        "# Usamos pd.json_normalize para transformar os dicionários aninhados em colunas próprias\n",
        "dados_normalizados = pd.json_normalize(dados_json)\n",
        "\n",
        "print(\"Estrutura normalizada. Agora cada informação tem sua própria coluna:\")\n",
        "display(dados_normalizados.head())"
      ],
      "metadata": {
        "colab": {
          "base_uri": "https://localhost:8080/",
          "height": 0
        },
        "id": "6QbuK9cu7g3N",
        "outputId": "6e111072-6a3a-467e-eae5-6afa5096c952"
      },
      "execution_count": 2,
      "outputs": [
        {
          "output_type": "stream",
          "name": "stdout",
          "text": [
            "Estrutura normalizada. Agora cada informação tem sua própria coluna:\n"
          ]
        },
        {
          "output_type": "display_data",
          "data": {
            "text/plain": [
              "   customerID Churn customer.gender  customer.SeniorCitizen customer.Partner  \\\n",
              "0  0002-ORFBO    No          Female                       0              Yes   \n",
              "1  0003-MKNFE    No            Male                       0               No   \n",
              "2  0004-TLHLJ   Yes            Male                       0               No   \n",
              "3  0011-IGKFF   Yes            Male                       1              Yes   \n",
              "4  0013-EXCHZ   Yes          Female                       1              Yes   \n",
              "\n",
              "  customer.Dependents  customer.tenure phone.PhoneService phone.MultipleLines  \\\n",
              "0                 Yes                9                Yes                  No   \n",
              "1                  No                9                Yes                 Yes   \n",
              "2                  No                4                Yes                  No   \n",
              "3                  No               13                Yes                  No   \n",
              "4                  No                3                Yes                  No   \n",
              "\n",
              "  internet.InternetService  ... internet.OnlineBackup  \\\n",
              "0                      DSL  ...                   Yes   \n",
              "1                      DSL  ...                    No   \n",
              "2              Fiber optic  ...                    No   \n",
              "3              Fiber optic  ...                   Yes   \n",
              "4              Fiber optic  ...                    No   \n",
              "\n",
              "  internet.DeviceProtection internet.TechSupport internet.StreamingTV  \\\n",
              "0                        No                  Yes                  Yes   \n",
              "1                        No                   No                   No   \n",
              "2                       Yes                   No                   No   \n",
              "3                       Yes                   No                  Yes   \n",
              "4                        No                  Yes                  Yes   \n",
              "\n",
              "  internet.StreamingMovies account.Contract account.PaperlessBilling  \\\n",
              "0                       No         One year                      Yes   \n",
              "1                      Yes   Month-to-month                       No   \n",
              "2                       No   Month-to-month                      Yes   \n",
              "3                      Yes   Month-to-month                      Yes   \n",
              "4                       No   Month-to-month                      Yes   \n",
              "\n",
              "  account.PaymentMethod account.Charges.Monthly  account.Charges.Total  \n",
              "0          Mailed check                    65.6                  593.3  \n",
              "1          Mailed check                    59.9                  542.4  \n",
              "2      Electronic check                    73.9                 280.85  \n",
              "3      Electronic check                    98.0                1237.85  \n",
              "4          Mailed check                    83.9                  267.4  \n",
              "\n",
              "[5 rows x 21 columns]"
            ],
            "text/html": [
              "\n",
              "  <div id=\"df-241ee950-f37a-4911-ad28-50d54bf35b9c\" class=\"colab-df-container\">\n",
              "    <div>\n",
              "<style scoped>\n",
              "    .dataframe tbody tr th:only-of-type {\n",
              "        vertical-align: middle;\n",
              "    }\n",
              "\n",
              "    .dataframe tbody tr th {\n",
              "        vertical-align: top;\n",
              "    }\n",
              "\n",
              "    .dataframe thead th {\n",
              "        text-align: right;\n",
              "    }\n",
              "</style>\n",
              "<table border=\"1\" class=\"dataframe\">\n",
              "  <thead>\n",
              "    <tr style=\"text-align: right;\">\n",
              "      <th></th>\n",
              "      <th>customerID</th>\n",
              "      <th>Churn</th>\n",
              "      <th>customer.gender</th>\n",
              "      <th>customer.SeniorCitizen</th>\n",
              "      <th>customer.Partner</th>\n",
              "      <th>customer.Dependents</th>\n",
              "      <th>customer.tenure</th>\n",
              "      <th>phone.PhoneService</th>\n",
              "      <th>phone.MultipleLines</th>\n",
              "      <th>internet.InternetService</th>\n",
              "      <th>...</th>\n",
              "      <th>internet.OnlineBackup</th>\n",
              "      <th>internet.DeviceProtection</th>\n",
              "      <th>internet.TechSupport</th>\n",
              "      <th>internet.StreamingTV</th>\n",
              "      <th>internet.StreamingMovies</th>\n",
              "      <th>account.Contract</th>\n",
              "      <th>account.PaperlessBilling</th>\n",
              "      <th>account.PaymentMethod</th>\n",
              "      <th>account.Charges.Monthly</th>\n",
              "      <th>account.Charges.Total</th>\n",
              "    </tr>\n",
              "  </thead>\n",
              "  <tbody>\n",
              "    <tr>\n",
              "      <th>0</th>\n",
              "      <td>0002-ORFBO</td>\n",
              "      <td>No</td>\n",
              "      <td>Female</td>\n",
              "      <td>0</td>\n",
              "      <td>Yes</td>\n",
              "      <td>Yes</td>\n",
              "      <td>9</td>\n",
              "      <td>Yes</td>\n",
              "      <td>No</td>\n",
              "      <td>DSL</td>\n",
              "      <td>...</td>\n",
              "      <td>Yes</td>\n",
              "      <td>No</td>\n",
              "      <td>Yes</td>\n",
              "      <td>Yes</td>\n",
              "      <td>No</td>\n",
              "      <td>One year</td>\n",
              "      <td>Yes</td>\n",
              "      <td>Mailed check</td>\n",
              "      <td>65.6</td>\n",
              "      <td>593.3</td>\n",
              "    </tr>\n",
              "    <tr>\n",
              "      <th>1</th>\n",
              "      <td>0003-MKNFE</td>\n",
              "      <td>No</td>\n",
              "      <td>Male</td>\n",
              "      <td>0</td>\n",
              "      <td>No</td>\n",
              "      <td>No</td>\n",
              "      <td>9</td>\n",
              "      <td>Yes</td>\n",
              "      <td>Yes</td>\n",
              "      <td>DSL</td>\n",
              "      <td>...</td>\n",
              "      <td>No</td>\n",
              "      <td>No</td>\n",
              "      <td>No</td>\n",
              "      <td>No</td>\n",
              "      <td>Yes</td>\n",
              "      <td>Month-to-month</td>\n",
              "      <td>No</td>\n",
              "      <td>Mailed check</td>\n",
              "      <td>59.9</td>\n",
              "      <td>542.4</td>\n",
              "    </tr>\n",
              "    <tr>\n",
              "      <th>2</th>\n",
              "      <td>0004-TLHLJ</td>\n",
              "      <td>Yes</td>\n",
              "      <td>Male</td>\n",
              "      <td>0</td>\n",
              "      <td>No</td>\n",
              "      <td>No</td>\n",
              "      <td>4</td>\n",
              "      <td>Yes</td>\n",
              "      <td>No</td>\n",
              "      <td>Fiber optic</td>\n",
              "      <td>...</td>\n",
              "      <td>No</td>\n",
              "      <td>Yes</td>\n",
              "      <td>No</td>\n",
              "      <td>No</td>\n",
              "      <td>No</td>\n",
              "      <td>Month-to-month</td>\n",
              "      <td>Yes</td>\n",
              "      <td>Electronic check</td>\n",
              "      <td>73.9</td>\n",
              "      <td>280.85</td>\n",
              "    </tr>\n",
              "    <tr>\n",
              "      <th>3</th>\n",
              "      <td>0011-IGKFF</td>\n",
              "      <td>Yes</td>\n",
              "      <td>Male</td>\n",
              "      <td>1</td>\n",
              "      <td>Yes</td>\n",
              "      <td>No</td>\n",
              "      <td>13</td>\n",
              "      <td>Yes</td>\n",
              "      <td>No</td>\n",
              "      <td>Fiber optic</td>\n",
              "      <td>...</td>\n",
              "      <td>Yes</td>\n",
              "      <td>Yes</td>\n",
              "      <td>No</td>\n",
              "      <td>Yes</td>\n",
              "      <td>Yes</td>\n",
              "      <td>Month-to-month</td>\n",
              "      <td>Yes</td>\n",
              "      <td>Electronic check</td>\n",
              "      <td>98.0</td>\n",
              "      <td>1237.85</td>\n",
              "    </tr>\n",
              "    <tr>\n",
              "      <th>4</th>\n",
              "      <td>0013-EXCHZ</td>\n",
              "      <td>Yes</td>\n",
              "      <td>Female</td>\n",
              "      <td>1</td>\n",
              "      <td>Yes</td>\n",
              "      <td>No</td>\n",
              "      <td>3</td>\n",
              "      <td>Yes</td>\n",
              "      <td>No</td>\n",
              "      <td>Fiber optic</td>\n",
              "      <td>...</td>\n",
              "      <td>No</td>\n",
              "      <td>No</td>\n",
              "      <td>Yes</td>\n",
              "      <td>Yes</td>\n",
              "      <td>No</td>\n",
              "      <td>Month-to-month</td>\n",
              "      <td>Yes</td>\n",
              "      <td>Mailed check</td>\n",
              "      <td>83.9</td>\n",
              "      <td>267.4</td>\n",
              "    </tr>\n",
              "  </tbody>\n",
              "</table>\n",
              "<p>5 rows × 21 columns</p>\n",
              "</div>\n",
              "    <div class=\"colab-df-buttons\">\n",
              "\n",
              "  <div class=\"colab-df-container\">\n",
              "    <button class=\"colab-df-convert\" onclick=\"convertToInteractive('df-241ee950-f37a-4911-ad28-50d54bf35b9c')\"\n",
              "            title=\"Convert this dataframe to an interactive table.\"\n",
              "            style=\"display:none;\">\n",
              "\n",
              "  <svg xmlns=\"http://www.w3.org/2000/svg\" height=\"24px\" viewBox=\"0 -960 960 960\">\n",
              "    <path d=\"M120-120v-720h720v720H120Zm60-500h600v-160H180v160Zm220 220h160v-160H400v160Zm0 220h160v-160H400v160ZM180-400h160v-160H180v160Zm440 0h160v-160H620v160ZM180-180h160v-160H180v160Zm440 0h160v-160H620v160Z\"/>\n",
              "  </svg>\n",
              "    </button>\n",
              "\n",
              "  <style>\n",
              "    .colab-df-container {\n",
              "      display:flex;\n",
              "      gap: 12px;\n",
              "    }\n",
              "\n",
              "    .colab-df-convert {\n",
              "      background-color: #E8F0FE;\n",
              "      border: none;\n",
              "      border-radius: 50%;\n",
              "      cursor: pointer;\n",
              "      display: none;\n",
              "      fill: #1967D2;\n",
              "      height: 32px;\n",
              "      padding: 0 0 0 0;\n",
              "      width: 32px;\n",
              "    }\n",
              "\n",
              "    .colab-df-convert:hover {\n",
              "      background-color: #E2EBFA;\n",
              "      box-shadow: 0px 1px 2px rgba(60, 64, 67, 0.3), 0px 1px 3px 1px rgba(60, 64, 67, 0.15);\n",
              "      fill: #174EA6;\n",
              "    }\n",
              "\n",
              "    .colab-df-buttons div {\n",
              "      margin-bottom: 4px;\n",
              "    }\n",
              "\n",
              "    [theme=dark] .colab-df-convert {\n",
              "      background-color: #3B4455;\n",
              "      fill: #D2E3FC;\n",
              "    }\n",
              "\n",
              "    [theme=dark] .colab-df-convert:hover {\n",
              "      background-color: #434B5C;\n",
              "      box-shadow: 0px 1px 3px 1px rgba(0, 0, 0, 0.15);\n",
              "      filter: drop-shadow(0px 1px 2px rgba(0, 0, 0, 0.3));\n",
              "      fill: #FFFFFF;\n",
              "    }\n",
              "  </style>\n",
              "\n",
              "    <script>\n",
              "      const buttonEl =\n",
              "        document.querySelector('#df-241ee950-f37a-4911-ad28-50d54bf35b9c button.colab-df-convert');\n",
              "      buttonEl.style.display =\n",
              "        google.colab.kernel.accessAllowed ? 'block' : 'none';\n",
              "\n",
              "      async function convertToInteractive(key) {\n",
              "        const element = document.querySelector('#df-241ee950-f37a-4911-ad28-50d54bf35b9c');\n",
              "        const dataTable =\n",
              "          await google.colab.kernel.invokeFunction('convertToInteractive',\n",
              "                                                    [key], {});\n",
              "        if (!dataTable) return;\n",
              "\n",
              "        const docLinkHtml = 'Like what you see? Visit the ' +\n",
              "          '<a target=\"_blank\" href=https://colab.research.google.com/notebooks/data_table.ipynb>data table notebook</a>'\n",
              "          + ' to learn more about interactive tables.';\n",
              "        element.innerHTML = '';\n",
              "        dataTable['output_type'] = 'display_data';\n",
              "        await google.colab.output.renderOutput(dataTable, element);\n",
              "        const docLink = document.createElement('div');\n",
              "        docLink.innerHTML = docLinkHtml;\n",
              "        element.appendChild(docLink);\n",
              "      }\n",
              "    </script>\n",
              "  </div>\n",
              "\n",
              "\n",
              "    <div id=\"df-66fc2e59-93a7-4373-bf5e-416c84726787\">\n",
              "      <button class=\"colab-df-quickchart\" onclick=\"quickchart('df-66fc2e59-93a7-4373-bf5e-416c84726787')\"\n",
              "                title=\"Suggest charts\"\n",
              "                style=\"display:none;\">\n",
              "\n",
              "<svg xmlns=\"http://www.w3.org/2000/svg\" height=\"24px\"viewBox=\"0 0 24 24\"\n",
              "     width=\"24px\">\n",
              "    <g>\n",
              "        <path d=\"M19 3H5c-1.1 0-2 .9-2 2v14c0 1.1.9 2 2 2h14c1.1 0 2-.9 2-2V5c0-1.1-.9-2-2-2zM9 17H7v-7h2v7zm4 0h-2V7h2v10zm4 0h-2v-4h2v4z\"/>\n",
              "    </g>\n",
              "</svg>\n",
              "      </button>\n",
              "\n",
              "<style>\n",
              "  .colab-df-quickchart {\n",
              "      --bg-color: #E8F0FE;\n",
              "      --fill-color: #1967D2;\n",
              "      --hover-bg-color: #E2EBFA;\n",
              "      --hover-fill-color: #174EA6;\n",
              "      --disabled-fill-color: #AAA;\n",
              "      --disabled-bg-color: #DDD;\n",
              "  }\n",
              "\n",
              "  [theme=dark] .colab-df-quickchart {\n",
              "      --bg-color: #3B4455;\n",
              "      --fill-color: #D2E3FC;\n",
              "      --hover-bg-color: #434B5C;\n",
              "      --hover-fill-color: #FFFFFF;\n",
              "      --disabled-bg-color: #3B4455;\n",
              "      --disabled-fill-color: #666;\n",
              "  }\n",
              "\n",
              "  .colab-df-quickchart {\n",
              "    background-color: var(--bg-color);\n",
              "    border: none;\n",
              "    border-radius: 50%;\n",
              "    cursor: pointer;\n",
              "    display: none;\n",
              "    fill: var(--fill-color);\n",
              "    height: 32px;\n",
              "    padding: 0;\n",
              "    width: 32px;\n",
              "  }\n",
              "\n",
              "  .colab-df-quickchart:hover {\n",
              "    background-color: var(--hover-bg-color);\n",
              "    box-shadow: 0 1px 2px rgba(60, 64, 67, 0.3), 0 1px 3px 1px rgba(60, 64, 67, 0.15);\n",
              "    fill: var(--button-hover-fill-color);\n",
              "  }\n",
              "\n",
              "  .colab-df-quickchart-complete:disabled,\n",
              "  .colab-df-quickchart-complete:disabled:hover {\n",
              "    background-color: var(--disabled-bg-color);\n",
              "    fill: var(--disabled-fill-color);\n",
              "    box-shadow: none;\n",
              "  }\n",
              "\n",
              "  .colab-df-spinner {\n",
              "    border: 2px solid var(--fill-color);\n",
              "    border-color: transparent;\n",
              "    border-bottom-color: var(--fill-color);\n",
              "    animation:\n",
              "      spin 1s steps(1) infinite;\n",
              "  }\n",
              "\n",
              "  @keyframes spin {\n",
              "    0% {\n",
              "      border-color: transparent;\n",
              "      border-bottom-color: var(--fill-color);\n",
              "      border-left-color: var(--fill-color);\n",
              "    }\n",
              "    20% {\n",
              "      border-color: transparent;\n",
              "      border-left-color: var(--fill-color);\n",
              "      border-top-color: var(--fill-color);\n",
              "    }\n",
              "    30% {\n",
              "      border-color: transparent;\n",
              "      border-left-color: var(--fill-color);\n",
              "      border-top-color: var(--fill-color);\n",
              "      border-right-color: var(--fill-color);\n",
              "    }\n",
              "    40% {\n",
              "      border-color: transparent;\n",
              "      border-right-color: var(--fill-color);\n",
              "      border-top-color: var(--fill-color);\n",
              "    }\n",
              "    60% {\n",
              "      border-color: transparent;\n",
              "      border-right-color: var(--fill-color);\n",
              "    }\n",
              "    80% {\n",
              "      border-color: transparent;\n",
              "      border-right-color: var(--fill-color);\n",
              "      border-bottom-color: var(--fill-color);\n",
              "    }\n",
              "    90% {\n",
              "      border-color: transparent;\n",
              "      border-bottom-color: var(--fill-color);\n",
              "    }\n",
              "  }\n",
              "</style>\n",
              "\n",
              "      <script>\n",
              "        async function quickchart(key) {\n",
              "          const quickchartButtonEl =\n",
              "            document.querySelector('#' + key + ' button');\n",
              "          quickchartButtonEl.disabled = true;  // To prevent multiple clicks.\n",
              "          quickchartButtonEl.classList.add('colab-df-spinner');\n",
              "          try {\n",
              "            const charts = await google.colab.kernel.invokeFunction(\n",
              "                'suggestCharts', [key], {});\n",
              "          } catch (error) {\n",
              "            console.error('Error during call to suggestCharts:', error);\n",
              "          }\n",
              "          quickchartButtonEl.classList.remove('colab-df-spinner');\n",
              "          quickchartButtonEl.classList.add('colab-df-quickchart-complete');\n",
              "        }\n",
              "        (() => {\n",
              "          let quickchartButtonEl =\n",
              "            document.querySelector('#df-66fc2e59-93a7-4373-bf5e-416c84726787 button');\n",
              "          quickchartButtonEl.style.display =\n",
              "            google.colab.kernel.accessAllowed ? 'block' : 'none';\n",
              "        })();\n",
              "      </script>\n",
              "    </div>\n",
              "\n",
              "    </div>\n",
              "  </div>\n"
            ],
            "application/vnd.google.colaboratory.intrinsic+json": {
              "type": "dataframe"
            }
          },
          "metadata": {}
        }
      ]
    },
    {
      "cell_type": "markdown",
      "source": [
        "**Comentario**\n",
        "\n",
        "Agora, em vez de uma única coluna \"`customer`\", temos \"`customer.gender`\", \"`customer.SeniorCitizen`\", etc. A estrutura está muito mais clara e pronta para a próxima fase da nossa investigação.\n",
        "\n",
        "Nosso próximo passo será usar o comando `.info()` para ter uma visão geral dos tipos de dados e da contagem de valores em cada uma dessas novas colunas. Isso geralmente revela inconsistências."
      ],
      "metadata": {
        "id": "iew6wPgI8SjT"
      }
    },
    {
      "cell_type": "code",
      "source": [
        "# O método .info() nos dá um resumo do DataFrame.\n",
        "# Ele mostra o nome de cada coluna, a quantidade de valores não-nulos e o tipo de dado (Dtype).\n",
        "print(\"--- Resumo e Tipos de Dados das Colunas ---\")\n",
        "dados_normalizados.info()"
      ],
      "metadata": {
        "colab": {
          "base_uri": "https://localhost:8080/"
        },
        "id": "oYl8mRZM8ZeD",
        "outputId": "6560aa31-9a99-4df8-c1af-771c77e44aa2"
      },
      "execution_count": 3,
      "outputs": [
        {
          "output_type": "stream",
          "name": "stdout",
          "text": [
            "--- Resumo e Tipos de Dados das Colunas ---\n",
            "<class 'pandas.core.frame.DataFrame'>\n",
            "RangeIndex: 7267 entries, 0 to 7266\n",
            "Data columns (total 21 columns):\n",
            " #   Column                     Non-Null Count  Dtype  \n",
            "---  ------                     --------------  -----  \n",
            " 0   customerID                 7267 non-null   object \n",
            " 1   Churn                      7267 non-null   object \n",
            " 2   customer.gender            7267 non-null   object \n",
            " 3   customer.SeniorCitizen     7267 non-null   int64  \n",
            " 4   customer.Partner           7267 non-null   object \n",
            " 5   customer.Dependents        7267 non-null   object \n",
            " 6   customer.tenure            7267 non-null   int64  \n",
            " 7   phone.PhoneService         7267 non-null   object \n",
            " 8   phone.MultipleLines        7267 non-null   object \n",
            " 9   internet.InternetService   7267 non-null   object \n",
            " 10  internet.OnlineSecurity    7267 non-null   object \n",
            " 11  internet.OnlineBackup      7267 non-null   object \n",
            " 12  internet.DeviceProtection  7267 non-null   object \n",
            " 13  internet.TechSupport       7267 non-null   object \n",
            " 14  internet.StreamingTV       7267 non-null   object \n",
            " 15  internet.StreamingMovies   7267 non-null   object \n",
            " 16  account.Contract           7267 non-null   object \n",
            " 17  account.PaperlessBilling   7267 non-null   object \n",
            " 18  account.PaymentMethod      7267 non-null   object \n",
            " 19  account.Charges.Monthly    7267 non-null   float64\n",
            " 20  account.Charges.Total      7267 non-null   object \n",
            "dtypes: float64(1), int64(2), object(18)\n",
            "memory usage: 1.2+ MB\n"
          ]
        }
      ]
    },
    {
      "cell_type": "markdown",
      "source": [
        "- Muitas colunas são do tipo `object`: Colunas como Churn, `customer.gender`, `phone.PhoneService`, `account.Charges.Total`, etc., são todas classificadas como `object`. `object` geralmente significa que o Pandas está tratando a coluna como texto (string).\n",
        "\n",
        "- Possíveis Problemas:\n",
        "Para colunas como `Churn` ou` phone.PhoneService`, que contêm 'Yes' e 'No', object é esperado, mas precisaremos convertê-las para números (1 e 0) para fazer cálculos e análises.\n",
        "Para colunas como `customer.tenure` (meses de contrato) e especialmente `account.Charges.Total` (gastos totais), o tipo object é um sinal de alerta. Esperávamos que fossem números (`int64` ou `float64`). O fato de não serem indica que provavelmente existem valores nessas colunas que não são números (como espaços em branco ou outros caracteres), o que está \"contaminando\" a coluna inteira."
      ],
      "metadata": {
        "id": "5cjwtj2u8e5w"
      }
    },
    {
      "cell_type": "markdown",
      "source": [
        "# **Investigando a Coluna**\n",
        "- `account.Charges.Total`"
      ],
      "metadata": {
        "id": "_VQBWM7j-zlG"
      }
    },
    {
      "cell_type": "code",
      "source": [
        "# Vamos tentar converter a coluna 'account.Charges.Total' para float.\n",
        "# Esperamos um erro, pois sabemos que o tipo é 'object'. O erro nos dará a pista.\n",
        "try:\n",
        "    dados_normalizados['account.Charges.Total'].astype(float)\n",
        "except ValueError as e:\n",
        "    print(\"--- INVESTIGAÇÃO CONCLUída: ERRO ENCONTRADO ---\")\n",
        "    print(f\"A conversão falhou com a seguinte mensagem de erro:\\n-> {e}\")"
      ],
      "metadata": {
        "colab": {
          "base_uri": "https://localhost:8080/"
        },
        "id": "Ln2j6b5B9fNd",
        "outputId": "b7375a8d-52c4-4a91-99d6-aedcd7d4e413"
      },
      "execution_count": 4,
      "outputs": [
        {
          "output_type": "stream",
          "name": "stdout",
          "text": [
            "--- INVESTIGAÇÃO CONCLUída: ERRO ENCONTRADO ---\n",
            "A conversão falhou com a seguinte mensagem de erro:\n",
            "-> could not convert string to float: ' '\n"
          ]
        }
      ]
    },
    {
      "cell_type": "markdown",
      "source": [
        "Agora sabemos, com certeza, que o problema são strings que contêm apenas um espaço em branco (`' '`). Esses espaços não são números e, portanto, a coluna inteira foi classificada como `object`"
      ],
      "metadata": {
        "id": "AqV679ao9k5k"
      }
    },
    {
      "cell_type": "markdown",
      "source": [
        "- Faremos a conversão para numérico novamente, mas desta vez usaremos o parâmetro `errors='coerce'`.\n",
        "- Isso dirá ao Pandas: \"tente converter para número e, se você encontrar um valor que não pode ser convertido (como o `' '`), transforme-o em `NaN` (Not a Number), que é o marcador padrão do Pandas para dados ausentes.\"\n",
        "- Depois da conversão, vamos verificar se os `NaNs` foram realmente criados.\n",
        "- Finalmente, decidiremos o que fazer com as linhas que contêm esses dados ausentes."
      ],
      "metadata": {
        "id": "IYT1hVaQ9tdE"
      }
    },
    {
      "cell_type": "code",
      "source": [
        "# Ação 1: Usar 'coerce' para transformar os valores inválidos em Nulos (NaN)\n",
        "print(\"1. Convertendo a coluna 'account.Charges.Total' para um formato numérico...\")\n",
        "dados_normalizados['account.Charges.Total'] = pd.to_numeric(dados_normalizados['account.Charges.Total'], errors='coerce')\n",
        "print(\"   Conversão concluída. Valores problemáticos agora são 'NaN'.\")"
      ],
      "metadata": {
        "colab": {
          "base_uri": "https://localhost:8080/"
        },
        "id": "WZH_mOlR-ObY",
        "outputId": "4691534e-f27e-4837-953b-f001e5c59a72"
      },
      "execution_count": 5,
      "outputs": [
        {
          "output_type": "stream",
          "name": "stdout",
          "text": [
            "1. Convertendo a coluna 'account.Charges.Total' para um formato numérico...\n",
            "   Conversão concluída. Valores problemáticos agora são 'NaN'.\n"
          ]
        }
      ]
    },
    {
      "cell_type": "code",
      "source": [
        "# Verificação 1: Vamos confirmar quantos valores nulos foram criados.\n",
        "# Esperamos que o número seja diferente de zero agora.\n",
        "print(\"\\n2. Investigando: Contando valores nulos na coluna...\")\n",
        "nulos_encontrados = dados_normalizados['account.Charges.Total'].isnull().sum()\n",
        "print(f\"   Descoberta: Encontrado(s) {nulos_encontrados} valor(es) nulo(s).\")"
      ],
      "metadata": {
        "colab": {
          "base_uri": "https://localhost:8080/"
        },
        "id": "5fMmPibS-RKk",
        "outputId": "ae0ba341-5680-4d38-fbb3-3228feb3cf77"
      },
      "execution_count": 6,
      "outputs": [
        {
          "output_type": "stream",
          "name": "stdout",
          "text": [
            "\n",
            "2. Investigando: Contando valores nulos na coluna...\n",
            "   Descoberta: Encontrado(s) 11 valor(es) nulo(s).\n"
          ]
        }
      ]
    },
    {
      "cell_type": "code",
      "source": [
        "# Ação 2: Como são poucos dados (comparado ao total), e não temos como saber o valor correto,\n",
        "# a abordagem mais segura é remover as linhas com esses dados faltantes.\n",
        "print(\"\\n3. Ação: Removendo as linhas com valores nulos...\")\n",
        "dados_normalizados.dropna(subset=['account.Charges.Total'], inplace=True)\n",
        "print(\"   Linhas removidas.\")"
      ],
      "metadata": {
        "colab": {
          "base_uri": "https://localhost:8080/"
        },
        "id": "kiCuMYCM-VW7",
        "outputId": "91f67f20-19d2-45d9-f47e-cd436c34702b"
      },
      "execution_count": 7,
      "outputs": [
        {
          "output_type": "stream",
          "name": "stdout",
          "text": [
            "\n",
            "3. Ação: Removendo as linhas com valores nulos...\n",
            "   Linhas removidas.\n"
          ]
        }
      ]
    },
    {
      "cell_type": "code",
      "source": [
        "# Verificação 2: Vamos confirmar que a coluna agora está 100% limpa e com o tipo correto.\n",
        "print(\"\\n4. Verificação Final:\")\n",
        "print(\"   Contagem de nulos agora:\", dados_normalizados['account.Charges.Total'].isnull().sum())\n",
        "print(\"   Novo tipo de dado da coluna:\", dados_normalizados['account.Charges.Total'].dtype)"
      ],
      "metadata": {
        "colab": {
          "base_uri": "https://localhost:8080/"
        },
        "id": "nSc76THA-YHo",
        "outputId": "c244d57c-f29a-4c9a-9c2b-30a8b24fadc4"
      },
      "execution_count": 8,
      "outputs": [
        {
          "output_type": "stream",
          "name": "stdout",
          "text": [
            "\n",
            "4. Verificação Final:\n",
            "   Contagem de nulos agora: 0\n",
            "   Novo tipo de dado da coluna: float64\n"
          ]
        }
      ]
    },
    {
      "cell_type": "markdown",
      "source": [],
      "metadata": {
        "id": "BK_bDIOg-_8l"
      }
    },
    {
      "cell_type": "code",
      "source": [
        "# O método .info() nos dá um resumo do DataFrame.\n",
        "# Ele mostra o nome de cada coluna, a quantidade de valores não-nulos e o tipo de dado (Dtype).\n",
        "print(\"--- Resumo e Tipos de Dados das Colunas ---\")\n",
        "dados_normalizados.info()"
      ],
      "metadata": {
        "colab": {
          "base_uri": "https://localhost:8080/"
        },
        "id": "gWqwTNQg-_Ty",
        "outputId": "d1914280-e3d9-45ea-fee7-df243b4c1608"
      },
      "execution_count": 9,
      "outputs": [
        {
          "output_type": "stream",
          "name": "stdout",
          "text": [
            "--- Resumo e Tipos de Dados das Colunas ---\n",
            "<class 'pandas.core.frame.DataFrame'>\n",
            "Index: 7256 entries, 0 to 7266\n",
            "Data columns (total 21 columns):\n",
            " #   Column                     Non-Null Count  Dtype  \n",
            "---  ------                     --------------  -----  \n",
            " 0   customerID                 7256 non-null   object \n",
            " 1   Churn                      7256 non-null   object \n",
            " 2   customer.gender            7256 non-null   object \n",
            " 3   customer.SeniorCitizen     7256 non-null   int64  \n",
            " 4   customer.Partner           7256 non-null   object \n",
            " 5   customer.Dependents        7256 non-null   object \n",
            " 6   customer.tenure            7256 non-null   int64  \n",
            " 7   phone.PhoneService         7256 non-null   object \n",
            " 8   phone.MultipleLines        7256 non-null   object \n",
            " 9   internet.InternetService   7256 non-null   object \n",
            " 10  internet.OnlineSecurity    7256 non-null   object \n",
            " 11  internet.OnlineBackup      7256 non-null   object \n",
            " 12  internet.DeviceProtection  7256 non-null   object \n",
            " 13  internet.TechSupport       7256 non-null   object \n",
            " 14  internet.StreamingTV       7256 non-null   object \n",
            " 15  internet.StreamingMovies   7256 non-null   object \n",
            " 16  account.Contract           7256 non-null   object \n",
            " 17  account.PaperlessBilling   7256 non-null   object \n",
            " 18  account.PaymentMethod      7256 non-null   object \n",
            " 19  account.Charges.Monthly    7256 non-null   float64\n",
            " 20  account.Charges.Total      7256 non-null   float64\n",
            "dtypes: float64(2), int64(2), object(17)\n",
            "memory usage: 1.2+ MB\n"
          ]
        }
      ]
    },
    {
      "cell_type": "markdown",
      "source": [
        "# **Investigando a Coluna**\n",
        "- `Churn`"
      ],
      "metadata": {
        "id": "tnIoRrd2_NKc"
      }
    },
    {
      "cell_type": "code",
      "source": [
        "# Vamos contar a frequência de cada valor único na coluna 'Churn'.\n",
        "# Isso é fundamental para entender a nossa variável alvo.\n",
        "print(\"--- Investigando a coluna 'Churn' ---\")\n",
        "print(dados_normalizados['Churn'].value_counts())"
      ],
      "metadata": {
        "colab": {
          "base_uri": "https://localhost:8080/"
        },
        "id": "kG3yzR2M_Zvo",
        "outputId": "e3b1f4f0-a88a-4b73-a63c-7fc3fde296e6"
      },
      "execution_count": 10,
      "outputs": [
        {
          "output_type": "stream",
          "name": "stdout",
          "text": [
            "--- Investigando a coluna 'Churn' ---\n",
            "Churn\n",
            "No     5163\n",
            "Yes    1869\n",
            "        224\n",
            "Name: count, dtype: int64\n"
          ]
        }
      ]
    },
    {
      "cell_type": "code",
      "source": [
        "# Ação 1: Filtrar o DataFrame para remover os 224 registros onde 'Churn' é uma string vazia.\n",
        "linhas_antes = len(dados_normalizados)\n",
        "dados_normalizados = dados_normalizados[dados_normalizados['Churn'] != '']\n",
        "linhas_depois = len(dados_normalizados)\n",
        "print(f\"Ação de Limpeza: {linhas_antes - linhas_depois} linhas foram removidas.\")"
      ],
      "metadata": {
        "colab": {
          "base_uri": "https://localhost:8080/"
        },
        "id": "edJF3bmhAWpg",
        "outputId": "edf593f0-79d9-48cf-88f0-2441ae0346bf"
      },
      "execution_count": 11,
      "outputs": [
        {
          "output_type": "stream",
          "name": "stdout",
          "text": [
            "Ação de Limpeza: 224 linhas foram removidas.\n"
          ]
        }
      ]
    },
    {
      "cell_type": "code",
      "source": [
        "# Ação 2: Agora que a coluna está limpa, vamos mapear 'Yes' e 'No' para um formato numérico.\n",
        "dados_normalizados['Churn'] = dados_normalizados['Churn'].map({'Yes': 1, 'No': 0})"
      ],
      "metadata": {
        "colab": {
          "base_uri": "https://localhost:8080/"
        },
        "id": "8Hb3JN3yAbbI",
        "outputId": "f60ed0ae-18d5-4206-d414-3410add81068"
      },
      "execution_count": 12,
      "outputs": [
        {
          "output_type": "stream",
          "name": "stderr",
          "text": [
            "/tmp/ipython-input-12-2092372043.py:2: SettingWithCopyWarning: \n",
            "A value is trying to be set on a copy of a slice from a DataFrame.\n",
            "Try using .loc[row_indexer,col_indexer] = value instead\n",
            "\n",
            "See the caveats in the documentation: https://pandas.pydata.org/pandas-docs/stable/user_guide/indexing.html#returning-a-view-versus-a-copy\n",
            "  dados_normalizados['Churn'] = dados_normalizados['Churn'].map({'Yes': 1, 'No': 0})\n"
          ]
        }
      ]
    },
    {
      "cell_type": "code",
      "source": [
        "# Verificação: Vamos conferir o resultado final da coluna 'Churn'\n",
        "print(\"\\n--- Verificação Pós-Transformação de 'Churn' ---\")\n",
        "print(\"Valores e contagens em 'Churn' após a limpeza:\")\n",
        "print(dados_normalizados['Churn'].value_counts())\n",
        "print(\"\\nTipo de dado da coluna 'Churn':\", dados_normalizados['Churn'].dtype)"
      ],
      "metadata": {
        "colab": {
          "base_uri": "https://localhost:8080/"
        },
        "id": "R7aNw6piAdy5",
        "outputId": "f49dcf06-765c-4770-ea97-0d4b95ce3fa9"
      },
      "execution_count": 13,
      "outputs": [
        {
          "output_type": "stream",
          "name": "stdout",
          "text": [
            "\n",
            "--- Verificação Pós-Transformação de 'Churn' ---\n",
            "Valores e contagens em 'Churn' após a limpeza:\n",
            "Churn\n",
            "0    5163\n",
            "1    1869\n",
            "Name: count, dtype: int64\n",
            "\n",
            "Tipo de dado da coluna 'Churn': int64\n"
          ]
        }
      ]
    },
    {
      "cell_type": "code",
      "source": [
        "# O método .info() nos dá um resumo do DataFrame.\n",
        "# Ele mostra o nome de cada coluna, a quantidade de valores não-nulos e o tipo de dado (Dtype).\n",
        "print(\"--- Resumo e Tipos de Dados das Colunas ---\")\n",
        "dados_normalizados.info()"
      ],
      "metadata": {
        "colab": {
          "base_uri": "https://localhost:8080/"
        },
        "id": "JqQwFtZlB8aA",
        "outputId": "829fedbe-1b8c-470e-9821-2ced63469621"
      },
      "execution_count": 14,
      "outputs": [
        {
          "output_type": "stream",
          "name": "stdout",
          "text": [
            "--- Resumo e Tipos de Dados das Colunas ---\n",
            "<class 'pandas.core.frame.DataFrame'>\n",
            "Index: 7032 entries, 0 to 7266\n",
            "Data columns (total 21 columns):\n",
            " #   Column                     Non-Null Count  Dtype  \n",
            "---  ------                     --------------  -----  \n",
            " 0   customerID                 7032 non-null   object \n",
            " 1   Churn                      7032 non-null   int64  \n",
            " 2   customer.gender            7032 non-null   object \n",
            " 3   customer.SeniorCitizen     7032 non-null   int64  \n",
            " 4   customer.Partner           7032 non-null   object \n",
            " 5   customer.Dependents        7032 non-null   object \n",
            " 6   customer.tenure            7032 non-null   int64  \n",
            " 7   phone.PhoneService         7032 non-null   object \n",
            " 8   phone.MultipleLines        7032 non-null   object \n",
            " 9   internet.InternetService   7032 non-null   object \n",
            " 10  internet.OnlineSecurity    7032 non-null   object \n",
            " 11  internet.OnlineBackup      7032 non-null   object \n",
            " 12  internet.DeviceProtection  7032 non-null   object \n",
            " 13  internet.TechSupport       7032 non-null   object \n",
            " 14  internet.StreamingTV       7032 non-null   object \n",
            " 15  internet.StreamingMovies   7032 non-null   object \n",
            " 16  account.Contract           7032 non-null   object \n",
            " 17  account.PaperlessBilling   7032 non-null   object \n",
            " 18  account.PaymentMethod      7032 non-null   object \n",
            " 19  account.Charges.Monthly    7032 non-null   float64\n",
            " 20  account.Charges.Total      7032 non-null   float64\n",
            "dtypes: float64(2), int64(3), object(16)\n",
            "memory usage: 1.2+ MB\n"
          ]
        }
      ]
    },
    {
      "cell_type": "markdown",
      "source": [
        "# **Investigando a Coluna**\n",
        "- `phone.MultipleLines`"
      ],
      "metadata": {
        "id": "tJWp7ROWCYrP"
      }
    },
    {
      "cell_type": "code",
      "source": [
        "# Vamos investigar o conteúdo da coluna 'phone.MultipleLines' para ver quais são os valores possíveis.\n",
        "print(\"--- Investigando a coluna 'phone.MultipleLines' ---\")\n",
        "print(\"Valores únicos e suas contagens:\")\n",
        "print(dados_normalizados['phone.MultipleLines'].value_counts())"
      ],
      "metadata": {
        "colab": {
          "base_uri": "https://localhost:8080/"
        },
        "id": "llIUMSPUAiCr",
        "outputId": "35fe1596-760a-485b-cabc-be26cda2b060"
      },
      "execution_count": 15,
      "outputs": [
        {
          "output_type": "stream",
          "name": "stdout",
          "text": [
            "--- Investigando a coluna 'phone.MultipleLines' ---\n",
            "Valores únicos e suas contagens:\n",
            "phone.MultipleLines\n",
            "No                  3385\n",
            "Yes                 2967\n",
            "No phone service     680\n",
            "Name: count, dtype: int64\n"
          ]
        }
      ]
    },
    {
      "cell_type": "markdown",
      "source": [
        "Descobertas:\n",
        "\n",
        "- Encontramos os valores 'Yes' e 'No', como esperado.\n",
        "- Descobrimos um terceiro valor: 'No phone service'. Isso é crucial. Significa que não podemos simplesmente mapear 'Yes' para 1 e 'No' para 0, pois precisamos decidir o que fazer com essa terceira categoria.\n",
        "- Nosso plano deve ser:\n",
        "- Mapear 'Yes' para 1.\n",
        "- Mapear tanto 'No' quanto 'No phone service' para 0."
      ],
      "metadata": {
        "id": "T_M_gV_6CpVx"
      }
    },
    {
      "cell_type": "code",
      "source": [
        "# Ação: Mapear 'Yes' para 1, e 'No' e 'No phone service' para 0.\n",
        "print(\"--- Transformando a coluna 'phone.MultipleLines' ---\")\n",
        "mapeamento_linhas = {'Yes': 1, 'No': 0, 'No phone service': 0}\n",
        "dados_normalizados['phone.MultipleLines'] = dados_normalizados['phone.MultipleLines'].map(mapeamento_linhas)"
      ],
      "metadata": {
        "colab": {
          "base_uri": "https://localhost:8080/"
        },
        "id": "ALbS_ZysDEoa",
        "outputId": "361df251-4476-4eaa-c444-f7e723e9f794"
      },
      "execution_count": 16,
      "outputs": [
        {
          "output_type": "stream",
          "name": "stdout",
          "text": [
            "--- Transformando a coluna 'phone.MultipleLines' ---\n"
          ]
        },
        {
          "output_type": "stream",
          "name": "stderr",
          "text": [
            "/tmp/ipython-input-16-2869150598.py:4: SettingWithCopyWarning: \n",
            "A value is trying to be set on a copy of a slice from a DataFrame.\n",
            "Try using .loc[row_indexer,col_indexer] = value instead\n",
            "\n",
            "See the caveats in the documentation: https://pandas.pydata.org/pandas-docs/stable/user_guide/indexing.html#returning-a-view-versus-a-copy\n",
            "  dados_normalizados['phone.MultipleLines'] = dados_normalizados['phone.MultipleLines'].map(mapeamento_linhas)\n"
          ]
        }
      ]
    },
    {
      "cell_type": "code",
      "source": [
        "# Verificação: Vamos conferir se a transformação funcionou como o esperado.\n",
        "print(\"\\nValores e contagens após o mapeamento:\")\n",
        "print(dados_normalizados['phone.MultipleLines'].value_counts())\n",
        "print(\"\\nNovo tipo de dado da coluna:\", dados_normalizados['phone.MultipleLines'].dtype)"
      ],
      "metadata": {
        "colab": {
          "base_uri": "https://localhost:8080/"
        },
        "id": "D1mVDkm-DGwA",
        "outputId": "5db719bc-632a-4ebc-c395-6ad62eea99b6"
      },
      "execution_count": 17,
      "outputs": [
        {
          "output_type": "stream",
          "name": "stdout",
          "text": [
            "\n",
            "Valores e contagens após o mapeamento:\n",
            "phone.MultipleLines\n",
            "0    4065\n",
            "1    2967\n",
            "Name: count, dtype: int64\n",
            "\n",
            "Novo tipo de dado da coluna: int64\n"
          ]
        }
      ]
    },
    {
      "cell_type": "code",
      "source": [
        "# O método .info() nos dá um resumo do DataFrame.\n",
        "# Ele mostra o nome de cada coluna, a quantidade de valores não-nulos e o tipo de dado (Dtype).\n",
        "print(\"--- Resumo e Tipos de Dados das Colunas ---\")\n",
        "dados_normalizados.info()"
      ],
      "metadata": {
        "colab": {
          "base_uri": "https://localhost:8080/"
        },
        "id": "P202HCe8DPlx",
        "outputId": "e267173f-531d-4b8c-837b-dd1ad479b4cc"
      },
      "execution_count": 18,
      "outputs": [
        {
          "output_type": "stream",
          "name": "stdout",
          "text": [
            "--- Resumo e Tipos de Dados das Colunas ---\n",
            "<class 'pandas.core.frame.DataFrame'>\n",
            "Index: 7032 entries, 0 to 7266\n",
            "Data columns (total 21 columns):\n",
            " #   Column                     Non-Null Count  Dtype  \n",
            "---  ------                     --------------  -----  \n",
            " 0   customerID                 7032 non-null   object \n",
            " 1   Churn                      7032 non-null   int64  \n",
            " 2   customer.gender            7032 non-null   object \n",
            " 3   customer.SeniorCitizen     7032 non-null   int64  \n",
            " 4   customer.Partner           7032 non-null   object \n",
            " 5   customer.Dependents        7032 non-null   object \n",
            " 6   customer.tenure            7032 non-null   int64  \n",
            " 7   phone.PhoneService         7032 non-null   object \n",
            " 8   phone.MultipleLines        7032 non-null   int64  \n",
            " 9   internet.InternetService   7032 non-null   object \n",
            " 10  internet.OnlineSecurity    7032 non-null   object \n",
            " 11  internet.OnlineBackup      7032 non-null   object \n",
            " 12  internet.DeviceProtection  7032 non-null   object \n",
            " 13  internet.TechSupport       7032 non-null   object \n",
            " 14  internet.StreamingTV       7032 non-null   object \n",
            " 15  internet.StreamingMovies   7032 non-null   object \n",
            " 16  account.Contract           7032 non-null   object \n",
            " 17  account.PaperlessBilling   7032 non-null   object \n",
            " 18  account.PaymentMethod      7032 non-null   object \n",
            " 19  account.Charges.Monthly    7032 non-null   float64\n",
            " 20  account.Charges.Total      7032 non-null   float64\n",
            "dtypes: float64(2), int64(4), object(15)\n",
            "memory usage: 1.2+ MB\n"
          ]
        }
      ]
    },
    {
      "cell_type": "markdown",
      "source": [
        "# **Investigando as Colunas**\n",
        "- `internet.OnlineSecurity`\n",
        "- `internet.OnlineBackup`\n",
        "- `internet.DeviceProtection`\n",
        "- `internet.TechSupport`\n",
        "- `internet.StreamingTV`\n",
        "- `internet.StreamingMovies`\n",
        "\n"
      ],
      "metadata": {
        "id": "BXCpkbmoDRha"
      }
    },
    {
      "cell_type": "code",
      "source": [
        "# Investigação: Vamos ver os valores únicos da coluna de Segurança Online.\n",
        "print(\"--- Investigando a coluna 'internet.OnlineSecurity' ---\")\n",
        "print(dados_normalizados['internet.OnlineSecurity'].value_counts())"
      ],
      "metadata": {
        "colab": {
          "base_uri": "https://localhost:8080/"
        },
        "id": "EWz3owklDYP2",
        "outputId": "61e396a9-1429-41a1-ab0b-6a880ad51cc2"
      },
      "execution_count": 19,
      "outputs": [
        {
          "output_type": "stream",
          "name": "stdout",
          "text": [
            "--- Investigando a coluna 'internet.OnlineSecurity' ---\n",
            "internet.OnlineSecurity\n",
            "No                     3497\n",
            "Yes                    2015\n",
            "No internet service    1520\n",
            "Name: count, dtype: int64\n"
          ]
        }
      ]
    },
    {
      "cell_type": "markdown",
      "source": [
        "Descoberta:\n",
        "- O padrão se repete. Temos 'Yes', 'No', e a categoria 'No internet service'.\n",
        "- Assim como antes, quem não tem internet não tem o serviço de segurança online, então podemos tratar 'No internet service' da mesma forma que 'No'."
      ],
      "metadata": {
        "id": "swC3Grx8DdS7"
      }
    },
    {
      "cell_type": "code",
      "source": [
        "# Investigação: Vamos ver os valores únicos da coluna de Backup Online.\n",
        "print(\"--- Investigando: internet.OnlineBackup ---\")\n",
        "print(dados_normalizados['internet.OnlineBackup'].value_counts())"
      ],
      "metadata": {
        "colab": {
          "base_uri": "https://localhost:8080/"
        },
        "id": "A2J6r9L-D2dh",
        "outputId": "de94b6c9-6154-487f-fcee-fac533c63931"
      },
      "execution_count": 20,
      "outputs": [
        {
          "output_type": "stream",
          "name": "stdout",
          "text": [
            "--- Investigando: internet.OnlineBackup ---\n",
            "internet.OnlineBackup\n",
            "No                     3087\n",
            "Yes                    2425\n",
            "No internet service    1520\n",
            "Name: count, dtype: int64\n"
          ]
        }
      ]
    },
    {
      "cell_type": "code",
      "source": [
        "# Investigação: E a coluna de Proteção de Dispositivo?\n",
        "print(\"\\n--- Investigando: internet.DeviceProtection ---\")\n",
        "print(dados_normalizados['internet.DeviceProtection'].value_counts())"
      ],
      "metadata": {
        "colab": {
          "base_uri": "https://localhost:8080/"
        },
        "id": "8X-etuGAEvss",
        "outputId": "4577bf59-cf8a-47e6-d047-2110c5320e91"
      },
      "execution_count": 21,
      "outputs": [
        {
          "output_type": "stream",
          "name": "stdout",
          "text": [
            "\n",
            "--- Investigando: internet.DeviceProtection ---\n",
            "internet.DeviceProtection\n",
            "No                     3094\n",
            "Yes                    2418\n",
            "No internet service    1520\n",
            "Name: count, dtype: int64\n"
          ]
        }
      ]
    },
    {
      "cell_type": "code",
      "source": [
        "# Investigação: E a coluna de Suporte Técnico?\n",
        "print(\"\\n--- Investigando: internet.TechSupport ---\")\n",
        "print(dados_normalizados['internet.TechSupport'].value_counts())"
      ],
      "metadata": {
        "colab": {
          "base_uri": "https://localhost:8080/"
        },
        "id": "oURF3VMXExOM",
        "outputId": "632cf648-a616-4aef-b580-b1548294f725"
      },
      "execution_count": 22,
      "outputs": [
        {
          "output_type": "stream",
          "name": "stdout",
          "text": [
            "\n",
            "--- Investigando: internet.TechSupport ---\n",
            "internet.TechSupport\n",
            "No                     3472\n",
            "Yes                    2040\n",
            "No internet service    1520\n",
            "Name: count, dtype: int64\n"
          ]
        }
      ]
    },
    {
      "cell_type": "code",
      "source": [
        "# Investigação: E a coluna de StreamingTV?\n",
        "print(\"\\n--- Investigando: internet.StreamingTV ---\")\n",
        "print(dados_normalizados['internet.StreamingTV'].value_counts())"
      ],
      "metadata": {
        "colab": {
          "base_uri": "https://localhost:8080/"
        },
        "id": "h2wOakDZE6W1",
        "outputId": "d8e4aa51-0b7c-426f-d200-e94f78df0bf1"
      },
      "execution_count": 23,
      "outputs": [
        {
          "output_type": "stream",
          "name": "stdout",
          "text": [
            "\n",
            "--- Investigando: internet.StreamingTV ---\n",
            "internet.StreamingTV\n",
            "No                     2809\n",
            "Yes                    2703\n",
            "No internet service    1520\n",
            "Name: count, dtype: int64\n"
          ]
        }
      ]
    },
    {
      "cell_type": "code",
      "source": [
        "# Investigação: E a coluna de StreamingMovies?\n",
        "print(\"\\n--- Investigando: internet.StreamingMovies ---\")\n",
        "print(dados_normalizados['internet.StreamingMovies'].value_counts())"
      ],
      "metadata": {
        "colab": {
          "base_uri": "https://localhost:8080/"
        },
        "id": "B04UPUBuFBxi",
        "outputId": "303037b0-0fab-4cdb-c232-9b7926ec3d5c"
      },
      "execution_count": 24,
      "outputs": [
        {
          "output_type": "stream",
          "name": "stdout",
          "text": [
            "\n",
            "--- Investigando: internet.StreamingMovies ---\n",
            "internet.StreamingMovies\n",
            "No                     2781\n",
            "Yes                    2731\n",
            "No internet service    1520\n",
            "Name: count, dtype: int64\n"
          ]
        }
      ]
    },
    {
      "cell_type": "markdown",
      "source": [
        "**Comentario**\n",
        "- Agora que provamos que o padrão se repete, podemos criar uma única célula de ação para aplicar a transformação a todas essas colunas de serviço de uma vez, além das colunas binárias simples que também precisam ser tratadas."
      ],
      "metadata": {
        "id": "VSdRloPaFJ48"
      }
    },
    {
      "cell_type": "code",
      "source": [
        "# Ação: Agora que investigamos e confirmamos o padrão, podemos aplicar o mapeamento.\n",
        "\n",
        "# Lista de colunas de serviço que investigamos\n",
        "colunas_de_servico = [\n",
        "    'internet.OnlineSecurity', 'internet.OnlineBackup',\n",
        "    'internet.DeviceProtection', 'internet.TechSupport',\n",
        "    'internet.StreamingTV', 'internet.StreamingMovies'\n",
        "]\n",
        "mapa_servico = {'Yes': 1, 'No': 0, 'No internet service': 0}\n",
        "for coluna in colunas_de_servico:\n",
        "    dados_normalizados[coluna] = dados_normalizados[coluna].map(mapa_servico)\n",
        "\n",
        "# Lista de colunas binárias simples (Yes/No)\n",
        "colunas_simples_sim_nao = [\n",
        "    'customer.Partner', 'customer.Dependents', 'phone.PhoneService', 'account.PaperlessBilling'\n",
        "]\n",
        "mapa_simples = {'Yes': 1, 'No': 0}\n",
        "for coluna in colunas_simples_sim_nao:\n",
        "    dados_normalizados[coluna] = dados_normalizados[coluna].map(mapa_simples)\n",
        "\n",
        "print(\"--- Transformação baseada em nossa investigação concluída. ---\")"
      ],
      "metadata": {
        "colab": {
          "base_uri": "https://localhost:8080/"
        },
        "id": "4CI2EVjhFP9o",
        "outputId": "168aa2b8-2bcb-4596-8ea8-c6b1167c97c6"
      },
      "execution_count": 25,
      "outputs": [
        {
          "output_type": "stream",
          "name": "stdout",
          "text": [
            "--- Transformação baseada em nossa investigação concluída. ---\n"
          ]
        }
      ]
    },
    {
      "cell_type": "code",
      "source": [
        "# Verificação: Vamos dar uma olhada no resultado\n",
        "print(\"\\nVisualizando o DataFrame com as colunas transformadas:\")\n",
        "display(dados_normalizados.head())"
      ],
      "metadata": {
        "colab": {
          "base_uri": "https://localhost:8080/",
          "height": 0
        },
        "id": "Q3G8Uf5oFT38",
        "outputId": "000f29a3-0119-436c-c0be-962438298cf1"
      },
      "execution_count": 26,
      "outputs": [
        {
          "output_type": "stream",
          "name": "stdout",
          "text": [
            "\n",
            "Visualizando o DataFrame com as colunas transformadas:\n"
          ]
        },
        {
          "output_type": "display_data",
          "data": {
            "text/plain": [
              "   customerID  Churn customer.gender  customer.SeniorCitizen  \\\n",
              "0  0002-ORFBO      0          Female                       0   \n",
              "1  0003-MKNFE      0            Male                       0   \n",
              "2  0004-TLHLJ      1            Male                       0   \n",
              "3  0011-IGKFF      1            Male                       1   \n",
              "4  0013-EXCHZ      1          Female                       1   \n",
              "\n",
              "   customer.Partner  customer.Dependents  customer.tenure  phone.PhoneService  \\\n",
              "0                 1                    1                9                   1   \n",
              "1                 0                    0                9                   1   \n",
              "2                 0                    0                4                   1   \n",
              "3                 1                    0               13                   1   \n",
              "4                 1                    0                3                   1   \n",
              "\n",
              "   phone.MultipleLines internet.InternetService  ...  internet.OnlineBackup  \\\n",
              "0                    0                      DSL  ...                      1   \n",
              "1                    1                      DSL  ...                      0   \n",
              "2                    0              Fiber optic  ...                      0   \n",
              "3                    0              Fiber optic  ...                      1   \n",
              "4                    0              Fiber optic  ...                      0   \n",
              "\n",
              "   internet.DeviceProtection  internet.TechSupport  internet.StreamingTV  \\\n",
              "0                          0                     1                     1   \n",
              "1                          0                     0                     0   \n",
              "2                          1                     0                     0   \n",
              "3                          1                     0                     1   \n",
              "4                          0                     1                     1   \n",
              "\n",
              "   internet.StreamingMovies  account.Contract account.PaperlessBilling  \\\n",
              "0                         0          One year                        1   \n",
              "1                         1    Month-to-month                        0   \n",
              "2                         0    Month-to-month                        1   \n",
              "3                         1    Month-to-month                        1   \n",
              "4                         0    Month-to-month                        1   \n",
              "\n",
              "   account.PaymentMethod account.Charges.Monthly  account.Charges.Total  \n",
              "0           Mailed check                    65.6                 593.30  \n",
              "1           Mailed check                    59.9                 542.40  \n",
              "2       Electronic check                    73.9                 280.85  \n",
              "3       Electronic check                    98.0                1237.85  \n",
              "4           Mailed check                    83.9                 267.40  \n",
              "\n",
              "[5 rows x 21 columns]"
            ],
            "text/html": [
              "\n",
              "  <div id=\"df-e20cd1ff-9881-4b30-81e3-0446cc9a82c0\" class=\"colab-df-container\">\n",
              "    <div>\n",
              "<style scoped>\n",
              "    .dataframe tbody tr th:only-of-type {\n",
              "        vertical-align: middle;\n",
              "    }\n",
              "\n",
              "    .dataframe tbody tr th {\n",
              "        vertical-align: top;\n",
              "    }\n",
              "\n",
              "    .dataframe thead th {\n",
              "        text-align: right;\n",
              "    }\n",
              "</style>\n",
              "<table border=\"1\" class=\"dataframe\">\n",
              "  <thead>\n",
              "    <tr style=\"text-align: right;\">\n",
              "      <th></th>\n",
              "      <th>customerID</th>\n",
              "      <th>Churn</th>\n",
              "      <th>customer.gender</th>\n",
              "      <th>customer.SeniorCitizen</th>\n",
              "      <th>customer.Partner</th>\n",
              "      <th>customer.Dependents</th>\n",
              "      <th>customer.tenure</th>\n",
              "      <th>phone.PhoneService</th>\n",
              "      <th>phone.MultipleLines</th>\n",
              "      <th>internet.InternetService</th>\n",
              "      <th>...</th>\n",
              "      <th>internet.OnlineBackup</th>\n",
              "      <th>internet.DeviceProtection</th>\n",
              "      <th>internet.TechSupport</th>\n",
              "      <th>internet.StreamingTV</th>\n",
              "      <th>internet.StreamingMovies</th>\n",
              "      <th>account.Contract</th>\n",
              "      <th>account.PaperlessBilling</th>\n",
              "      <th>account.PaymentMethod</th>\n",
              "      <th>account.Charges.Monthly</th>\n",
              "      <th>account.Charges.Total</th>\n",
              "    </tr>\n",
              "  </thead>\n",
              "  <tbody>\n",
              "    <tr>\n",
              "      <th>0</th>\n",
              "      <td>0002-ORFBO</td>\n",
              "      <td>0</td>\n",
              "      <td>Female</td>\n",
              "      <td>0</td>\n",
              "      <td>1</td>\n",
              "      <td>1</td>\n",
              "      <td>9</td>\n",
              "      <td>1</td>\n",
              "      <td>0</td>\n",
              "      <td>DSL</td>\n",
              "      <td>...</td>\n",
              "      <td>1</td>\n",
              "      <td>0</td>\n",
              "      <td>1</td>\n",
              "      <td>1</td>\n",
              "      <td>0</td>\n",
              "      <td>One year</td>\n",
              "      <td>1</td>\n",
              "      <td>Mailed check</td>\n",
              "      <td>65.6</td>\n",
              "      <td>593.30</td>\n",
              "    </tr>\n",
              "    <tr>\n",
              "      <th>1</th>\n",
              "      <td>0003-MKNFE</td>\n",
              "      <td>0</td>\n",
              "      <td>Male</td>\n",
              "      <td>0</td>\n",
              "      <td>0</td>\n",
              "      <td>0</td>\n",
              "      <td>9</td>\n",
              "      <td>1</td>\n",
              "      <td>1</td>\n",
              "      <td>DSL</td>\n",
              "      <td>...</td>\n",
              "      <td>0</td>\n",
              "      <td>0</td>\n",
              "      <td>0</td>\n",
              "      <td>0</td>\n",
              "      <td>1</td>\n",
              "      <td>Month-to-month</td>\n",
              "      <td>0</td>\n",
              "      <td>Mailed check</td>\n",
              "      <td>59.9</td>\n",
              "      <td>542.40</td>\n",
              "    </tr>\n",
              "    <tr>\n",
              "      <th>2</th>\n",
              "      <td>0004-TLHLJ</td>\n",
              "      <td>1</td>\n",
              "      <td>Male</td>\n",
              "      <td>0</td>\n",
              "      <td>0</td>\n",
              "      <td>0</td>\n",
              "      <td>4</td>\n",
              "      <td>1</td>\n",
              "      <td>0</td>\n",
              "      <td>Fiber optic</td>\n",
              "      <td>...</td>\n",
              "      <td>0</td>\n",
              "      <td>1</td>\n",
              "      <td>0</td>\n",
              "      <td>0</td>\n",
              "      <td>0</td>\n",
              "      <td>Month-to-month</td>\n",
              "      <td>1</td>\n",
              "      <td>Electronic check</td>\n",
              "      <td>73.9</td>\n",
              "      <td>280.85</td>\n",
              "    </tr>\n",
              "    <tr>\n",
              "      <th>3</th>\n",
              "      <td>0011-IGKFF</td>\n",
              "      <td>1</td>\n",
              "      <td>Male</td>\n",
              "      <td>1</td>\n",
              "      <td>1</td>\n",
              "      <td>0</td>\n",
              "      <td>13</td>\n",
              "      <td>1</td>\n",
              "      <td>0</td>\n",
              "      <td>Fiber optic</td>\n",
              "      <td>...</td>\n",
              "      <td>1</td>\n",
              "      <td>1</td>\n",
              "      <td>0</td>\n",
              "      <td>1</td>\n",
              "      <td>1</td>\n",
              "      <td>Month-to-month</td>\n",
              "      <td>1</td>\n",
              "      <td>Electronic check</td>\n",
              "      <td>98.0</td>\n",
              "      <td>1237.85</td>\n",
              "    </tr>\n",
              "    <tr>\n",
              "      <th>4</th>\n",
              "      <td>0013-EXCHZ</td>\n",
              "      <td>1</td>\n",
              "      <td>Female</td>\n",
              "      <td>1</td>\n",
              "      <td>1</td>\n",
              "      <td>0</td>\n",
              "      <td>3</td>\n",
              "      <td>1</td>\n",
              "      <td>0</td>\n",
              "      <td>Fiber optic</td>\n",
              "      <td>...</td>\n",
              "      <td>0</td>\n",
              "      <td>0</td>\n",
              "      <td>1</td>\n",
              "      <td>1</td>\n",
              "      <td>0</td>\n",
              "      <td>Month-to-month</td>\n",
              "      <td>1</td>\n",
              "      <td>Mailed check</td>\n",
              "      <td>83.9</td>\n",
              "      <td>267.40</td>\n",
              "    </tr>\n",
              "  </tbody>\n",
              "</table>\n",
              "<p>5 rows × 21 columns</p>\n",
              "</div>\n",
              "    <div class=\"colab-df-buttons\">\n",
              "\n",
              "  <div class=\"colab-df-container\">\n",
              "    <button class=\"colab-df-convert\" onclick=\"convertToInteractive('df-e20cd1ff-9881-4b30-81e3-0446cc9a82c0')\"\n",
              "            title=\"Convert this dataframe to an interactive table.\"\n",
              "            style=\"display:none;\">\n",
              "\n",
              "  <svg xmlns=\"http://www.w3.org/2000/svg\" height=\"24px\" viewBox=\"0 -960 960 960\">\n",
              "    <path d=\"M120-120v-720h720v720H120Zm60-500h600v-160H180v160Zm220 220h160v-160H400v160Zm0 220h160v-160H400v160ZM180-400h160v-160H180v160Zm440 0h160v-160H620v160ZM180-180h160v-160H180v160Zm440 0h160v-160H620v160Z\"/>\n",
              "  </svg>\n",
              "    </button>\n",
              "\n",
              "  <style>\n",
              "    .colab-df-container {\n",
              "      display:flex;\n",
              "      gap: 12px;\n",
              "    }\n",
              "\n",
              "    .colab-df-convert {\n",
              "      background-color: #E8F0FE;\n",
              "      border: none;\n",
              "      border-radius: 50%;\n",
              "      cursor: pointer;\n",
              "      display: none;\n",
              "      fill: #1967D2;\n",
              "      height: 32px;\n",
              "      padding: 0 0 0 0;\n",
              "      width: 32px;\n",
              "    }\n",
              "\n",
              "    .colab-df-convert:hover {\n",
              "      background-color: #E2EBFA;\n",
              "      box-shadow: 0px 1px 2px rgba(60, 64, 67, 0.3), 0px 1px 3px 1px rgba(60, 64, 67, 0.15);\n",
              "      fill: #174EA6;\n",
              "    }\n",
              "\n",
              "    .colab-df-buttons div {\n",
              "      margin-bottom: 4px;\n",
              "    }\n",
              "\n",
              "    [theme=dark] .colab-df-convert {\n",
              "      background-color: #3B4455;\n",
              "      fill: #D2E3FC;\n",
              "    }\n",
              "\n",
              "    [theme=dark] .colab-df-convert:hover {\n",
              "      background-color: #434B5C;\n",
              "      box-shadow: 0px 1px 3px 1px rgba(0, 0, 0, 0.15);\n",
              "      filter: drop-shadow(0px 1px 2px rgba(0, 0, 0, 0.3));\n",
              "      fill: #FFFFFF;\n",
              "    }\n",
              "  </style>\n",
              "\n",
              "    <script>\n",
              "      const buttonEl =\n",
              "        document.querySelector('#df-e20cd1ff-9881-4b30-81e3-0446cc9a82c0 button.colab-df-convert');\n",
              "      buttonEl.style.display =\n",
              "        google.colab.kernel.accessAllowed ? 'block' : 'none';\n",
              "\n",
              "      async function convertToInteractive(key) {\n",
              "        const element = document.querySelector('#df-e20cd1ff-9881-4b30-81e3-0446cc9a82c0');\n",
              "        const dataTable =\n",
              "          await google.colab.kernel.invokeFunction('convertToInteractive',\n",
              "                                                    [key], {});\n",
              "        if (!dataTable) return;\n",
              "\n",
              "        const docLinkHtml = 'Like what you see? Visit the ' +\n",
              "          '<a target=\"_blank\" href=https://colab.research.google.com/notebooks/data_table.ipynb>data table notebook</a>'\n",
              "          + ' to learn more about interactive tables.';\n",
              "        element.innerHTML = '';\n",
              "        dataTable['output_type'] = 'display_data';\n",
              "        await google.colab.output.renderOutput(dataTable, element);\n",
              "        const docLink = document.createElement('div');\n",
              "        docLink.innerHTML = docLinkHtml;\n",
              "        element.appendChild(docLink);\n",
              "      }\n",
              "    </script>\n",
              "  </div>\n",
              "\n",
              "\n",
              "    <div id=\"df-ebbb3ab9-15c2-4b06-96b5-91e1d8b78105\">\n",
              "      <button class=\"colab-df-quickchart\" onclick=\"quickchart('df-ebbb3ab9-15c2-4b06-96b5-91e1d8b78105')\"\n",
              "                title=\"Suggest charts\"\n",
              "                style=\"display:none;\">\n",
              "\n",
              "<svg xmlns=\"http://www.w3.org/2000/svg\" height=\"24px\"viewBox=\"0 0 24 24\"\n",
              "     width=\"24px\">\n",
              "    <g>\n",
              "        <path d=\"M19 3H5c-1.1 0-2 .9-2 2v14c0 1.1.9 2 2 2h14c1.1 0 2-.9 2-2V5c0-1.1-.9-2-2-2zM9 17H7v-7h2v7zm4 0h-2V7h2v10zm4 0h-2v-4h2v4z\"/>\n",
              "    </g>\n",
              "</svg>\n",
              "      </button>\n",
              "\n",
              "<style>\n",
              "  .colab-df-quickchart {\n",
              "      --bg-color: #E8F0FE;\n",
              "      --fill-color: #1967D2;\n",
              "      --hover-bg-color: #E2EBFA;\n",
              "      --hover-fill-color: #174EA6;\n",
              "      --disabled-fill-color: #AAA;\n",
              "      --disabled-bg-color: #DDD;\n",
              "  }\n",
              "\n",
              "  [theme=dark] .colab-df-quickchart {\n",
              "      --bg-color: #3B4455;\n",
              "      --fill-color: #D2E3FC;\n",
              "      --hover-bg-color: #434B5C;\n",
              "      --hover-fill-color: #FFFFFF;\n",
              "      --disabled-bg-color: #3B4455;\n",
              "      --disabled-fill-color: #666;\n",
              "  }\n",
              "\n",
              "  .colab-df-quickchart {\n",
              "    background-color: var(--bg-color);\n",
              "    border: none;\n",
              "    border-radius: 50%;\n",
              "    cursor: pointer;\n",
              "    display: none;\n",
              "    fill: var(--fill-color);\n",
              "    height: 32px;\n",
              "    padding: 0;\n",
              "    width: 32px;\n",
              "  }\n",
              "\n",
              "  .colab-df-quickchart:hover {\n",
              "    background-color: var(--hover-bg-color);\n",
              "    box-shadow: 0 1px 2px rgba(60, 64, 67, 0.3), 0 1px 3px 1px rgba(60, 64, 67, 0.15);\n",
              "    fill: var(--button-hover-fill-color);\n",
              "  }\n",
              "\n",
              "  .colab-df-quickchart-complete:disabled,\n",
              "  .colab-df-quickchart-complete:disabled:hover {\n",
              "    background-color: var(--disabled-bg-color);\n",
              "    fill: var(--disabled-fill-color);\n",
              "    box-shadow: none;\n",
              "  }\n",
              "\n",
              "  .colab-df-spinner {\n",
              "    border: 2px solid var(--fill-color);\n",
              "    border-color: transparent;\n",
              "    border-bottom-color: var(--fill-color);\n",
              "    animation:\n",
              "      spin 1s steps(1) infinite;\n",
              "  }\n",
              "\n",
              "  @keyframes spin {\n",
              "    0% {\n",
              "      border-color: transparent;\n",
              "      border-bottom-color: var(--fill-color);\n",
              "      border-left-color: var(--fill-color);\n",
              "    }\n",
              "    20% {\n",
              "      border-color: transparent;\n",
              "      border-left-color: var(--fill-color);\n",
              "      border-top-color: var(--fill-color);\n",
              "    }\n",
              "    30% {\n",
              "      border-color: transparent;\n",
              "      border-left-color: var(--fill-color);\n",
              "      border-top-color: var(--fill-color);\n",
              "      border-right-color: var(--fill-color);\n",
              "    }\n",
              "    40% {\n",
              "      border-color: transparent;\n",
              "      border-right-color: var(--fill-color);\n",
              "      border-top-color: var(--fill-color);\n",
              "    }\n",
              "    60% {\n",
              "      border-color: transparent;\n",
              "      border-right-color: var(--fill-color);\n",
              "    }\n",
              "    80% {\n",
              "      border-color: transparent;\n",
              "      border-right-color: var(--fill-color);\n",
              "      border-bottom-color: var(--fill-color);\n",
              "    }\n",
              "    90% {\n",
              "      border-color: transparent;\n",
              "      border-bottom-color: var(--fill-color);\n",
              "    }\n",
              "  }\n",
              "</style>\n",
              "\n",
              "      <script>\n",
              "        async function quickchart(key) {\n",
              "          const quickchartButtonEl =\n",
              "            document.querySelector('#' + key + ' button');\n",
              "          quickchartButtonEl.disabled = true;  // To prevent multiple clicks.\n",
              "          quickchartButtonEl.classList.add('colab-df-spinner');\n",
              "          try {\n",
              "            const charts = await google.colab.kernel.invokeFunction(\n",
              "                'suggestCharts', [key], {});\n",
              "          } catch (error) {\n",
              "            console.error('Error during call to suggestCharts:', error);\n",
              "          }\n",
              "          quickchartButtonEl.classList.remove('colab-df-spinner');\n",
              "          quickchartButtonEl.classList.add('colab-df-quickchart-complete');\n",
              "        }\n",
              "        (() => {\n",
              "          let quickchartButtonEl =\n",
              "            document.querySelector('#df-ebbb3ab9-15c2-4b06-96b5-91e1d8b78105 button');\n",
              "          quickchartButtonEl.style.display =\n",
              "            google.colab.kernel.accessAllowed ? 'block' : 'none';\n",
              "        })();\n",
              "      </script>\n",
              "    </div>\n",
              "\n",
              "    </div>\n",
              "  </div>\n"
            ],
            "application/vnd.google.colaboratory.intrinsic+json": {
              "type": "dataframe"
            }
          },
          "metadata": {}
        }
      ]
    },
    {
      "cell_type": "code",
      "source": [
        "# O método .info() nos dá um resumo do DataFrame.\n",
        "# Ele mostra o nome de cada coluna, a quantidade de valores não-nulos e o tipo de dado (Dtype).\n",
        "print(\"--- Resumo e Tipos de Dados das Colunas ---\")\n",
        "dados_normalizados.info()"
      ],
      "metadata": {
        "colab": {
          "base_uri": "https://localhost:8080/"
        },
        "id": "FWv-dWAWFctQ",
        "outputId": "95e8da25-b6ae-4201-cc3d-79679ec3ff96"
      },
      "execution_count": 27,
      "outputs": [
        {
          "output_type": "stream",
          "name": "stdout",
          "text": [
            "--- Resumo e Tipos de Dados das Colunas ---\n",
            "<class 'pandas.core.frame.DataFrame'>\n",
            "Index: 7032 entries, 0 to 7266\n",
            "Data columns (total 21 columns):\n",
            " #   Column                     Non-Null Count  Dtype  \n",
            "---  ------                     --------------  -----  \n",
            " 0   customerID                 7032 non-null   object \n",
            " 1   Churn                      7032 non-null   int64  \n",
            " 2   customer.gender            7032 non-null   object \n",
            " 3   customer.SeniorCitizen     7032 non-null   int64  \n",
            " 4   customer.Partner           7032 non-null   int64  \n",
            " 5   customer.Dependents        7032 non-null   int64  \n",
            " 6   customer.tenure            7032 non-null   int64  \n",
            " 7   phone.PhoneService         7032 non-null   int64  \n",
            " 8   phone.MultipleLines        7032 non-null   int64  \n",
            " 9   internet.InternetService   7032 non-null   object \n",
            " 10  internet.OnlineSecurity    7032 non-null   int64  \n",
            " 11  internet.OnlineBackup      7032 non-null   int64  \n",
            " 12  internet.DeviceProtection  7032 non-null   int64  \n",
            " 13  internet.TechSupport       7032 non-null   int64  \n",
            " 14  internet.StreamingTV       7032 non-null   int64  \n",
            " 15  internet.StreamingMovies   7032 non-null   int64  \n",
            " 16  account.Contract           7032 non-null   object \n",
            " 17  account.PaperlessBilling   7032 non-null   int64  \n",
            " 18  account.PaymentMethod      7032 non-null   object \n",
            " 19  account.Charges.Monthly    7032 non-null   float64\n",
            " 20  account.Charges.Total      7032 non-null   float64\n",
            "dtypes: float64(2), int64(14), object(5)\n",
            "memory usage: 1.2+ MB\n"
          ]
        }
      ]
    },
    {
      "cell_type": "markdown",
      "source": [
        "# **Investigando as Colunas**\n",
        "- `customer.gender`\n",
        "- `internet.InternetService`\n",
        "- `account.PaymentMethod`\n",
        "- `account.Contract`"
      ],
      "metadata": {
        "id": "nCNCv9-lGIcQ"
      }
    },
    {
      "cell_type": "code",
      "source": [
        "# Investigação: Vamos ver os valores da coluna de gênero.\n",
        "print(\"--- Investigando: customer.gender ---\")\n",
        "print(dados_normalizados['customer.gender'].value_counts())"
      ],
      "metadata": {
        "colab": {
          "base_uri": "https://localhost:8080/"
        },
        "id": "2QgnsK4yGN4U",
        "outputId": "5cc92a6f-cf75-42eb-e4d2-ccee476aeed1"
      },
      "execution_count": 28,
      "outputs": [
        {
          "output_type": "stream",
          "name": "stdout",
          "text": [
            "--- Investigando: customer.gender ---\n",
            "customer.gender\n",
            "Male      3549\n",
            "Female    3483\n",
            "Name: count, dtype: int64\n"
          ]
        }
      ]
    },
    {
      "cell_type": "markdown",
      "source": [
        "Descoberta: Ao executar, descobrimos que a coluna contém `Male `e `Female`. É uma coluna categórica com duas opções."
      ],
      "metadata": {
        "id": "LidFm4PUHSxP"
      }
    },
    {
      "cell_type": "code",
      "source": [
        "# Investigação: E a coluna de serviço de internet?\n",
        "print(\"\\n--- Investigando: internet.InternetService ---\")\n",
        "print(dados_normalizados['internet.InternetService'].value_counts())"
      ],
      "metadata": {
        "colab": {
          "base_uri": "https://localhost:8080/"
        },
        "id": "h4-dIZZaHxjQ",
        "outputId": "a882e301-0840-40e8-cf2c-f1fbac50615d"
      },
      "execution_count": 29,
      "outputs": [
        {
          "output_type": "stream",
          "name": "stdout",
          "text": [
            "\n",
            "--- Investigando: internet.InternetService ---\n",
            "internet.InternetService\n",
            "Fiber optic    3096\n",
            "DSL            2416\n",
            "No             1520\n",
            "Name: count, dtype: int64\n"
          ]
        }
      ]
    },
    {
      "cell_type": "markdown",
      "source": [
        "Descoberta: Descobrimos que existem três categorias: `Fiber optic`, `DSL`, e `No`."
      ],
      "metadata": {
        "id": "ctb5nqJCHUdx"
      }
    },
    {
      "cell_type": "code",
      "source": [
        "# Investigação: Por fim, a coluna de método de pagamento.\n",
        "print(\"\\n--- Investigando: account.PaymentMethod ---\")\n",
        "print(dados_normalizados['account.PaymentMethod'].value_counts())"
      ],
      "metadata": {
        "colab": {
          "base_uri": "https://localhost:8080/"
        },
        "id": "xUNyDBUKHXrT",
        "outputId": "2e804e4d-08fe-4330-9207-4c1345a9009c"
      },
      "execution_count": 30,
      "outputs": [
        {
          "output_type": "stream",
          "name": "stdout",
          "text": [
            "\n",
            "--- Investigando: account.PaymentMethod ---\n",
            "account.PaymentMethod\n",
            "Electronic check             2365\n",
            "Mailed check                 1604\n",
            "Bank transfer (automatic)    1542\n",
            "Credit card (automatic)      1521\n",
            "Name: count, dtype: int64\n"
          ]
        }
      ]
    },
    {
      "cell_type": "markdown",
      "source": [
        "Descoberta: Descobrimos quatro categorias: `Electronic check`, `Mailed check`, `Bank transfer (automatic)`, e `Credit card (automatic)`."
      ],
      "metadata": {
        "id": "AfxgduxYHZph"
      }
    },
    {
      "cell_type": "code",
      "source": [
        "# Investigação: E a coluna de tipo de contrato?\n",
        "print(\"\\n--- Investigando: account.Contract ---\")\n",
        "print(dados_normalizados['account.Contract'].value_counts())"
      ],
      "metadata": {
        "colab": {
          "base_uri": "https://localhost:8080/"
        },
        "id": "2OYTL_hnGYWg",
        "outputId": "3bb017e1-1ad7-45f8-f2b1-ba19dd67f754"
      },
      "execution_count": 31,
      "outputs": [
        {
          "output_type": "stream",
          "name": "stdout",
          "text": [
            "\n",
            "--- Investigando: account.Contract ---\n",
            "account.Contract\n",
            "Month-to-month    3875\n",
            "Two year          1685\n",
            "One year          1472\n",
            "Name: count, dtype: int64\n"
          ]
        }
      ]
    },
    {
      "cell_type": "markdown",
      "source": [
        "Plano de Ação: Codificação de Variáveis Categóricas (One-Hot Encoding)\n",
        "\n",
        "- Para colunas com múltiplas categorias como essas, não podemos simplesmente mapeá-las para 0, 1, 2, etc., pois isso criaria uma falsa relação de ordem (por exemplo, \"Two year\" (2) seria considerado \"maior\" que \"One year\" (1)).\n",
        "\n",
        "- A abordagem correta é o One-Hot Encoding. Ele transforma cada categoria em sua própria coluna com valores 0 ou 1. Por exemplo, a coluna account.Contract se transformará em três novas colunas: account.Contract_Month-to-month, account.Contract_One year, e account.Contract_Two year. Se um cliente tiver um contrato mensal, ele terá o valor 1 na primeira coluna e 0 nas outras duas.\n",
        "\n",
        "- A função pd.get_dummies() faz isso perfeitamente para nós."
      ],
      "metadata": {
        "id": "36L07vYoGkKQ"
      }
    },
    {
      "cell_type": "markdown",
      "source": [
        "# **Plano de Ação: Codificação de Variáveis Categóricas (One-Hot Encoding)**"
      ],
      "metadata": {
        "id": "Pe4jxWlZNouu"
      }
    },
    {
      "cell_type": "code",
      "source": [
        "# Ação: Aplicar One-Hot Encoding, mas desta vez mantendo todas as categorias para máxima clareza.\n",
        "# Removemos o parâmetro.\n",
        "colunas_categoricas_investigadas = [\n",
        "    'customer.gender',\n",
        "    'internet.InternetService',\n",
        "    'account.Contract',\n",
        "    'account.PaymentMethod'\n",
        "]\n",
        "\n",
        "# Ação: Aplicar One-Hot Encoding, mantendo TODAS as colunas para máxima clareza e robustez.\n",
        "# A decisão de usar drop_first=False é baseada sobre a manutenção futura dos dados.\n",
        "print(\"--- Aplicando One-Hot Encoding (mantendo todas as categorias) ---\")\n",
        "dados_transformados = pd.get_dummies(dados_normalizados,\n",
        "                                     columns=colunas_categoricas_investigadas,\n",
        "                                     drop_first=False) # A decisão mais importante do projeto."
      ],
      "metadata": {
        "colab": {
          "base_uri": "https://localhost:8080/"
        },
        "id": "zzOflWLZHqv6",
        "outputId": "1d3c6066-be9a-47da-8400-5485e9b56021"
      },
      "execution_count": 32,
      "outputs": [
        {
          "output_type": "stream",
          "name": "stdout",
          "text": [
            "--- Aplicando One-Hot Encoding (mantendo todas as categorias) ---\n"
          ]
        }
      ]
    },
    {
      "cell_type": "code",
      "source": [
        "# Ação 1: Converter as colunas booleanas para inteiros\n",
        "print(\"\\n1. Convertendo colunas 'bool' para 'int'...\")\n",
        "for coluna in dados_transformados.columns:\n",
        "    if dados_transformados[coluna].dtype == 'bool':\n",
        "        dados_transformados[coluna] = dados_transformados[coluna].astype(int)"
      ],
      "metadata": {
        "colab": {
          "base_uri": "https://localhost:8080/"
        },
        "id": "pnlq9mkfIJI4",
        "outputId": "5abfa379-8bea-41c3-ad30-6ad500fe6b1b"
      },
      "execution_count": 33,
      "outputs": [
        {
          "output_type": "stream",
          "name": "stdout",
          "text": [
            "\n",
            "1. Convertendo colunas 'bool' para 'int'...\n"
          ]
        }
      ]
    },
    {
      "cell_type": "markdown",
      "source": [
        "# **Passo Final da Transformação: Polimento do DataFrame**"
      ],
      "metadata": {
        "id": "xE6_mf2nNtSZ"
      }
    },
    {
      "cell_type": "code",
      "source": [
        "# Ação 2: Definir o ID como índice\n",
        "print(\"\\n2. Definindo 'customerID' como o índice...\")\n",
        "dados_transformados.set_index('customerID', inplace=True)"
      ],
      "metadata": {
        "colab": {
          "base_uri": "https://localhost:8080/"
        },
        "id": "QB50IUaWNOlK",
        "outputId": "317ca764-cf08-4ec2-df2f-4c9722d70406"
      },
      "execution_count": 34,
      "outputs": [
        {
          "output_type": "stream",
          "name": "stdout",
          "text": [
            "\n",
            "2. Definindo 'customerID' como o índice...\n"
          ]
        }
      ]
    },
    {
      "cell_type": "code",
      "source": [
        "# Ação 3: Renomear TODAS as colunas para nomes amigáveis.\n",
        "# O mapa de nomes agora precisa ser completo para refletir todas as colunas.\n",
        "print(\"\\n3. Renomeando as colunas para nomes finais...\")\n",
        "mapa_nomes_finais = {\n",
        "    'customer.SeniorCitizen': 'Idoso',\n",
        "    'customer.Partner': 'Possui_Parceiro',\n",
        "    'customer.Dependents': 'Possui_Dependentes',\n",
        "    'customer.tenure': 'Meses_Contrato',\n",
        "    'phone.PhoneService': 'Servico_Telefonico',\n",
        "    'phone.MultipleLines': 'Multiplas_Linhas',\n",
        "    'internet.OnlineSecurity': 'Seguranca_Online',\n",
        "    'internet.OnlineBackup': 'Backup_Online',\n",
        "    'internet.DeviceProtection': 'Protecao_Dispositivo',\n",
        "    'internet.TechSupport': 'Suporte_Tecnico',\n",
        "    'internet.StreamingTV': 'Streaming_TV',\n",
        "    'internet.StreamingMovies': 'Streaming_Filmes',\n",
        "    'account.PaperlessBilling': 'Fatura_Online',\n",
        "    'account.Charges.Monthly': 'Gasto_Mensal',\n",
        "    'account.Charges.Total': 'Gasto_Total',\n",
        "    'customer.gender_Female': 'Genero_Feminino', # Coluna explícita\n",
        "    'customer.gender_Male': 'Genero_Masculino',\n",
        "    'internet.InternetService_DSL': 'Internet_DSL',\n",
        "    'internet.InternetService_Fiber optic': 'Internet_FibraOtica',\n",
        "    'internet.InternetService_No': 'Sem_Internet',\n",
        "    'account.Contract_Month-to-month': 'Contrato_Mensal', # Coluna explícita\n",
        "    'account.Contract_One year': 'Contrato_UmAno',\n",
        "    'account.Contract_Two year': 'Contrato_DoisAnos',\n",
        "    'account.PaymentMethod_Bank transfer (automatic)': 'Pgto_TransfBancaria',\n",
        "    'account.PaymentMethod_Credit card (automatic)': 'Pgto_CartaoCredito',\n",
        "    'account.PaymentMethod_Electronic check': 'Pgto_ChequeEletronico',\n",
        "    'account.PaymentMethod_Mailed check': 'Pgto_ChequeCorreio'\n",
        "}\n",
        "\n",
        "df_final = dados_transformados.rename(columns=mapa_nomes_finais)\n"
      ],
      "metadata": {
        "colab": {
          "base_uri": "https://localhost:8080/"
        },
        "id": "d7eSL-SQNTzf",
        "outputId": "69845d87-01fd-44aa-da9c-8a67a04b1164"
      },
      "execution_count": 35,
      "outputs": [
        {
          "output_type": "stream",
          "name": "stdout",
          "text": [
            "\n",
            "3. Renomeando as colunas para nomes finais...\n"
          ]
        }
      ]
    },
    {
      "cell_type": "code",
      "source": [
        "# Verificação Definitiva\n",
        "print(\"\\n--- A ESTRUTURA FINAL E MAIS ROBUSTA ---\")\n",
        "df_final.info()"
      ],
      "metadata": {
        "colab": {
          "base_uri": "https://localhost:8080/"
        },
        "id": "gIruQpuuNWD4",
        "outputId": "c959d1c5-809e-4741-cb8f-63c2322dfe7c"
      },
      "execution_count": 36,
      "outputs": [
        {
          "output_type": "stream",
          "name": "stdout",
          "text": [
            "\n",
            "--- A ESTRUTURA FINAL E MAIS ROBUSTA ---\n",
            "<class 'pandas.core.frame.DataFrame'>\n",
            "Index: 7032 entries, 0002-ORFBO to 9995-HOTOH\n",
            "Data columns (total 28 columns):\n",
            " #   Column                 Non-Null Count  Dtype  \n",
            "---  ------                 --------------  -----  \n",
            " 0   Churn                  7032 non-null   int64  \n",
            " 1   Idoso                  7032 non-null   int64  \n",
            " 2   Possui_Parceiro        7032 non-null   int64  \n",
            " 3   Possui_Dependentes     7032 non-null   int64  \n",
            " 4   Meses_Contrato         7032 non-null   int64  \n",
            " 5   Servico_Telefonico     7032 non-null   int64  \n",
            " 6   Multiplas_Linhas       7032 non-null   int64  \n",
            " 7   Seguranca_Online       7032 non-null   int64  \n",
            " 8   Backup_Online          7032 non-null   int64  \n",
            " 9   Protecao_Dispositivo   7032 non-null   int64  \n",
            " 10  Suporte_Tecnico        7032 non-null   int64  \n",
            " 11  Streaming_TV           7032 non-null   int64  \n",
            " 12  Streaming_Filmes       7032 non-null   int64  \n",
            " 13  Fatura_Online          7032 non-null   int64  \n",
            " 14  Gasto_Mensal           7032 non-null   float64\n",
            " 15  Gasto_Total            7032 non-null   float64\n",
            " 16  Genero_Feminino        7032 non-null   int64  \n",
            " 17  Genero_Masculino       7032 non-null   int64  \n",
            " 18  Internet_DSL           7032 non-null   int64  \n",
            " 19  Internet_FibraOtica    7032 non-null   int64  \n",
            " 20  Sem_Internet           7032 non-null   int64  \n",
            " 21  Contrato_Mensal        7032 non-null   int64  \n",
            " 22  Contrato_UmAno         7032 non-null   int64  \n",
            " 23  Contrato_DoisAnos      7032 non-null   int64  \n",
            " 24  Pgto_TransfBancaria    7032 non-null   int64  \n",
            " 25  Pgto_CartaoCredito     7032 non-null   int64  \n",
            " 26  Pgto_ChequeEletronico  7032 non-null   int64  \n",
            " 27  Pgto_ChequeCorreio     7032 non-null   int64  \n",
            "dtypes: float64(2), int64(26)\n",
            "memory usage: 1.6+ MB\n"
          ]
        }
      ]
    },
    {
      "cell_type": "markdown",
      "metadata": {
        "id": "6XnTC2NTmMRL"
      },
      "source": [
        "#📊 **Carga e análise**"
      ]
    },
    {
      "cell_type": "markdown",
      "source": [
        "### 3.1 Dicionário de Dados do Projeto\n",
        "\n",
        "Após o processo de ETL, nosso DataFrame final (`df_final`) contém as seguintes variáveis, prontas para análise:\n",
        "\n",
        "* **Variável Alvo:**\n",
        "    * `Churn`: (1 se o cliente cancelou, 0 se não).\n",
        "* **Variáveis Demográficas:**\n",
        "    * `Idoso`, `Possui_Parceiro`, `Possui_Dependentes`, `Genero_Feminino`, `Genero_Masculino`.\n",
        "* **Variáveis de Conta e Contrato:**\n",
        "    * `Meses_Contrato`, `Fatura_Online`, `Gasto_Mensal`, `Gasto_Total`, `Contrato_Mensal`, `Contrato_UmAno`, `Contrato_DoisAnos`.\n",
        "* **Variáveis de Serviços Contratados:**\n",
        "    * `Servico_Telefonico`, `Multiplas_Linhas`, `Internet_DSL`, `Internet_FibraOtica`, `Sem_Internet`, `Seguranca_Online`, `Backup_Online`, `Protecao_Dispositivo`, `Suporte_Tecnico`, `Streaming_TV`, `Streaming_Filmes`."
      ],
      "metadata": {
        "id": "3oEEYcaDZQCF"
      }
    },
    {
      "cell_type": "markdown",
      "source": [
        "Análise Descritiva"
      ],
      "metadata": {
        "id": "TawE905KZVoy"
      }
    },
    {
      "cell_type": "code",
      "source": [
        "# Focando nas principais variáveis numéricas contínuas\n",
        "print(\"--- Análise Estatística Descritiva ---\")\n",
        "df_final[['Meses_Contrato', 'Gasto_Mensal', 'Gasto_Total']].describe()"
      ],
      "metadata": {
        "colab": {
          "base_uri": "https://localhost:8080/",
          "height": 0
        },
        "id": "NZQGYg0LZSaa",
        "outputId": "2c833345-7f20-41c1-9613-526f75abda5c"
      },
      "execution_count": 37,
      "outputs": [
        {
          "output_type": "stream",
          "name": "stdout",
          "text": [
            "--- Análise Estatística Descritiva ---\n"
          ]
        },
        {
          "output_type": "execute_result",
          "data": {
            "text/plain": [
              "       Meses_Contrato  Gasto_Mensal  Gasto_Total\n",
              "count     7032.000000   7032.000000  7032.000000\n",
              "mean        32.421786     64.798208  2283.300441\n",
              "std         24.545260     30.085974  2266.771362\n",
              "min          1.000000     18.250000    18.800000\n",
              "25%          9.000000     35.587500   401.450000\n",
              "50%         29.000000     70.350000  1397.475000\n",
              "75%         55.000000     89.862500  3794.737500\n",
              "max         72.000000    118.750000  8684.800000"
            ],
            "text/html": [
              "\n",
              "  <div id=\"df-c72c6af7-ce55-4d06-9aeb-f401dba1e498\" class=\"colab-df-container\">\n",
              "    <div>\n",
              "<style scoped>\n",
              "    .dataframe tbody tr th:only-of-type {\n",
              "        vertical-align: middle;\n",
              "    }\n",
              "\n",
              "    .dataframe tbody tr th {\n",
              "        vertical-align: top;\n",
              "    }\n",
              "\n",
              "    .dataframe thead th {\n",
              "        text-align: right;\n",
              "    }\n",
              "</style>\n",
              "<table border=\"1\" class=\"dataframe\">\n",
              "  <thead>\n",
              "    <tr style=\"text-align: right;\">\n",
              "      <th></th>\n",
              "      <th>Meses_Contrato</th>\n",
              "      <th>Gasto_Mensal</th>\n",
              "      <th>Gasto_Total</th>\n",
              "    </tr>\n",
              "  </thead>\n",
              "  <tbody>\n",
              "    <tr>\n",
              "      <th>count</th>\n",
              "      <td>7032.000000</td>\n",
              "      <td>7032.000000</td>\n",
              "      <td>7032.000000</td>\n",
              "    </tr>\n",
              "    <tr>\n",
              "      <th>mean</th>\n",
              "      <td>32.421786</td>\n",
              "      <td>64.798208</td>\n",
              "      <td>2283.300441</td>\n",
              "    </tr>\n",
              "    <tr>\n",
              "      <th>std</th>\n",
              "      <td>24.545260</td>\n",
              "      <td>30.085974</td>\n",
              "      <td>2266.771362</td>\n",
              "    </tr>\n",
              "    <tr>\n",
              "      <th>min</th>\n",
              "      <td>1.000000</td>\n",
              "      <td>18.250000</td>\n",
              "      <td>18.800000</td>\n",
              "    </tr>\n",
              "    <tr>\n",
              "      <th>25%</th>\n",
              "      <td>9.000000</td>\n",
              "      <td>35.587500</td>\n",
              "      <td>401.450000</td>\n",
              "    </tr>\n",
              "    <tr>\n",
              "      <th>50%</th>\n",
              "      <td>29.000000</td>\n",
              "      <td>70.350000</td>\n",
              "      <td>1397.475000</td>\n",
              "    </tr>\n",
              "    <tr>\n",
              "      <th>75%</th>\n",
              "      <td>55.000000</td>\n",
              "      <td>89.862500</td>\n",
              "      <td>3794.737500</td>\n",
              "    </tr>\n",
              "    <tr>\n",
              "      <th>max</th>\n",
              "      <td>72.000000</td>\n",
              "      <td>118.750000</td>\n",
              "      <td>8684.800000</td>\n",
              "    </tr>\n",
              "  </tbody>\n",
              "</table>\n",
              "</div>\n",
              "    <div class=\"colab-df-buttons\">\n",
              "\n",
              "  <div class=\"colab-df-container\">\n",
              "    <button class=\"colab-df-convert\" onclick=\"convertToInteractive('df-c72c6af7-ce55-4d06-9aeb-f401dba1e498')\"\n",
              "            title=\"Convert this dataframe to an interactive table.\"\n",
              "            style=\"display:none;\">\n",
              "\n",
              "  <svg xmlns=\"http://www.w3.org/2000/svg\" height=\"24px\" viewBox=\"0 -960 960 960\">\n",
              "    <path d=\"M120-120v-720h720v720H120Zm60-500h600v-160H180v160Zm220 220h160v-160H400v160Zm0 220h160v-160H400v160ZM180-400h160v-160H180v160Zm440 0h160v-160H620v160ZM180-180h160v-160H180v160Zm440 0h160v-160H620v160Z\"/>\n",
              "  </svg>\n",
              "    </button>\n",
              "\n",
              "  <style>\n",
              "    .colab-df-container {\n",
              "      display:flex;\n",
              "      gap: 12px;\n",
              "    }\n",
              "\n",
              "    .colab-df-convert {\n",
              "      background-color: #E8F0FE;\n",
              "      border: none;\n",
              "      border-radius: 50%;\n",
              "      cursor: pointer;\n",
              "      display: none;\n",
              "      fill: #1967D2;\n",
              "      height: 32px;\n",
              "      padding: 0 0 0 0;\n",
              "      width: 32px;\n",
              "    }\n",
              "\n",
              "    .colab-df-convert:hover {\n",
              "      background-color: #E2EBFA;\n",
              "      box-shadow: 0px 1px 2px rgba(60, 64, 67, 0.3), 0px 1px 3px 1px rgba(60, 64, 67, 0.15);\n",
              "      fill: #174EA6;\n",
              "    }\n",
              "\n",
              "    .colab-df-buttons div {\n",
              "      margin-bottom: 4px;\n",
              "    }\n",
              "\n",
              "    [theme=dark] .colab-df-convert {\n",
              "      background-color: #3B4455;\n",
              "      fill: #D2E3FC;\n",
              "    }\n",
              "\n",
              "    [theme=dark] .colab-df-convert:hover {\n",
              "      background-color: #434B5C;\n",
              "      box-shadow: 0px 1px 3px 1px rgba(0, 0, 0, 0.15);\n",
              "      filter: drop-shadow(0px 1px 2px rgba(0, 0, 0, 0.3));\n",
              "      fill: #FFFFFF;\n",
              "    }\n",
              "  </style>\n",
              "\n",
              "    <script>\n",
              "      const buttonEl =\n",
              "        document.querySelector('#df-c72c6af7-ce55-4d06-9aeb-f401dba1e498 button.colab-df-convert');\n",
              "      buttonEl.style.display =\n",
              "        google.colab.kernel.accessAllowed ? 'block' : 'none';\n",
              "\n",
              "      async function convertToInteractive(key) {\n",
              "        const element = document.querySelector('#df-c72c6af7-ce55-4d06-9aeb-f401dba1e498');\n",
              "        const dataTable =\n",
              "          await google.colab.kernel.invokeFunction('convertToInteractive',\n",
              "                                                    [key], {});\n",
              "        if (!dataTable) return;\n",
              "\n",
              "        const docLinkHtml = 'Like what you see? Visit the ' +\n",
              "          '<a target=\"_blank\" href=https://colab.research.google.com/notebooks/data_table.ipynb>data table notebook</a>'\n",
              "          + ' to learn more about interactive tables.';\n",
              "        element.innerHTML = '';\n",
              "        dataTable['output_type'] = 'display_data';\n",
              "        await google.colab.output.renderOutput(dataTable, element);\n",
              "        const docLink = document.createElement('div');\n",
              "        docLink.innerHTML = docLinkHtml;\n",
              "        element.appendChild(docLink);\n",
              "      }\n",
              "    </script>\n",
              "  </div>\n",
              "\n",
              "\n",
              "    <div id=\"df-2da3d179-23a3-4f56-b538-86e8e875b43a\">\n",
              "      <button class=\"colab-df-quickchart\" onclick=\"quickchart('df-2da3d179-23a3-4f56-b538-86e8e875b43a')\"\n",
              "                title=\"Suggest charts\"\n",
              "                style=\"display:none;\">\n",
              "\n",
              "<svg xmlns=\"http://www.w3.org/2000/svg\" height=\"24px\"viewBox=\"0 0 24 24\"\n",
              "     width=\"24px\">\n",
              "    <g>\n",
              "        <path d=\"M19 3H5c-1.1 0-2 .9-2 2v14c0 1.1.9 2 2 2h14c1.1 0 2-.9 2-2V5c0-1.1-.9-2-2-2zM9 17H7v-7h2v7zm4 0h-2V7h2v10zm4 0h-2v-4h2v4z\"/>\n",
              "    </g>\n",
              "</svg>\n",
              "      </button>\n",
              "\n",
              "<style>\n",
              "  .colab-df-quickchart {\n",
              "      --bg-color: #E8F0FE;\n",
              "      --fill-color: #1967D2;\n",
              "      --hover-bg-color: #E2EBFA;\n",
              "      --hover-fill-color: #174EA6;\n",
              "      --disabled-fill-color: #AAA;\n",
              "      --disabled-bg-color: #DDD;\n",
              "  }\n",
              "\n",
              "  [theme=dark] .colab-df-quickchart {\n",
              "      --bg-color: #3B4455;\n",
              "      --fill-color: #D2E3FC;\n",
              "      --hover-bg-color: #434B5C;\n",
              "      --hover-fill-color: #FFFFFF;\n",
              "      --disabled-bg-color: #3B4455;\n",
              "      --disabled-fill-color: #666;\n",
              "  }\n",
              "\n",
              "  .colab-df-quickchart {\n",
              "    background-color: var(--bg-color);\n",
              "    border: none;\n",
              "    border-radius: 50%;\n",
              "    cursor: pointer;\n",
              "    display: none;\n",
              "    fill: var(--fill-color);\n",
              "    height: 32px;\n",
              "    padding: 0;\n",
              "    width: 32px;\n",
              "  }\n",
              "\n",
              "  .colab-df-quickchart:hover {\n",
              "    background-color: var(--hover-bg-color);\n",
              "    box-shadow: 0 1px 2px rgba(60, 64, 67, 0.3), 0 1px 3px 1px rgba(60, 64, 67, 0.15);\n",
              "    fill: var(--button-hover-fill-color);\n",
              "  }\n",
              "\n",
              "  .colab-df-quickchart-complete:disabled,\n",
              "  .colab-df-quickchart-complete:disabled:hover {\n",
              "    background-color: var(--disabled-bg-color);\n",
              "    fill: var(--disabled-fill-color);\n",
              "    box-shadow: none;\n",
              "  }\n",
              "\n",
              "  .colab-df-spinner {\n",
              "    border: 2px solid var(--fill-color);\n",
              "    border-color: transparent;\n",
              "    border-bottom-color: var(--fill-color);\n",
              "    animation:\n",
              "      spin 1s steps(1) infinite;\n",
              "  }\n",
              "\n",
              "  @keyframes spin {\n",
              "    0% {\n",
              "      border-color: transparent;\n",
              "      border-bottom-color: var(--fill-color);\n",
              "      border-left-color: var(--fill-color);\n",
              "    }\n",
              "    20% {\n",
              "      border-color: transparent;\n",
              "      border-left-color: var(--fill-color);\n",
              "      border-top-color: var(--fill-color);\n",
              "    }\n",
              "    30% {\n",
              "      border-color: transparent;\n",
              "      border-left-color: var(--fill-color);\n",
              "      border-top-color: var(--fill-color);\n",
              "      border-right-color: var(--fill-color);\n",
              "    }\n",
              "    40% {\n",
              "      border-color: transparent;\n",
              "      border-right-color: var(--fill-color);\n",
              "      border-top-color: var(--fill-color);\n",
              "    }\n",
              "    60% {\n",
              "      border-color: transparent;\n",
              "      border-right-color: var(--fill-color);\n",
              "    }\n",
              "    80% {\n",
              "      border-color: transparent;\n",
              "      border-right-color: var(--fill-color);\n",
              "      border-bottom-color: var(--fill-color);\n",
              "    }\n",
              "    90% {\n",
              "      border-color: transparent;\n",
              "      border-bottom-color: var(--fill-color);\n",
              "    }\n",
              "  }\n",
              "</style>\n",
              "\n",
              "      <script>\n",
              "        async function quickchart(key) {\n",
              "          const quickchartButtonEl =\n",
              "            document.querySelector('#' + key + ' button');\n",
              "          quickchartButtonEl.disabled = true;  // To prevent multiple clicks.\n",
              "          quickchartButtonEl.classList.add('colab-df-spinner');\n",
              "          try {\n",
              "            const charts = await google.colab.kernel.invokeFunction(\n",
              "                'suggestCharts', [key], {});\n",
              "          } catch (error) {\n",
              "            console.error('Error during call to suggestCharts:', error);\n",
              "          }\n",
              "          quickchartButtonEl.classList.remove('colab-df-spinner');\n",
              "          quickchartButtonEl.classList.add('colab-df-quickchart-complete');\n",
              "        }\n",
              "        (() => {\n",
              "          let quickchartButtonEl =\n",
              "            document.querySelector('#df-2da3d179-23a3-4f56-b538-86e8e875b43a button');\n",
              "          quickchartButtonEl.style.display =\n",
              "            google.colab.kernel.accessAllowed ? 'block' : 'none';\n",
              "        })();\n",
              "      </script>\n",
              "    </div>\n",
              "\n",
              "    </div>\n",
              "  </div>\n"
            ],
            "application/vnd.google.colaboratory.intrinsic+json": {
              "type": "dataframe",
              "summary": "{\n  \"name\": \"df_final[['Meses_Contrato', 'Gasto_Mensal', 'Gasto_Total']]\",\n  \"rows\": 8,\n  \"fields\": [\n    {\n      \"column\": \"Meses_Contrato\",\n      \"properties\": {\n        \"dtype\": \"number\",\n        \"std\": 2475.0322158792137,\n        \"min\": 1.0,\n        \"max\": 7032.0,\n        \"num_unique_values\": 8,\n        \"samples\": [\n          32.421786120591584,\n          29.0,\n          7032.0\n        ],\n        \"semantic_type\": \"\",\n        \"description\": \"\"\n      }\n    },\n    {\n      \"column\": \"Gasto_Mensal\",\n      \"properties\": {\n        \"dtype\": \"number\",\n        \"std\": 2464.8092493026143,\n        \"min\": 18.25,\n        \"max\": 7032.0,\n        \"num_unique_values\": 8,\n        \"samples\": [\n          64.79820819112628,\n          70.35,\n          7032.0\n        ],\n        \"semantic_type\": \"\",\n        \"description\": \"\"\n      }\n    },\n    {\n      \"column\": \"Gasto_Total\",\n      \"properties\": {\n        \"dtype\": \"number\",\n        \"std\": 3117.312944742373,\n        \"min\": 18.8,\n        \"max\": 8684.8,\n        \"num_unique_values\": 8,\n        \"samples\": [\n          2283.3004408418656,\n          1397.475,\n          7032.0\n        ],\n        \"semantic_type\": \"\",\n        \"description\": \"\"\n      }\n    }\n  ]\n}"
            }
          },
          "metadata": {},
          "execution_count": 37
        }
      ]
    },
    {
      "cell_type": "markdown",
      "source": [
        "Interpretação da Análise"
      ],
      "metadata": {
        "id": "EWTzA7M-ZaHa"
      }
    },
    {
      "cell_type": "markdown",
      "source": [
        "### 3.2 Interpretação da Análise Descritiva\n",
        "\n",
        "Os resultados acima nos dão insights valiosos sobre o perfil dos clientes:\n",
        "\n",
        "* **Meses de Contrato (Tenure):**\n",
        "    * A média de permanência de um cliente é de aproximadamente **32 meses** (quase 3 anos).\n",
        "    * Metade dos clientes (`50%`, a mediana) está na empresa há **29 meses** ou menos.\n",
        "    * Os 25% de clientes mais novos (`25%`) têm **9 meses** de contrato ou menos, indicando uma base de clientes recentes considerável que, como veremos, está em maior risco de Churn.\n",
        "* **Gasto Mensal:**\n",
        "    * O gasto médio mensal é de **R$64,76**.\n",
        "    * Há uma grande variação nos gastos (desvio padrão de R$30,09), com 25% dos clientes pagando até R$35,50 e os 25% que mais pagam, começando em R$89,85.\n",
        "* **Gasto Total:**\n",
        "    * O gasto total médio é de **R$2.283,30**.\n",
        "    * A enorme diferença entre a média (2283) e a mediana (1397) sugere que temos muitos clientes com gastos totais mais baixos (provavelmente os clientes mais novos) e um grupo menor de clientes com gastos totais muito altos (clientes antigos), que \"puxam\" a média para cima."
      ],
      "metadata": {
        "id": "BQH9vIC-Zc02"
      }
    },
    {
      "cell_type": "markdown",
      "source": [
        "Criando Variáveis Adicionais para Análise"
      ],
      "metadata": {
        "id": "EOP8llSzVTaV"
      }
    },
    {
      "cell_type": "code",
      "source": [
        "# Importando bibliotecas para visualização\n",
        "import matplotlib.pyplot as plt\n",
        "import seaborn as sns\n",
        "\n",
        "# Configurando um estilo visual para os gráficos\n",
        "sns.set_style('whitegrid')\n",
        "\n",
        "# Lista de colunas que representam serviços adicionais\n",
        "colunas_de_servico = [\n",
        "    'Servico_Telefonico', 'Multiplas_Linhas', 'Seguranca_Online',\n",
        "    'Backup_Online', 'Protecao_Dispositivo', 'Suporte_Tecnico',\n",
        "    'Streaming_TV', 'Streaming_Filmes'\n",
        "]\n",
        "\n",
        "# Criamos a nova coluna 'Total_Servicos' somando os serviços contratados\n",
        "df_final['Total_Servicos'] = df_final[colunas_de_servico].sum(axis=1)\n",
        "\n",
        "print(\"Coluna 'Total_Servicos' criada com sucesso.\")\n",
        "display(df_final[['Total_Servicos', 'Churn']].head())"
      ],
      "metadata": {
        "colab": {
          "base_uri": "https://localhost:8080/",
          "height": 0
        },
        "id": "F5Yy8u9PVOit",
        "outputId": "97f278f1-6a6d-403e-e8ce-646e5a65bb94"
      },
      "execution_count": 38,
      "outputs": [
        {
          "output_type": "stream",
          "name": "stdout",
          "text": [
            "Coluna 'Total_Servicos' criada com sucesso.\n"
          ]
        },
        {
          "output_type": "display_data",
          "data": {
            "text/plain": [
              "            Total_Servicos  Churn\n",
              "customerID                       \n",
              "0002-ORFBO               4      0\n",
              "0003-MKNFE               3      0\n",
              "0004-TLHLJ               2      1\n",
              "0011-IGKFF               5      1\n",
              "0013-EXCHZ               3      1"
            ],
            "text/html": [
              "\n",
              "  <div id=\"df-fb619b31-e234-45b4-ab58-3d2ecbff83c9\" class=\"colab-df-container\">\n",
              "    <div>\n",
              "<style scoped>\n",
              "    .dataframe tbody tr th:only-of-type {\n",
              "        vertical-align: middle;\n",
              "    }\n",
              "\n",
              "    .dataframe tbody tr th {\n",
              "        vertical-align: top;\n",
              "    }\n",
              "\n",
              "    .dataframe thead th {\n",
              "        text-align: right;\n",
              "    }\n",
              "</style>\n",
              "<table border=\"1\" class=\"dataframe\">\n",
              "  <thead>\n",
              "    <tr style=\"text-align: right;\">\n",
              "      <th></th>\n",
              "      <th>Total_Servicos</th>\n",
              "      <th>Churn</th>\n",
              "    </tr>\n",
              "    <tr>\n",
              "      <th>customerID</th>\n",
              "      <th></th>\n",
              "      <th></th>\n",
              "    </tr>\n",
              "  </thead>\n",
              "  <tbody>\n",
              "    <tr>\n",
              "      <th>0002-ORFBO</th>\n",
              "      <td>4</td>\n",
              "      <td>0</td>\n",
              "    </tr>\n",
              "    <tr>\n",
              "      <th>0003-MKNFE</th>\n",
              "      <td>3</td>\n",
              "      <td>0</td>\n",
              "    </tr>\n",
              "    <tr>\n",
              "      <th>0004-TLHLJ</th>\n",
              "      <td>2</td>\n",
              "      <td>1</td>\n",
              "    </tr>\n",
              "    <tr>\n",
              "      <th>0011-IGKFF</th>\n",
              "      <td>5</td>\n",
              "      <td>1</td>\n",
              "    </tr>\n",
              "    <tr>\n",
              "      <th>0013-EXCHZ</th>\n",
              "      <td>3</td>\n",
              "      <td>1</td>\n",
              "    </tr>\n",
              "  </tbody>\n",
              "</table>\n",
              "</div>\n",
              "    <div class=\"colab-df-buttons\">\n",
              "\n",
              "  <div class=\"colab-df-container\">\n",
              "    <button class=\"colab-df-convert\" onclick=\"convertToInteractive('df-fb619b31-e234-45b4-ab58-3d2ecbff83c9')\"\n",
              "            title=\"Convert this dataframe to an interactive table.\"\n",
              "            style=\"display:none;\">\n",
              "\n",
              "  <svg xmlns=\"http://www.w3.org/2000/svg\" height=\"24px\" viewBox=\"0 -960 960 960\">\n",
              "    <path d=\"M120-120v-720h720v720H120Zm60-500h600v-160H180v160Zm220 220h160v-160H400v160Zm0 220h160v-160H400v160ZM180-400h160v-160H180v160Zm440 0h160v-160H620v160ZM180-180h160v-160H180v160Zm440 0h160v-160H620v160Z\"/>\n",
              "  </svg>\n",
              "    </button>\n",
              "\n",
              "  <style>\n",
              "    .colab-df-container {\n",
              "      display:flex;\n",
              "      gap: 12px;\n",
              "    }\n",
              "\n",
              "    .colab-df-convert {\n",
              "      background-color: #E8F0FE;\n",
              "      border: none;\n",
              "      border-radius: 50%;\n",
              "      cursor: pointer;\n",
              "      display: none;\n",
              "      fill: #1967D2;\n",
              "      height: 32px;\n",
              "      padding: 0 0 0 0;\n",
              "      width: 32px;\n",
              "    }\n",
              "\n",
              "    .colab-df-convert:hover {\n",
              "      background-color: #E2EBFA;\n",
              "      box-shadow: 0px 1px 2px rgba(60, 64, 67, 0.3), 0px 1px 3px 1px rgba(60, 64, 67, 0.15);\n",
              "      fill: #174EA6;\n",
              "    }\n",
              "\n",
              "    .colab-df-buttons div {\n",
              "      margin-bottom: 4px;\n",
              "    }\n",
              "\n",
              "    [theme=dark] .colab-df-convert {\n",
              "      background-color: #3B4455;\n",
              "      fill: #D2E3FC;\n",
              "    }\n",
              "\n",
              "    [theme=dark] .colab-df-convert:hover {\n",
              "      background-color: #434B5C;\n",
              "      box-shadow: 0px 1px 3px 1px rgba(0, 0, 0, 0.15);\n",
              "      filter: drop-shadow(0px 1px 2px rgba(0, 0, 0, 0.3));\n",
              "      fill: #FFFFFF;\n",
              "    }\n",
              "  </style>\n",
              "\n",
              "    <script>\n",
              "      const buttonEl =\n",
              "        document.querySelector('#df-fb619b31-e234-45b4-ab58-3d2ecbff83c9 button.colab-df-convert');\n",
              "      buttonEl.style.display =\n",
              "        google.colab.kernel.accessAllowed ? 'block' : 'none';\n",
              "\n",
              "      async function convertToInteractive(key) {\n",
              "        const element = document.querySelector('#df-fb619b31-e234-45b4-ab58-3d2ecbff83c9');\n",
              "        const dataTable =\n",
              "          await google.colab.kernel.invokeFunction('convertToInteractive',\n",
              "                                                    [key], {});\n",
              "        if (!dataTable) return;\n",
              "\n",
              "        const docLinkHtml = 'Like what you see? Visit the ' +\n",
              "          '<a target=\"_blank\" href=https://colab.research.google.com/notebooks/data_table.ipynb>data table notebook</a>'\n",
              "          + ' to learn more about interactive tables.';\n",
              "        element.innerHTML = '';\n",
              "        dataTable['output_type'] = 'display_data';\n",
              "        await google.colab.output.renderOutput(dataTable, element);\n",
              "        const docLink = document.createElement('div');\n",
              "        docLink.innerHTML = docLinkHtml;\n",
              "        element.appendChild(docLink);\n",
              "      }\n",
              "    </script>\n",
              "  </div>\n",
              "\n",
              "\n",
              "    <div id=\"df-a5f66d50-d78c-4141-aa48-0b692f63e463\">\n",
              "      <button class=\"colab-df-quickchart\" onclick=\"quickchart('df-a5f66d50-d78c-4141-aa48-0b692f63e463')\"\n",
              "                title=\"Suggest charts\"\n",
              "                style=\"display:none;\">\n",
              "\n",
              "<svg xmlns=\"http://www.w3.org/2000/svg\" height=\"24px\"viewBox=\"0 0 24 24\"\n",
              "     width=\"24px\">\n",
              "    <g>\n",
              "        <path d=\"M19 3H5c-1.1 0-2 .9-2 2v14c0 1.1.9 2 2 2h14c1.1 0 2-.9 2-2V5c0-1.1-.9-2-2-2zM9 17H7v-7h2v7zm4 0h-2V7h2v10zm4 0h-2v-4h2v4z\"/>\n",
              "    </g>\n",
              "</svg>\n",
              "      </button>\n",
              "\n",
              "<style>\n",
              "  .colab-df-quickchart {\n",
              "      --bg-color: #E8F0FE;\n",
              "      --fill-color: #1967D2;\n",
              "      --hover-bg-color: #E2EBFA;\n",
              "      --hover-fill-color: #174EA6;\n",
              "      --disabled-fill-color: #AAA;\n",
              "      --disabled-bg-color: #DDD;\n",
              "  }\n",
              "\n",
              "  [theme=dark] .colab-df-quickchart {\n",
              "      --bg-color: #3B4455;\n",
              "      --fill-color: #D2E3FC;\n",
              "      --hover-bg-color: #434B5C;\n",
              "      --hover-fill-color: #FFFFFF;\n",
              "      --disabled-bg-color: #3B4455;\n",
              "      --disabled-fill-color: #666;\n",
              "  }\n",
              "\n",
              "  .colab-df-quickchart {\n",
              "    background-color: var(--bg-color);\n",
              "    border: none;\n",
              "    border-radius: 50%;\n",
              "    cursor: pointer;\n",
              "    display: none;\n",
              "    fill: var(--fill-color);\n",
              "    height: 32px;\n",
              "    padding: 0;\n",
              "    width: 32px;\n",
              "  }\n",
              "\n",
              "  .colab-df-quickchart:hover {\n",
              "    background-color: var(--hover-bg-color);\n",
              "    box-shadow: 0 1px 2px rgba(60, 64, 67, 0.3), 0 1px 3px 1px rgba(60, 64, 67, 0.15);\n",
              "    fill: var(--button-hover-fill-color);\n",
              "  }\n",
              "\n",
              "  .colab-df-quickchart-complete:disabled,\n",
              "  .colab-df-quickchart-complete:disabled:hover {\n",
              "    background-color: var(--disabled-bg-color);\n",
              "    fill: var(--disabled-fill-color);\n",
              "    box-shadow: none;\n",
              "  }\n",
              "\n",
              "  .colab-df-spinner {\n",
              "    border: 2px solid var(--fill-color);\n",
              "    border-color: transparent;\n",
              "    border-bottom-color: var(--fill-color);\n",
              "    animation:\n",
              "      spin 1s steps(1) infinite;\n",
              "  }\n",
              "\n",
              "  @keyframes spin {\n",
              "    0% {\n",
              "      border-color: transparent;\n",
              "      border-bottom-color: var(--fill-color);\n",
              "      border-left-color: var(--fill-color);\n",
              "    }\n",
              "    20% {\n",
              "      border-color: transparent;\n",
              "      border-left-color: var(--fill-color);\n",
              "      border-top-color: var(--fill-color);\n",
              "    }\n",
              "    30% {\n",
              "      border-color: transparent;\n",
              "      border-left-color: var(--fill-color);\n",
              "      border-top-color: var(--fill-color);\n",
              "      border-right-color: var(--fill-color);\n",
              "    }\n",
              "    40% {\n",
              "      border-color: transparent;\n",
              "      border-right-color: var(--fill-color);\n",
              "      border-top-color: var(--fill-color);\n",
              "    }\n",
              "    60% {\n",
              "      border-color: transparent;\n",
              "      border-right-color: var(--fill-color);\n",
              "    }\n",
              "    80% {\n",
              "      border-color: transparent;\n",
              "      border-right-color: var(--fill-color);\n",
              "      border-bottom-color: var(--fill-color);\n",
              "    }\n",
              "    90% {\n",
              "      border-color: transparent;\n",
              "      border-bottom-color: var(--fill-color);\n",
              "    }\n",
              "  }\n",
              "</style>\n",
              "\n",
              "      <script>\n",
              "        async function quickchart(key) {\n",
              "          const quickchartButtonEl =\n",
              "            document.querySelector('#' + key + ' button');\n",
              "          quickchartButtonEl.disabled = true;  // To prevent multiple clicks.\n",
              "          quickchartButtonEl.classList.add('colab-df-spinner');\n",
              "          try {\n",
              "            const charts = await google.colab.kernel.invokeFunction(\n",
              "                'suggestCharts', [key], {});\n",
              "          } catch (error) {\n",
              "            console.error('Error during call to suggestCharts:', error);\n",
              "          }\n",
              "          quickchartButtonEl.classList.remove('colab-df-spinner');\n",
              "          quickchartButtonEl.classList.add('colab-df-quickchart-complete');\n",
              "        }\n",
              "        (() => {\n",
              "          let quickchartButtonEl =\n",
              "            document.querySelector('#df-a5f66d50-d78c-4141-aa48-0b692f63e463 button');\n",
              "          quickchartButtonEl.style.display =\n",
              "            google.colab.kernel.accessAllowed ? 'block' : 'none';\n",
              "        })();\n",
              "      </script>\n",
              "    </div>\n",
              "\n",
              "    </div>\n",
              "  </div>\n"
            ],
            "application/vnd.google.colaboratory.intrinsic+json": {
              "type": "dataframe",
              "summary": "{\n  \"name\": \"display(df_final[['Total_Servicos', 'Churn']]\",\n  \"rows\": 5,\n  \"fields\": [\n    {\n      \"column\": \"customerID\",\n      \"properties\": {\n        \"dtype\": \"string\",\n        \"num_unique_values\": 5,\n        \"samples\": [\n          \"0003-MKNFE\",\n          \"0013-EXCHZ\",\n          \"0004-TLHLJ\"\n        ],\n        \"semantic_type\": \"\",\n        \"description\": \"\"\n      }\n    },\n    {\n      \"column\": \"Total_Servicos\",\n      \"properties\": {\n        \"dtype\": \"number\",\n        \"std\": 1,\n        \"min\": 2,\n        \"max\": 5,\n        \"num_unique_values\": 4,\n        \"samples\": [\n          3,\n          5,\n          4\n        ],\n        \"semantic_type\": \"\",\n        \"description\": \"\"\n      }\n    },\n    {\n      \"column\": \"Churn\",\n      \"properties\": {\n        \"dtype\": \"number\",\n        \"std\": 0,\n        \"min\": 0,\n        \"max\": 1,\n        \"num_unique_values\": 2,\n        \"samples\": [\n          1,\n          0\n        ],\n        \"semantic_type\": \"\",\n        \"description\": \"\"\n      }\n    }\n  ]\n}"
            }
          },
          "metadata": {}
        }
      ]
    },
    {
      "cell_type": "markdown",
      "source": [
        " Taxa de Churn por Tipo de Contrato"
      ],
      "metadata": {
        "id": "5rPKZpR_VWhT"
      }
    },
    {
      "cell_type": "code",
      "source": [
        "# Para esta visualização, precisamos agregar nossos dados de contrato para tornar o gráfico legível.\n",
        "# Primeiro, vamos identificar as linhas de cada tipo de contrato.\n",
        "# Nota: Como não usamos drop_first=True, temos uma coluna para cada tipo de contrato.\n",
        "df_contrato_churn_list = []\n",
        "for contrato_col in ['Contrato_Mensal', 'Contrato_UmAno', 'Contrato_DoisAnos']:\n",
        "    # Filtra o dataframe para cada tipo de contrato\n",
        "    df_temp = df_final[df_final[contrato_col] == 1]\n",
        "    # Calcula a taxa de churn para esse subconjunto\n",
        "    taxa_churn = df_temp['Churn'].mean() * 100\n",
        "    # Adiciona à nossa lista de resultados\n",
        "    df_contrato_churn_list.append({'Tipo_Contrato': contrato_col.replace('Contrato_', ''), 'Taxa_Churn_%': taxa_churn})\n",
        "\n",
        "# Cria um novo dataframe com os resultados agregados\n",
        "df_contrato_plot = pd.DataFrame(df_contrato_churn_list)\n",
        "\n",
        "\n",
        "# --- Agora, criamos o gráfico corrigido ---\n",
        "plt.figure(figsize=(10, 7))\n",
        "\n",
        "# Passamos a coluna 'Tipo_Contrato' para x e hue para que a paleta seja aplicada corretamente\n",
        "ax = sns.barplot(x='Tipo_Contrato', y='Taxa_Churn_%', data=df_contrato_plot,\n",
        "                 palette=['#d9534f', '#ffad33', '#5cb85c'], hue='Tipo_Contrato', legend=False,\n",
        "                 order=['Mensal', 'UmAno', 'DoisAnos']) # Garante a ordem correta das barras\n",
        "\n",
        "\n",
        "plt.title('Taxa de Churn por Tipo de Contrato', fontsize=16)\n",
        "plt.xlabel('Tipo de Contrato', fontsize=12)\n",
        "plt.ylabel('Taxa de Churn (%)', fontsize=12)\n",
        "\n",
        "# Adicionando os valores percentuais\n",
        "for p in ax.patches:\n",
        "    ax.annotate(f'{p.get_height():.2f}%', (p.get_x() + p.get_width() / 2., p.get_height()),\n",
        "                ha='center', va='center', fontsize=12, color='black', xytext=(0, 10),\n",
        "                textcoords='offset points')\n",
        "\n",
        "plt.show()"
      ],
      "metadata": {
        "colab": {
          "base_uri": "https://localhost:8080/",
          "height": 0
        },
        "id": "PR9gqNN2VW8B",
        "outputId": "3ba238f7-bbbf-409c-eec0-37cba48ca340"
      },
      "execution_count": 39,
      "outputs": [
        {
          "output_type": "display_data",
          "data": {
            "text/plain": [
              "<Figure size 1000x700 with 1 Axes>"
            ],
            "image/png": "[encoded data removed]"
          },
          "metadata": {}
        }
      ]
    },
    {
      "cell_type": "markdown",
      "source": [
        "Taxa de Churn por Total de Serviços Contratados"
      ],
      "metadata": {
        "id": "5i5216xQVcSc"
      }
    },
    {
      "cell_type": "code",
      "source": [
        "# Calculando a taxa média de churn por total de serviços\n",
        "df_servicos_churn = df_final.groupby('Total_Servicos')['Churn'].mean().mul(100).reset_index(name='Taxa_Churn_%')\n",
        "\n",
        "plt.figure(figsize=(12, 7))\n",
        "ax = sns.barplot(x='Total_Servicos', y='Taxa_Churn_%', data=df_servicos_churn, color='steelblue')\n",
        "\n",
        "plt.title('Taxa de Churn por Número de Serviços Contratados', fontsize=16)\n",
        "plt.xlabel('Número de Serviços', fontsize=12)\n",
        "plt.ylabel('Taxa de Churn (%)', fontsize=12)\n",
        "\n",
        "# Adicionando os valores percentuais\n",
        "for p in ax.patches:\n",
        "    ax.annotate(f'{p.get_height():.2f}%', (p.get_x() + p.get_width() / 2., p.get_height()),\n",
        "                ha='center', va='center', fontsize=11, color='black', xytext=(0, 5),\n",
        "                textcoords='offset points')\n",
        "\n",
        "plt.show()"
      ],
      "metadata": {
        "colab": {
          "base_uri": "https://localhost:8080/",
          "height": 0
        },
        "id": "e-cJQWTsVcro",
        "outputId": "88762a9a-f0ee-4241-bd97-38718243b9ef"
      },
      "execution_count": 40,
      "outputs": [
        {
          "output_type": "display_data",
          "data": {
            "text/plain": [
              "<Figure size 1200x700 with 1 Axes>"
            ],
            "image/png": "[encoded data removed]"
          },
          "metadata": {}
        }
      ]
    },
    {
      "cell_type": "markdown",
      "source": [
        "Este gráfico nos dará uma visão clara de como a lealdade do cliente muda à medida que ele contrata mais serviços. Como você já descobriu, a taxa de churn tende a ser muito alta para clientes com poucos serviços e diminui drasticamente para aqueles que estão mais integrados ao ecossistema da TelecomX."
      ],
      "metadata": {
        "id": "Lfkk5VFmV_X4"
      }
    },
    {
      "cell_type": "markdown",
      "source": [
        "Matriz de Correlação com o Churn"
      ],
      "metadata": {
        "id": "0gAgsg0dViGg"
      }
    },
    {
      "cell_type": "code",
      "source": [
        "plt.figure(figsize=(10, 12))\n",
        "\n",
        "# Criando um heatmap focado apenas nas correlações com a variável 'Churn'\n",
        "# Isso nos dá uma visão limpa e direta dos fatores mais importantes.\n",
        "# Usamos .corr()[['Churn']] para calcular a correlação de todas as colunas com 'Churn'\n",
        "# e .sort_values() para ordenar da mais forte (positiva) para a mais fraca (negativa).\n",
        "heatmap = sns.heatmap(\n",
        "    df_final.corr()[['Churn']].sort_values(by='Churn', ascending=False),\n",
        "    vmin=-1,\n",
        "    vmax=1,\n",
        "    annot=True,  # Mostra os valores de correlação no gráfico\n",
        "    cmap='coolwarm' # Um bom mapa de cores para ver positivo vs. negativo\n",
        ")\n",
        "\n",
        "plt.title('Variáveis Correlacionadas com o Churn', fontsize=18)\n",
        "plt.show()"
      ],
      "metadata": {
        "colab": {
          "base_uri": "https://localhost:8080/",
          "height": 0
        },
        "id": "lQbRAiGLVhVD",
        "outputId": "59731b57-88b3-4b21-ac6e-3910f9a271c7"
      },
      "execution_count": 41,
      "outputs": [
        {
          "output_type": "display_data",
          "data": {
            "text/plain": [
              "<Figure size 1000x1200 with 2 Axes>"
            ],
            "image/png": "[encoded data removed]"
          },
          "metadata": {}
        }
      ]
    },
    {
      "cell_type": "markdown",
      "source": [
        "Análise do Gráfico:\n",
        "Este gráfico nos dará uma \"classificação\" visual das nossas variáveis. Você verá no topo, com cores quentes (vermelho), as variáveis com a correlação mais positiva com o Churn, como Contrato_Mensal. Na parte inferior, com cores frias (azul), estarão as variáveis com a correlação mais negativa, como Meses_Contrato. Isso confirma numericamente todas as descobertas que fizemos com os gráficos de barras e box plots."
      ],
      "metadata": {
        "id": "2hWPPRtdWM3a"
      }
    },
    {
      "cell_type": "markdown",
      "metadata": {
        "id": "v-WzfSvTmaw9"
      },
      "source": [
        "#📄Relatorio Final"
      ]
    },
    {
      "cell_type": "markdown",
      "source": [
        "## 1. Sumário Executivo\n",
        "\n",
        "Este relatório apresenta uma análise detalhada sobre os fatores que influenciam o cancelamento de serviços (Churn) por parte dos clientes da TelecomX. Após um processo rigoroso de Extração, Transformação e Carga (ETL), a Análise Exploratória de Dados (EDA) revelou um perfil claro e consistente de clientes com alto risco de cancelamento. As recomendações a seguir visam orientar ações estratégicas para mitigar esses riscos e aumentar a retenção de clientes, preparando o terreno para a criação de modelos preditivos pela equipe de Data Science.\n",
        "\n",
        "---\n",
        "\n",
        "## 2. Principais Descobertas e Perfil de Risco\n",
        "\n",
        "Nossa análise identificou um conjunto de características que, combinadas, definem o cliente com maior probabilidade de Churn. A taxa de Churn geral da empresa é de aproximadamente **26,54%**. Os principais fatores de risco são:\n",
        "\n",
        "* **Tipo de Contrato:** O contrato **Mensal** é, de longe, o maior indicador de risco, com uma taxa de Churn de **42,71%**. Clientes sem um compromisso de longo prazo são significativamente mais voláteis.\n",
        "* **Tempo de Contrato (Tenure):** Clientes **novos**, com poucos meses de serviço, estão em uma \"zona de perigo\" e cancelam com muito mais frequência do que clientes com mais tempo de casa.\n",
        "* **Gasto Mensal:** Contas com um **valor mensal mais alto** estão associadas a uma maior taxa de Churn, sugerindo uma forte sensibilidade ao preço.\n",
        "* **Serviço de Internet:** De forma contraintuitiva, clientes que assinam o serviço de **Fibra Ótica** apresentam uma taxa de cancelamento muito maior do que aqueles com DSL, indicando um possível problema na oferta (preço, qualidade percebida ou suporte).\n",
        "\n",
        "---\n",
        "\n",
        "## 3. Fatores de Proteção Identificados\n",
        "\n",
        "Em contrapartida, a análise também revelou características de clientes com alta taxa de retenção:\n",
        "\n",
        "* **Contratos de Longo Prazo:** Clientes com contratos de **1 ou 2 anos** são extremamente leais. A taxa de churn para contratos de 2 anos é de apenas **2,83%**.\n",
        "* **Engajamento com Múltiplos Serviços:** Clientes que contratam mais serviços adicionais (como **Suporte Técnico**, Segurança Online e Backup) são mais engajados e cancelam menos. A taxa de churn cai para **5,29%** para clientes com 8 serviços.\n",
        "\n",
        "---\n",
        "\n",
        "## 4. Recomendações Estratégicas\n",
        "\n",
        "Com base nas evidências, recomendamos as seguintes ações para a TelecomX:\n",
        "\n",
        "1.  **Foco na Migração de Contratos:** Criar campanhas ativas para incentivar clientes de planos mensais a migrarem para contratos anuais ou de dois anos, oferecendo descontos ou benefícios exclusivos. O custo da oferta será muito menor do que o custo de adquirir um novo cliente.\n",
        "2.  **Programa de Onboarding para Novos Clientes:** Desenvolver um programa de \"boas-vindas\" focado nos primeiros 90 dias do cliente. O objetivo é garantir uma experiência inicial positiva, oferecer suporte proativo e demonstrar o valor dos serviços para diminuir o Churn inicial.\n",
        "3.  **Investigar a Oferta de Fibra Ótica:** Realizar uma análise aprofundada sobre a jornada do cliente de Fibra Ótica. O problema é o preço, a estabilidade da conexão, o processo de instalação ou o suporte? Uma pesquisa de satisfação focada nesses clientes pode revelar a causa raiz do alto churn.\n",
        "4.  **Incentivar o Cross-sell de Serviços de Valor Agregado:** Promover pacotes e combos que incluam serviços de Suporte Técnico, Segurança e Backup, especialmente para clientes com 1 a 4 serviços, que estão na \"zona de perigo\" de churn."
      ],
      "metadata": {
        "id": "scwhtFKaR_WA"
      }
    }
  ],
  "metadata": {
    "colab": {
      "provenance": [],
      "toc_visible": true,
      "include_colab_link": true
    },
    "kernelspec": {
      "display_name": "Python 3",
      "name": "python3"
    },
    "language_info": {
      "name": "python"
    }
  },
  "nbformat": 4,
  "nbformat_minor": 0
}