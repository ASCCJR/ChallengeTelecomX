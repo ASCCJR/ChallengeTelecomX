{
  "cells": [
    {
      "cell_type": "markdown",
      "metadata": {
        "id": "view-in-github",
        "colab_type": "text"
      },
      "source": [
        "<a href=\"https://colab.research.google.com/github/ASCCJR/ChallengeTelecomX/blob/main/TelecomX_BR.ipynb\" target=\"_parent\"><img src=\"https://colab.research.google.com/assets/colab-badge.svg\" alt=\"Open In Colab\"/></a>"
      ]
    },
    {
      "cell_type": "markdown",
      "metadata": {
        "id": "4foVEKhrlqcH"
      },
      "source": [
        "# 📌 Extração de Dados\n",
        "\n",
        "Esta seção é dedicada à extração e carregamento dos dados brutos em um DataFrame do Pandas."
      ]
    },
    {
      "cell_type": "code",
      "source": [
        "# Importa as bibliotecas necessárias\n",
        "import pandas as pd\n",
        "import json\n",
        "import requests\n",
        "\n",
        "# Define a URL RAW do arquivo JSON no GitHub\n",
        "json_url = 'https://raw.githubusercontent.com/alura-cursos/challenge2-data-science/main/TelecomX_Data.json'\n",
        "\n",
        "print(f\"\\nCarregando dados da URL: {json_url}\")\n",
        "try:\n",
        "    # Faz a requisição HTTP para a URL\n",
        "    response = requests.get(json_url)\n",
        "    response.raise_for_status() # Lança um erro para status HTTP 4xx/5xx\n",
        "\n",
        "    # Carrega o conteúdo JSON da resposta\n",
        "    dados_json = json.loads(response.text)\n",
        "    print(\"Arquivo JSON carregado via URL.\")\n",
        "\n",
        "    # Converte os dados JSON em um DataFrame do Pandas.\n",
        "    dados_brutos = pd.DataFrame(dados_json)\n",
        "    print(\"DataFrame inicial criado.\")\n",
        "\n",
        "    # Validação básica: verificar se as colunas esperadas estão presentes\n",
        "    colunas_esperadas = ['customerID', 'Churn', 'customer', 'phone', 'internet', 'account']\n",
        "    missing_columns = [col for col in colunas_esperadas if col not in dados_brutos.columns]\n",
        "\n",
        "    if missing_columns:\n",
        "        print(f\"AVISO: As seguintes colunas esperadas não foram encontradas: {', '.join(missing_columns)}\")\n",
        "        print(\"Isso pode indicar um problema na estrutura do arquivo JSON na URL.\")\n",
        "    else:\n",
        "        print(\"Todas as colunas esperadas foram encontradas.\")\n",
        "\n",
        "    # Exibe as primeiras linhas para verificar a estrutura dos dados.\n",
        "    print(\"\\nVisualizando as 5 primeiras linhas:\")\n",
        "    display(dados_brutos.head())\n",
        "\n",
        "except requests.exceptions.RequestException as e:\n",
        "    print(f\"ERRO de requisição HTTP: {e}. Verifique a URL ou sua conexão com a internet.\")\n",
        "except json.JSONDecodeError:\n",
        "    print(f\"ERRO: O conteúdo da URL '{json_url}' está corrompido ou não é um JSON válido.\")\n",
        "except Exception as e:\n",
        "    print(f\"Ocorreu um erro ao carregar o arquivo: {e}\")"
      ],
      "metadata": {
        "colab": {
          "base_uri": "https://localhost:8080/",
          "height": 0
        },
        "id": "g8293VZs9DK5",
        "outputId": "d8d668d1-7148-4fdf-8d38-0aaac03ade92"
      },
      "execution_count": 1,
      "outputs": [
        {
          "output_type": "stream",
          "name": "stdout",
          "text": [
            "\n",
            "Carregando dados da URL: https://raw.githubusercontent.com/alura-cursos/challenge2-data-science/main/TelecomX_Data.json\n",
            "Arquivo JSON carregado via URL.\n",
            "DataFrame inicial criado.\n",
            "Todas as colunas esperadas foram encontradas.\n",
            "\n",
            "Visualizando as 5 primeiras linhas:\n"
          ]
        },
        {
          "output_type": "display_data",
          "data": {
            "text/plain": [
              "   customerID Churn                                           customer  \\\n",
              "0  0002-ORFBO    No  {'gender': 'Female', 'SeniorCitizen': 0, 'Part...   \n",
              "1  0003-MKNFE    No  {'gender': 'Male', 'SeniorCitizen': 0, 'Partne...   \n",
              "2  0004-TLHLJ   Yes  {'gender': 'Male', 'SeniorCitizen': 0, 'Partne...   \n",
              "3  0011-IGKFF   Yes  {'gender': 'Male', 'SeniorCitizen': 1, 'Partne...   \n",
              "4  0013-EXCHZ   Yes  {'gender': 'Female', 'SeniorCitizen': 1, 'Part...   \n",
              "\n",
              "                                             phone  \\\n",
              "0   {'PhoneService': 'Yes', 'MultipleLines': 'No'}   \n",
              "1  {'PhoneService': 'Yes', 'MultipleLines': 'Yes'}   \n",
              "2   {'PhoneService': 'Yes', 'MultipleLines': 'No'}   \n",
              "3   {'PhoneService': 'Yes', 'MultipleLines': 'No'}   \n",
              "4   {'PhoneService': 'Yes', 'MultipleLines': 'No'}   \n",
              "\n",
              "                                            internet  \\\n",
              "0  {'InternetService': 'DSL', 'OnlineSecurity': '...   \n",
              "1  {'InternetService': 'DSL', 'OnlineSecurity': '...   \n",
              "2  {'InternetService': 'Fiber optic', 'OnlineSecu...   \n",
              "3  {'InternetService': 'Fiber optic', 'OnlineSecu...   \n",
              "4  {'InternetService': 'Fiber optic', 'OnlineSecu...   \n",
              "\n",
              "                                             account  \n",
              "0  {'Contract': 'One year', 'PaperlessBilling': '...  \n",
              "1  {'Contract': 'Month-to-month', 'PaperlessBilli...  \n",
              "2  {'Contract': 'Month-to-month', 'PaperlessBilli...  \n",
              "3  {'Contract': 'Month-to-month', 'PaperlessBilli...  \n",
              "4  {'Contract': 'Month-to-month', 'PaperlessBilli...  "
            ],
            "text/html": [
              "\n",
              "  <div id=\"df-f6d45ca3-3fd4-4d33-98f1-47da24bbd6ef\" class=\"colab-df-container\">\n",
              "    <div>\n",
              "<style scoped>\n",
              "    .dataframe tbody tr th:only-of-type {\n",
              "        vertical-align: middle;\n",
              "    }\n",
              "\n",
              "    .dataframe tbody tr th {\n",
              "        vertical-align: top;\n",
              "    }\n",
              "\n",
              "    .dataframe thead th {\n",
              "        text-align: right;\n",
              "    }\n",
              "</style>\n",
              "<table border=\"1\" class=\"dataframe\">\n",
              "  <thead>\n",
              "    <tr style=\"text-align: right;\">\n",
              "      <th></th>\n",
              "      <th>customerID</th>\n",
              "      <th>Churn</th>\n",
              "      <th>customer</th>\n",
              "      <th>phone</th>\n",
              "      <th>internet</th>\n",
              "      <th>account</th>\n",
              "    </tr>\n",
              "  </thead>\n",
              "  <tbody>\n",
              "    <tr>\n",
              "      <th>0</th>\n",
              "      <td>0002-ORFBO</td>\n",
              "      <td>No</td>\n",
              "      <td>{'gender': 'Female', 'SeniorCitizen': 0, 'Part...</td>\n",
              "      <td>{'PhoneService': 'Yes', 'MultipleLines': 'No'}</td>\n",
              "      <td>{'InternetService': 'DSL', 'OnlineSecurity': '...</td>\n",
              "      <td>{'Contract': 'One year', 'PaperlessBilling': '...</td>\n",
              "    </tr>\n",
              "    <tr>\n",
              "      <th>1</th>\n",
              "      <td>0003-MKNFE</td>\n",
              "      <td>No</td>\n",
              "      <td>{'gender': 'Male', 'SeniorCitizen': 0, 'Partne...</td>\n",
              "      <td>{'PhoneService': 'Yes', 'MultipleLines': 'Yes'}</td>\n",
              "      <td>{'InternetService': 'DSL', 'OnlineSecurity': '...</td>\n",
              "      <td>{'Contract': 'Month-to-month', 'PaperlessBilli...</td>\n",
              "    </tr>\n",
              "    <tr>\n",
              "      <th>2</th>\n",
              "      <td>0004-TLHLJ</td>\n",
              "      <td>Yes</td>\n",
              "      <td>{'gender': 'Male', 'SeniorCitizen': 0, 'Partne...</td>\n",
              "      <td>{'PhoneService': 'Yes', 'MultipleLines': 'No'}</td>\n",
              "      <td>{'InternetService': 'Fiber optic', 'OnlineSecu...</td>\n",
              "      <td>{'Contract': 'Month-to-month', 'PaperlessBilli...</td>\n",
              "    </tr>\n",
              "    <tr>\n",
              "      <th>3</th>\n",
              "      <td>0011-IGKFF</td>\n",
              "      <td>Yes</td>\n",
              "      <td>{'gender': 'Male', 'SeniorCitizen': 1, 'Partne...</td>\n",
              "      <td>{'PhoneService': 'Yes', 'MultipleLines': 'No'}</td>\n",
              "      <td>{'InternetService': 'Fiber optic', 'OnlineSecu...</td>\n",
              "      <td>{'Contract': 'Month-to-month', 'PaperlessBilli...</td>\n",
              "    </tr>\n",
              "    <tr>\n",
              "      <th>4</th>\n",
              "      <td>0013-EXCHZ</td>\n",
              "      <td>Yes</td>\n",
              "      <td>{'gender': 'Female', 'SeniorCitizen': 1, 'Part...</td>\n",
              "      <td>{'PhoneService': 'Yes', 'MultipleLines': 'No'}</td>\n",
              "      <td>{'InternetService': 'Fiber optic', 'OnlineSecu...</td>\n",
              "      <td>{'Contract': 'Month-to-month', 'PaperlessBilli...</td>\n",
              "    </tr>\n",
              "  </tbody>\n",
              "</table>\n",
              "</div>\n",
              "    <div class=\"colab-df-buttons\">\n",
              "\n",
              "  <div class=\"colab-df-container\">\n",
              "    <button class=\"colab-df-convert\" onclick=\"convertToInteractive('df-f6d45ca3-3fd4-4d33-98f1-47da24bbd6ef')\"\n",
              "            title=\"Convert this dataframe to an interactive table.\"\n",
              "            style=\"display:none;\">\n",
              "\n",
              "  <svg xmlns=\"http://www.w3.org/2000/svg\" height=\"24px\" viewBox=\"0 -960 960 960\">\n",
              "    <path d=\"M120-120v-720h720v720H120Zm60-500h600v-160H180v160Zm220 220h160v-160H400v160Zm0 220h160v-160H400v160ZM180-400h160v-160H180v160Zm440 0h160v-160H620v160ZM180-180h160v-160H180v160Zm440 0h160v-160H620v160Z\"/>\n",
              "  </svg>\n",
              "    </button>\n",
              "\n",
              "  <style>\n",
              "    .colab-df-container {\n",
              "      display:flex;\n",
              "      gap: 12px;\n",
              "    }\n",
              "\n",
              "    .colab-df-convert {\n",
              "      background-color: #E8F0FE;\n",
              "      border: none;\n",
              "      border-radius: 50%;\n",
              "      cursor: pointer;\n",
              "      display: none;\n",
              "      fill: #1967D2;\n",
              "      height: 32px;\n",
              "      padding: 0 0 0 0;\n",
              "      width: 32px;\n",
              "    }\n",
              "\n",
              "    .colab-df-convert:hover {\n",
              "      background-color: #E2EBFA;\n",
              "      box-shadow: 0px 1px 2px rgba(60, 64, 67, 0.3), 0px 1px 3px 1px rgba(60, 64, 67, 0.15);\n",
              "      fill: #174EA6;\n",
              "    }\n",
              "\n",
              "    .colab-df-buttons div {\n",
              "      margin-bottom: 4px;\n",
              "    }\n",
              "\n",
              "    [theme=dark] .colab-df-convert {\n",
              "      background-color: #3B4455;\n",
              "      fill: #D2E3FC;\n",
              "    }\n",
              "\n",
              "    [theme=dark] .colab-df-convert:hover {\n",
              "      background-color: #434B5C;\n",
              "      box-shadow: 0px 1px 3px 1px rgba(0, 0, 0, 0.15);\n",
              "      filter: drop-shadow(0px 1px 2px rgba(0, 0, 0, 0.3));\n",
              "      fill: #FFFFFF;\n",
              "    }\n",
              "  </style>\n",
              "\n",
              "    <script>\n",
              "      const buttonEl =\n",
              "        document.querySelector('#df-f6d45ca3-3fd4-4d33-98f1-47da24bbd6ef button.colab-df-convert');\n",
              "      buttonEl.style.display =\n",
              "        google.colab.kernel.accessAllowed ? 'block' : 'none';\n",
              "\n",
              "      async function convertToInteractive(key) {\n",
              "        const element = document.querySelector('#df-f6d45ca3-3fd4-4d33-98f1-47da24bbd6ef');\n",
              "        const dataTable =\n",
              "          await google.colab.kernel.invokeFunction('convertToInteractive',\n",
              "                                                    [key], {});\n",
              "        if (!dataTable) return;\n",
              "\n",
              "        const docLinkHtml = 'Like what you see? Visit the ' +\n",
              "          '<a target=\"_blank\" href=https://colab.research.google.com/notebooks/data_table.ipynb>data table notebook</a>'\n",
              "          + ' to learn more about interactive tables.';\n",
              "        element.innerHTML = '';\n",
              "        dataTable['output_type'] = 'display_data';\n",
              "        await google.colab.output.renderOutput(dataTable, element);\n",
              "        const docLink = document.createElement('div');\n",
              "        docLink.innerHTML = docLinkHtml;\n",
              "        element.appendChild(docLink);\n",
              "      }\n",
              "    </script>\n",
              "  </div>\n",
              "\n",
              "\n",
              "    <div id=\"df-b9fc6f53-b774-4bc9-ae00-fa074c5fd12a\">\n",
              "      <button class=\"colab-df-quickchart\" onclick=\"quickchart('df-b9fc6f53-b774-4bc9-ae00-fa074c5fd12a')\"\n",
              "                title=\"Suggest charts\"\n",
              "                style=\"display:none;\">\n",
              "\n",
              "<svg xmlns=\"http://www.w3.org/2000/svg\" height=\"24px\"viewBox=\"0 0 24 24\"\n",
              "     width=\"24px\">\n",
              "    <g>\n",
              "        <path d=\"M19 3H5c-1.1 0-2 .9-2 2v14c0 1.1.9 2 2 2h14c1.1 0 2-.9 2-2V5c0-1.1-.9-2-2-2zM9 17H7v-7h2v7zm4 0h-2V7h2v10zm4 0h-2v-4h2v4z\"/>\n",
              "    </g>\n",
              "</svg>\n",
              "      </button>\n",
              "\n",
              "<style>\n",
              "  .colab-df-quickchart {\n",
              "      --bg-color: #E8F0FE;\n",
              "      --fill-color: #1967D2;\n",
              "      --hover-bg-color: #E2EBFA;\n",
              "      --hover-fill-color: #174EA6;\n",
              "      --disabled-fill-color: #AAA;\n",
              "      --disabled-bg-color: #DDD;\n",
              "  }\n",
              "\n",
              "  [theme=dark] .colab-df-quickchart {\n",
              "      --bg-color: #3B4455;\n",
              "      --fill-color: #D2E3FC;\n",
              "      --hover-bg-color: #434B5C;\n",
              "      --hover-fill-color: #FFFFFF;\n",
              "      --disabled-bg-color: #3B4455;\n",
              "      --disabled-fill-color: #666;\n",
              "  }\n",
              "\n",
              "  .colab-df-quickchart {\n",
              "    background-color: var(--bg-color);\n",
              "    border: none;\n",
              "    border-radius: 50%;\n",
              "    cursor: pointer;\n",
              "    display: none;\n",
              "    fill: var(--fill-color);\n",
              "    height: 32px;\n",
              "    padding: 0;\n",
              "    width: 32px;\n",
              "  }\n",
              "\n",
              "  .colab-df-quickchart:hover {\n",
              "    background-color: var(--hover-bg-color);\n",
              "    box-shadow: 0 1px 2px rgba(60, 64, 67, 0.3), 0 1px 3px 1px rgba(60, 64, 67, 0.15);\n",
              "    fill: var(--button-hover-fill-color);\n",
              "  }\n",
              "\n",
              "  .colab-df-quickchart-complete:disabled,\n",
              "  .colab-df-quickchart-complete:disabled:hover {\n",
              "    background-color: var(--disabled-bg-color);\n",
              "    fill: var(--disabled-fill-color);\n",
              "    box-shadow: none;\n",
              "  }\n",
              "\n",
              "  .colab-df-spinner {\n",
              "    border: 2px solid var(--fill-color);\n",
              "    border-color: transparent;\n",
              "    border-bottom-color: var(--fill-color);\n",
              "    animation:\n",
              "      spin 1s steps(1) infinite;\n",
              "  }\n",
              "\n",
              "  @keyframes spin {\n",
              "    0% {\n",
              "      border-color: transparent;\n",
              "      border-bottom-color: var(--fill-color);\n",
              "      border-left-color: var(--fill-color);\n",
              "    }\n",
              "    20% {\n",
              "      border-color: transparent;\n",
              "      border-left-color: var(--fill-color);\n",
              "      border-top-color: var(--fill-color);\n",
              "    }\n",
              "    30% {\n",
              "      border-color: transparent;\n",
              "      border-left-color: var(--fill-color);\n",
              "      border-top-color: var(--fill-color);\n",
              "      border-right-color: var(--fill-color);\n",
              "    }\n",
              "    40% {\n",
              "      border-color: transparent;\n",
              "      border-right-color: var(--fill-color);\n",
              "      border-top-color: var(--fill-color);\n",
              "    }\n",
              "    60% {\n",
              "      border-color: transparent;\n",
              "      border-right-color: var(--fill-color);\n",
              "    }\n",
              "    80% {\n",
              "      border-color: transparent;\n",
              "      border-right-color: var(--fill-color);\n",
              "      border-bottom-color: var(--fill-color);\n",
              "    }\n",
              "    90% {\n",
              "      border-color: transparent;\n",
              "      border-bottom-color: var(--fill-color);\n",
              "    }\n",
              "  }\n",
              "</style>\n",
              "\n",
              "      <script>\n",
              "        async function quickchart(key) {\n",
              "          const quickchartButtonEl =\n",
              "            document.querySelector('#' + key + ' button');\n",
              "          quickchartButtonEl.disabled = true;  // To prevent multiple clicks.\n",
              "          quickchartButtonEl.classList.add('colab-df-spinner');\n",
              "          try {\n",
              "            const charts = await google.colab.kernel.invokeFunction(\n",
              "                'suggestCharts', [key], {});\n",
              "          } catch (error) {\n",
              "            console.error('Error during call to suggestCharts:', error);\n",
              "          }\n",
              "          quickchartButtonEl.classList.remove('colab-df-spinner');\n",
              "          quickchartButtonEl.classList.add('colab-df-quickchart-complete');\n",
              "        }\n",
              "        (() => {\n",
              "          let quickchartButtonEl =\n",
              "            document.querySelector('#df-b9fc6f53-b774-4bc9-ae00-fa074c5fd12a button');\n",
              "          quickchartButtonEl.style.display =\n",
              "            google.colab.kernel.accessAllowed ? 'block' : 'none';\n",
              "        })();\n",
              "      </script>\n",
              "    </div>\n",
              "\n",
              "    </div>\n",
              "  </div>\n"
            ],
            "application/vnd.google.colaboratory.intrinsic+json": {
              "type": "dataframe",
              "summary": "{\n  \"name\": \"    print(f\\\"Ocorreu um erro ao carregar o arquivo: {e}\\\")\",\n  \"rows\": 5,\n  \"fields\": [\n    {\n      \"column\": \"customerID\",\n      \"properties\": {\n        \"dtype\": \"string\",\n        \"num_unique_values\": 5,\n        \"samples\": [\n          \"0003-MKNFE\",\n          \"0013-EXCHZ\",\n          \"0004-TLHLJ\"\n        ],\n        \"semantic_type\": \"\",\n        \"description\": \"\"\n      }\n    },\n    {\n      \"column\": \"Churn\",\n      \"properties\": {\n        \"dtype\": \"category\",\n        \"num_unique_values\": 2,\n        \"samples\": [\n          \"Yes\",\n          \"No\"\n        ],\n        \"semantic_type\": \"\",\n        \"description\": \"\"\n      }\n    },\n    {\n      \"column\": \"customer\",\n      \"properties\": {\n        \"dtype\": \"object\",\n        \"semantic_type\": \"\",\n        \"description\": \"\"\n      }\n    },\n    {\n      \"column\": \"phone\",\n      \"properties\": {\n        \"dtype\": \"object\",\n        \"semantic_type\": \"\",\n        \"description\": \"\"\n      }\n    },\n    {\n      \"column\": \"internet\",\n      \"properties\": {\n        \"dtype\": \"object\",\n        \"semantic_type\": \"\",\n        \"description\": \"\"\n      }\n    },\n    {\n      \"column\": \"account\",\n      \"properties\": {\n        \"dtype\": \"object\",\n        \"semantic_type\": \"\",\n        \"description\": \"\"\n      }\n    }\n  ]\n}"
            }
          },
          "metadata": {}
        }
      ]
    },
    {
      "cell_type": "markdown",
      "source": [
        "**Comentario**\n",
        "\n",
        "Ao olhar para o `head()` acima, a primeira coisa que notamos é que as colunas customer, phone, internet, e account não contêm valores simples como 'Yes' e 'No' ou '0' e '1'. Elas contêm dicionários (dados dentro de dados). Isso torna a análise direta impossível.\n",
        "\n",
        "Nosso primeiro desafio é \"desempacotar\" ou \"achatar\" essas colunas. Uma ferramenta excelente para isso é o pandas.json_normalize."
      ],
      "metadata": {
        "id": "Ewl8uoImzKVa"
      }
    },
    {
      "cell_type": "markdown",
      "metadata": {
        "id": "1lSZP8zmmGZu"
      },
      "source": [
        "# 🔧 Transformação de Dados\n",
        "\n",
        "Nesta etapa, os dados brutos são processados e transformados para um formato adequado para análise e modelagem. Isso inclui a normalização de estruturas aninhadas, tratamento de valores ausentes e conversão de tipos de dados."
      ]
    },
    {
      "cell_type": "markdown",
      "source": [
        "* `customerID`: número de identificação único de cada cliente\n",
        "* `Churn`: se o cliente deixou ou não a empresa\n",
        "* `gender`: gênero (masculino e feminino)\n",
        "* `SeniorCitizen`: informação sobre um cliente ter ou não idade igual ou maior que 65 anos\n",
        "* `Partner`:  se o cliente possui ou não um parceiro ou parceira\n",
        "* `Dependents`: se o cliente possui ou não dependentes\n",
        "* `tenure`:  meses de contrato do cliente\n",
        "* `PhoneService`: assinatura de serviço telefônico\n",
        "* `MultipleLines`: assisnatura de mais de uma linha de telefone\n",
        "* `InternetService`: assinatura de um provedor internet\n",
        "* `OnlineSecurity`: assinatura adicional de segurança online\n",
        "* `OnlineBackup`: assinatura adicional de backup online\n",
        "* `DeviceProtection`: assinatura adicional de proteção no dispositivo\n",
        "* `TechSupport`: assinatura adicional de suporte técnico, menos tempo de espera\n",
        "* `StreamingTV`: assinatura de TV a cabo\n",
        "* `StreamingMovies`: assinatura de streaming de filmes\n",
        "* `Contract`: tipo de contrato\n",
        "* `PaperlessBilling`: se o cliente prefere receber online a fatura\n",
        "* `PaymentMethod`: forma de pagamento\n",
        "* `Charges.Monthly`: total de todos os serviços do cliente por mês\n",
        "* `Charges.Total`: total gasto pelo clienteEtapa 3: Normalização com json_normalize"
      ],
      "metadata": {
        "id": "2tcbRy9W2fTd"
      }
    },
    {
      "cell_type": "code",
      "source": [
        "# Normalização de Estruturas Aninhadas\n",
        "# Utiliza pd.json_normalize para  os dicionários aninhados das colunas 'customer', 'phone', 'internet' e 'account',\n",
        "# transformando suas chaves em novas colunas no DataFrame principal.\n",
        "dados_normalizados = pd.json_normalize(dados_json)\n",
        "display(dados_normalizados.head())"
      ],
      "metadata": {
        "colab": {
          "base_uri": "https://localhost:8080/",
          "height": 0
        },
        "id": "6QbuK9cu7g3N",
        "outputId": "59ab4f2e-bc10-4e60-fbba-64b45dc0cf76"
      },
      "execution_count": 2,
      "outputs": [
        {
          "output_type": "display_data",
          "data": {
            "text/plain": [
              "   customerID Churn customer.gender  customer.SeniorCitizen customer.Partner  \\\n",
              "0  0002-ORFBO    No          Female                       0              Yes   \n",
              "1  0003-MKNFE    No            Male                       0               No   \n",
              "2  0004-TLHLJ   Yes            Male                       0               No   \n",
              "3  0011-IGKFF   Yes            Male                       1              Yes   \n",
              "4  0013-EXCHZ   Yes          Female                       1              Yes   \n",
              "\n",
              "  customer.Dependents  customer.tenure phone.PhoneService phone.MultipleLines  \\\n",
              "0                 Yes                9                Yes                  No   \n",
              "1                  No                9                Yes                 Yes   \n",
              "2                  No                4                Yes                  No   \n",
              "3                  No               13                Yes                  No   \n",
              "4                  No                3                Yes                  No   \n",
              "\n",
              "  internet.InternetService  ... internet.OnlineBackup  \\\n",
              "0                      DSL  ...                   Yes   \n",
              "1                      DSL  ...                    No   \n",
              "2              Fiber optic  ...                    No   \n",
              "3              Fiber optic  ...                   Yes   \n",
              "4              Fiber optic  ...                    No   \n",
              "\n",
              "  internet.DeviceProtection internet.TechSupport internet.StreamingTV  \\\n",
              "0                        No                  Yes                  Yes   \n",
              "1                        No                   No                   No   \n",
              "2                       Yes                   No                   No   \n",
              "3                       Yes                   No                  Yes   \n",
              "4                        No                  Yes                  Yes   \n",
              "\n",
              "  internet.StreamingMovies account.Contract account.PaperlessBilling  \\\n",
              "0                       No         One year                      Yes   \n",
              "1                      Yes   Month-to-month                       No   \n",
              "2                       No   Month-to-month                      Yes   \n",
              "3                      Yes   Month-to-month                      Yes   \n",
              "4                       No   Month-to-month                      Yes   \n",
              "\n",
              "  account.PaymentMethod account.Charges.Monthly  account.Charges.Total  \n",
              "0          Mailed check                    65.6                  593.3  \n",
              "1          Mailed check                    59.9                  542.4  \n",
              "2      Electronic check                    73.9                 280.85  \n",
              "3      Electronic check                    98.0                1237.85  \n",
              "4          Mailed check                    83.9                  267.4  \n",
              "\n",
              "[5 rows x 21 columns]"
            ],
            "text/html": [
              "\n",
              "  <div id=\"df-766d3678-a3e2-4ebe-854b-00d1e5673b8f\" class=\"colab-df-container\">\n",
              "    <div>\n",
              "<style scoped>\n",
              "    .dataframe tbody tr th:only-of-type {\n",
              "        vertical-align: middle;\n",
              "    }\n",
              "\n",
              "    .dataframe tbody tr th {\n",
              "        vertical-align: top;\n",
              "    }\n",
              "\n",
              "    .dataframe thead th {\n",
              "        text-align: right;\n",
              "    }\n",
              "</style>\n",
              "<table border=\"1\" class=\"dataframe\">\n",
              "  <thead>\n",
              "    <tr style=\"text-align: right;\">\n",
              "      <th></th>\n",
              "      <th>customerID</th>\n",
              "      <th>Churn</th>\n",
              "      <th>customer.gender</th>\n",
              "      <th>customer.SeniorCitizen</th>\n",
              "      <th>customer.Partner</th>\n",
              "      <th>customer.Dependents</th>\n",
              "      <th>customer.tenure</th>\n",
              "      <th>phone.PhoneService</th>\n",
              "      <th>phone.MultipleLines</th>\n",
              "      <th>internet.InternetService</th>\n",
              "      <th>...</th>\n",
              "      <th>internet.OnlineBackup</th>\n",
              "      <th>internet.DeviceProtection</th>\n",
              "      <th>internet.TechSupport</th>\n",
              "      <th>internet.StreamingTV</th>\n",
              "      <th>internet.StreamingMovies</th>\n",
              "      <th>account.Contract</th>\n",
              "      <th>account.PaperlessBilling</th>\n",
              "      <th>account.PaymentMethod</th>\n",
              "      <th>account.Charges.Monthly</th>\n",
              "      <th>account.Charges.Total</th>\n",
              "    </tr>\n",
              "  </thead>\n",
              "  <tbody>\n",
              "    <tr>\n",
              "      <th>0</th>\n",
              "      <td>0002-ORFBO</td>\n",
              "      <td>No</td>\n",
              "      <td>Female</td>\n",
              "      <td>0</td>\n",
              "      <td>Yes</td>\n",
              "      <td>Yes</td>\n",
              "      <td>9</td>\n",
              "      <td>Yes</td>\n",
              "      <td>No</td>\n",
              "      <td>DSL</td>\n",
              "      <td>...</td>\n",
              "      <td>Yes</td>\n",
              "      <td>No</td>\n",
              "      <td>Yes</td>\n",
              "      <td>Yes</td>\n",
              "      <td>No</td>\n",
              "      <td>One year</td>\n",
              "      <td>Yes</td>\n",
              "      <td>Mailed check</td>\n",
              "      <td>65.6</td>\n",
              "      <td>593.3</td>\n",
              "    </tr>\n",
              "    <tr>\n",
              "      <th>1</th>\n",
              "      <td>0003-MKNFE</td>\n",
              "      <td>No</td>\n",
              "      <td>Male</td>\n",
              "      <td>0</td>\n",
              "      <td>No</td>\n",
              "      <td>No</td>\n",
              "      <td>9</td>\n",
              "      <td>Yes</td>\n",
              "      <td>Yes</td>\n",
              "      <td>DSL</td>\n",
              "      <td>...</td>\n",
              "      <td>No</td>\n",
              "      <td>No</td>\n",
              "      <td>No</td>\n",
              "      <td>No</td>\n",
              "      <td>Yes</td>\n",
              "      <td>Month-to-month</td>\n",
              "      <td>No</td>\n",
              "      <td>Mailed check</td>\n",
              "      <td>59.9</td>\n",
              "      <td>542.4</td>\n",
              "    </tr>\n",
              "    <tr>\n",
              "      <th>2</th>\n",
              "      <td>0004-TLHLJ</td>\n",
              "      <td>Yes</td>\n",
              "      <td>Male</td>\n",
              "      <td>0</td>\n",
              "      <td>No</td>\n",
              "      <td>No</td>\n",
              "      <td>4</td>\n",
              "      <td>Yes</td>\n",
              "      <td>No</td>\n",
              "      <td>Fiber optic</td>\n",
              "      <td>...</td>\n",
              "      <td>No</td>\n",
              "      <td>Yes</td>\n",
              "      <td>No</td>\n",
              "      <td>No</td>\n",
              "      <td>No</td>\n",
              "      <td>Month-to-month</td>\n",
              "      <td>Yes</td>\n",
              "      <td>Electronic check</td>\n",
              "      <td>73.9</td>\n",
              "      <td>280.85</td>\n",
              "    </tr>\n",
              "    <tr>\n",
              "      <th>3</th>\n",
              "      <td>0011-IGKFF</td>\n",
              "      <td>Yes</td>\n",
              "      <td>Male</td>\n",
              "      <td>1</td>\n",
              "      <td>Yes</td>\n",
              "      <td>No</td>\n",
              "      <td>13</td>\n",
              "      <td>Yes</td>\n",
              "      <td>No</td>\n",
              "      <td>Fiber optic</td>\n",
              "      <td>...</td>\n",
              "      <td>Yes</td>\n",
              "      <td>Yes</td>\n",
              "      <td>No</td>\n",
              "      <td>Yes</td>\n",
              "      <td>Yes</td>\n",
              "      <td>Month-to-month</td>\n",
              "      <td>Yes</td>\n",
              "      <td>Electronic check</td>\n",
              "      <td>98.0</td>\n",
              "      <td>1237.85</td>\n",
              "    </tr>\n",
              "    <tr>\n",
              "      <th>4</th>\n",
              "      <td>0013-EXCHZ</td>\n",
              "      <td>Yes</td>\n",
              "      <td>Female</td>\n",
              "      <td>1</td>\n",
              "      <td>Yes</td>\n",
              "      <td>No</td>\n",
              "      <td>3</td>\n",
              "      <td>Yes</td>\n",
              "      <td>No</td>\n",
              "      <td>Fiber optic</td>\n",
              "      <td>...</td>\n",
              "      <td>No</td>\n",
              "      <td>No</td>\n",
              "      <td>Yes</td>\n",
              "      <td>Yes</td>\n",
              "      <td>No</td>\n",
              "      <td>Month-to-month</td>\n",
              "      <td>Yes</td>\n",
              "      <td>Mailed check</td>\n",
              "      <td>83.9</td>\n",
              "      <td>267.4</td>\n",
              "    </tr>\n",
              "  </tbody>\n",
              "</table>\n",
              "<p>5 rows × 21 columns</p>\n",
              "</div>\n",
              "    <div class=\"colab-df-buttons\">\n",
              "\n",
              "  <div class=\"colab-df-container\">\n",
              "    <button class=\"colab-df-convert\" onclick=\"convertToInteractive('df-766d3678-a3e2-4ebe-854b-00d1e5673b8f')\"\n",
              "            title=\"Convert this dataframe to an interactive table.\"\n",
              "            style=\"display:none;\">\n",
              "\n",
              "  <svg xmlns=\"http://www.w3.org/2000/svg\" height=\"24px\" viewBox=\"0 -960 960 960\">\n",
              "    <path d=\"M120-120v-720h720v720H120Zm60-500h600v-160H180v160Zm220 220h160v-160H400v160Zm0 220h160v-160H400v160ZM180-400h160v-160H180v160Zm440 0h160v-160H620v160ZM180-180h160v-160H180v160Zm440 0h160v-160H620v160Z\"/>\n",
              "  </svg>\n",
              "    </button>\n",
              "\n",
              "  <style>\n",
              "    .colab-df-container {\n",
              "      display:flex;\n",
              "      gap: 12px;\n",
              "    }\n",
              "\n",
              "    .colab-df-convert {\n",
              "      background-color: #E8F0FE;\n",
              "      border: none;\n",
              "      border-radius: 50%;\n",
              "      cursor: pointer;\n",
              "      display: none;\n",
              "      fill: #1967D2;\n",
              "      height: 32px;\n",
              "      padding: 0 0 0 0;\n",
              "      width: 32px;\n",
              "    }\n",
              "\n",
              "    .colab-df-convert:hover {\n",
              "      background-color: #E2EBFA;\n",
              "      box-shadow: 0px 1px 2px rgba(60, 64, 67, 0.3), 0px 1px 3px 1px rgba(60, 64, 67, 0.15);\n",
              "      fill: #174EA6;\n",
              "    }\n",
              "\n",
              "    .colab-df-buttons div {\n",
              "      margin-bottom: 4px;\n",
              "    }\n",
              "\n",
              "    [theme=dark] .colab-df-convert {\n",
              "      background-color: #3B4455;\n",
              "      fill: #D2E3FC;\n",
              "    }\n",
              "\n",
              "    [theme=dark] .colab-df-convert:hover {\n",
              "      background-color: #434B5C;\n",
              "      box-shadow: 0px 1px 3px 1px rgba(0, 0, 0, 0.15);\n",
              "      filter: drop-shadow(0px 1px 2px rgba(0, 0, 0, 0.3));\n",
              "      fill: #FFFFFF;\n",
              "    }\n",
              "  </style>\n",
              "\n",
              "    <script>\n",
              "      const buttonEl =\n",
              "        document.querySelector('#df-766d3678-a3e2-4ebe-854b-00d1e5673b8f button.colab-df-convert');\n",
              "      buttonEl.style.display =\n",
              "        google.colab.kernel.accessAllowed ? 'block' : 'none';\n",
              "\n",
              "      async function convertToInteractive(key) {\n",
              "        const element = document.querySelector('#df-766d3678-a3e2-4ebe-854b-00d1e5673b8f');\n",
              "        const dataTable =\n",
              "          await google.colab.kernel.invokeFunction('convertToInteractive',\n",
              "                                                    [key], {});\n",
              "        if (!dataTable) return;\n",
              "\n",
              "        const docLinkHtml = 'Like what you see? Visit the ' +\n",
              "          '<a target=\"_blank\" href=https://colab.research.google.com/notebooks/data_table.ipynb>data table notebook</a>'\n",
              "          + ' to learn more about interactive tables.';\n",
              "        element.innerHTML = '';\n",
              "        dataTable['output_type'] = 'display_data';\n",
              "        await google.colab.output.renderOutput(dataTable, element);\n",
              "        const docLink = document.createElement('div');\n",
              "        docLink.innerHTML = docLinkHtml;\n",
              "        element.appendChild(docLink);\n",
              "      }\n",
              "    </script>\n",
              "  </div>\n",
              "\n",
              "\n",
              "    <div id=\"df-e43c87fe-9968-4441-960f-78dd35eae889\">\n",
              "      <button class=\"colab-df-quickchart\" onclick=\"quickchart('df-e43c87fe-9968-4441-960f-78dd35eae889')\"\n",
              "                title=\"Suggest charts\"\n",
              "                style=\"display:none;\">\n",
              "\n",
              "<svg xmlns=\"http://www.w3.org/2000/svg\" height=\"24px\"viewBox=\"0 0 24 24\"\n",
              "     width=\"24px\">\n",
              "    <g>\n",
              "        <path d=\"M19 3H5c-1.1 0-2 .9-2 2v14c0 1.1.9 2 2 2h14c1.1 0 2-.9 2-2V5c0-1.1-.9-2-2-2zM9 17H7v-7h2v7zm4 0h-2V7h2v10zm4 0h-2v-4h2v4z\"/>\n",
              "    </g>\n",
              "</svg>\n",
              "      </button>\n",
              "\n",
              "<style>\n",
              "  .colab-df-quickchart {\n",
              "      --bg-color: #E8F0FE;\n",
              "      --fill-color: #1967D2;\n",
              "      --hover-bg-color: #E2EBFA;\n",
              "      --hover-fill-color: #174EA6;\n",
              "      --disabled-fill-color: #AAA;\n",
              "      --disabled-bg-color: #DDD;\n",
              "  }\n",
              "\n",
              "  [theme=dark] .colab-df-quickchart {\n",
              "      --bg-color: #3B4455;\n",
              "      --fill-color: #D2E3FC;\n",
              "      --hover-bg-color: #434B5C;\n",
              "      --hover-fill-color: #FFFFFF;\n",
              "      --disabled-bg-color: #3B4455;\n",
              "      --disabled-fill-color: #666;\n",
              "  }\n",
              "\n",
              "  .colab-df-quickchart {\n",
              "    background-color: var(--bg-color);\n",
              "    border: none;\n",
              "    border-radius: 50%;\n",
              "    cursor: pointer;\n",
              "    display: none;\n",
              "    fill: var(--fill-color);\n",
              "    height: 32px;\n",
              "    padding: 0;\n",
              "    width: 32px;\n",
              "  }\n",
              "\n",
              "  .colab-df-quickchart:hover {\n",
              "    background-color: var(--hover-bg-color);\n",
              "    box-shadow: 0 1px 2px rgba(60, 64, 67, 0.3), 0 1px 3px 1px rgba(60, 64, 67, 0.15);\n",
              "    fill: var(--button-hover-fill-color);\n",
              "  }\n",
              "\n",
              "  .colab-df-quickchart-complete:disabled,\n",
              "  .colab-df-quickchart-complete:disabled:hover {\n",
              "    background-color: var(--disabled-bg-color);\n",
              "    fill: var(--disabled-fill-color);\n",
              "    box-shadow: none;\n",
              "  }\n",
              "\n",
              "  .colab-df-spinner {\n",
              "    border: 2px solid var(--fill-color);\n",
              "    border-color: transparent;\n",
              "    border-bottom-color: var(--fill-color);\n",
              "    animation:\n",
              "      spin 1s steps(1) infinite;\n",
              "  }\n",
              "\n",
              "  @keyframes spin {\n",
              "    0% {\n",
              "      border-color: transparent;\n",
              "      border-bottom-color: var(--fill-color);\n",
              "      border-left-color: var(--fill-color);\n",
              "    }\n",
              "    20% {\n",
              "      border-color: transparent;\n",
              "      border-left-color: var(--fill-color);\n",
              "      border-top-color: var(--fill-color);\n",
              "    }\n",
              "    30% {\n",
              "      border-color: transparent;\n",
              "      border-left-color: var(--fill-color);\n",
              "      border-top-color: var(--fill-color);\n",
              "      border-right-color: var(--fill-color);\n",
              "    }\n",
              "    40% {\n",
              "      border-color: transparent;\n",
              "      border-right-color: var(--fill-color);\n",
              "      border-top-color: var(--fill-color);\n",
              "    }\n",
              "    60% {\n",
              "      border-color: transparent;\n",
              "      border-right-color: var(--fill-color);\n",
              "    }\n",
              "    80% {\n",
              "      border-color: transparent;\n",
              "      border-right-color: var(--fill-color);\n",
              "      border-bottom-color: var(--fill-color);\n",
              "    }\n",
              "    90% {\n",
              "      border-color: transparent;\n",
              "      border-bottom-color: var(--fill-color);\n",
              "    }\n",
              "  }\n",
              "</style>\n",
              "\n",
              "      <script>\n",
              "        async function quickchart(key) {\n",
              "          const quickchartButtonEl =\n",
              "            document.querySelector('#' + key + ' button');\n",
              "          quickchartButtonEl.disabled = true;  // To prevent multiple clicks.\n",
              "          quickchartButtonEl.classList.add('colab-df-spinner');\n",
              "          try {\n",
              "            const charts = await google.colab.kernel.invokeFunction(\n",
              "                'suggestCharts', [key], {});\n",
              "          } catch (error) {\n",
              "            console.error('Error during call to suggestCharts:', error);\n",
              "          }\n",
              "          quickchartButtonEl.classList.remove('colab-df-spinner');\n",
              "          quickchartButtonEl.classList.add('colab-df-quickchart-complete');\n",
              "        }\n",
              "        (() => {\n",
              "          let quickchartButtonEl =\n",
              "            document.querySelector('#df-e43c87fe-9968-4441-960f-78dd35eae889 button');\n",
              "          quickchartButtonEl.style.display =\n",
              "            google.colab.kernel.accessAllowed ? 'block' : 'none';\n",
              "        })();\n",
              "      </script>\n",
              "    </div>\n",
              "\n",
              "    </div>\n",
              "  </div>\n"
            ],
            "application/vnd.google.colaboratory.intrinsic+json": {
              "type": "dataframe"
            }
          },
          "metadata": {}
        }
      ]
    },
    {
      "cell_type": "code",
      "source": [
        "# Remoção de Linhas com Valores Ausentes (NaN)\n",
        "# Remove todas as linhas que contêm pelo menos um valor NaN após a normalização.\n",
        "dados_normalizados.dropna(inplace=True)"
      ],
      "metadata": {
        "id": "7Qv-duKlldcq"
      },
      "execution_count": 3,
      "outputs": []
    },
    {
      "cell_type": "markdown",
      "source": [
        "**Comentario**\n",
        "\n",
        "Agora, em vez de uma única coluna \"`customer`\", temos \"`customer.gender`\", \"`customer.SeniorCitizen`\", etc. A estrutura está muito mais clara e pronta para a próxima fase da nossa investigação.\n",
        "\n",
        "Nosso próximo passo será usar o comando `.info()` para ter uma visão geral dos tipos de dados e da contagem de valores em cada uma dessas novas colunas. Isso geralmente revela inconsistências."
      ],
      "metadata": {
        "id": "iew6wPgI8SjT"
      }
    },
    {
      "cell_type": "code",
      "source": [
        "# Diagnóstico do Tipo de Dados e Inconsistências\n",
        "# O método .info() fornece um resumo do DataFrame, incluindo nomes de colunas,\n",
        "# contagem de valores não-nulos e tipos de dados (Dtype).\n",
        "dados_normalizados.info()"
      ],
      "metadata": {
        "colab": {
          "base_uri": "https://localhost:8080/"
        },
        "id": "oYl8mRZM8ZeD",
        "outputId": "b3d53406-5aff-4eb5-ba44-e9cb8efe5abf"
      },
      "execution_count": 4,
      "outputs": [
        {
          "output_type": "stream",
          "name": "stdout",
          "text": [
            "<class 'pandas.core.frame.DataFrame'>\n",
            "RangeIndex: 7267 entries, 0 to 7266\n",
            "Data columns (total 21 columns):\n",
            " #   Column                     Non-Null Count  Dtype  \n",
            "---  ------                     --------------  -----  \n",
            " 0   customerID                 7267 non-null   object \n",
            " 1   Churn                      7267 non-null   object \n",
            " 2   customer.gender            7267 non-null   object \n",
            " 3   customer.SeniorCitizen     7267 non-null   int64  \n",
            " 4   customer.Partner           7267 non-null   object \n",
            " 5   customer.Dependents        7267 non-null   object \n",
            " 6   customer.tenure            7267 non-null   int64  \n",
            " 7   phone.PhoneService         7267 non-null   object \n",
            " 8   phone.MultipleLines        7267 non-null   object \n",
            " 9   internet.InternetService   7267 non-null   object \n",
            " 10  internet.OnlineSecurity    7267 non-null   object \n",
            " 11  internet.OnlineBackup      7267 non-null   object \n",
            " 12  internet.DeviceProtection  7267 non-null   object \n",
            " 13  internet.TechSupport       7267 non-null   object \n",
            " 14  internet.StreamingTV       7267 non-null   object \n",
            " 15  internet.StreamingMovies   7267 non-null   object \n",
            " 16  account.Contract           7267 non-null   object \n",
            " 17  account.PaperlessBilling   7267 non-null   object \n",
            " 18  account.PaymentMethod      7267 non-null   object \n",
            " 19  account.Charges.Monthly    7267 non-null   float64\n",
            " 20  account.Charges.Total      7267 non-null   object \n",
            "dtypes: float64(1), int64(2), object(18)\n",
            "memory usage: 1.2+ MB\n"
          ]
        }
      ]
    },
    {
      "cell_type": "markdown",
      "source": [
        "- Muitas colunas são do tipo `object`: Colunas como Churn, `customer.gender`, `phone.PhoneService`, `account.Charges.Total`, etc., são todas classificadas como `object`. `object` geralmente significa que o Pandas está tratando a coluna como texto (string).\n",
        "\n",
        "- Possíveis Problemas:\n",
        "Para colunas como `Churn` ou` phone.PhoneService`, que contêm 'Yes' e 'No', object é esperado, mas precisaremos convertê-las para números (1 e 0) para fazer cálculos e análises.\n",
        "Para colunas como `customer.tenure` (meses de contrato) e especialmente `account.Charges.Total` (gastos totais), o tipo object é um sinal de alerta. Esperávamos que fossem números (`int64` ou `float64`). O fato de não serem indica que provavelmente existem valores nessas colunas que não são números (como espaços em branco ou outros caracteres), o que está \"contaminando\" a coluna inteira."
      ],
      "metadata": {
        "id": "5cjwtj2u8e5w"
      }
    },
    {
      "cell_type": "markdown",
      "source": [
        "# ▶ **Dicionário de dados**"
      ],
      "metadata": {
        "id": "MIg2kFXn5sDG"
      }
    },
    {
      "cell_type": "code",
      "source": [
        "# Normalização de Estruturas Aninhadas\n",
        "# Utiliza pd.json_normalize para  os dicionários aninhados das colunas 'customer', 'phone', 'internet' e 'account',\n",
        "# transformando suas chaves em novas colunas no DataFrame principal.\n",
        "dados_normalizados = pd.json_normalize(dados_json)\n",
        "display(dados_normalizados.head())"
      ],
      "metadata": {
        "colab": {
          "base_uri": "https://localhost:8080/",
          "height": 0
        },
        "outputId": "c6a74ff5-35b0-45f1-b362-34de90cf204b",
        "id": "NW1p_X3SfNza"
      },
      "execution_count": 5,
      "outputs": [
        {
          "output_type": "display_data",
          "data": {
            "text/plain": [
              "   customerID Churn customer.gender  customer.SeniorCitizen customer.Partner  \\\n",
              "0  0002-ORFBO    No          Female                       0              Yes   \n",
              "1  0003-MKNFE    No            Male                       0               No   \n",
              "2  0004-TLHLJ   Yes            Male                       0               No   \n",
              "3  0011-IGKFF   Yes            Male                       1              Yes   \n",
              "4  0013-EXCHZ   Yes          Female                       1              Yes   \n",
              "\n",
              "  customer.Dependents  customer.tenure phone.PhoneService phone.MultipleLines  \\\n",
              "0                 Yes                9                Yes                  No   \n",
              "1                  No                9                Yes                 Yes   \n",
              "2                  No                4                Yes                  No   \n",
              "3                  No               13                Yes                  No   \n",
              "4                  No                3                Yes                  No   \n",
              "\n",
              "  internet.InternetService  ... internet.OnlineBackup  \\\n",
              "0                      DSL  ...                   Yes   \n",
              "1                      DSL  ...                    No   \n",
              "2              Fiber optic  ...                    No   \n",
              "3              Fiber optic  ...                   Yes   \n",
              "4              Fiber optic  ...                    No   \n",
              "\n",
              "  internet.DeviceProtection internet.TechSupport internet.StreamingTV  \\\n",
              "0                        No                  Yes                  Yes   \n",
              "1                        No                   No                   No   \n",
              "2                       Yes                   No                   No   \n",
              "3                       Yes                   No                  Yes   \n",
              "4                        No                  Yes                  Yes   \n",
              "\n",
              "  internet.StreamingMovies account.Contract account.PaperlessBilling  \\\n",
              "0                       No         One year                      Yes   \n",
              "1                      Yes   Month-to-month                       No   \n",
              "2                       No   Month-to-month                      Yes   \n",
              "3                      Yes   Month-to-month                      Yes   \n",
              "4                       No   Month-to-month                      Yes   \n",
              "\n",
              "  account.PaymentMethod account.Charges.Monthly  account.Charges.Total  \n",
              "0          Mailed check                    65.6                  593.3  \n",
              "1          Mailed check                    59.9                  542.4  \n",
              "2      Electronic check                    73.9                 280.85  \n",
              "3      Electronic check                    98.0                1237.85  \n",
              "4          Mailed check                    83.9                  267.4  \n",
              "\n",
              "[5 rows x 21 columns]"
            ],
            "text/html": [
              "\n",
              "  <div id=\"df-49c63fbb-242b-4e81-a8e2-1b53b8cd12b8\" class=\"colab-df-container\">\n",
              "    <div>\n",
              "<style scoped>\n",
              "    .dataframe tbody tr th:only-of-type {\n",
              "        vertical-align: middle;\n",
              "    }\n",
              "\n",
              "    .dataframe tbody tr th {\n",
              "        vertical-align: top;\n",
              "    }\n",
              "\n",
              "    .dataframe thead th {\n",
              "        text-align: right;\n",
              "    }\n",
              "</style>\n",
              "<table border=\"1\" class=\"dataframe\">\n",
              "  <thead>\n",
              "    <tr style=\"text-align: right;\">\n",
              "      <th></th>\n",
              "      <th>customerID</th>\n",
              "      <th>Churn</th>\n",
              "      <th>customer.gender</th>\n",
              "      <th>customer.SeniorCitizen</th>\n",
              "      <th>customer.Partner</th>\n",
              "      <th>customer.Dependents</th>\n",
              "      <th>customer.tenure</th>\n",
              "      <th>phone.PhoneService</th>\n",
              "      <th>phone.MultipleLines</th>\n",
              "      <th>internet.InternetService</th>\n",
              "      <th>...</th>\n",
              "      <th>internet.OnlineBackup</th>\n",
              "      <th>internet.DeviceProtection</th>\n",
              "      <th>internet.TechSupport</th>\n",
              "      <th>internet.StreamingTV</th>\n",
              "      <th>internet.StreamingMovies</th>\n",
              "      <th>account.Contract</th>\n",
              "      <th>account.PaperlessBilling</th>\n",
              "      <th>account.PaymentMethod</th>\n",
              "      <th>account.Charges.Monthly</th>\n",
              "      <th>account.Charges.Total</th>\n",
              "    </tr>\n",
              "  </thead>\n",
              "  <tbody>\n",
              "    <tr>\n",
              "      <th>0</th>\n",
              "      <td>0002-ORFBO</td>\n",
              "      <td>No</td>\n",
              "      <td>Female</td>\n",
              "      <td>0</td>\n",
              "      <td>Yes</td>\n",
              "      <td>Yes</td>\n",
              "      <td>9</td>\n",
              "      <td>Yes</td>\n",
              "      <td>No</td>\n",
              "      <td>DSL</td>\n",
              "      <td>...</td>\n",
              "      <td>Yes</td>\n",
              "      <td>No</td>\n",
              "      <td>Yes</td>\n",
              "      <td>Yes</td>\n",
              "      <td>No</td>\n",
              "      <td>One year</td>\n",
              "      <td>Yes</td>\n",
              "      <td>Mailed check</td>\n",
              "      <td>65.6</td>\n",
              "      <td>593.3</td>\n",
              "    </tr>\n",
              "    <tr>\n",
              "      <th>1</th>\n",
              "      <td>0003-MKNFE</td>\n",
              "      <td>No</td>\n",
              "      <td>Male</td>\n",
              "      <td>0</td>\n",
              "      <td>No</td>\n",
              "      <td>No</td>\n",
              "      <td>9</td>\n",
              "      <td>Yes</td>\n",
              "      <td>Yes</td>\n",
              "      <td>DSL</td>\n",
              "      <td>...</td>\n",
              "      <td>No</td>\n",
              "      <td>No</td>\n",
              "      <td>No</td>\n",
              "      <td>No</td>\n",
              "      <td>Yes</td>\n",
              "      <td>Month-to-month</td>\n",
              "      <td>No</td>\n",
              "      <td>Mailed check</td>\n",
              "      <td>59.9</td>\n",
              "      <td>542.4</td>\n",
              "    </tr>\n",
              "    <tr>\n",
              "      <th>2</th>\n",
              "      <td>0004-TLHLJ</td>\n",
              "      <td>Yes</td>\n",
              "      <td>Male</td>\n",
              "      <td>0</td>\n",
              "      <td>No</td>\n",
              "      <td>No</td>\n",
              "      <td>4</td>\n",
              "      <td>Yes</td>\n",
              "      <td>No</td>\n",
              "      <td>Fiber optic</td>\n",
              "      <td>...</td>\n",
              "      <td>No</td>\n",
              "      <td>Yes</td>\n",
              "      <td>No</td>\n",
              "      <td>No</td>\n",
              "      <td>No</td>\n",
              "      <td>Month-to-month</td>\n",
              "      <td>Yes</td>\n",
              "      <td>Electronic check</td>\n",
              "      <td>73.9</td>\n",
              "      <td>280.85</td>\n",
              "    </tr>\n",
              "    <tr>\n",
              "      <th>3</th>\n",
              "      <td>0011-IGKFF</td>\n",
              "      <td>Yes</td>\n",
              "      <td>Male</td>\n",
              "      <td>1</td>\n",
              "      <td>Yes</td>\n",
              "      <td>No</td>\n",
              "      <td>13</td>\n",
              "      <td>Yes</td>\n",
              "      <td>No</td>\n",
              "      <td>Fiber optic</td>\n",
              "      <td>...</td>\n",
              "      <td>Yes</td>\n",
              "      <td>Yes</td>\n",
              "      <td>No</td>\n",
              "      <td>Yes</td>\n",
              "      <td>Yes</td>\n",
              "      <td>Month-to-month</td>\n",
              "      <td>Yes</td>\n",
              "      <td>Electronic check</td>\n",
              "      <td>98.0</td>\n",
              "      <td>1237.85</td>\n",
              "    </tr>\n",
              "    <tr>\n",
              "      <th>4</th>\n",
              "      <td>0013-EXCHZ</td>\n",
              "      <td>Yes</td>\n",
              "      <td>Female</td>\n",
              "      <td>1</td>\n",
              "      <td>Yes</td>\n",
              "      <td>No</td>\n",
              "      <td>3</td>\n",
              "      <td>Yes</td>\n",
              "      <td>No</td>\n",
              "      <td>Fiber optic</td>\n",
              "      <td>...</td>\n",
              "      <td>No</td>\n",
              "      <td>No</td>\n",
              "      <td>Yes</td>\n",
              "      <td>Yes</td>\n",
              "      <td>No</td>\n",
              "      <td>Month-to-month</td>\n",
              "      <td>Yes</td>\n",
              "      <td>Mailed check</td>\n",
              "      <td>83.9</td>\n",
              "      <td>267.4</td>\n",
              "    </tr>\n",
              "  </tbody>\n",
              "</table>\n",
              "<p>5 rows × 21 columns</p>\n",
              "</div>\n",
              "    <div class=\"colab-df-buttons\">\n",
              "\n",
              "  <div class=\"colab-df-container\">\n",
              "    <button class=\"colab-df-convert\" onclick=\"convertToInteractive('df-49c63fbb-242b-4e81-a8e2-1b53b8cd12b8')\"\n",
              "            title=\"Convert this dataframe to an interactive table.\"\n",
              "            style=\"display:none;\">\n",
              "\n",
              "  <svg xmlns=\"http://www.w3.org/2000/svg\" height=\"24px\" viewBox=\"0 -960 960 960\">\n",
              "    <path d=\"M120-120v-720h720v720H120Zm60-500h600v-160H180v160Zm220 220h160v-160H400v160Zm0 220h160v-160H400v160ZM180-400h160v-160H180v160Zm440 0h160v-160H620v160ZM180-180h160v-160H180v160Zm440 0h160v-160H620v160Z\"/>\n",
              "  </svg>\n",
              "    </button>\n",
              "\n",
              "  <style>\n",
              "    .colab-df-container {\n",
              "      display:flex;\n",
              "      gap: 12px;\n",
              "    }\n",
              "\n",
              "    .colab-df-convert {\n",
              "      background-color: #E8F0FE;\n",
              "      border: none;\n",
              "      border-radius: 50%;\n",
              "      cursor: pointer;\n",
              "      display: none;\n",
              "      fill: #1967D2;\n",
              "      height: 32px;\n",
              "      padding: 0 0 0 0;\n",
              "      width: 32px;\n",
              "    }\n",
              "\n",
              "    .colab-df-convert:hover {\n",
              "      background-color: #E2EBFA;\n",
              "      box-shadow: 0px 1px 2px rgba(60, 64, 67, 0.3), 0px 1px 3px 1px rgba(60, 64, 67, 0.15);\n",
              "      fill: #174EA6;\n",
              "    }\n",
              "\n",
              "    .colab-df-buttons div {\n",
              "      margin-bottom: 4px;\n",
              "    }\n",
              "\n",
              "    [theme=dark] .colab-df-convert {\n",
              "      background-color: #3B4455;\n",
              "      fill: #D2E3FC;\n",
              "    }\n",
              "\n",
              "    [theme=dark] .colab-df-convert:hover {\n",
              "      background-color: #434B5C;\n",
              "      box-shadow: 0px 1px 3px 1px rgba(0, 0, 0, 0.15);\n",
              "      filter: drop-shadow(0px 1px 2px rgba(0, 0, 0, 0.3));\n",
              "      fill: #FFFFFF;\n",
              "    }\n",
              "  </style>\n",
              "\n",
              "    <script>\n",
              "      const buttonEl =\n",
              "        document.querySelector('#df-49c63fbb-242b-4e81-a8e2-1b53b8cd12b8 button.colab-df-convert');\n",
              "      buttonEl.style.display =\n",
              "        google.colab.kernel.accessAllowed ? 'block' : 'none';\n",
              "\n",
              "      async function convertToInteractive(key) {\n",
              "        const element = document.querySelector('#df-49c63fbb-242b-4e81-a8e2-1b53b8cd12b8');\n",
              "        const dataTable =\n",
              "          await google.colab.kernel.invokeFunction('convertToInteractive',\n",
              "                                                    [key], {});\n",
              "        if (!dataTable) return;\n",
              "\n",
              "        const docLinkHtml = 'Like what you see? Visit the ' +\n",
              "          '<a target=\"_blank\" href=https://colab.research.google.com/notebooks/data_table.ipynb>data table notebook</a>'\n",
              "          + ' to learn more about interactive tables.';\n",
              "        element.innerHTML = '';\n",
              "        dataTable['output_type'] = 'display_data';\n",
              "        await google.colab.output.renderOutput(dataTable, element);\n",
              "        const docLink = document.createElement('div');\n",
              "        docLink.innerHTML = docLinkHtml;\n",
              "        element.appendChild(docLink);\n",
              "      }\n",
              "    </script>\n",
              "  </div>\n",
              "\n",
              "\n",
              "    <div id=\"df-aebf2b7f-89af-45ed-a2c2-a857db1fc96d\">\n",
              "      <button class=\"colab-df-quickchart\" onclick=\"quickchart('df-aebf2b7f-89af-45ed-a2c2-a857db1fc96d')\"\n",
              "                title=\"Suggest charts\"\n",
              "                style=\"display:none;\">\n",
              "\n",
              "<svg xmlns=\"http://www.w3.org/2000/svg\" height=\"24px\"viewBox=\"0 0 24 24\"\n",
              "     width=\"24px\">\n",
              "    <g>\n",
              "        <path d=\"M19 3H5c-1.1 0-2 .9-2 2v14c0 1.1.9 2 2 2h14c1.1 0 2-.9 2-2V5c0-1.1-.9-2-2-2zM9 17H7v-7h2v7zm4 0h-2V7h2v10zm4 0h-2v-4h2v4z\"/>\n",
              "    </g>\n",
              "</svg>\n",
              "      </button>\n",
              "\n",
              "<style>\n",
              "  .colab-df-quickchart {\n",
              "      --bg-color: #E8F0FE;\n",
              "      --fill-color: #1967D2;\n",
              "      --hover-bg-color: #E2EBFA;\n",
              "      --hover-fill-color: #174EA6;\n",
              "      --disabled-fill-color: #AAA;\n",
              "      --disabled-bg-color: #DDD;\n",
              "  }\n",
              "\n",
              "  [theme=dark] .colab-df-quickchart {\n",
              "      --bg-color: #3B4455;\n",
              "      --fill-color: #D2E3FC;\n",
              "      --hover-bg-color: #434B5C;\n",
              "      --hover-fill-color: #FFFFFF;\n",
              "      --disabled-bg-color: #3B4455;\n",
              "      --disabled-fill-color: #666;\n",
              "  }\n",
              "\n",
              "  .colab-df-quickchart {\n",
              "    background-color: var(--bg-color);\n",
              "    border: none;\n",
              "    border-radius: 50%;\n",
              "    cursor: pointer;\n",
              "    display: none;\n",
              "    fill: var(--fill-color);\n",
              "    height: 32px;\n",
              "    padding: 0;\n",
              "    width: 32px;\n",
              "  }\n",
              "\n",
              "  .colab-df-quickchart:hover {\n",
              "    background-color: var(--hover-bg-color);\n",
              "    box-shadow: 0 1px 2px rgba(60, 64, 67, 0.3), 0 1px 3px 1px rgba(60, 64, 67, 0.15);\n",
              "    fill: var(--button-hover-fill-color);\n",
              "  }\n",
              "\n",
              "  .colab-df-quickchart-complete:disabled,\n",
              "  .colab-df-quickchart-complete:disabled:hover {\n",
              "    background-color: var(--disabled-bg-color);\n",
              "    fill: var(--disabled-fill-color);\n",
              "    box-shadow: none;\n",
              "  }\n",
              "\n",
              "  .colab-df-spinner {\n",
              "    border: 2px solid var(--fill-color);\n",
              "    border-color: transparent;\n",
              "    border-bottom-color: var(--fill-color);\n",
              "    animation:\n",
              "      spin 1s steps(1) infinite;\n",
              "  }\n",
              "\n",
              "  @keyframes spin {\n",
              "    0% {\n",
              "      border-color: transparent;\n",
              "      border-bottom-color: var(--fill-color);\n",
              "      border-left-color: var(--fill-color);\n",
              "    }\n",
              "    20% {\n",
              "      border-color: transparent;\n",
              "      border-left-color: var(--fill-color);\n",
              "      border-top-color: var(--fill-color);\n",
              "    }\n",
              "    30% {\n",
              "      border-color: transparent;\n",
              "      border-left-color: var(--fill-color);\n",
              "      border-top-color: var(--fill-color);\n",
              "      border-right-color: var(--fill-color);\n",
              "    }\n",
              "    40% {\n",
              "      border-color: transparent;\n",
              "      border-right-color: var(--fill-color);\n",
              "      border-top-color: var(--fill-color);\n",
              "    }\n",
              "    60% {\n",
              "      border-color: transparent;\n",
              "      border-right-color: var(--fill-color);\n",
              "    }\n",
              "    80% {\n",
              "      border-color: transparent;\n",
              "      border-right-color: var(--fill-color);\n",
              "      border-bottom-color: var(--fill-color);\n",
              "    }\n",
              "    90% {\n",
              "      border-color: transparent;\n",
              "      border-bottom-color: var(--fill-color);\n",
              "    }\n",
              "  }\n",
              "</style>\n",
              "\n",
              "      <script>\n",
              "        async function quickchart(key) {\n",
              "          const quickchartButtonEl =\n",
              "            document.querySelector('#' + key + ' button');\n",
              "          quickchartButtonEl.disabled = true;  // To prevent multiple clicks.\n",
              "          quickchartButtonEl.classList.add('colab-df-spinner');\n",
              "          try {\n",
              "            const charts = await google.colab.kernel.invokeFunction(\n",
              "                'suggestCharts', [key], {});\n",
              "          } catch (error) {\n",
              "            console.error('Error during call to suggestCharts:', error);\n",
              "          }\n",
              "          quickchartButtonEl.classList.remove('colab-df-spinner');\n",
              "          quickchartButtonEl.classList.add('colab-df-quickchart-complete');\n",
              "        }\n",
              "        (() => {\n",
              "          let quickchartButtonEl =\n",
              "            document.querySelector('#df-aebf2b7f-89af-45ed-a2c2-a857db1fc96d button');\n",
              "          quickchartButtonEl.style.display =\n",
              "            google.colab.kernel.accessAllowed ? 'block' : 'none';\n",
              "        })();\n",
              "      </script>\n",
              "    </div>\n",
              "\n",
              "    </div>\n",
              "  </div>\n"
            ],
            "application/vnd.google.colaboratory.intrinsic+json": {
              "type": "dataframe"
            }
          },
          "metadata": {}
        }
      ]
    },
    {
      "cell_type": "code",
      "source": [
        "# Remoção de Linhas com Valores Ausentes (NaN)\n",
        "# Remove todas as linhas que contêm pelo menos um valor NaN após a normalização.\n",
        "dados_normalizados.dropna(inplace=True)"
      ],
      "metadata": {
        "id": "OjzXlnqKfNzb"
      },
      "execution_count": 6,
      "outputs": []
    },
    {
      "cell_type": "markdown",
      "source": [
        "**Comentario**\n",
        "\n",
        "Agora, em vez de uma única coluna \"`customer`\", temos \"`customer.gender`\", \"`customer.SeniorCitizen`\", etc. A estrutura está muito mais clara e pronta para a próxima fase da nossa investigação.\n",
        "\n",
        "Nosso próximo passo será usar o comando `.info()` para ter uma visão geral dos tipos de dados e da contagem de valores em cada uma dessas novas colunas. Isso geralmente revela inconsistências."
      ],
      "metadata": {
        "id": "Npq26OvtfNzb"
      }
    },
    {
      "cell_type": "code",
      "source": [
        "# Diagnóstico do Tipo de Dados e Inconsistências\n",
        "# O método .info() fornece um resumo do DataFrame, incluindo nomes de colunas,\n",
        "# contagem de valores não-nulos e tipos de dados (Dtype).\n",
        "dados_normalizados.info()"
      ],
      "metadata": {
        "colab": {
          "base_uri": "https://localhost:8080/"
        },
        "outputId": "d39cb7a8-8715-4608-af65-5d5123474a1a",
        "id": "d3F70xCXfNzb"
      },
      "execution_count": 7,
      "outputs": [
        {
          "output_type": "stream",
          "name": "stdout",
          "text": [
            "<class 'pandas.core.frame.DataFrame'>\n",
            "RangeIndex: 7267 entries, 0 to 7266\n",
            "Data columns (total 21 columns):\n",
            " #   Column                     Non-Null Count  Dtype  \n",
            "---  ------                     --------------  -----  \n",
            " 0   customerID                 7267 non-null   object \n",
            " 1   Churn                      7267 non-null   object \n",
            " 2   customer.gender            7267 non-null   object \n",
            " 3   customer.SeniorCitizen     7267 non-null   int64  \n",
            " 4   customer.Partner           7267 non-null   object \n",
            " 5   customer.Dependents        7267 non-null   object \n",
            " 6   customer.tenure            7267 non-null   int64  \n",
            " 7   phone.PhoneService         7267 non-null   object \n",
            " 8   phone.MultipleLines        7267 non-null   object \n",
            " 9   internet.InternetService   7267 non-null   object \n",
            " 10  internet.OnlineSecurity    7267 non-null   object \n",
            " 11  internet.OnlineBackup      7267 non-null   object \n",
            " 12  internet.DeviceProtection  7267 non-null   object \n",
            " 13  internet.TechSupport       7267 non-null   object \n",
            " 14  internet.StreamingTV       7267 non-null   object \n",
            " 15  internet.StreamingMovies   7267 non-null   object \n",
            " 16  account.Contract           7267 non-null   object \n",
            " 17  account.PaperlessBilling   7267 non-null   object \n",
            " 18  account.PaymentMethod      7267 non-null   object \n",
            " 19  account.Charges.Monthly    7267 non-null   float64\n",
            " 20  account.Charges.Total      7267 non-null   object \n",
            "dtypes: float64(1), int64(2), object(18)\n",
            "memory usage: 1.2+ MB\n"
          ]
        }
      ]
    },
    {
      "cell_type": "markdown",
      "source": [
        "- Muitas colunas são do tipo `object`: Colunas como Churn, `customer.gender`, `phone.PhoneService`, `account.Charges.Total`, etc., são todas classificadas como `object`. `object` geralmente significa que o Pandas está tratando a coluna como texto (string).\n",
        "\n",
        "- Possíveis Problemas:\n",
        "Para colunas como `Churn` ou` phone.PhoneService`, que contêm 'Yes' e 'No', object é esperado, mas precisaremos convertê-las para números (1 e 0) para fazer cálculos e análises.\n",
        "Para colunas como `customer.tenure` (meses de contrato) e especialmente `account.Charges.Total` (gastos totais), o tipo object é um sinal de alerta. Esperávamos que fossem números (`int64` ou `float64`). O fato de não serem indica que provavelmente existem valores nessas colunas que não são números (como espaços em branco ou outros caracteres), o que está \"contaminando\" a coluna inteira."
      ],
      "metadata": {
        "id": "KsuR_0SufNzb"
      }
    },
    {
      "cell_type": "code",
      "source": [
        "# Vamos tentar converter a coluna 'account.Charges.Total' para float.\n",
        "# Esperamos um erro, pois sabemos que o tipo é 'object'. O erro nos dará a pista.\n",
        "try:\n",
        "    dados_normalizados['account.Charges.Total'].astype(float)\n",
        "except ValueError as e:\n",
        "    print(\"--- INVESTIGAÇÃO CONCLUída: ERRO ENCONTRADO ---\")\n",
        "    print(f\"A conversão falhou com a seguinte mensagem de erro:\\n-> {e}\")"
      ],
      "metadata": {
        "colab": {
          "base_uri": "https://localhost:8080/"
        },
        "id": "Ln2j6b5B9fNd",
        "outputId": "44e61c41-c43c-48fd-c4fb-feb506b70e5c"
      },
      "execution_count": 8,
      "outputs": [
        {
          "output_type": "stream",
          "name": "stdout",
          "text": [
            "--- INVESTIGAÇÃO CONCLUída: ERRO ENCONTRADO ---\n",
            "A conversão falhou com a seguinte mensagem de erro:\n",
            "-> could not convert string to float: ' '\n"
          ]
        }
      ]
    },
    {
      "cell_type": "markdown",
      "source": [
        "Agora sabemos, com certeza, que o problema são strings que contêm apenas um espaço em branco (`' '`). Esses espaços não são números e, portanto, a coluna inteira foi classificada como `object`"
      ],
      "metadata": {
        "id": "AqV679ao9k5k"
      }
    },
    {
      "cell_type": "markdown",
      "source": [
        "- Faremos a conversão para numérico novamente, mas desta vez usaremos o parâmetro `errors='coerce'`.\n",
        "- Isso dirá ao Pandas: \"tente converter para número e, se você encontrar um valor que não pode ser convertido (como o `' '`), transforme-o em `NaN` (Not a Number), que é o marcador padrão do Pandas para dados ausentes.\"\n",
        "- Depois da conversão, vamos verificar se os `NaNs` foram realmente criados.\n",
        "- Finalmente, decidiremos o que fazer com as linhas que contêm esses dados ausentes."
      ],
      "metadata": {
        "id": "IYT1hVaQ9tdE"
      }
    },
    {
      "cell_type": "code",
      "source": [
        "# Etapa: Conversão segura de account.Charges.Total com to_numeric(..., errors='coerce')\n",
        "# Ação 1: Usar 'coerce' para transformar os valores inválidos em Nulos (NaN)\n",
        "print(\"1. Convertendo a coluna 'account.Charges.Total' para um formato numérico...\")\n",
        "dados_normalizados['account.Charges.Total'] = pd.to_numeric(dados_normalizados['account.Charges.Total'], errors='coerce')\n",
        "print(\"   Conversão concluída. Valores problemáticos agora são 'NaN'.\")"
      ],
      "metadata": {
        "colab": {
          "base_uri": "https://localhost:8080/"
        },
        "id": "WZH_mOlR-ObY",
        "outputId": "a36ba5f8-d37a-421f-eee3-4c0a0c5e7ba9"
      },
      "execution_count": 9,
      "outputs": [
        {
          "output_type": "stream",
          "name": "stdout",
          "text": [
            "1. Convertendo a coluna 'account.Charges.Total' para um formato numérico...\n",
            "   Conversão concluída. Valores problemáticos agora são 'NaN'.\n"
          ]
        }
      ]
    },
    {
      "cell_type": "code",
      "source": [
        "# Etapa: Contagem e remoção dos NaN gerados em account.Charges.Total\n",
        "# Verificação 1: Vamos confirmar quantos valores nulos foram criados.\n",
        "# Esperamos que o número seja diferente de zero agora.\n",
        "print(\"\\n2. Investigando: Contando valores nulos na coluna...\")\n",
        "nulos_encontrados = dados_normalizados['account.Charges.Total'].isnull().sum()\n",
        "print(f\"   Descoberta: Encontrado(s) {nulos_encontrados} valor(es) nulo(s).\")"
      ],
      "metadata": {
        "colab": {
          "base_uri": "https://localhost:8080/"
        },
        "id": "5fMmPibS-RKk",
        "outputId": "8cdb09bf-0709-48fa-bed2-0662ad72018b"
      },
      "execution_count": 10,
      "outputs": [
        {
          "output_type": "stream",
          "name": "stdout",
          "text": [
            "\n",
            "2. Investigando: Contando valores nulos na coluna...\n",
            "   Descoberta: Encontrado(s) 11 valor(es) nulo(s).\n"
          ]
        }
      ]
    },
    {
      "cell_type": "code",
      "source": [
        "# Ação: Como são poucos dados (comparado ao total), e não temos como saber o valor correto,\n",
        "# a abordagem mais segura é remover as linhas com esses dados faltantes.\n",
        "print(\"\\n3. Ação: Removendo as linhas com valores nulos...\")\n",
        "dados_normalizados.dropna(subset=['account.Charges.Total'], inplace=True)\n",
        "print(\"   Linhas removidas.\")"
      ],
      "metadata": {
        "colab": {
          "base_uri": "https://localhost:8080/"
        },
        "id": "kiCuMYCM-VW7",
        "outputId": "d841e60d-194c-4f45-b591-080bcc59bf00"
      },
      "execution_count": 11,
      "outputs": [
        {
          "output_type": "stream",
          "name": "stdout",
          "text": [
            "\n",
            "3. Ação: Removendo as linhas com valores nulos...\n",
            "   Linhas removidas.\n"
          ]
        }
      ]
    },
    {
      "cell_type": "code",
      "source": [
        "# Verificação: Vamos confirmar que a coluna agora está 100% limpa e com o tipo correto.\n",
        "print(\"\\n4. Verificação Final:\")\n",
        "print(\"   Contagem de nulos agora:\", dados_normalizados['account.Charges.Total'].isnull().sum())\n",
        "print(\"   Novo tipo de dado da coluna:\", dados_normalizados['account.Charges.Total'].dtype)"
      ],
      "metadata": {
        "colab": {
          "base_uri": "https://localhost:8080/"
        },
        "id": "nSc76THA-YHo",
        "outputId": "6f05f02b-0bbd-4625-d7c0-ba4085212d46"
      },
      "execution_count": 12,
      "outputs": [
        {
          "output_type": "stream",
          "name": "stdout",
          "text": [
            "\n",
            "4. Verificação Final:\n",
            "   Contagem de nulos agora: 0\n",
            "   Novo tipo de dado da coluna: float64\n"
          ]
        }
      ]
    },
    {
      "cell_type": "code",
      "source": [
        "# O método .info() nos dá um resumo do DataFrame.\n",
        "# Ele mostra o nome de cada coluna, a quantidade de valores não-nulos e o tipo de dado (Dtype).\n",
        "print(\"--- Resumo e Tipos de Dados das Colunas ---\")\n",
        "dados_normalizados.info()"
      ],
      "metadata": {
        "colab": {
          "base_uri": "https://localhost:8080/"
        },
        "id": "gWqwTNQg-_Ty",
        "outputId": "bd167e9e-b40b-4a53-9071-8767ecea4182"
      },
      "execution_count": 13,
      "outputs": [
        {
          "output_type": "stream",
          "name": "stdout",
          "text": [
            "--- Resumo e Tipos de Dados das Colunas ---\n",
            "<class 'pandas.core.frame.DataFrame'>\n",
            "Index: 7256 entries, 0 to 7266\n",
            "Data columns (total 21 columns):\n",
            " #   Column                     Non-Null Count  Dtype  \n",
            "---  ------                     --------------  -----  \n",
            " 0   customerID                 7256 non-null   object \n",
            " 1   Churn                      7256 non-null   object \n",
            " 2   customer.gender            7256 non-null   object \n",
            " 3   customer.SeniorCitizen     7256 non-null   int64  \n",
            " 4   customer.Partner           7256 non-null   object \n",
            " 5   customer.Dependents        7256 non-null   object \n",
            " 6   customer.tenure            7256 non-null   int64  \n",
            " 7   phone.PhoneService         7256 non-null   object \n",
            " 8   phone.MultipleLines        7256 non-null   object \n",
            " 9   internet.InternetService   7256 non-null   object \n",
            " 10  internet.OnlineSecurity    7256 non-null   object \n",
            " 11  internet.OnlineBackup      7256 non-null   object \n",
            " 12  internet.DeviceProtection  7256 non-null   object \n",
            " 13  internet.TechSupport       7256 non-null   object \n",
            " 14  internet.StreamingTV       7256 non-null   object \n",
            " 15  internet.StreamingMovies   7256 non-null   object \n",
            " 16  account.Contract           7256 non-null   object \n",
            " 17  account.PaperlessBilling   7256 non-null   object \n",
            " 18  account.PaymentMethod      7256 non-null   object \n",
            " 19  account.Charges.Monthly    7256 non-null   float64\n",
            " 20  account.Charges.Total      7256 non-null   float64\n",
            "dtypes: float64(2), int64(2), object(17)\n",
            "memory usage: 1.2+ MB\n"
          ]
        }
      ]
    },
    {
      "cell_type": "code",
      "source": [
        "# Etapa: Investigação e limpeza da coluna Churn (valores em branco)\n",
        "# Vamos contar a frequência de cada valor único na coluna 'Churn'.\n",
        "# Isso é fundamental para entender a nossa variável alvo.\n",
        "print(\"--- Investigando a coluna 'Churn' ---\")\n",
        "print(dados_normalizados['Churn'].value_counts())"
      ],
      "metadata": {
        "colab": {
          "base_uri": "https://localhost:8080/"
        },
        "id": "kG3yzR2M_Zvo",
        "outputId": "ebe339eb-924e-47ef-9709-850c4d704bb1"
      },
      "execution_count": 14,
      "outputs": [
        {
          "output_type": "stream",
          "name": "stdout",
          "text": [
            "--- Investigando a coluna 'Churn' ---\n",
            "Churn\n",
            "No     5163\n",
            "Yes    1869\n",
            "        224\n",
            "Name: count, dtype: int64\n"
          ]
        }
      ]
    },
    {
      "cell_type": "code",
      "source": [
        "# Ação: Filtrar o DataFrame para remover os 224 registros onde 'Churn' é uma string vazia.\n",
        "linhas_antes = len(dados_normalizados)\n",
        "dados_normalizados = dados_normalizados[dados_normalizados['Churn'] != ''].copy()\n",
        "linhas_depois = len(dados_normalizados)\n",
        "print(f\"Ação de Limpeza: {linhas_antes - linhas_depois} linhas foram removidas.\")\n",
        "\n",
        "# Ao adicionar .copy(), forçamos o Pandas a criar\n",
        "# uma cópia explícita do DataFrame filtrado, garantindo que todas as operações subsequentes (como o inplace=True em dropna ou outras transformações)\n",
        "# afetem apenas essa nova cópia, evitando assim os avisos e garantindo a consistência dos resultados."
      ],
      "metadata": {
        "colab": {
          "base_uri": "https://localhost:8080/"
        },
        "id": "edJF3bmhAWpg",
        "outputId": "422abe6e-90e0-4cd1-b059-3b66decde577"
      },
      "execution_count": 15,
      "outputs": [
        {
          "output_type": "stream",
          "name": "stdout",
          "text": [
            "Ação de Limpeza: 224 linhas foram removidas.\n"
          ]
        }
      ]
    },
    {
      "cell_type": "code",
      "source": [
        "# Verificação: Vamos conferir o resultado final da coluna 'Churn'\n",
        "print(\"\\n--- Verificação Pós-Transformação de 'Churn' ---\")\n",
        "print(\"Valores e contagens em 'Churn' após a limpeza:\")\n",
        "print(dados_normalizados['Churn'].value_counts())\n",
        "print(\"\\nTipo de dado da coluna 'Churn':\", dados_normalizados['Churn'].dtype)"
      ],
      "metadata": {
        "colab": {
          "base_uri": "https://localhost:8080/"
        },
        "id": "R7aNw6piAdy5",
        "outputId": "aab20f4a-2e81-4c50-d2da-13447439aa42"
      },
      "execution_count": 16,
      "outputs": [
        {
          "output_type": "stream",
          "name": "stdout",
          "text": [
            "\n",
            "--- Verificação Pós-Transformação de 'Churn' ---\n",
            "Valores e contagens em 'Churn' após a limpeza:\n",
            "Churn\n",
            "No     5163\n",
            "Yes    1869\n",
            "Name: count, dtype: int64\n",
            "\n",
            "Tipo de dado da coluna 'Churn': object\n"
          ]
        }
      ]
    },
    {
      "cell_type": "code",
      "source": [
        "# Mapear 'Yes' para 1 e 'No' para 0 na coluna 'Churn'\n",
        "print(\"Mapeando 'Yes' para 1 e 'No' para 0 na coluna 'Churn'...\")\n",
        "pd.set_option('future.no_silent_downcasting', True)\n",
        "dados_normalizados['Churn'] = dados_normalizados['Churn'].replace({'Yes': 1, 'No': 0})\n",
        "# Converter a coluna 'Churn' para tipo int\n",
        "dados_normalizados['Churn'] = dados_normalizados['Churn'].astype(int)\n",
        "print(\"Mapeamento e conversão para int concluídos.\")\n",
        "\n",
        "# Verificar o resultado\n",
        "print(\"\\nValores e contagens em 'Churn' após o mapeamento:\")\n",
        "print(dados_normalizados['Churn'].value_counts())\n",
        "print(\"\\nNovo tipo de dado da coluna 'Churn':\", dados_normalizados['Churn'].dtype)"
      ],
      "metadata": {
        "colab": {
          "base_uri": "https://localhost:8080/"
        },
        "id": "HKkw9I9TPo7m",
        "outputId": "f3f0c6ca-17ff-4d66-b6e1-e98d76c8347d"
      },
      "execution_count": 17,
      "outputs": [
        {
          "output_type": "stream",
          "name": "stdout",
          "text": [
            "Mapeando 'Yes' para 1 e 'No' para 0 na coluna 'Churn'...\n",
            "Mapeamento e conversão para int concluídos.\n",
            "\n",
            "Valores e contagens em 'Churn' após o mapeamento:\n",
            "Churn\n",
            "0    5163\n",
            "1    1869\n",
            "Name: count, dtype: int64\n",
            "\n",
            "Novo tipo de dado da coluna 'Churn': int64\n"
          ]
        }
      ]
    },
    {
      "cell_type": "code",
      "source": [
        "# O método .info() nos dá um resumo do DataFrame.\n",
        "# Ele mostra o nome de cada coluna, a quantidade de valores não-nulos e o tipo de dado (Dtype).\n",
        "print(\"--- Resumo e Tipos de Dados das Colunas ---\")\n",
        "dados_normalizados.info()"
      ],
      "metadata": {
        "colab": {
          "base_uri": "https://localhost:8080/"
        },
        "id": "JqQwFtZlB8aA",
        "outputId": "f6e0d544-b99c-436f-cea4-0745af0c374b"
      },
      "execution_count": 18,
      "outputs": [
        {
          "output_type": "stream",
          "name": "stdout",
          "text": [
            "--- Resumo e Tipos de Dados das Colunas ---\n",
            "<class 'pandas.core.frame.DataFrame'>\n",
            "Index: 7032 entries, 0 to 7266\n",
            "Data columns (total 21 columns):\n",
            " #   Column                     Non-Null Count  Dtype  \n",
            "---  ------                     --------------  -----  \n",
            " 0   customerID                 7032 non-null   object \n",
            " 1   Churn                      7032 non-null   int64  \n",
            " 2   customer.gender            7032 non-null   object \n",
            " 3   customer.SeniorCitizen     7032 non-null   int64  \n",
            " 4   customer.Partner           7032 non-null   object \n",
            " 5   customer.Dependents        7032 non-null   object \n",
            " 6   customer.tenure            7032 non-null   int64  \n",
            " 7   phone.PhoneService         7032 non-null   object \n",
            " 8   phone.MultipleLines        7032 non-null   object \n",
            " 9   internet.InternetService   7032 non-null   object \n",
            " 10  internet.OnlineSecurity    7032 non-null   object \n",
            " 11  internet.OnlineBackup      7032 non-null   object \n",
            " 12  internet.DeviceProtection  7032 non-null   object \n",
            " 13  internet.TechSupport       7032 non-null   object \n",
            " 14  internet.StreamingTV       7032 non-null   object \n",
            " 15  internet.StreamingMovies   7032 non-null   object \n",
            " 16  account.Contract           7032 non-null   object \n",
            " 17  account.PaperlessBilling   7032 non-null   object \n",
            " 18  account.PaymentMethod      7032 non-null   object \n",
            " 19  account.Charges.Monthly    7032 non-null   float64\n",
            " 20  account.Charges.Total      7032 non-null   float64\n",
            "dtypes: float64(2), int64(3), object(16)\n",
            "memory usage: 1.2+ MB\n"
          ]
        }
      ]
    },
    {
      "cell_type": "code",
      "source": [
        "# Etapa 9: Investigação de colunas específicas\n",
        "# Vamos investigar o conteúdo da coluna 'phone.MultipleLines' para ver quais são os valores possíveis.\n",
        "print(\"--- Investigando a coluna 'phone.MultipleLines' ---\")\n",
        "print(\"Valores únicos e suas contagens:\")\n",
        "print(dados_normalizados['phone.MultipleLines'].value_counts())"
      ],
      "metadata": {
        "colab": {
          "base_uri": "https://localhost:8080/"
        },
        "id": "llIUMSPUAiCr",
        "outputId": "7586b779-09c5-4f06-fe15-4352b2a3595a"
      },
      "execution_count": 19,
      "outputs": [
        {
          "output_type": "stream",
          "name": "stdout",
          "text": [
            "--- Investigando a coluna 'phone.MultipleLines' ---\n",
            "Valores únicos e suas contagens:\n",
            "phone.MultipleLines\n",
            "No                  3385\n",
            "Yes                 2967\n",
            "No phone service     680\n",
            "Name: count, dtype: int64\n"
          ]
        }
      ]
    },
    {
      "cell_type": "markdown",
      "source": [
        "Descobertas:\n",
        "\n",
        "- Encontramos os valores 'Yes' e 'No', como esperado.\n",
        "- Descobrimos um terceiro valor: 'No phone service'. Isso é crucial. Significa que não podemos simplesmente mapear 'Yes' para 1 e 'No' para 0, pois precisamos decidir o que fazer com essa terceira categoria.\n",
        "- Nosso plano deve ser:\n",
        "- Mapear 'Yes' para 1.\n",
        "- Mapear tanto 'No' quanto 'No phone service' para 0."
      ],
      "metadata": {
        "id": "T_M_gV_6CpVx"
      }
    },
    {
      "cell_type": "code",
      "source": [
        "# Ação: Filtrar o DataFrame E criar uma cópia explícita para evitar avisos futuros.\n",
        "linhas_antes = len(dados_normalizados)\n",
        "dados_normalizados = dados_normalizados[dados_normalizados['Churn'] != ''].copy()\n",
        "linhas_depois = len(dados_normalizados)\n",
        "print(f\"Ação de Limpeza: {linhas_antes - linhas_depois} linhas foram removidas.\")"
      ],
      "metadata": {
        "colab": {
          "base_uri": "https://localhost:8080/"
        },
        "id": "ALbS_ZysDEoa",
        "outputId": "7a8da19d-47a9-4b03-b678-31de98b7268a"
      },
      "execution_count": 20,
      "outputs": [
        {
          "output_type": "stream",
          "name": "stdout",
          "text": [
            "Ação de Limpeza: 0 linhas foram removidas.\n"
          ]
        }
      ]
    },
    {
      "cell_type": "code",
      "source": [
        "#Mapeamento da coluna phone.MultipleLines para valores numéricos\n",
        "\n",
        "# Define o mapeamento específico para 'phone.MultipleLines'.\n",
        "# 'Yes' vai para 1, 'No' e 'No phone service' vão para 0.\n",
        "mapa_multiple_lines = {'Yes': 1, 'No': 0, 'No phone service': 0}\n",
        "\n",
        "# Aplica o mapeamento à coluna.\n",
        "dados_normalizados['phone.MultipleLines'] = dados_normalizados['phone.MultipleLines'].map(mapa_multiple_lines)\n",
        "\n",
        "print(\"Mapeamento da coluna 'phone.MultipleLines' concluído.\")"
      ],
      "metadata": {
        "colab": {
          "base_uri": "https://localhost:8080/"
        },
        "id": "pLvo2ZvEvilS",
        "outputId": "72bcda52-ac4d-4a0a-8da1-261a00e2a468"
      },
      "execution_count": 21,
      "outputs": [
        {
          "output_type": "stream",
          "name": "stdout",
          "text": [
            "Mapeamento da coluna 'phone.MultipleLines' concluído.\n"
          ]
        }
      ]
    },
    {
      "cell_type": "code",
      "source": [
        "# Verificação: Vamos conferir se a transformação funcionou como o esperado.\n",
        "print(\"\\nValores e contagens após o mapeamento:\")\n",
        "print(dados_normalizados['phone.MultipleLines'].value_counts())\n",
        "print(\"\\nNovo tipo de dado da coluna:\", dados_normalizados['phone.MultipleLines'].dtype)"
      ],
      "metadata": {
        "colab": {
          "base_uri": "https://localhost:8080/"
        },
        "id": "D1mVDkm-DGwA",
        "outputId": "bd522d48-6af8-4980-8bc1-ba697f9741d8"
      },
      "execution_count": 22,
      "outputs": [
        {
          "output_type": "stream",
          "name": "stdout",
          "text": [
            "\n",
            "Valores e contagens após o mapeamento:\n",
            "phone.MultipleLines\n",
            "0    4065\n",
            "1    2967\n",
            "Name: count, dtype: int64\n",
            "\n",
            "Novo tipo de dado da coluna: int64\n"
          ]
        }
      ]
    },
    {
      "cell_type": "code",
      "source": [
        "# O método .info() nos dá um resumo do DataFrame.\n",
        "# Ele mostra o nome de cada coluna, a quantidade de valores não-nulos e o tipo de dado (Dtype).\n",
        "print(\"--- Resumo e Tipos de Dados das Colunas ---\")\n",
        "dados_normalizados.info()"
      ],
      "metadata": {
        "colab": {
          "base_uri": "https://localhost:8080/"
        },
        "id": "P202HCe8DPlx",
        "outputId": "36091c7d-69b3-494e-e63f-e8767e5651a8"
      },
      "execution_count": 23,
      "outputs": [
        {
          "output_type": "stream",
          "name": "stdout",
          "text": [
            "--- Resumo e Tipos de Dados das Colunas ---\n",
            "<class 'pandas.core.frame.DataFrame'>\n",
            "Index: 7032 entries, 0 to 7266\n",
            "Data columns (total 21 columns):\n",
            " #   Column                     Non-Null Count  Dtype  \n",
            "---  ------                     --------------  -----  \n",
            " 0   customerID                 7032 non-null   object \n",
            " 1   Churn                      7032 non-null   int64  \n",
            " 2   customer.gender            7032 non-null   object \n",
            " 3   customer.SeniorCitizen     7032 non-null   int64  \n",
            " 4   customer.Partner           7032 non-null   object \n",
            " 5   customer.Dependents        7032 non-null   object \n",
            " 6   customer.tenure            7032 non-null   int64  \n",
            " 7   phone.PhoneService         7032 non-null   object \n",
            " 8   phone.MultipleLines        7032 non-null   int64  \n",
            " 9   internet.InternetService   7032 non-null   object \n",
            " 10  internet.OnlineSecurity    7032 non-null   object \n",
            " 11  internet.OnlineBackup      7032 non-null   object \n",
            " 12  internet.DeviceProtection  7032 non-null   object \n",
            " 13  internet.TechSupport       7032 non-null   object \n",
            " 14  internet.StreamingTV       7032 non-null   object \n",
            " 15  internet.StreamingMovies   7032 non-null   object \n",
            " 16  account.Contract           7032 non-null   object \n",
            " 17  account.PaperlessBilling   7032 non-null   object \n",
            " 18  account.PaymentMethod      7032 non-null   object \n",
            " 19  account.Charges.Monthly    7032 non-null   float64\n",
            " 20  account.Charges.Total      7032 non-null   float64\n",
            "dtypes: float64(2), int64(4), object(15)\n",
            "memory usage: 1.2+ MB\n"
          ]
        }
      ]
    },
    {
      "cell_type": "code",
      "source": [
        "# Investigação: Vamos ver os valores únicos da coluna de Segurança Online.\n",
        "print(\"--- Investigando a coluna 'internet.OnlineSecurity' ---\")\n",
        "print(dados_normalizados['internet.OnlineSecurity'].value_counts())"
      ],
      "metadata": {
        "colab": {
          "base_uri": "https://localhost:8080/"
        },
        "id": "EWz3owklDYP2",
        "outputId": "ec47fb72-c46f-4c76-bd90-764091883fbc"
      },
      "execution_count": 24,
      "outputs": [
        {
          "output_type": "stream",
          "name": "stdout",
          "text": [
            "--- Investigando a coluna 'internet.OnlineSecurity' ---\n",
            "internet.OnlineSecurity\n",
            "No                     3497\n",
            "Yes                    2015\n",
            "No internet service    1520\n",
            "Name: count, dtype: int64\n"
          ]
        }
      ]
    },
    {
      "cell_type": "markdown",
      "source": [
        "Descoberta:\n",
        "- O padrão se repete. Temos 'Yes', 'No', e a categoria 'No internet service'.\n",
        "- Assim como antes, quem não tem internet não tem o serviço de segurança online, então podemos tratar 'No internet service' da mesma forma que 'No'."
      ],
      "metadata": {
        "id": "swC3Grx8DdS7"
      }
    },
    {
      "cell_type": "code",
      "source": [
        "# Investigação: Vamos ver os valores únicos da coluna de Backup Online.\n",
        "print(\"--- Investigando: internet.OnlineBackup ---\")\n",
        "print(dados_normalizados['internet.OnlineBackup'].value_counts())"
      ],
      "metadata": {
        "colab": {
          "base_uri": "https://localhost:8080/"
        },
        "id": "A2J6r9L-D2dh",
        "outputId": "78aabacc-fef1-4cd1-a278-5edd746bbd3f"
      },
      "execution_count": 25,
      "outputs": [
        {
          "output_type": "stream",
          "name": "stdout",
          "text": [
            "--- Investigando: internet.OnlineBackup ---\n",
            "internet.OnlineBackup\n",
            "No                     3087\n",
            "Yes                    2425\n",
            "No internet service    1520\n",
            "Name: count, dtype: int64\n"
          ]
        }
      ]
    },
    {
      "cell_type": "code",
      "source": [
        "# Investigação: E a coluna de Proteção de Dispositivo?\n",
        "print(\"\\n--- Investigando: internet.DeviceProtection ---\")\n",
        "print(dados_normalizados['internet.DeviceProtection'].value_counts())"
      ],
      "metadata": {
        "colab": {
          "base_uri": "https://localhost:8080/"
        },
        "id": "8X-etuGAEvss",
        "outputId": "a096158e-11be-4fde-bc43-0cc4e693e4cf"
      },
      "execution_count": 26,
      "outputs": [
        {
          "output_type": "stream",
          "name": "stdout",
          "text": [
            "\n",
            "--- Investigando: internet.DeviceProtection ---\n",
            "internet.DeviceProtection\n",
            "No                     3094\n",
            "Yes                    2418\n",
            "No internet service    1520\n",
            "Name: count, dtype: int64\n"
          ]
        }
      ]
    },
    {
      "cell_type": "code",
      "source": [
        "# Investigação: E a coluna de Suporte Técnico?\n",
        "print(\"\\n--- Investigando: internet.TechSupport ---\")\n",
        "print(dados_normalizados['internet.TechSupport'].value_counts())"
      ],
      "metadata": {
        "colab": {
          "base_uri": "https://localhost:8080/"
        },
        "id": "oURF3VMXExOM",
        "outputId": "c6111337-834d-4a6e-987c-b2a5812d76b2"
      },
      "execution_count": 27,
      "outputs": [
        {
          "output_type": "stream",
          "name": "stdout",
          "text": [
            "\n",
            "--- Investigando: internet.TechSupport ---\n",
            "internet.TechSupport\n",
            "No                     3472\n",
            "Yes                    2040\n",
            "No internet service    1520\n",
            "Name: count, dtype: int64\n"
          ]
        }
      ]
    },
    {
      "cell_type": "code",
      "source": [
        "# Investigação: E a coluna de StreamingTV?\n",
        "print(\"\\n--- Investigando: internet.StreamingTV ---\")\n",
        "print(dados_normalizados['internet.StreamingTV'].value_counts())"
      ],
      "metadata": {
        "colab": {
          "base_uri": "https://localhost:8080/"
        },
        "id": "h2wOakDZE6W1",
        "outputId": "37553c2e-c475-4755-afbd-10ae9bce2a8d"
      },
      "execution_count": 28,
      "outputs": [
        {
          "output_type": "stream",
          "name": "stdout",
          "text": [
            "\n",
            "--- Investigando: internet.StreamingTV ---\n",
            "internet.StreamingTV\n",
            "No                     2809\n",
            "Yes                    2703\n",
            "No internet service    1520\n",
            "Name: count, dtype: int64\n"
          ]
        }
      ]
    },
    {
      "cell_type": "code",
      "source": [
        "# Investigação: E a coluna de StreamingMovies?\n",
        "print(\"\\n--- Investigando: internet.StreamingMovies ---\")\n",
        "print(dados_normalizados['internet.StreamingMovies'].value_counts())"
      ],
      "metadata": {
        "colab": {
          "base_uri": "https://localhost:8080/"
        },
        "id": "B04UPUBuFBxi",
        "outputId": "18955853-c293-4865-fd9b-c12d65e0c32a"
      },
      "execution_count": 29,
      "outputs": [
        {
          "output_type": "stream",
          "name": "stdout",
          "text": [
            "\n",
            "--- Investigando: internet.StreamingMovies ---\n",
            "internet.StreamingMovies\n",
            "No                     2781\n",
            "Yes                    2731\n",
            "No internet service    1520\n",
            "Name: count, dtype: int64\n"
          ]
        }
      ]
    },
    {
      "cell_type": "markdown",
      "source": [
        "**Comentario**\n",
        "- Agora que provamos que o padrão se repete, podemos criar uma única célula de ação para aplicar a transformação a todas essas colunas de serviço de uma vez, além das colunas binárias simples que também precisam ser tratadas."
      ],
      "metadata": {
        "id": "VSdRloPaFJ48"
      }
    },
    {
      "cell_type": "code",
      "source": [
        "# Ação: Mapeamento de Colunas Binárias e de Serviço para Valores Numéricos (0 e 1)\n",
        "\n",
        "# Define o mapeamento para as colunas de serviço (onde 'No internet service' se comporta como 'No').\n",
        "colunas_de_servico = [\n",
        "    'internet.OnlineSecurity', 'internet.OnlineBackup',\n",
        "    'internet.DeviceProtection', 'internet.TechSupport',\n",
        "    'internet.StreamingTV', 'internet.StreamingMovies'\n",
        "]\n",
        "mapa_servico = {'Yes': 1, 'No': 0, 'No internet service': 0}\n",
        "\n",
        "# Aplica o mapeamento a cada coluna de serviço.\n",
        "for coluna in colunas_de_servico:\n",
        "    dados_normalizados[coluna] = dados_normalizados[coluna].map(mapa_servico)\n",
        "\n",
        "# Define o mapeamento para colunas binárias simples ('Yes'/'No').\n",
        "colunas_simples_sim_nao = [\n",
        "    'customer.Partner', 'customer.Dependents', 'phone.PhoneService', 'account.PaperlessBilling'\n",
        "]\n",
        "mapa_simples = {'Yes': 1, 'No': 0}\n",
        "\n",
        "# Aplica o mapeamento a cada coluna binária simples.\n",
        "for coluna in colunas_simples_sim_nao:\n",
        "    dados_normalizados[coluna] = dados_normalizados[coluna].map(mapa_simples)\n",
        "\n",
        "print(\"Mapeamento de colunas binárias e de serviço concluído.\")\n",
        "\n",
        "# Verificação: Exibe as primeiras linhas para confirmar as transformações.\n",
        "print(\"\\nVisualizando o DataFrame com as colunas transformadas:\")\n",
        "display(dados_normalizados.head())\n",
        "\n",
        "# Re-verifica os tipos de dados após todas as transformações para garantir que estão corretos.\n",
        "print(\"\\n--- Resumo dos Tipos de Dados Pós-Mapeamento ---\")\n",
        "dados_normalizados.info()"
      ],
      "metadata": {
        "colab": {
          "base_uri": "https://localhost:8080/",
          "height": 0
        },
        "id": "4CI2EVjhFP9o",
        "outputId": "11134a27-f930-4402-8423-07538628c15a"
      },
      "execution_count": 30,
      "outputs": [
        {
          "output_type": "stream",
          "name": "stdout",
          "text": [
            "Mapeamento de colunas binárias e de serviço concluído.\n",
            "\n",
            "Visualizando o DataFrame com as colunas transformadas:\n"
          ]
        },
        {
          "output_type": "display_data",
          "data": {
            "text/plain": [
              "   customerID  Churn customer.gender  customer.SeniorCitizen  \\\n",
              "0  0002-ORFBO      0          Female                       0   \n",
              "1  0003-MKNFE      0            Male                       0   \n",
              "2  0004-TLHLJ      1            Male                       0   \n",
              "3  0011-IGKFF      1            Male                       1   \n",
              "4  0013-EXCHZ      1          Female                       1   \n",
              "\n",
              "   customer.Partner  customer.Dependents  customer.tenure  phone.PhoneService  \\\n",
              "0                 1                    1                9                   1   \n",
              "1                 0                    0                9                   1   \n",
              "2                 0                    0                4                   1   \n",
              "3                 1                    0               13                   1   \n",
              "4                 1                    0                3                   1   \n",
              "\n",
              "   phone.MultipleLines internet.InternetService  ...  internet.OnlineBackup  \\\n",
              "0                    0                      DSL  ...                      1   \n",
              "1                    1                      DSL  ...                      0   \n",
              "2                    0              Fiber optic  ...                      0   \n",
              "3                    0              Fiber optic  ...                      1   \n",
              "4                    0              Fiber optic  ...                      0   \n",
              "\n",
              "   internet.DeviceProtection  internet.TechSupport  internet.StreamingTV  \\\n",
              "0                          0                     1                     1   \n",
              "1                          0                     0                     0   \n",
              "2                          1                     0                     0   \n",
              "3                          1                     0                     1   \n",
              "4                          0                     1                     1   \n",
              "\n",
              "   internet.StreamingMovies  account.Contract account.PaperlessBilling  \\\n",
              "0                         0          One year                        1   \n",
              "1                         1    Month-to-month                        0   \n",
              "2                         0    Month-to-month                        1   \n",
              "3                         1    Month-to-month                        1   \n",
              "4                         0    Month-to-month                        1   \n",
              "\n",
              "   account.PaymentMethod account.Charges.Monthly  account.Charges.Total  \n",
              "0           Mailed check                    65.6                 593.30  \n",
              "1           Mailed check                    59.9                 542.40  \n",
              "2       Electronic check                    73.9                 280.85  \n",
              "3       Electronic check                    98.0                1237.85  \n",
              "4           Mailed check                    83.9                 267.40  \n",
              "\n",
              "[5 rows x 21 columns]"
            ],
            "text/html": [
              "\n",
              "  <div id=\"df-053ecca9-a7ff-4a80-976a-e495dcd35511\" class=\"colab-df-container\">\n",
              "    <div>\n",
              "<style scoped>\n",
              "    .dataframe tbody tr th:only-of-type {\n",
              "        vertical-align: middle;\n",
              "    }\n",
              "\n",
              "    .dataframe tbody tr th {\n",
              "        vertical-align: top;\n",
              "    }\n",
              "\n",
              "    .dataframe thead th {\n",
              "        text-align: right;\n",
              "    }\n",
              "</style>\n",
              "<table border=\"1\" class=\"dataframe\">\n",
              "  <thead>\n",
              "    <tr style=\"text-align: right;\">\n",
              "      <th></th>\n",
              "      <th>customerID</th>\n",
              "      <th>Churn</th>\n",
              "      <th>customer.gender</th>\n",
              "      <th>customer.SeniorCitizen</th>\n",
              "      <th>customer.Partner</th>\n",
              "      <th>customer.Dependents</th>\n",
              "      <th>customer.tenure</th>\n",
              "      <th>phone.PhoneService</th>\n",
              "      <th>phone.MultipleLines</th>\n",
              "      <th>internet.InternetService</th>\n",
              "      <th>...</th>\n",
              "      <th>internet.OnlineBackup</th>\n",
              "      <th>internet.DeviceProtection</th>\n",
              "      <th>internet.TechSupport</th>\n",
              "      <th>internet.StreamingTV</th>\n",
              "      <th>internet.StreamingMovies</th>\n",
              "      <th>account.Contract</th>\n",
              "      <th>account.PaperlessBilling</th>\n",
              "      <th>account.PaymentMethod</th>\n",
              "      <th>account.Charges.Monthly</th>\n",
              "      <th>account.Charges.Total</th>\n",
              "    </tr>\n",
              "  </thead>\n",
              "  <tbody>\n",
              "    <tr>\n",
              "      <th>0</th>\n",
              "      <td>0002-ORFBO</td>\n",
              "      <td>0</td>\n",
              "      <td>Female</td>\n",
              "      <td>0</td>\n",
              "      <td>1</td>\n",
              "      <td>1</td>\n",
              "      <td>9</td>\n",
              "      <td>1</td>\n",
              "      <td>0</td>\n",
              "      <td>DSL</td>\n",
              "      <td>...</td>\n",
              "      <td>1</td>\n",
              "      <td>0</td>\n",
              "      <td>1</td>\n",
              "      <td>1</td>\n",
              "      <td>0</td>\n",
              "      <td>One year</td>\n",
              "      <td>1</td>\n",
              "      <td>Mailed check</td>\n",
              "      <td>65.6</td>\n",
              "      <td>593.30</td>\n",
              "    </tr>\n",
              "    <tr>\n",
              "      <th>1</th>\n",
              "      <td>0003-MKNFE</td>\n",
              "      <td>0</td>\n",
              "      <td>Male</td>\n",
              "      <td>0</td>\n",
              "      <td>0</td>\n",
              "      <td>0</td>\n",
              "      <td>9</td>\n",
              "      <td>1</td>\n",
              "      <td>1</td>\n",
              "      <td>DSL</td>\n",
              "      <td>...</td>\n",
              "      <td>0</td>\n",
              "      <td>0</td>\n",
              "      <td>0</td>\n",
              "      <td>0</td>\n",
              "      <td>1</td>\n",
              "      <td>Month-to-month</td>\n",
              "      <td>0</td>\n",
              "      <td>Mailed check</td>\n",
              "      <td>59.9</td>\n",
              "      <td>542.40</td>\n",
              "    </tr>\n",
              "    <tr>\n",
              "      <th>2</th>\n",
              "      <td>0004-TLHLJ</td>\n",
              "      <td>1</td>\n",
              "      <td>Male</td>\n",
              "      <td>0</td>\n",
              "      <td>0</td>\n",
              "      <td>0</td>\n",
              "      <td>4</td>\n",
              "      <td>1</td>\n",
              "      <td>0</td>\n",
              "      <td>Fiber optic</td>\n",
              "      <td>...</td>\n",
              "      <td>0</td>\n",
              "      <td>1</td>\n",
              "      <td>0</td>\n",
              "      <td>0</td>\n",
              "      <td>0</td>\n",
              "      <td>Month-to-month</td>\n",
              "      <td>1</td>\n",
              "      <td>Electronic check</td>\n",
              "      <td>73.9</td>\n",
              "      <td>280.85</td>\n",
              "    </tr>\n",
              "    <tr>\n",
              "      <th>3</th>\n",
              "      <td>0011-IGKFF</td>\n",
              "      <td>1</td>\n",
              "      <td>Male</td>\n",
              "      <td>1</td>\n",
              "      <td>1</td>\n",
              "      <td>0</td>\n",
              "      <td>13</td>\n",
              "      <td>1</td>\n",
              "      <td>0</td>\n",
              "      <td>Fiber optic</td>\n",
              "      <td>...</td>\n",
              "      <td>1</td>\n",
              "      <td>1</td>\n",
              "      <td>0</td>\n",
              "      <td>1</td>\n",
              "      <td>1</td>\n",
              "      <td>Month-to-month</td>\n",
              "      <td>1</td>\n",
              "      <td>Electronic check</td>\n",
              "      <td>98.0</td>\n",
              "      <td>1237.85</td>\n",
              "    </tr>\n",
              "    <tr>\n",
              "      <th>4</th>\n",
              "      <td>0013-EXCHZ</td>\n",
              "      <td>1</td>\n",
              "      <td>Female</td>\n",
              "      <td>1</td>\n",
              "      <td>1</td>\n",
              "      <td>0</td>\n",
              "      <td>3</td>\n",
              "      <td>1</td>\n",
              "      <td>0</td>\n",
              "      <td>Fiber optic</td>\n",
              "      <td>...</td>\n",
              "      <td>0</td>\n",
              "      <td>0</td>\n",
              "      <td>1</td>\n",
              "      <td>1</td>\n",
              "      <td>0</td>\n",
              "      <td>Month-to-month</td>\n",
              "      <td>1</td>\n",
              "      <td>Mailed check</td>\n",
              "      <td>83.9</td>\n",
              "      <td>267.40</td>\n",
              "    </tr>\n",
              "  </tbody>\n",
              "</table>\n",
              "<p>5 rows × 21 columns</p>\n",
              "</div>\n",
              "    <div class=\"colab-df-buttons\">\n",
              "\n",
              "  <div class=\"colab-df-container\">\n",
              "    <button class=\"colab-df-convert\" onclick=\"convertToInteractive('df-053ecca9-a7ff-4a80-976a-e495dcd35511')\"\n",
              "            title=\"Convert this dataframe to an interactive table.\"\n",
              "            style=\"display:none;\">\n",
              "\n",
              "  <svg xmlns=\"http://www.w3.org/2000/svg\" height=\"24px\" viewBox=\"0 -960 960 960\">\n",
              "    <path d=\"M120-120v-720h720v720H120Zm60-500h600v-160H180v160Zm220 220h160v-160H400v160Zm0 220h160v-160H400v160ZM180-400h160v-160H180v160Zm440 0h160v-160H620v160ZM180-180h160v-160H180v160Zm440 0h160v-160H620v160Z\"/>\n",
              "  </svg>\n",
              "    </button>\n",
              "\n",
              "  <style>\n",
              "    .colab-df-container {\n",
              "      display:flex;\n",
              "      gap: 12px;\n",
              "    }\n",
              "\n",
              "    .colab-df-convert {\n",
              "      background-color: #E8F0FE;\n",
              "      border: none;\n",
              "      border-radius: 50%;\n",
              "      cursor: pointer;\n",
              "      display: none;\n",
              "      fill: #1967D2;\n",
              "      height: 32px;\n",
              "      padding: 0 0 0 0;\n",
              "      width: 32px;\n",
              "    }\n",
              "\n",
              "    .colab-df-convert:hover {\n",
              "      background-color: #E2EBFA;\n",
              "      box-shadow: 0px 1px 2px rgba(60, 64, 67, 0.3), 0px 1px 3px 1px rgba(60, 64, 67, 0.15);\n",
              "      fill: #174EA6;\n",
              "    }\n",
              "\n",
              "    .colab-df-buttons div {\n",
              "      margin-bottom: 4px;\n",
              "    }\n",
              "\n",
              "    [theme=dark] .colab-df-convert {\n",
              "      background-color: #3B4455;\n",
              "      fill: #D2E3FC;\n",
              "    }\n",
              "\n",
              "    [theme=dark] .colab-df-convert:hover {\n",
              "      background-color: #434B5C;\n",
              "      box-shadow: 0px 1px 3px 1px rgba(0, 0, 0, 0.15);\n",
              "      filter: drop-shadow(0px 1px 2px rgba(0, 0, 0, 0.3));\n",
              "      fill: #FFFFFF;\n",
              "    }\n",
              "  </style>\n",
              "\n",
              "    <script>\n",
              "      const buttonEl =\n",
              "        document.querySelector('#df-053ecca9-a7ff-4a80-976a-e495dcd35511 button.colab-df-convert');\n",
              "      buttonEl.style.display =\n",
              "        google.colab.kernel.accessAllowed ? 'block' : 'none';\n",
              "\n",
              "      async function convertToInteractive(key) {\n",
              "        const element = document.querySelector('#df-053ecca9-a7ff-4a80-976a-e495dcd35511');\n",
              "        const dataTable =\n",
              "          await google.colab.kernel.invokeFunction('convertToInteractive',\n",
              "                                                    [key], {});\n",
              "        if (!dataTable) return;\n",
              "\n",
              "        const docLinkHtml = 'Like what you see? Visit the ' +\n",
              "          '<a target=\"_blank\" href=https://colab.research.google.com/notebooks/data_table.ipynb>data table notebook</a>'\n",
              "          + ' to learn more about interactive tables.';\n",
              "        element.innerHTML = '';\n",
              "        dataTable['output_type'] = 'display_data';\n",
              "        await google.colab.output.renderOutput(dataTable, element);\n",
              "        const docLink = document.createElement('div');\n",
              "        docLink.innerHTML = docLinkHtml;\n",
              "        element.appendChild(docLink);\n",
              "      }\n",
              "    </script>\n",
              "  </div>\n",
              "\n",
              "\n",
              "    <div id=\"df-f93c3c10-882a-4de0-af12-136a0a8a7bed\">\n",
              "      <button class=\"colab-df-quickchart\" onclick=\"quickchart('df-f93c3c10-882a-4de0-af12-136a0a8a7bed')\"\n",
              "                title=\"Suggest charts\"\n",
              "                style=\"display:none;\">\n",
              "\n",
              "<svg xmlns=\"http://www.w3.org/2000/svg\" height=\"24px\"viewBox=\"0 0 24 24\"\n",
              "     width=\"24px\">\n",
              "    <g>\n",
              "        <path d=\"M19 3H5c-1.1 0-2 .9-2 2v14c0 1.1.9 2 2 2h14c1.1 0 2-.9 2-2V5c0-1.1-.9-2-2-2zM9 17H7v-7h2v7zm4 0h-2V7h2v10zm4 0h-2v-4h2v4z\"/>\n",
              "    </g>\n",
              "</svg>\n",
              "      </button>\n",
              "\n",
              "<style>\n",
              "  .colab-df-quickchart {\n",
              "      --bg-color: #E8F0FE;\n",
              "      --fill-color: #1967D2;\n",
              "      --hover-bg-color: #E2EBFA;\n",
              "      --hover-fill-color: #174EA6;\n",
              "      --disabled-fill-color: #AAA;\n",
              "      --disabled-bg-color: #DDD;\n",
              "  }\n",
              "\n",
              "  [theme=dark] .colab-df-quickchart {\n",
              "      --bg-color: #3B4455;\n",
              "      --fill-color: #D2E3FC;\n",
              "      --hover-bg-color: #434B5C;\n",
              "      --hover-fill-color: #FFFFFF;\n",
              "      --disabled-bg-color: #3B4455;\n",
              "      --disabled-fill-color: #666;\n",
              "  }\n",
              "\n",
              "  .colab-df-quickchart {\n",
              "    background-color: var(--bg-color);\n",
              "    border: none;\n",
              "    border-radius: 50%;\n",
              "    cursor: pointer;\n",
              "    display: none;\n",
              "    fill: var(--fill-color);\n",
              "    height: 32px;\n",
              "    padding: 0;\n",
              "    width: 32px;\n",
              "  }\n",
              "\n",
              "  .colab-df-quickchart:hover {\n",
              "    background-color: var(--hover-bg-color);\n",
              "    box-shadow: 0 1px 2px rgba(60, 64, 67, 0.3), 0 1px 3px 1px rgba(60, 64, 67, 0.15);\n",
              "    fill: var(--button-hover-fill-color);\n",
              "  }\n",
              "\n",
              "  .colab-df-quickchart-complete:disabled,\n",
              "  .colab-df-quickchart-complete:disabled:hover {\n",
              "    background-color: var(--disabled-bg-color);\n",
              "    fill: var(--disabled-fill-color);\n",
              "    box-shadow: none;\n",
              "  }\n",
              "\n",
              "  .colab-df-spinner {\n",
              "    border: 2px solid var(--fill-color);\n",
              "    border-color: transparent;\n",
              "    border-bottom-color: var(--fill-color);\n",
              "    animation:\n",
              "      spin 1s steps(1) infinite;\n",
              "  }\n",
              "\n",
              "  @keyframes spin {\n",
              "    0% {\n",
              "      border-color: transparent;\n",
              "      border-bottom-color: var(--fill-color);\n",
              "      border-left-color: var(--fill-color);\n",
              "    }\n",
              "    20% {\n",
              "      border-color: transparent;\n",
              "      border-left-color: var(--fill-color);\n",
              "      border-top-color: var(--fill-color);\n",
              "    }\n",
              "    30% {\n",
              "      border-color: transparent;\n",
              "      border-left-color: var(--fill-color);\n",
              "      border-top-color: var(--fill-color);\n",
              "      border-right-color: var(--fill-color);\n",
              "    }\n",
              "    40% {\n",
              "      border-color: transparent;\n",
              "      border-right-color: var(--fill-color);\n",
              "      border-top-color: var(--fill-color);\n",
              "    }\n",
              "    60% {\n",
              "      border-color: transparent;\n",
              "      border-right-color: var(--fill-color);\n",
              "    }\n",
              "    80% {\n",
              "      border-color: transparent;\n",
              "      border-right-color: var(--fill-color);\n",
              "      border-bottom-color: var(--fill-color);\n",
              "    }\n",
              "    90% {\n",
              "      border-color: transparent;\n",
              "      border-bottom-color: var(--fill-color);\n",
              "    }\n",
              "  }\n",
              "</style>\n",
              "\n",
              "      <script>\n",
              "        async function quickchart(key) {\n",
              "          const quickchartButtonEl =\n",
              "            document.querySelector('#' + key + ' button');\n",
              "          quickchartButtonEl.disabled = true;  // To prevent multiple clicks.\n",
              "          quickchartButtonEl.classList.add('colab-df-spinner');\n",
              "          try {\n",
              "            const charts = await google.colab.kernel.invokeFunction(\n",
              "                'suggestCharts', [key], {});\n",
              "          } catch (error) {\n",
              "            console.error('Error during call to suggestCharts:', error);\n",
              "          }\n",
              "          quickchartButtonEl.classList.remove('colab-df-spinner');\n",
              "          quickchartButtonEl.classList.add('colab-df-quickchart-complete');\n",
              "        }\n",
              "        (() => {\n",
              "          let quickchartButtonEl =\n",
              "            document.querySelector('#df-f93c3c10-882a-4de0-af12-136a0a8a7bed button');\n",
              "          quickchartButtonEl.style.display =\n",
              "            google.colab.kernel.accessAllowed ? 'block' : 'none';\n",
              "        })();\n",
              "      </script>\n",
              "    </div>\n",
              "\n",
              "    </div>\n",
              "  </div>\n"
            ],
            "application/vnd.google.colaboratory.intrinsic+json": {
              "type": "dataframe"
            }
          },
          "metadata": {}
        },
        {
          "output_type": "stream",
          "name": "stdout",
          "text": [
            "\n",
            "--- Resumo dos Tipos de Dados Pós-Mapeamento ---\n",
            "<class 'pandas.core.frame.DataFrame'>\n",
            "Index: 7032 entries, 0 to 7266\n",
            "Data columns (total 21 columns):\n",
            " #   Column                     Non-Null Count  Dtype  \n",
            "---  ------                     --------------  -----  \n",
            " 0   customerID                 7032 non-null   object \n",
            " 1   Churn                      7032 non-null   int64  \n",
            " 2   customer.gender            7032 non-null   object \n",
            " 3   customer.SeniorCitizen     7032 non-null   int64  \n",
            " 4   customer.Partner           7032 non-null   int64  \n",
            " 5   customer.Dependents        7032 non-null   int64  \n",
            " 6   customer.tenure            7032 non-null   int64  \n",
            " 7   phone.PhoneService         7032 non-null   int64  \n",
            " 8   phone.MultipleLines        7032 non-null   int64  \n",
            " 9   internet.InternetService   7032 non-null   object \n",
            " 10  internet.OnlineSecurity    7032 non-null   int64  \n",
            " 11  internet.OnlineBackup      7032 non-null   int64  \n",
            " 12  internet.DeviceProtection  7032 non-null   int64  \n",
            " 13  internet.TechSupport       7032 non-null   int64  \n",
            " 14  internet.StreamingTV       7032 non-null   int64  \n",
            " 15  internet.StreamingMovies   7032 non-null   int64  \n",
            " 16  account.Contract           7032 non-null   object \n",
            " 17  account.PaperlessBilling   7032 non-null   int64  \n",
            " 18  account.PaymentMethod      7032 non-null   object \n",
            " 19  account.Charges.Monthly    7032 non-null   float64\n",
            " 20  account.Charges.Total      7032 non-null   float64\n",
            "dtypes: float64(2), int64(14), object(5)\n",
            "memory usage: 1.2+ MB\n"
          ]
        }
      ]
    },
    {
      "cell_type": "code",
      "source": [
        "# Investigação: Vamos ver os valores da coluna de gênero.\n",
        "print(\"--- Investigando: customer.gender ---\")\n",
        "print(dados_normalizados['customer.gender'].value_counts())"
      ],
      "metadata": {
        "colab": {
          "base_uri": "https://localhost:8080/"
        },
        "id": "2QgnsK4yGN4U",
        "outputId": "90d759d0-0344-42b2-c54f-782d13541aea"
      },
      "execution_count": 31,
      "outputs": [
        {
          "output_type": "stream",
          "name": "stdout",
          "text": [
            "--- Investigando: customer.gender ---\n",
            "customer.gender\n",
            "Male      3549\n",
            "Female    3483\n",
            "Name: count, dtype: int64\n"
          ]
        }
      ]
    },
    {
      "cell_type": "markdown",
      "source": [
        "Descoberta: Ao executar, descobrimos que a coluna contém `Male `e `Female`. É uma coluna categórica com duas opções."
      ],
      "metadata": {
        "id": "LidFm4PUHSxP"
      }
    },
    {
      "cell_type": "code",
      "source": [
        "# Investigação: E a coluna de serviço de internet?\n",
        "print(\"\\n--- Investigando: internet.InternetService ---\")\n",
        "print(dados_normalizados['internet.InternetService'].value_counts())"
      ],
      "metadata": {
        "colab": {
          "base_uri": "https://localhost:8080/"
        },
        "id": "h4-dIZZaHxjQ",
        "outputId": "0c21c37d-902d-4a8b-8abf-5cec7ec9e739"
      },
      "execution_count": 32,
      "outputs": [
        {
          "output_type": "stream",
          "name": "stdout",
          "text": [
            "\n",
            "--- Investigando: internet.InternetService ---\n",
            "internet.InternetService\n",
            "Fiber optic    3096\n",
            "DSL            2416\n",
            "No             1520\n",
            "Name: count, dtype: int64\n"
          ]
        }
      ]
    },
    {
      "cell_type": "markdown",
      "source": [
        "Descoberta: Descobrimos que existem três categorias: `Fiber optic`, `DSL`, e `No`."
      ],
      "metadata": {
        "id": "ctb5nqJCHUdx"
      }
    },
    {
      "cell_type": "code",
      "source": [
        "# Investigação: Por fim, a coluna de método de pagamento.\n",
        "print(\"\\n--- Investigando: account.PaymentMethod ---\")\n",
        "print(dados_normalizados['account.PaymentMethod'].value_counts())"
      ],
      "metadata": {
        "colab": {
          "base_uri": "https://localhost:8080/"
        },
        "id": "xUNyDBUKHXrT",
        "outputId": "45950237-ac43-4d5f-cbc4-64cb4d8ba6ab"
      },
      "execution_count": 33,
      "outputs": [
        {
          "output_type": "stream",
          "name": "stdout",
          "text": [
            "\n",
            "--- Investigando: account.PaymentMethod ---\n",
            "account.PaymentMethod\n",
            "Electronic check             2365\n",
            "Mailed check                 1604\n",
            "Bank transfer (automatic)    1542\n",
            "Credit card (automatic)      1521\n",
            "Name: count, dtype: int64\n"
          ]
        }
      ]
    },
    {
      "cell_type": "markdown",
      "source": [
        "Descoberta: Descobrimos quatro categorias: `Electronic check`, `Mailed check`, `Bank transfer (automatic)`, e `Credit card (automatic)`."
      ],
      "metadata": {
        "id": "AfxgduxYHZph"
      }
    },
    {
      "cell_type": "code",
      "source": [
        "# Investigação: E a coluna de tipo de contrato?\n",
        "print(\"\\n--- Investigando: account.Contract ---\")\n",
        "print(dados_normalizados['account.Contract'].value_counts())"
      ],
      "metadata": {
        "colab": {
          "base_uri": "https://localhost:8080/"
        },
        "id": "2OYTL_hnGYWg",
        "outputId": "867f9915-4e76-4f64-d7b7-6ffccf53bd83"
      },
      "execution_count": 34,
      "outputs": [
        {
          "output_type": "stream",
          "name": "stdout",
          "text": [
            "\n",
            "--- Investigando: account.Contract ---\n",
            "account.Contract\n",
            "Month-to-month    3875\n",
            "Two year          1685\n",
            "One year          1472\n",
            "Name: count, dtype: int64\n"
          ]
        }
      ]
    },
    {
      "cell_type": "markdown",
      "source": [
        "Plano de Ação: Codificação de Variáveis Categóricas (One-Hot Encoding)\n",
        "\n",
        "- Para colunas com múltiplas categorias como essas, não podemos simplesmente mapeá-las para 0, 1, 2, etc., pois isso criaria uma falsa relação de ordem (por exemplo, \"Two year\" (2) seria considerado \"maior\" que \"One year\" (1)).\n",
        "\n",
        "- A abordagem correta é o One-Hot Encoding. Ele transforma cada categoria em sua própria coluna com valores 0 ou 1. Por exemplo, a coluna account.Contract se transformará em três novas colunas: account.Contract_Month-to-month, account.Contract_One year, e account.Contract_Two year. Se um cliente tiver um contrato mensal, ele terá o valor 1 na primeira coluna e 0 nas outras duas.\n",
        "\n",
        "- A função pd.get_dummies() faz isso perfeitamente para nós."
      ],
      "metadata": {
        "id": "36L07vYoGkKQ"
      }
    },
    {
      "cell_type": "code",
      "source": [
        "# Ação 1: Aplicar One-Hot Encoding para Variáveis Categóricas Nominais\n",
        "\n",
        "print(\"1. Aplicando One-Hot Encoding às colunas categóricas selecionadas...\")\n",
        "colunas_categoricas_ohe = [ # Lista de colunas a serem transformadas via One-Hot Encoding.\n",
        "    'customer.gender',\n",
        "    'internet.InternetService',\n",
        "    'account.Contract',\n",
        "    'account.PaymentMethod'\n",
        "]"
      ],
      "metadata": {
        "colab": {
          "base_uri": "https://localhost:8080/"
        },
        "id": "txqjujbKwDxF",
        "outputId": "13fac69b-f0aa-4679-f4e0-effafdf3ebe3"
      },
      "execution_count": 35,
      "outputs": [
        {
          "output_type": "stream",
          "name": "stdout",
          "text": [
            "1. Aplicando One-Hot Encoding às colunas categóricas selecionadas...\n"
          ]
        }
      ]
    },
    {
      "cell_type": "code",
      "source": [
        "# pd.get_dummies cria novas colunas binárias para cada categoria.\n",
        "# 'drop_first=False' mantém todas as categorias, o que é útil para análise descritiva inicial.\n",
        "df_transformado = pd.get_dummies(\n",
        "    dados_normalizados,\n",
        "    columns=colunas_categoricas_ohe,\n",
        "    drop_first=False\n",
        ")\n",
        "print(\"   One-Hot Encoding concluído.\")"
      ],
      "metadata": {
        "colab": {
          "base_uri": "https://localhost:8080/"
        },
        "id": "9ejh5-5vwGgv",
        "outputId": "0d80aa2b-f0a8-4b54-83ad-675f206abb81"
      },
      "execution_count": 36,
      "outputs": [
        {
          "output_type": "stream",
          "name": "stdout",
          "text": [
            "   One-Hot Encoding concluído.\n"
          ]
        }
      ]
    },
    {
      "cell_type": "code",
      "source": [
        "dados_normalizados.info()\n",
        "\n",
        "# Verificar os valores únicos das colunas criadas pelo get_dummies\n",
        "print(\"\\n--- Verificando valores das colunas criadas por get_dummies ---\")\n",
        "colunas_dummies = [\n",
        "    'customer.gender_Female', 'customer.gender_Male',\n",
        "    'internet.InternetService_DSL', 'internet.InternetService_Fiber optic', 'internet.InternetService_No',\n",
        "    'account.Contract_Month-to-month', 'account.Contract_One year', 'account.Contract_Two year',\n",
        "    'account.PaymentMethod_Bank transfer (automatic)', 'account.PaymentMethod_Credit card (automatic)',\n",
        "    'account.PaymentMethod_Electronic check', 'account.PaymentMethod_Mailed check'\n",
        "]\n",
        "\n",
        "for coluna in colunas_dummies:\n",
        "    if coluna in df_transformado.columns:\n",
        "        print(f\"\\nColona: {coluna}\")\n",
        "        print(df_transformado[coluna].value_counts())\n",
        "    else:\n",
        "        print(f\"\\nColona: {coluna} não encontrada no DataFrame transformado.\")"
      ],
      "metadata": {
        "colab": {
          "base_uri": "https://localhost:8080/"
        },
        "id": "nBZ1cHtbR9nk",
        "outputId": "f0eadc6a-b1de-4044-8fd2-bd3fc20b90df"
      },
      "execution_count": 37,
      "outputs": [
        {
          "output_type": "stream",
          "name": "stdout",
          "text": [
            "<class 'pandas.core.frame.DataFrame'>\n",
            "Index: 7032 entries, 0 to 7266\n",
            "Data columns (total 21 columns):\n",
            " #   Column                     Non-Null Count  Dtype  \n",
            "---  ------                     --------------  -----  \n",
            " 0   customerID                 7032 non-null   object \n",
            " 1   Churn                      7032 non-null   int64  \n",
            " 2   customer.gender            7032 non-null   object \n",
            " 3   customer.SeniorCitizen     7032 non-null   int64  \n",
            " 4   customer.Partner           7032 non-null   int64  \n",
            " 5   customer.Dependents        7032 non-null   int64  \n",
            " 6   customer.tenure            7032 non-null   int64  \n",
            " 7   phone.PhoneService         7032 non-null   int64  \n",
            " 8   phone.MultipleLines        7032 non-null   int64  \n",
            " 9   internet.InternetService   7032 non-null   object \n",
            " 10  internet.OnlineSecurity    7032 non-null   int64  \n",
            " 11  internet.OnlineBackup      7032 non-null   int64  \n",
            " 12  internet.DeviceProtection  7032 non-null   int64  \n",
            " 13  internet.TechSupport       7032 non-null   int64  \n",
            " 14  internet.StreamingTV       7032 non-null   int64  \n",
            " 15  internet.StreamingMovies   7032 non-null   int64  \n",
            " 16  account.Contract           7032 non-null   object \n",
            " 17  account.PaperlessBilling   7032 non-null   int64  \n",
            " 18  account.PaymentMethod      7032 non-null   object \n",
            " 19  account.Charges.Monthly    7032 non-null   float64\n",
            " 20  account.Charges.Total      7032 non-null   float64\n",
            "dtypes: float64(2), int64(14), object(5)\n",
            "memory usage: 1.2+ MB\n",
            "\n",
            "--- Verificando valores das colunas criadas por get_dummies ---\n",
            "\n",
            "Colona: customer.gender_Female\n",
            "customer.gender_Female\n",
            "False    3549\n",
            "True     3483\n",
            "Name: count, dtype: int64\n",
            "\n",
            "Colona: customer.gender_Male\n",
            "customer.gender_Male\n",
            "True     3549\n",
            "False    3483\n",
            "Name: count, dtype: int64\n",
            "\n",
            "Colona: internet.InternetService_DSL\n",
            "internet.InternetService_DSL\n",
            "False    4616\n",
            "True     2416\n",
            "Name: count, dtype: int64\n",
            "\n",
            "Colona: internet.InternetService_Fiber optic\n",
            "internet.InternetService_Fiber optic\n",
            "False    3936\n",
            "True     3096\n",
            "Name: count, dtype: int64\n",
            "\n",
            "Colona: internet.InternetService_No\n",
            "internet.InternetService_No\n",
            "False    5512\n",
            "True     1520\n",
            "Name: count, dtype: int64\n",
            "\n",
            "Colona: account.Contract_Month-to-month\n",
            "account.Contract_Month-to-month\n",
            "True     3875\n",
            "False    3157\n",
            "Name: count, dtype: int64\n",
            "\n",
            "Colona: account.Contract_One year\n",
            "account.Contract_One year\n",
            "False    5560\n",
            "True     1472\n",
            "Name: count, dtype: int64\n",
            "\n",
            "Colona: account.Contract_Two year\n",
            "account.Contract_Two year\n",
            "False    5347\n",
            "True     1685\n",
            "Name: count, dtype: int64\n",
            "\n",
            "Colona: account.PaymentMethod_Bank transfer (automatic)\n",
            "account.PaymentMethod_Bank transfer (automatic)\n",
            "False    5490\n",
            "True     1542\n",
            "Name: count, dtype: int64\n",
            "\n",
            "Colona: account.PaymentMethod_Credit card (automatic)\n",
            "account.PaymentMethod_Credit card (automatic)\n",
            "False    5511\n",
            "True     1521\n",
            "Name: count, dtype: int64\n",
            "\n",
            "Colona: account.PaymentMethod_Electronic check\n",
            "account.PaymentMethod_Electronic check\n",
            "False    4667\n",
            "True     2365\n",
            "Name: count, dtype: int64\n",
            "\n",
            "Colona: account.PaymentMethod_Mailed check\n",
            "account.PaymentMethod_Mailed check\n",
            "False    5428\n",
            "True     1604\n",
            "Name: count, dtype: int64\n"
          ]
        }
      ]
    },
    {
      "cell_type": "markdown",
      "source": [
        "Comentario: A verificação com .value_counts() confirma que as colunas criadas pelo get_dummies contêm apenas valores True e False, como esperado. Aparentemente não temos \"falsos non-nulls\" nessas colunas."
      ],
      "metadata": {
        "id": "EuDCmsjzZICj"
      }
    },
    {
      "cell_type": "code",
      "metadata": {
        "colab": {
          "base_uri": "https://localhost:8080/"
        },
        "id": "e53a878a",
        "outputId": "1ad8dc38-bbdd-44bf-cd0c-4ba57131dd97"
      },
      "source": [
        "# Converter colunas booleanas (True/False) para inteiros (1/0)\n",
        "print(\"Convertendo colunas booleanas para inteiros (1/0)...\")\n",
        "\n",
        "# Seleciona apenas as colunas que são do tipo booleano (True/False)\n",
        "colunas_booleanas = df_transformado.select_dtypes(include='bool').columns\n",
        "\n",
        "# Converte as colunas booleanas selecionadas para tipo int\n",
        "df_transformado[colunas_booleanas] = df_transformado[colunas_booleanas].astype(int)\n",
        "\n",
        "print(\"Conversão concluída.\")\n",
        "\n",
        "# Verificação: Mostra os tipos de dados para confirmar a conversão\n",
        "print(\"\\n--- Tipos de Dados Após a Conversão de Boolean para Int ---\")\n",
        "df_transformado.info()"
      ],
      "execution_count": 38,
      "outputs": [
        {
          "output_type": "stream",
          "name": "stdout",
          "text": [
            "Convertendo colunas booleanas para inteiros (1/0)...\n",
            "Conversão concluída.\n",
            "\n",
            "--- Tipos de Dados Após a Conversão de Boolean para Int ---\n",
            "<class 'pandas.core.frame.DataFrame'>\n",
            "Index: 7032 entries, 0 to 7266\n",
            "Data columns (total 29 columns):\n",
            " #   Column                                           Non-Null Count  Dtype  \n",
            "---  ------                                           --------------  -----  \n",
            " 0   customerID                                       7032 non-null   object \n",
            " 1   Churn                                            7032 non-null   int64  \n",
            " 2   customer.SeniorCitizen                           7032 non-null   int64  \n",
            " 3   customer.Partner                                 7032 non-null   int64  \n",
            " 4   customer.Dependents                              7032 non-null   int64  \n",
            " 5   customer.tenure                                  7032 non-null   int64  \n",
            " 6   phone.PhoneService                               7032 non-null   int64  \n",
            " 7   phone.MultipleLines                              7032 non-null   int64  \n",
            " 8   internet.OnlineSecurity                          7032 non-null   int64  \n",
            " 9   internet.OnlineBackup                            7032 non-null   int64  \n",
            " 10  internet.DeviceProtection                        7032 non-null   int64  \n",
            " 11  internet.TechSupport                             7032 non-null   int64  \n",
            " 12  internet.StreamingTV                             7032 non-null   int64  \n",
            " 13  internet.StreamingMovies                         7032 non-null   int64  \n",
            " 14  account.PaperlessBilling                         7032 non-null   int64  \n",
            " 15  account.Charges.Monthly                          7032 non-null   float64\n",
            " 16  account.Charges.Total                            7032 non-null   float64\n",
            " 17  customer.gender_Female                           7032 non-null   int64  \n",
            " 18  customer.gender_Male                             7032 non-null   int64  \n",
            " 19  internet.InternetService_DSL                     7032 non-null   int64  \n",
            " 20  internet.InternetService_Fiber optic             7032 non-null   int64  \n",
            " 21  internet.InternetService_No                      7032 non-null   int64  \n",
            " 22  account.Contract_Month-to-month                  7032 non-null   int64  \n",
            " 23  account.Contract_One year                        7032 non-null   int64  \n",
            " 24  account.Contract_Two year                        7032 non-null   int64  \n",
            " 25  account.PaymentMethod_Bank transfer (automatic)  7032 non-null   int64  \n",
            " 26  account.PaymentMethod_Credit card (automatic)    7032 non-null   int64  \n",
            " 27  account.PaymentMethod_Electronic check           7032 non-null   int64  \n",
            " 28  account.PaymentMethod_Mailed check               7032 non-null   int64  \n",
            "dtypes: float64(2), int64(26), object(1)\n",
            "memory usage: 1.6+ MB\n"
          ]
        }
      ]
    },
    {
      "cell_type": "markdown",
      "source": [
        "# **Investigando a Coluna**\n",
        "- `account.Charges.Total`"
      ],
      "metadata": {
        "id": "_VQBWM7j-zlG"
      }
    },
    {
      "cell_type": "code",
      "source": [
        "# Vamos tentar converter a coluna 'account.Charges.Total' para float.\n",
        "# Esperamos um erro, pois sabemos que o tipo é 'object'. O erro nos dará a pista.\n",
        "try:\n",
        "    dados_normalizados['account.Charges.Total'].astype(float)\n",
        "except ValueError as e:\n",
        "    print(\"--- INVESTIGAÇÃO CONCLUída: ERRO ENCONTRADO ---\")\n",
        "    print(f\"A conversão falhou com a seguinte mensagem de erro:\\n-> {e}\")"
      ],
      "metadata": {
        "id": "z9tw5LSWfZyM"
      },
      "execution_count": 39,
      "outputs": []
    },
    {
      "cell_type": "markdown",
      "source": [
        "Agora sabemos, com certeza, que o problema são strings que contêm apenas um espaço em branco (`' '`). Esses espaços não são números e, portanto, a coluna inteira foi classificada como `object`"
      ],
      "metadata": {
        "id": "qAdxnWEZfZyM"
      }
    },
    {
      "cell_type": "markdown",
      "source": [
        "- Faremos a conversão para numérico novamente, mas desta vez usaremos o parâmetro `errors='coerce'`.\n",
        "- Isso dirá ao Pandas: \"tente converter para número e, se você encontrar um valor que não pode ser convertido (como o `' '`), transforme-o em `NaN` (Not a Number), que é o marcador padrão do Pandas para dados ausentes.\"\n",
        "- Depois da conversão, vamos verificar se os `NaNs` foram realmente criados.\n",
        "- Finalmente, decidiremos o que fazer com as linhas que contêm esses dados ausentes."
      ],
      "metadata": {
        "id": "g4SJ7prOfZyM"
      }
    },
    {
      "cell_type": "code",
      "source": [
        "# Etapa: Conversão segura de account.Charges.Total com to_numeric(..., errors='coerce')\n",
        "# Ação 1: Usar 'coerce' para transformar os valores inválidos em Nulos (NaN)\n",
        "print(\"1. Convertendo a coluna 'account.Charges.Total' para um formato numérico...\")\n",
        "dados_normalizados['account.Charges.Total'] = pd.to_numeric(dados_normalizados['account.Charges.Total'], errors='coerce')\n",
        "print(\"   Conversão concluída. Valores problemáticos agora são 'NaN'.\")"
      ],
      "metadata": {
        "colab": {
          "base_uri": "https://localhost:8080/"
        },
        "outputId": "1ba28f14-9440-4ca7-b03d-099d4007b7fb",
        "id": "u1_A-oPJfZyM"
      },
      "execution_count": 40,
      "outputs": [
        {
          "output_type": "stream",
          "name": "stdout",
          "text": [
            "1. Convertendo a coluna 'account.Charges.Total' para um formato numérico...\n",
            "   Conversão concluída. Valores problemáticos agora são 'NaN'.\n"
          ]
        }
      ]
    },
    {
      "cell_type": "code",
      "source": [
        "# Etapa: Contagem e remoção dos NaN gerados em account.Charges.Total\n",
        "# Verificação 1: Vamos confirmar quantos valores nulos foram criados.\n",
        "# Esperamos que o número seja diferente de zero agora.\n",
        "print(\"\\n2. Investigando: Contando valores nulos na coluna...\")\n",
        "nulos_encontrados = dados_normalizados['account.Charges.Total'].isnull().sum()\n",
        "print(f\"   Descoberta: Encontrado(s) {nulos_encontrados} valor(es) nulo(s).\")"
      ],
      "metadata": {
        "colab": {
          "base_uri": "https://localhost:8080/"
        },
        "outputId": "b2a09146-e706-4936-bbdf-ed9e2c42d60e",
        "id": "9KcoAVC9fZyM"
      },
      "execution_count": 41,
      "outputs": [
        {
          "output_type": "stream",
          "name": "stdout",
          "text": [
            "\n",
            "2. Investigando: Contando valores nulos na coluna...\n",
            "   Descoberta: Encontrado(s) 0 valor(es) nulo(s).\n"
          ]
        }
      ]
    },
    {
      "cell_type": "code",
      "source": [
        "# Ação: Como são poucos dados (comparado ao total), e não temos como saber o valor correto,\n",
        "# a abordagem mais segura é remover as linhas com esses dados faltantes.\n",
        "print(\"\\n3. Ação: Removendo as linhas com valores nulos...\")\n",
        "dados_normalizados.dropna(subset=['account.Charges.Total'], inplace=True)\n",
        "print(\"   Linhas removidas.\")"
      ],
      "metadata": {
        "colab": {
          "base_uri": "https://localhost:8080/"
        },
        "outputId": "0c7beef5-e3b0-4889-e5b5-e245043a7db4",
        "id": "mowVZ4vTfZyM"
      },
      "execution_count": 42,
      "outputs": [
        {
          "output_type": "stream",
          "name": "stdout",
          "text": [
            "\n",
            "3. Ação: Removendo as linhas com valores nulos...\n",
            "   Linhas removidas.\n"
          ]
        }
      ]
    },
    {
      "cell_type": "code",
      "source": [
        "# Verificação: Vamos confirmar que a coluna agora está 100% limpa e com o tipo correto.\n",
        "print(\"\\n4. Verificação Final:\")\n",
        "print(\"   Contagem de nulos agora:\", dados_normalizados['account.Charges.Total'].isnull().sum())\n",
        "print(\"   Novo tipo de dado da coluna:\", dados_normalizados['account.Charges.Total'].dtype)"
      ],
      "metadata": {
        "colab": {
          "base_uri": "https://localhost:8080/"
        },
        "outputId": "12cd93a4-bf14-425f-c25b-bd29efb3837c",
        "id": "D6_9uXgRfZyM"
      },
      "execution_count": 43,
      "outputs": [
        {
          "output_type": "stream",
          "name": "stdout",
          "text": [
            "\n",
            "4. Verificação Final:\n",
            "   Contagem de nulos agora: 0\n",
            "   Novo tipo de dado da coluna: float64\n"
          ]
        }
      ]
    },
    {
      "cell_type": "code",
      "source": [
        "# O método .info() nos dá um resumo do DataFrame.\n",
        "# Ele mostra o nome de cada coluna, a quantidade de valores não-nulos e o tipo de dado (Dtype).\n",
        "print(\"--- Resumo e Tipos de Dados das Colunas ---\")\n",
        "dados_normalizados.info()"
      ],
      "metadata": {
        "colab": {
          "base_uri": "https://localhost:8080/"
        },
        "outputId": "2a4be1a1-8a15-4e81-e5c5-779470f6c25f",
        "id": "1RKQr4qjfZyM"
      },
      "execution_count": 44,
      "outputs": [
        {
          "output_type": "stream",
          "name": "stdout",
          "text": [
            "--- Resumo e Tipos de Dados das Colunas ---\n",
            "<class 'pandas.core.frame.DataFrame'>\n",
            "Index: 7032 entries, 0 to 7266\n",
            "Data columns (total 21 columns):\n",
            " #   Column                     Non-Null Count  Dtype  \n",
            "---  ------                     --------------  -----  \n",
            " 0   customerID                 7032 non-null   object \n",
            " 1   Churn                      7032 non-null   int64  \n",
            " 2   customer.gender            7032 non-null   object \n",
            " 3   customer.SeniorCitizen     7032 non-null   int64  \n",
            " 4   customer.Partner           7032 non-null   int64  \n",
            " 5   customer.Dependents        7032 non-null   int64  \n",
            " 6   customer.tenure            7032 non-null   int64  \n",
            " 7   phone.PhoneService         7032 non-null   int64  \n",
            " 8   phone.MultipleLines        7032 non-null   int64  \n",
            " 9   internet.InternetService   7032 non-null   object \n",
            " 10  internet.OnlineSecurity    7032 non-null   int64  \n",
            " 11  internet.OnlineBackup      7032 non-null   int64  \n",
            " 12  internet.DeviceProtection  7032 non-null   int64  \n",
            " 13  internet.TechSupport       7032 non-null   int64  \n",
            " 14  internet.StreamingTV       7032 non-null   int64  \n",
            " 15  internet.StreamingMovies   7032 non-null   int64  \n",
            " 16  account.Contract           7032 non-null   object \n",
            " 17  account.PaperlessBilling   7032 non-null   int64  \n",
            " 18  account.PaymentMethod      7032 non-null   object \n",
            " 19  account.Charges.Monthly    7032 non-null   float64\n",
            " 20  account.Charges.Total      7032 non-null   float64\n",
            "dtypes: float64(2), int64(14), object(5)\n",
            "memory usage: 1.2+ MB\n"
          ]
        }
      ]
    },
    {
      "cell_type": "markdown",
      "source": [
        "# **Investigando a Coluna**\n",
        "- `Churn`"
      ],
      "metadata": {
        "id": "tnIoRrd2_NKc"
      }
    },
    {
      "cell_type": "code",
      "source": [
        "# Etapa: Investigação e limpeza da coluna Churn (valores em branco)\n",
        "# Vamos contar a frequência de cada valor único na coluna 'Churn'.\n",
        "# Isso é fundamental para entender a nossa variável alvo.\n",
        "print(\"--- Investigando a coluna 'Churn' ---\")\n",
        "print(dados_normalizados['Churn'].value_counts())"
      ],
      "metadata": {
        "colab": {
          "base_uri": "https://localhost:8080/"
        },
        "outputId": "064f24ff-7654-4ec7-b66d-5fcd3f256257",
        "id": "Muxh6Jl-fbem"
      },
      "execution_count": 45,
      "outputs": [
        {
          "output_type": "stream",
          "name": "stdout",
          "text": [
            "--- Investigando a coluna 'Churn' ---\n",
            "Churn\n",
            "0    5163\n",
            "1    1869\n",
            "Name: count, dtype: int64\n"
          ]
        }
      ]
    },
    {
      "cell_type": "code",
      "source": [
        "# Ação: Filtrar o DataFrame para remover os 224 registros onde 'Churn' é uma string vazia.\n",
        "linhas_antes = len(dados_normalizados)\n",
        "dados_normalizados = dados_normalizados[dados_normalizados['Churn'] != ''].copy()\n",
        "linhas_depois = len(dados_normalizados)\n",
        "print(f\"Ação de Limpeza: {linhas_antes - linhas_depois} linhas foram removidas.\")\n",
        "\n",
        "# Ao adicionar .copy(), forçamos o Pandas a criar\n",
        "# uma cópia explícita do DataFrame filtrado, garantindo que todas as operações subsequentes (como o inplace=True em dropna ou outras transformações)\n",
        "# afetem apenas essa nova cópia, evitando assim os avisos e garantindo a consistência dos resultados."
      ],
      "metadata": {
        "colab": {
          "base_uri": "https://localhost:8080/"
        },
        "outputId": "c9f176f1-f37f-4460-ae7c-388f91b0b13a",
        "id": "2k4d04umfbem"
      },
      "execution_count": 46,
      "outputs": [
        {
          "output_type": "stream",
          "name": "stdout",
          "text": [
            "Ação de Limpeza: 0 linhas foram removidas.\n"
          ]
        }
      ]
    },
    {
      "cell_type": "code",
      "source": [
        "# Verificação: Vamos conferir o resultado final da coluna 'Churn'\n",
        "print(\"\\n--- Verificação Pós-Transformação de 'Churn' ---\")\n",
        "print(\"Valores e contagens em 'Churn' após a limpeza:\")\n",
        "print(dados_normalizados['Churn'].value_counts())\n",
        "print(\"\\nTipo de dado da coluna 'Churn':\", dados_normalizados['Churn'].dtype)"
      ],
      "metadata": {
        "colab": {
          "base_uri": "https://localhost:8080/"
        },
        "outputId": "b0eace1a-f6ba-4ade-9f5e-67578a8b7d2a",
        "id": "-yAIO_GAfben"
      },
      "execution_count": 47,
      "outputs": [
        {
          "output_type": "stream",
          "name": "stdout",
          "text": [
            "\n",
            "--- Verificação Pós-Transformação de 'Churn' ---\n",
            "Valores e contagens em 'Churn' após a limpeza:\n",
            "Churn\n",
            "0    5163\n",
            "1    1869\n",
            "Name: count, dtype: int64\n",
            "\n",
            "Tipo de dado da coluna 'Churn': int64\n"
          ]
        }
      ]
    },
    {
      "cell_type": "code",
      "source": [
        "# Mapear 'Yes' para 1 e 'No' para 0 na coluna 'Churn'\n",
        "print(\"Mapeando 'Yes' para 1 e 'No' para 0 na coluna 'Churn'...\")\n",
        "pd.set_option('future.no_silent_downcasting', True)\n",
        "dados_normalizados['Churn'] = dados_normalizados['Churn'].replace({'Yes': 1, 'No': 0})\n",
        "# Converter a coluna 'Churn' para tipo int\n",
        "dados_normalizados['Churn'] = dados_normalizados['Churn'].astype(int)\n",
        "print(\"Mapeamento e conversão para int concluídos.\")\n",
        "\n",
        "# Verificar o resultado\n",
        "print(\"\\nValores e contagens em 'Churn' após o mapeamento:\")\n",
        "print(dados_normalizados['Churn'].value_counts())\n",
        "print(\"\\nNovo tipo de dado da coluna 'Churn':\", dados_normalizados['Churn'].dtype)"
      ],
      "metadata": {
        "colab": {
          "base_uri": "https://localhost:8080/"
        },
        "outputId": "c413423b-8af7-4999-912e-3407a557990d",
        "id": "c1hdnVovfben"
      },
      "execution_count": 48,
      "outputs": [
        {
          "output_type": "stream",
          "name": "stdout",
          "text": [
            "Mapeando 'Yes' para 1 e 'No' para 0 na coluna 'Churn'...\n",
            "Mapeamento e conversão para int concluídos.\n",
            "\n",
            "Valores e contagens em 'Churn' após o mapeamento:\n",
            "Churn\n",
            "0    5163\n",
            "1    1869\n",
            "Name: count, dtype: int64\n",
            "\n",
            "Novo tipo de dado da coluna 'Churn': int64\n"
          ]
        }
      ]
    },
    {
      "cell_type": "code",
      "source": [
        "# O método .info() nos dá um resumo do DataFrame.\n",
        "# Ele mostra o nome de cada coluna, a quantidade de valores não-nulos e o tipo de dado (Dtype).\n",
        "print(\"--- Resumo e Tipos de Dados das Colunas ---\")\n",
        "dados_normalizados.info()"
      ],
      "metadata": {
        "colab": {
          "base_uri": "https://localhost:8080/"
        },
        "id": "HGwt-W4zXA8K",
        "outputId": "27e6a3ef-54e1-481a-da2e-ba8c38091f3e"
      },
      "execution_count": 49,
      "outputs": [
        {
          "output_type": "stream",
          "name": "stdout",
          "text": [
            "--- Resumo e Tipos de Dados das Colunas ---\n",
            "<class 'pandas.core.frame.DataFrame'>\n",
            "Index: 7032 entries, 0 to 7266\n",
            "Data columns (total 21 columns):\n",
            " #   Column                     Non-Null Count  Dtype  \n",
            "---  ------                     --------------  -----  \n",
            " 0   customerID                 7032 non-null   object \n",
            " 1   Churn                      7032 non-null   int64  \n",
            " 2   customer.gender            7032 non-null   object \n",
            " 3   customer.SeniorCitizen     7032 non-null   int64  \n",
            " 4   customer.Partner           7032 non-null   int64  \n",
            " 5   customer.Dependents        7032 non-null   int64  \n",
            " 6   customer.tenure            7032 non-null   int64  \n",
            " 7   phone.PhoneService         7032 non-null   int64  \n",
            " 8   phone.MultipleLines        7032 non-null   int64  \n",
            " 9   internet.InternetService   7032 non-null   object \n",
            " 10  internet.OnlineSecurity    7032 non-null   int64  \n",
            " 11  internet.OnlineBackup      7032 non-null   int64  \n",
            " 12  internet.DeviceProtection  7032 non-null   int64  \n",
            " 13  internet.TechSupport       7032 non-null   int64  \n",
            " 14  internet.StreamingTV       7032 non-null   int64  \n",
            " 15  internet.StreamingMovies   7032 non-null   int64  \n",
            " 16  account.Contract           7032 non-null   object \n",
            " 17  account.PaperlessBilling   7032 non-null   int64  \n",
            " 18  account.PaymentMethod      7032 non-null   object \n",
            " 19  account.Charges.Monthly    7032 non-null   float64\n",
            " 20  account.Charges.Total      7032 non-null   float64\n",
            "dtypes: float64(2), int64(14), object(5)\n",
            "memory usage: 1.2+ MB\n"
          ]
        }
      ]
    },
    {
      "cell_type": "markdown",
      "source": [
        "# **Investigando a Coluna**\n",
        "- `phone.MultipleLines`"
      ],
      "metadata": {
        "id": "tJWp7ROWCYrP"
      }
    },
    {
      "cell_type": "code",
      "source": [
        "# Etapa 9: Investigação de colunas específicas\n",
        "# Vamos investigar o conteúdo da coluna 'phone.MultipleLines' para ver quais são os valores possíveis.\n",
        "print(\"--- Investigando a coluna 'phone.MultipleLines' ---\")\n",
        "print(\"Valores únicos e suas contagens:\")\n",
        "print(dados_normalizados['phone.MultipleLines'].value_counts())"
      ],
      "metadata": {
        "colab": {
          "base_uri": "https://localhost:8080/"
        },
        "outputId": "8eda0a70-d623-4a5d-aa2b-e6fc2b637efd",
        "id": "Rutp_199fdpq"
      },
      "execution_count": 50,
      "outputs": [
        {
          "output_type": "stream",
          "name": "stdout",
          "text": [
            "--- Investigando a coluna 'phone.MultipleLines' ---\n",
            "Valores únicos e suas contagens:\n",
            "phone.MultipleLines\n",
            "0    4065\n",
            "1    2967\n",
            "Name: count, dtype: int64\n"
          ]
        }
      ]
    },
    {
      "cell_type": "markdown",
      "source": [
        "Descobertas:\n",
        "\n",
        "- Encontramos os valores 'Yes' e 'No', como esperado.\n",
        "- Descobrimos um terceiro valor: 'No phone service'. Isso é crucial. Significa que não podemos simplesmente mapear 'Yes' para 1 e 'No' para 0, pois precisamos decidir o que fazer com essa terceira categoria.\n",
        "- Nosso plano deve ser:\n",
        "- Mapear 'Yes' para 1.\n",
        "- Mapear tanto 'No' quanto 'No phone service' para 0."
      ],
      "metadata": {
        "id": "vyLDlDSxfdpq"
      }
    },
    {
      "cell_type": "code",
      "source": [
        "# Ação: Filtrar o DataFrame E criar uma cópia explícita para evitar avisos futuros.\n",
        "linhas_antes = len(dados_normalizados)\n",
        "dados_normalizados = dados_normalizados[dados_normalizados['Churn'] != ''].copy()\n",
        "linhas_depois = len(dados_normalizados)\n",
        "print(f\"Ação de Limpeza: {linhas_antes - linhas_depois} linhas foram removidas.\")"
      ],
      "metadata": {
        "colab": {
          "base_uri": "https://localhost:8080/"
        },
        "outputId": "5fd229e9-6ac7-4f1b-d4c9-413ae78747fa",
        "id": "PQF7GTZofdpq"
      },
      "execution_count": 51,
      "outputs": [
        {
          "output_type": "stream",
          "name": "stdout",
          "text": [
            "Ação de Limpeza: 0 linhas foram removidas.\n"
          ]
        }
      ]
    },
    {
      "cell_type": "code",
      "source": [
        "#Mapeamento da coluna phone.MultipleLines para valores numéricos\n",
        "\n",
        "# Define o mapeamento específico para 'phone.MultipleLines'.\n",
        "# 'Yes' vai para 1, 'No' e 'No phone service' vão para 0.\n",
        "mapa_multiple_lines = {'Yes': 1, 'No': 0, 'No phone service': 0}\n",
        "\n",
        "# Aplica o mapeamento à coluna.\n",
        "dados_normalizados['phone.MultipleLines'] = dados_normalizados['phone.MultipleLines'].map(mapa_multiple_lines)\n",
        "\n",
        "print(\"Mapeamento da coluna 'phone.MultipleLines' concluído.\")"
      ],
      "metadata": {
        "colab": {
          "base_uri": "https://localhost:8080/"
        },
        "outputId": "a89252b1-ca7b-433a-895e-818e7bd06a62",
        "id": "TQnLILwzfdpq"
      },
      "execution_count": 52,
      "outputs": [
        {
          "output_type": "stream",
          "name": "stdout",
          "text": [
            "Mapeamento da coluna 'phone.MultipleLines' concluído.\n"
          ]
        }
      ]
    },
    {
      "cell_type": "code",
      "source": [
        "# Verificação: Vamos conferir se a transformação funcionou como o esperado.\n",
        "print(\"\\nValores e contagens após o mapeamento:\")\n",
        "print(dados_normalizados['phone.MultipleLines'].value_counts())\n",
        "print(\"\\nNovo tipo de dado da coluna:\", dados_normalizados['phone.MultipleLines'].dtype)"
      ],
      "metadata": {
        "colab": {
          "base_uri": "https://localhost:8080/"
        },
        "outputId": "19526b08-b2e3-41b1-be1c-e1cea0517b06",
        "id": "qXvEZI6Hfdpq"
      },
      "execution_count": 53,
      "outputs": [
        {
          "output_type": "stream",
          "name": "stdout",
          "text": [
            "\n",
            "Valores e contagens após o mapeamento:\n",
            "Series([], Name: count, dtype: int64)\n",
            "\n",
            "Novo tipo de dado da coluna: float64\n"
          ]
        }
      ]
    },
    {
      "cell_type": "code",
      "source": [
        "# O método .info() nos dá um resumo do DataFrame.\n",
        "# Ele mostra o nome de cada coluna, a quantidade de valores não-nulos e o tipo de dado (Dtype).\n",
        "print(\"--- Resumo e Tipos de Dados das Colunas ---\")\n",
        "dados_normalizados.info()"
      ],
      "metadata": {
        "colab": {
          "base_uri": "https://localhost:8080/"
        },
        "outputId": "6311960f-d45e-4f0a-8d15-bb974dffc794",
        "id": "85jni-iMfdpq"
      },
      "execution_count": 54,
      "outputs": [
        {
          "output_type": "stream",
          "name": "stdout",
          "text": [
            "--- Resumo e Tipos de Dados das Colunas ---\n",
            "<class 'pandas.core.frame.DataFrame'>\n",
            "Index: 7032 entries, 0 to 7266\n",
            "Data columns (total 21 columns):\n",
            " #   Column                     Non-Null Count  Dtype  \n",
            "---  ------                     --------------  -----  \n",
            " 0   customerID                 7032 non-null   object \n",
            " 1   Churn                      7032 non-null   int64  \n",
            " 2   customer.gender            7032 non-null   object \n",
            " 3   customer.SeniorCitizen     7032 non-null   int64  \n",
            " 4   customer.Partner           7032 non-null   int64  \n",
            " 5   customer.Dependents        7032 non-null   int64  \n",
            " 6   customer.tenure            7032 non-null   int64  \n",
            " 7   phone.PhoneService         7032 non-null   int64  \n",
            " 8   phone.MultipleLines        0 non-null      float64\n",
            " 9   internet.InternetService   7032 non-null   object \n",
            " 10  internet.OnlineSecurity    7032 non-null   int64  \n",
            " 11  internet.OnlineBackup      7032 non-null   int64  \n",
            " 12  internet.DeviceProtection  7032 non-null   int64  \n",
            " 13  internet.TechSupport       7032 non-null   int64  \n",
            " 14  internet.StreamingTV       7032 non-null   int64  \n",
            " 15  internet.StreamingMovies   7032 non-null   int64  \n",
            " 16  account.Contract           7032 non-null   object \n",
            " 17  account.PaperlessBilling   7032 non-null   int64  \n",
            " 18  account.PaymentMethod      7032 non-null   object \n",
            " 19  account.Charges.Monthly    7032 non-null   float64\n",
            " 20  account.Charges.Total      7032 non-null   float64\n",
            "dtypes: float64(3), int64(13), object(5)\n",
            "memory usage: 1.2+ MB\n"
          ]
        }
      ]
    },
    {
      "cell_type": "markdown",
      "source": [
        "# **Investigando as Colunas**\n",
        "- `internet.OnlineSecurity`\n",
        "- `internet.OnlineBackup`\n",
        "- `internet.DeviceProtection`\n",
        "- `internet.TechSupport`\n",
        "- `internet.StreamingTV`\n",
        "- `internet.StreamingMovies`\n",
        "\n"
      ],
      "metadata": {
        "id": "BXCpkbmoDRha"
      }
    },
    {
      "cell_type": "code",
      "source": [
        "# Investigação: Vamos ver os valores únicos da coluna de Segurança Online.\n",
        "print(\"--- Investigando a coluna 'internet.OnlineSecurity' ---\")\n",
        "print(dados_normalizados['internet.OnlineSecurity'].value_counts())"
      ],
      "metadata": {
        "colab": {
          "base_uri": "https://localhost:8080/"
        },
        "outputId": "cbe6599d-6d5a-42cd-c1b5-0a94957921c3",
        "id": "mk089T8sff96"
      },
      "execution_count": 55,
      "outputs": [
        {
          "output_type": "stream",
          "name": "stdout",
          "text": [
            "--- Investigando a coluna 'internet.OnlineSecurity' ---\n",
            "internet.OnlineSecurity\n",
            "0    5017\n",
            "1    2015\n",
            "Name: count, dtype: int64\n"
          ]
        }
      ]
    },
    {
      "cell_type": "markdown",
      "source": [
        "Descoberta:\n",
        "- O padrão se repete. Temos 'Yes', 'No', e a categoria 'No internet service'.\n",
        "- Assim como antes, quem não tem internet não tem o serviço de segurança online, então podemos tratar 'No internet service' da mesma forma que 'No'."
      ],
      "metadata": {
        "id": "7MrbkD3wff96"
      }
    },
    {
      "cell_type": "code",
      "source": [
        "# Investigação: Vamos ver os valores únicos da coluna de Backup Online.\n",
        "print(\"--- Investigando: internet.OnlineBackup ---\")\n",
        "print(dados_normalizados['internet.OnlineBackup'].value_counts())"
      ],
      "metadata": {
        "colab": {
          "base_uri": "https://localhost:8080/"
        },
        "outputId": "3316094e-4908-4061-bb4d-7e1447f5208b",
        "id": "efS-L5aqff96"
      },
      "execution_count": 56,
      "outputs": [
        {
          "output_type": "stream",
          "name": "stdout",
          "text": [
            "--- Investigando: internet.OnlineBackup ---\n",
            "internet.OnlineBackup\n",
            "0    4607\n",
            "1    2425\n",
            "Name: count, dtype: int64\n"
          ]
        }
      ]
    },
    {
      "cell_type": "code",
      "source": [
        "# Investigação: E a coluna de Proteção de Dispositivo?\n",
        "print(\"\\n--- Investigando: internet.DeviceProtection ---\")\n",
        "print(dados_normalizados['internet.DeviceProtection'].value_counts())"
      ],
      "metadata": {
        "colab": {
          "base_uri": "https://localhost:8080/"
        },
        "outputId": "14ae96e3-028e-4e59-a1e9-363af1ca4ba5",
        "id": "F_LYzOPoff96"
      },
      "execution_count": 57,
      "outputs": [
        {
          "output_type": "stream",
          "name": "stdout",
          "text": [
            "\n",
            "--- Investigando: internet.DeviceProtection ---\n",
            "internet.DeviceProtection\n",
            "0    4614\n",
            "1    2418\n",
            "Name: count, dtype: int64\n"
          ]
        }
      ]
    },
    {
      "cell_type": "code",
      "source": [
        "# Investigação: E a coluna de Suporte Técnico?\n",
        "print(\"\\n--- Investigando: internet.TechSupport ---\")\n",
        "print(dados_normalizados['internet.TechSupport'].value_counts())"
      ],
      "metadata": {
        "colab": {
          "base_uri": "https://localhost:8080/"
        },
        "outputId": "f18c3c29-bc0d-4f64-fc44-9d9d04a3a8e6",
        "id": "n35QMZ8Gff96"
      },
      "execution_count": 58,
      "outputs": [
        {
          "output_type": "stream",
          "name": "stdout",
          "text": [
            "\n",
            "--- Investigando: internet.TechSupport ---\n",
            "internet.TechSupport\n",
            "0    4992\n",
            "1    2040\n",
            "Name: count, dtype: int64\n"
          ]
        }
      ]
    },
    {
      "cell_type": "code",
      "source": [
        "# Investigação: E a coluna de StreamingTV?\n",
        "print(\"\\n--- Investigando: internet.StreamingTV ---\")\n",
        "print(dados_normalizados['internet.StreamingTV'].value_counts())"
      ],
      "metadata": {
        "colab": {
          "base_uri": "https://localhost:8080/"
        },
        "outputId": "e7cb5b3d-c372-40b6-efa3-6251be998916",
        "id": "Al288pjvff96"
      },
      "execution_count": 59,
      "outputs": [
        {
          "output_type": "stream",
          "name": "stdout",
          "text": [
            "\n",
            "--- Investigando: internet.StreamingTV ---\n",
            "internet.StreamingTV\n",
            "0    4329\n",
            "1    2703\n",
            "Name: count, dtype: int64\n"
          ]
        }
      ]
    },
    {
      "cell_type": "code",
      "source": [
        "# Investigação: E a coluna de StreamingMovies?\n",
        "print(\"\\n--- Investigando: internet.StreamingMovies ---\")\n",
        "print(dados_normalizados['internet.StreamingMovies'].value_counts())"
      ],
      "metadata": {
        "colab": {
          "base_uri": "https://localhost:8080/"
        },
        "outputId": "3ccdcd0f-af76-48e9-814e-0bbd9ec940f7",
        "id": "nKu1hi3Iff96"
      },
      "execution_count": 60,
      "outputs": [
        {
          "output_type": "stream",
          "name": "stdout",
          "text": [
            "\n",
            "--- Investigando: internet.StreamingMovies ---\n",
            "internet.StreamingMovies\n",
            "0    4301\n",
            "1    2731\n",
            "Name: count, dtype: int64\n"
          ]
        }
      ]
    },
    {
      "cell_type": "markdown",
      "source": [
        "**Comentario**\n",
        "- Agora que provamos que o padrão se repete, podemos criar uma única célula de ação para aplicar a transformação a todas essas colunas de serviço de uma vez, além das colunas binárias simples que também precisam ser tratadas."
      ],
      "metadata": {
        "id": "bbJcoGiyff96"
      }
    },
    {
      "cell_type": "code",
      "source": [
        "# Ação: Mapeamento de Colunas Binárias e de Serviço para Valores Numéricos (0 e 1)\n",
        "\n",
        "# Define o mapeamento para as colunas de serviço (onde 'No internet service' se comporta como 'No').\n",
        "colunas_de_servico = [\n",
        "    'internet.OnlineSecurity', 'internet.OnlineBackup',\n",
        "    'internet.DeviceProtection', 'internet.TechSupport',\n",
        "    'internet.StreamingTV', 'internet.StreamingMovies'\n",
        "]\n",
        "mapa_servico = {'Yes': 1, 'No': 0, 'No internet service': 0}\n",
        "\n",
        "# Aplica o mapeamento a cada coluna de serviço.\n",
        "for coluna in colunas_de_servico:\n",
        "    dados_normalizados[coluna] = dados_normalizados[coluna].map(mapa_servico)\n",
        "\n",
        "# Define o mapeamento para colunas binárias simples ('Yes'/'No').\n",
        "colunas_simples_sim_nao = [\n",
        "    'customer.Partner', 'customer.Dependents', 'phone.PhoneService', 'account.PaperlessBilling'\n",
        "]\n",
        "mapa_simples = {'Yes': 1, 'No': 0}\n",
        "\n",
        "# Aplica o mapeamento a cada coluna binária simples.\n",
        "for coluna in colunas_simples_sim_nao:\n",
        "    dados_normalizados[coluna] = dados_normalizados[coluna].map(mapa_simples)\n",
        "\n",
        "print(\"Mapeamento de colunas binárias e de serviço concluído.\")\n",
        "\n",
        "# Verificação: Exibe as primeiras linhas para confirmar as transformações.\n",
        "print(\"\\nVisualizando o DataFrame com as colunas transformadas:\")\n",
        "display(dados_normalizados.head())\n",
        "\n",
        "# Re-verifica os tipos de dados após todas as transformações para garantir que estão corretos.\n",
        "print(\"\\n--- Resumo dos Tipos de Dados Pós-Mapeamento ---\")\n",
        "dados_normalizados.info()"
      ],
      "metadata": {
        "colab": {
          "base_uri": "https://localhost:8080/",
          "height": 0
        },
        "outputId": "ff136f00-6d41-409f-e11d-d04a6be055e3",
        "id": "8ha6mV78ff97"
      },
      "execution_count": 61,
      "outputs": [
        {
          "output_type": "stream",
          "name": "stdout",
          "text": [
            "Mapeamento de colunas binárias e de serviço concluído.\n",
            "\n",
            "Visualizando o DataFrame com as colunas transformadas:\n"
          ]
        },
        {
          "output_type": "display_data",
          "data": {
            "text/plain": [
              "   customerID  Churn customer.gender  customer.SeniorCitizen  \\\n",
              "0  0002-ORFBO      0          Female                       0   \n",
              "1  0003-MKNFE      0            Male                       0   \n",
              "2  0004-TLHLJ      1            Male                       0   \n",
              "3  0011-IGKFF      1            Male                       1   \n",
              "4  0013-EXCHZ      1          Female                       1   \n",
              "\n",
              "   customer.Partner  customer.Dependents  customer.tenure  phone.PhoneService  \\\n",
              "0               NaN                  NaN                9                 NaN   \n",
              "1               NaN                  NaN                9                 NaN   \n",
              "2               NaN                  NaN                4                 NaN   \n",
              "3               NaN                  NaN               13                 NaN   \n",
              "4               NaN                  NaN                3                 NaN   \n",
              "\n",
              "   phone.MultipleLines internet.InternetService  ...  internet.OnlineBackup  \\\n",
              "0                  NaN                      DSL  ...                    NaN   \n",
              "1                  NaN                      DSL  ...                    NaN   \n",
              "2                  NaN              Fiber optic  ...                    NaN   \n",
              "3                  NaN              Fiber optic  ...                    NaN   \n",
              "4                  NaN              Fiber optic  ...                    NaN   \n",
              "\n",
              "   internet.DeviceProtection  internet.TechSupport  internet.StreamingTV  \\\n",
              "0                        NaN                   NaN                   NaN   \n",
              "1                        NaN                   NaN                   NaN   \n",
              "2                        NaN                   NaN                   NaN   \n",
              "3                        NaN                   NaN                   NaN   \n",
              "4                        NaN                   NaN                   NaN   \n",
              "\n",
              "   internet.StreamingMovies  account.Contract account.PaperlessBilling  \\\n",
              "0                       NaN          One year                      NaN   \n",
              "1                       NaN    Month-to-month                      NaN   \n",
              "2                       NaN    Month-to-month                      NaN   \n",
              "3                       NaN    Month-to-month                      NaN   \n",
              "4                       NaN    Month-to-month                      NaN   \n",
              "\n",
              "   account.PaymentMethod account.Charges.Monthly  account.Charges.Total  \n",
              "0           Mailed check                    65.6                 593.30  \n",
              "1           Mailed check                    59.9                 542.40  \n",
              "2       Electronic check                    73.9                 280.85  \n",
              "3       Electronic check                    98.0                1237.85  \n",
              "4           Mailed check                    83.9                 267.40  \n",
              "\n",
              "[5 rows x 21 columns]"
            ],
            "text/html": [
              "\n",
              "  <div id=\"df-49649056-2194-4445-8c9d-8a1a05822166\" class=\"colab-df-container\">\n",
              "    <div>\n",
              "<style scoped>\n",
              "    .dataframe tbody tr th:only-of-type {\n",
              "        vertical-align: middle;\n",
              "    }\n",
              "\n",
              "    .dataframe tbody tr th {\n",
              "        vertical-align: top;\n",
              "    }\n",
              "\n",
              "    .dataframe thead th {\n",
              "        text-align: right;\n",
              "    }\n",
              "</style>\n",
              "<table border=\"1\" class=\"dataframe\">\n",
              "  <thead>\n",
              "    <tr style=\"text-align: right;\">\n",
              "      <th></th>\n",
              "      <th>customerID</th>\n",
              "      <th>Churn</th>\n",
              "      <th>customer.gender</th>\n",
              "      <th>customer.SeniorCitizen</th>\n",
              "      <th>customer.Partner</th>\n",
              "      <th>customer.Dependents</th>\n",
              "      <th>customer.tenure</th>\n",
              "      <th>phone.PhoneService</th>\n",
              "      <th>phone.MultipleLines</th>\n",
              "      <th>internet.InternetService</th>\n",
              "      <th>...</th>\n",
              "      <th>internet.OnlineBackup</th>\n",
              "      <th>internet.DeviceProtection</th>\n",
              "      <th>internet.TechSupport</th>\n",
              "      <th>internet.StreamingTV</th>\n",
              "      <th>internet.StreamingMovies</th>\n",
              "      <th>account.Contract</th>\n",
              "      <th>account.PaperlessBilling</th>\n",
              "      <th>account.PaymentMethod</th>\n",
              "      <th>account.Charges.Monthly</th>\n",
              "      <th>account.Charges.Total</th>\n",
              "    </tr>\n",
              "  </thead>\n",
              "  <tbody>\n",
              "    <tr>\n",
              "      <th>0</th>\n",
              "      <td>0002-ORFBO</td>\n",
              "      <td>0</td>\n",
              "      <td>Female</td>\n",
              "      <td>0</td>\n",
              "      <td>NaN</td>\n",
              "      <td>NaN</td>\n",
              "      <td>9</td>\n",
              "      <td>NaN</td>\n",
              "      <td>NaN</td>\n",
              "      <td>DSL</td>\n",
              "      <td>...</td>\n",
              "      <td>NaN</td>\n",
              "      <td>NaN</td>\n",
              "      <td>NaN</td>\n",
              "      <td>NaN</td>\n",
              "      <td>NaN</td>\n",
              "      <td>One year</td>\n",
              "      <td>NaN</td>\n",
              "      <td>Mailed check</td>\n",
              "      <td>65.6</td>\n",
              "      <td>593.30</td>\n",
              "    </tr>\n",
              "    <tr>\n",
              "      <th>1</th>\n",
              "      <td>0003-MKNFE</td>\n",
              "      <td>0</td>\n",
              "      <td>Male</td>\n",
              "      <td>0</td>\n",
              "      <td>NaN</td>\n",
              "      <td>NaN</td>\n",
              "      <td>9</td>\n",
              "      <td>NaN</td>\n",
              "      <td>NaN</td>\n",
              "      <td>DSL</td>\n",
              "      <td>...</td>\n",
              "      <td>NaN</td>\n",
              "      <td>NaN</td>\n",
              "      <td>NaN</td>\n",
              "      <td>NaN</td>\n",
              "      <td>NaN</td>\n",
              "      <td>Month-to-month</td>\n",
              "      <td>NaN</td>\n",
              "      <td>Mailed check</td>\n",
              "      <td>59.9</td>\n",
              "      <td>542.40</td>\n",
              "    </tr>\n",
              "    <tr>\n",
              "      <th>2</th>\n",
              "      <td>0004-TLHLJ</td>\n",
              "      <td>1</td>\n",
              "      <td>Male</td>\n",
              "      <td>0</td>\n",
              "      <td>NaN</td>\n",
              "      <td>NaN</td>\n",
              "      <td>4</td>\n",
              "      <td>NaN</td>\n",
              "      <td>NaN</td>\n",
              "      <td>Fiber optic</td>\n",
              "      <td>...</td>\n",
              "      <td>NaN</td>\n",
              "      <td>NaN</td>\n",
              "      <td>NaN</td>\n",
              "      <td>NaN</td>\n",
              "      <td>NaN</td>\n",
              "      <td>Month-to-month</td>\n",
              "      <td>NaN</td>\n",
              "      <td>Electronic check</td>\n",
              "      <td>73.9</td>\n",
              "      <td>280.85</td>\n",
              "    </tr>\n",
              "    <tr>\n",
              "      <th>3</th>\n",
              "      <td>0011-IGKFF</td>\n",
              "      <td>1</td>\n",
              "      <td>Male</td>\n",
              "      <td>1</td>\n",
              "      <td>NaN</td>\n",
              "      <td>NaN</td>\n",
              "      <td>13</td>\n",
              "      <td>NaN</td>\n",
              "      <td>NaN</td>\n",
              "      <td>Fiber optic</td>\n",
              "      <td>...</td>\n",
              "      <td>NaN</td>\n",
              "      <td>NaN</td>\n",
              "      <td>NaN</td>\n",
              "      <td>NaN</td>\n",
              "      <td>NaN</td>\n",
              "      <td>Month-to-month</td>\n",
              "      <td>NaN</td>\n",
              "      <td>Electronic check</td>\n",
              "      <td>98.0</td>\n",
              "      <td>1237.85</td>\n",
              "    </tr>\n",
              "    <tr>\n",
              "      <th>4</th>\n",
              "      <td>0013-EXCHZ</td>\n",
              "      <td>1</td>\n",
              "      <td>Female</td>\n",
              "      <td>1</td>\n",
              "      <td>NaN</td>\n",
              "      <td>NaN</td>\n",
              "      <td>3</td>\n",
              "      <td>NaN</td>\n",
              "      <td>NaN</td>\n",
              "      <td>Fiber optic</td>\n",
              "      <td>...</td>\n",
              "      <td>NaN</td>\n",
              "      <td>NaN</td>\n",
              "      <td>NaN</td>\n",
              "      <td>NaN</td>\n",
              "      <td>NaN</td>\n",
              "      <td>Month-to-month</td>\n",
              "      <td>NaN</td>\n",
              "      <td>Mailed check</td>\n",
              "      <td>83.9</td>\n",
              "      <td>267.40</td>\n",
              "    </tr>\n",
              "  </tbody>\n",
              "</table>\n",
              "<p>5 rows × 21 columns</p>\n",
              "</div>\n",
              "    <div class=\"colab-df-buttons\">\n",
              "\n",
              "  <div class=\"colab-df-container\">\n",
              "    <button class=\"colab-df-convert\" onclick=\"convertToInteractive('df-49649056-2194-4445-8c9d-8a1a05822166')\"\n",
              "            title=\"Convert this dataframe to an interactive table.\"\n",
              "            style=\"display:none;\">\n",
              "\n",
              "  <svg xmlns=\"http://www.w3.org/2000/svg\" height=\"24px\" viewBox=\"0 -960 960 960\">\n",
              "    <path d=\"M120-120v-720h720v720H120Zm60-500h600v-160H180v160Zm220 220h160v-160H400v160Zm0 220h160v-160H400v160ZM180-400h160v-160H180v160Zm440 0h160v-160H620v160ZM180-180h160v-160H180v160Zm440 0h160v-160H620v160Z\"/>\n",
              "  </svg>\n",
              "    </button>\n",
              "\n",
              "  <style>\n",
              "    .colab-df-container {\n",
              "      display:flex;\n",
              "      gap: 12px;\n",
              "    }\n",
              "\n",
              "    .colab-df-convert {\n",
              "      background-color: #E8F0FE;\n",
              "      border: none;\n",
              "      border-radius: 50%;\n",
              "      cursor: pointer;\n",
              "      display: none;\n",
              "      fill: #1967D2;\n",
              "      height: 32px;\n",
              "      padding: 0 0 0 0;\n",
              "      width: 32px;\n",
              "    }\n",
              "\n",
              "    .colab-df-convert:hover {\n",
              "      background-color: #E2EBFA;\n",
              "      box-shadow: 0px 1px 2px rgba(60, 64, 67, 0.3), 0px 1px 3px 1px rgba(60, 64, 67, 0.15);\n",
              "      fill: #174EA6;\n",
              "    }\n",
              "\n",
              "    .colab-df-buttons div {\n",
              "      margin-bottom: 4px;\n",
              "    }\n",
              "\n",
              "    [theme=dark] .colab-df-convert {\n",
              "      background-color: #3B4455;\n",
              "      fill: #D2E3FC;\n",
              "    }\n",
              "\n",
              "    [theme=dark] .colab-df-convert:hover {\n",
              "      background-color: #434B5C;\n",
              "      box-shadow: 0px 1px 3px 1px rgba(0, 0, 0, 0.15);\n",
              "      filter: drop-shadow(0px 1px 2px rgba(0, 0, 0, 0.3));\n",
              "      fill: #FFFFFF;\n",
              "    }\n",
              "  </style>\n",
              "\n",
              "    <script>\n",
              "      const buttonEl =\n",
              "        document.querySelector('#df-49649056-2194-4445-8c9d-8a1a05822166 button.colab-df-convert');\n",
              "      buttonEl.style.display =\n",
              "        google.colab.kernel.accessAllowed ? 'block' : 'none';\n",
              "\n",
              "      async function convertToInteractive(key) {\n",
              "        const element = document.querySelector('#df-49649056-2194-4445-8c9d-8a1a05822166');\n",
              "        const dataTable =\n",
              "          await google.colab.kernel.invokeFunction('convertToInteractive',\n",
              "                                                    [key], {});\n",
              "        if (!dataTable) return;\n",
              "\n",
              "        const docLinkHtml = 'Like what you see? Visit the ' +\n",
              "          '<a target=\"_blank\" href=https://colab.research.google.com/notebooks/data_table.ipynb>data table notebook</a>'\n",
              "          + ' to learn more about interactive tables.';\n",
              "        element.innerHTML = '';\n",
              "        dataTable['output_type'] = 'display_data';\n",
              "        await google.colab.output.renderOutput(dataTable, element);\n",
              "        const docLink = document.createElement('div');\n",
              "        docLink.innerHTML = docLinkHtml;\n",
              "        element.appendChild(docLink);\n",
              "      }\n",
              "    </script>\n",
              "  </div>\n",
              "\n",
              "\n",
              "    <div id=\"df-b467d017-f490-4594-8255-e11f053f9a6a\">\n",
              "      <button class=\"colab-df-quickchart\" onclick=\"quickchart('df-b467d017-f490-4594-8255-e11f053f9a6a')\"\n",
              "                title=\"Suggest charts\"\n",
              "                style=\"display:none;\">\n",
              "\n",
              "<svg xmlns=\"http://www.w3.org/2000/svg\" height=\"24px\"viewBox=\"0 0 24 24\"\n",
              "     width=\"24px\">\n",
              "    <g>\n",
              "        <path d=\"M19 3H5c-1.1 0-2 .9-2 2v14c0 1.1.9 2 2 2h14c1.1 0 2-.9 2-2V5c0-1.1-.9-2-2-2zM9 17H7v-7h2v7zm4 0h-2V7h2v10zm4 0h-2v-4h2v4z\"/>\n",
              "    </g>\n",
              "</svg>\n",
              "      </button>\n",
              "\n",
              "<style>\n",
              "  .colab-df-quickchart {\n",
              "      --bg-color: #E8F0FE;\n",
              "      --fill-color: #1967D2;\n",
              "      --hover-bg-color: #E2EBFA;\n",
              "      --hover-fill-color: #174EA6;\n",
              "      --disabled-fill-color: #AAA;\n",
              "      --disabled-bg-color: #DDD;\n",
              "  }\n",
              "\n",
              "  [theme=dark] .colab-df-quickchart {\n",
              "      --bg-color: #3B4455;\n",
              "      --fill-color: #D2E3FC;\n",
              "      --hover-bg-color: #434B5C;\n",
              "      --hover-fill-color: #FFFFFF;\n",
              "      --disabled-bg-color: #3B4455;\n",
              "      --disabled-fill-color: #666;\n",
              "  }\n",
              "\n",
              "  .colab-df-quickchart {\n",
              "    background-color: var(--bg-color);\n",
              "    border: none;\n",
              "    border-radius: 50%;\n",
              "    cursor: pointer;\n",
              "    display: none;\n",
              "    fill: var(--fill-color);\n",
              "    height: 32px;\n",
              "    padding: 0;\n",
              "    width: 32px;\n",
              "  }\n",
              "\n",
              "  .colab-df-quickchart:hover {\n",
              "    background-color: var(--hover-bg-color);\n",
              "    box-shadow: 0 1px 2px rgba(60, 64, 67, 0.3), 0 1px 3px 1px rgba(60, 64, 67, 0.15);\n",
              "    fill: var(--button-hover-fill-color);\n",
              "  }\n",
              "\n",
              "  .colab-df-quickchart-complete:disabled,\n",
              "  .colab-df-quickchart-complete:disabled:hover {\n",
              "    background-color: var(--disabled-bg-color);\n",
              "    fill: var(--disabled-fill-color);\n",
              "    box-shadow: none;\n",
              "  }\n",
              "\n",
              "  .colab-df-spinner {\n",
              "    border: 2px solid var(--fill-color);\n",
              "    border-color: transparent;\n",
              "    border-bottom-color: var(--fill-color);\n",
              "    animation:\n",
              "      spin 1s steps(1) infinite;\n",
              "  }\n",
              "\n",
              "  @keyframes spin {\n",
              "    0% {\n",
              "      border-color: transparent;\n",
              "      border-bottom-color: var(--fill-color);\n",
              "      border-left-color: var(--fill-color);\n",
              "    }\n",
              "    20% {\n",
              "      border-color: transparent;\n",
              "      border-left-color: var(--fill-color);\n",
              "      border-top-color: var(--fill-color);\n",
              "    }\n",
              "    30% {\n",
              "      border-color: transparent;\n",
              "      border-left-color: var(--fill-color);\n",
              "      border-top-color: var(--fill-color);\n",
              "      border-right-color: var(--fill-color);\n",
              "    }\n",
              "    40% {\n",
              "      border-color: transparent;\n",
              "      border-right-color: var(--fill-color);\n",
              "      border-top-color: var(--fill-color);\n",
              "    }\n",
              "    60% {\n",
              "      border-color: transparent;\n",
              "      border-right-color: var(--fill-color);\n",
              "    }\n",
              "    80% {\n",
              "      border-color: transparent;\n",
              "      border-right-color: var(--fill-color);\n",
              "      border-bottom-color: var(--fill-color);\n",
              "    }\n",
              "    90% {\n",
              "      border-color: transparent;\n",
              "      border-bottom-color: var(--fill-color);\n",
              "    }\n",
              "  }\n",
              "</style>\n",
              "\n",
              "      <script>\n",
              "        async function quickchart(key) {\n",
              "          const quickchartButtonEl =\n",
              "            document.querySelector('#' + key + ' button');\n",
              "          quickchartButtonEl.disabled = true;  // To prevent multiple clicks.\n",
              "          quickchartButtonEl.classList.add('colab-df-spinner');\n",
              "          try {\n",
              "            const charts = await google.colab.kernel.invokeFunction(\n",
              "                'suggestCharts', [key], {});\n",
              "          } catch (error) {\n",
              "            console.error('Error during call to suggestCharts:', error);\n",
              "          }\n",
              "          quickchartButtonEl.classList.remove('colab-df-spinner');\n",
              "          quickchartButtonEl.classList.add('colab-df-quickchart-complete');\n",
              "        }\n",
              "        (() => {\n",
              "          let quickchartButtonEl =\n",
              "            document.querySelector('#df-b467d017-f490-4594-8255-e11f053f9a6a button');\n",
              "          quickchartButtonEl.style.display =\n",
              "            google.colab.kernel.accessAllowed ? 'block' : 'none';\n",
              "        })();\n",
              "      </script>\n",
              "    </div>\n",
              "\n",
              "    </div>\n",
              "  </div>\n"
            ],
            "application/vnd.google.colaboratory.intrinsic+json": {
              "type": "dataframe"
            }
          },
          "metadata": {}
        },
        {
          "output_type": "stream",
          "name": "stdout",
          "text": [
            "\n",
            "--- Resumo dos Tipos de Dados Pós-Mapeamento ---\n",
            "<class 'pandas.core.frame.DataFrame'>\n",
            "Index: 7032 entries, 0 to 7266\n",
            "Data columns (total 21 columns):\n",
            " #   Column                     Non-Null Count  Dtype  \n",
            "---  ------                     --------------  -----  \n",
            " 0   customerID                 7032 non-null   object \n",
            " 1   Churn                      7032 non-null   int64  \n",
            " 2   customer.gender            7032 non-null   object \n",
            " 3   customer.SeniorCitizen     7032 non-null   int64  \n",
            " 4   customer.Partner           0 non-null      float64\n",
            " 5   customer.Dependents        0 non-null      float64\n",
            " 6   customer.tenure            7032 non-null   int64  \n",
            " 7   phone.PhoneService         0 non-null      float64\n",
            " 8   phone.MultipleLines        0 non-null      float64\n",
            " 9   internet.InternetService   7032 non-null   object \n",
            " 10  internet.OnlineSecurity    0 non-null      float64\n",
            " 11  internet.OnlineBackup      0 non-null      float64\n",
            " 12  internet.DeviceProtection  0 non-null      float64\n",
            " 13  internet.TechSupport       0 non-null      float64\n",
            " 14  internet.StreamingTV       0 non-null      float64\n",
            " 15  internet.StreamingMovies   0 non-null      float64\n",
            " 16  account.Contract           7032 non-null   object \n",
            " 17  account.PaperlessBilling   0 non-null      float64\n",
            " 18  account.PaymentMethod      7032 non-null   object \n",
            " 19  account.Charges.Monthly    7032 non-null   float64\n",
            " 20  account.Charges.Total      7032 non-null   float64\n",
            "dtypes: float64(13), int64(3), object(5)\n",
            "memory usage: 1.2+ MB\n"
          ]
        }
      ]
    },
    {
      "cell_type": "markdown",
      "source": [
        "# **Investigando as Colunas**\n",
        "- `customer.gender`\n",
        "- `internet.InternetService`\n",
        "- `account.PaymentMethod`\n",
        "- `account.Contract`"
      ],
      "metadata": {
        "id": "nCNCv9-lGIcQ"
      }
    },
    {
      "cell_type": "code",
      "source": [
        "# Investigação: Vamos ver os valores da coluna de gênero.\n",
        "print(\"--- Investigando: customer.gender ---\")\n",
        "print(dados_normalizados['customer.gender'].value_counts())"
      ],
      "metadata": {
        "colab": {
          "base_uri": "https://localhost:8080/"
        },
        "outputId": "2b8a49ae-750d-4a04-dacd-622eabef1e20",
        "id": "wi-IFOQWfiKR"
      },
      "execution_count": 62,
      "outputs": [
        {
          "output_type": "stream",
          "name": "stdout",
          "text": [
            "--- Investigando: customer.gender ---\n",
            "customer.gender\n",
            "Male      3549\n",
            "Female    3483\n",
            "Name: count, dtype: int64\n"
          ]
        }
      ]
    },
    {
      "cell_type": "markdown",
      "source": [
        "Descoberta: Ao executar, descobrimos que a coluna contém `Male `e `Female`. É uma coluna categórica com duas opções."
      ],
      "metadata": {
        "id": "eqZlnCyHfiKR"
      }
    },
    {
      "cell_type": "code",
      "source": [
        "# Investigação: E a coluna de serviço de internet?\n",
        "print(\"\\n--- Investigando: internet.InternetService ---\")\n",
        "print(dados_normalizados['internet.InternetService'].value_counts())"
      ],
      "metadata": {
        "colab": {
          "base_uri": "https://localhost:8080/"
        },
        "outputId": "e5b0e63f-4a8a-40a6-a33d-45a7f10c39af",
        "id": "4rI9ZPsMfiKR"
      },
      "execution_count": 63,
      "outputs": [
        {
          "output_type": "stream",
          "name": "stdout",
          "text": [
            "\n",
            "--- Investigando: internet.InternetService ---\n",
            "internet.InternetService\n",
            "Fiber optic    3096\n",
            "DSL            2416\n",
            "No             1520\n",
            "Name: count, dtype: int64\n"
          ]
        }
      ]
    },
    {
      "cell_type": "markdown",
      "source": [
        "Descoberta: Descobrimos que existem três categorias: `Fiber optic`, `DSL`, e `No`."
      ],
      "metadata": {
        "id": "p93KAJQPfiKR"
      }
    },
    {
      "cell_type": "code",
      "source": [
        "# Investigação: Por fim, a coluna de método de pagamento.\n",
        "print(\"\\n--- Investigando: account.PaymentMethod ---\")\n",
        "print(dados_normalizados['account.PaymentMethod'].value_counts())"
      ],
      "metadata": {
        "colab": {
          "base_uri": "https://localhost:8080/"
        },
        "outputId": "9c71c44c-d77d-4c6b-bccc-915769cf7de4",
        "id": "BC6gHeuxfiKR"
      },
      "execution_count": 64,
      "outputs": [
        {
          "output_type": "stream",
          "name": "stdout",
          "text": [
            "\n",
            "--- Investigando: account.PaymentMethod ---\n",
            "account.PaymentMethod\n",
            "Electronic check             2365\n",
            "Mailed check                 1604\n",
            "Bank transfer (automatic)    1542\n",
            "Credit card (automatic)      1521\n",
            "Name: count, dtype: int64\n"
          ]
        }
      ]
    },
    {
      "cell_type": "markdown",
      "source": [
        "Descoberta: Descobrimos quatro categorias: `Electronic check`, `Mailed check`, `Bank transfer (automatic)`, e `Credit card (automatic)`."
      ],
      "metadata": {
        "id": "md64i0I1fiKR"
      }
    },
    {
      "cell_type": "code",
      "source": [
        "# Investigação: E a coluna de tipo de contrato?\n",
        "print(\"\\n--- Investigando: account.Contract ---\")\n",
        "print(dados_normalizados['account.Contract'].value_counts())"
      ],
      "metadata": {
        "colab": {
          "base_uri": "https://localhost:8080/"
        },
        "outputId": "fe5853af-4522-467b-b33b-bacb777d47e8",
        "id": "UNRVyf_RfiKS"
      },
      "execution_count": 65,
      "outputs": [
        {
          "output_type": "stream",
          "name": "stdout",
          "text": [
            "\n",
            "--- Investigando: account.Contract ---\n",
            "account.Contract\n",
            "Month-to-month    3875\n",
            "Two year          1685\n",
            "One year          1472\n",
            "Name: count, dtype: int64\n"
          ]
        }
      ]
    },
    {
      "cell_type": "markdown",
      "source": [
        "Plano de Ação: Codificação de Variáveis Categóricas (One-Hot Encoding)\n",
        "\n",
        "- Para colunas com múltiplas categorias como essas, não podemos simplesmente mapeá-las para 0, 1, 2, etc., pois isso criaria uma falsa relação de ordem (por exemplo, \"Two year\" (2) seria considerado \"maior\" que \"One year\" (1)).\n",
        "\n",
        "- A abordagem correta é o One-Hot Encoding. Ele transforma cada categoria em sua própria coluna com valores 0 ou 1. Por exemplo, a coluna account.Contract se transformará em três novas colunas: account.Contract_Month-to-month, account.Contract_One year, e account.Contract_Two year. Se um cliente tiver um contrato mensal, ele terá o valor 1 na primeira coluna e 0 nas outras duas.\n",
        "\n",
        "- A função pd.get_dummies() faz isso perfeitamente para nós."
      ],
      "metadata": {
        "id": "ykdZsb2_fiKS"
      }
    },
    {
      "cell_type": "markdown",
      "source": [
        "# **Plano de Ação: Codificação de Variáveis Categóricas (One-Hot Encoding)**\n",
        "- `customer.gender`\n",
        "- `internet.InternetService`\n",
        "- `account.PaymentMethod`\n",
        "- `account.Contract`"
      ],
      "metadata": {
        "id": "Pe4jxWlZNouu"
      }
    },
    {
      "cell_type": "code",
      "source": [
        "# Ação 1: Aplicar One-Hot Encoding para Variáveis Categóricas Nominais\n",
        "\n",
        "print(\"1. Aplicando One-Hot Encoding às colunas categóricas selecionadas...\")\n",
        "colunas_categoricas_ohe = [ # Lista de colunas a serem transformadas via One-Hot Encoding.\n",
        "    'customer.gender',\n",
        "    'internet.InternetService',\n",
        "    'account.Contract',\n",
        "    'account.PaymentMethod'\n",
        "]"
      ],
      "metadata": {
        "colab": {
          "base_uri": "https://localhost:8080/"
        },
        "outputId": "5fa3166c-c2f0-4f7c-a268-fd792467a9ef",
        "id": "O5iXkOh0fk87"
      },
      "execution_count": 66,
      "outputs": [
        {
          "output_type": "stream",
          "name": "stdout",
          "text": [
            "1. Aplicando One-Hot Encoding às colunas categóricas selecionadas...\n"
          ]
        }
      ]
    },
    {
      "cell_type": "code",
      "source": [
        "# pd.get_dummies cria novas colunas binárias para cada categoria.\n",
        "# 'drop_first=False' mantém todas as categorias, o que é útil para análise descritiva inicial.\n",
        "df_transformado = pd.get_dummies(\n",
        "    dados_normalizados,\n",
        "    columns=colunas_categoricas_ohe,\n",
        "    drop_first=False\n",
        ")\n",
        "print(\"   One-Hot Encoding concluído.\")"
      ],
      "metadata": {
        "colab": {
          "base_uri": "https://localhost:8080/"
        },
        "outputId": "37c750ca-6761-4d88-d739-3d28819e6803",
        "id": "yTWrtXRgfk87"
      },
      "execution_count": 67,
      "outputs": [
        {
          "output_type": "stream",
          "name": "stdout",
          "text": [
            "   One-Hot Encoding concluído.\n"
          ]
        }
      ]
    },
    {
      "cell_type": "code",
      "source": [
        "dados_normalizados.info()\n",
        "\n",
        "# Verificar os valores únicos das colunas criadas pelo get_dummies\n",
        "print(\"\\n--- Verificando valores das colunas criadas por get_dummies ---\")\n",
        "colunas_dummies = [\n",
        "    'customer.gender_Female', 'customer.gender_Male',\n",
        "    'internet.InternetService_DSL', 'internet.InternetService_Fiber optic', 'internet.InternetService_No',\n",
        "    'account.Contract_Month-to-month', 'account.Contract_One year', 'account.Contract_Two year',\n",
        "    'account.PaymentMethod_Bank transfer (automatic)', 'account.PaymentMethod_Credit card (automatic)',\n",
        "    'account.PaymentMethod_Electronic check', 'account.PaymentMethod_Mailed check'\n",
        "]\n",
        "\n",
        "for coluna in colunas_dummies:\n",
        "    if coluna in df_transformado.columns:\n",
        "        print(f\"\\nColona: {coluna}\")\n",
        "        print(df_transformado[coluna].value_counts())\n",
        "    else:\n",
        "        print(f\"\\nColona: {coluna} não encontrada no DataFrame transformado.\")"
      ],
      "metadata": {
        "colab": {
          "base_uri": "https://localhost:8080/"
        },
        "outputId": "bfb6e5df-28e5-40bc-dd45-5ccf9dbc2249",
        "id": "KAdqkT9Wfk87"
      },
      "execution_count": 68,
      "outputs": [
        {
          "output_type": "stream",
          "name": "stdout",
          "text": [
            "<class 'pandas.core.frame.DataFrame'>\n",
            "Index: 7032 entries, 0 to 7266\n",
            "Data columns (total 21 columns):\n",
            " #   Column                     Non-Null Count  Dtype  \n",
            "---  ------                     --------------  -----  \n",
            " 0   customerID                 7032 non-null   object \n",
            " 1   Churn                      7032 non-null   int64  \n",
            " 2   customer.gender            7032 non-null   object \n",
            " 3   customer.SeniorCitizen     7032 non-null   int64  \n",
            " 4   customer.Partner           0 non-null      float64\n",
            " 5   customer.Dependents        0 non-null      float64\n",
            " 6   customer.tenure            7032 non-null   int64  \n",
            " 7   phone.PhoneService         0 non-null      float64\n",
            " 8   phone.MultipleLines        0 non-null      float64\n",
            " 9   internet.InternetService   7032 non-null   object \n",
            " 10  internet.OnlineSecurity    0 non-null      float64\n",
            " 11  internet.OnlineBackup      0 non-null      float64\n",
            " 12  internet.DeviceProtection  0 non-null      float64\n",
            " 13  internet.TechSupport       0 non-null      float64\n",
            " 14  internet.StreamingTV       0 non-null      float64\n",
            " 15  internet.StreamingMovies   0 non-null      float64\n",
            " 16  account.Contract           7032 non-null   object \n",
            " 17  account.PaperlessBilling   0 non-null      float64\n",
            " 18  account.PaymentMethod      7032 non-null   object \n",
            " 19  account.Charges.Monthly    7032 non-null   float64\n",
            " 20  account.Charges.Total      7032 non-null   float64\n",
            "dtypes: float64(13), int64(3), object(5)\n",
            "memory usage: 1.2+ MB\n",
            "\n",
            "--- Verificando valores das colunas criadas por get_dummies ---\n",
            "\n",
            "Colona: customer.gender_Female\n",
            "customer.gender_Female\n",
            "False    3549\n",
            "True     3483\n",
            "Name: count, dtype: int64\n",
            "\n",
            "Colona: customer.gender_Male\n",
            "customer.gender_Male\n",
            "True     3549\n",
            "False    3483\n",
            "Name: count, dtype: int64\n",
            "\n",
            "Colona: internet.InternetService_DSL\n",
            "internet.InternetService_DSL\n",
            "False    4616\n",
            "True     2416\n",
            "Name: count, dtype: int64\n",
            "\n",
            "Colona: internet.InternetService_Fiber optic\n",
            "internet.InternetService_Fiber optic\n",
            "False    3936\n",
            "True     3096\n",
            "Name: count, dtype: int64\n",
            "\n",
            "Colona: internet.InternetService_No\n",
            "internet.InternetService_No\n",
            "False    5512\n",
            "True     1520\n",
            "Name: count, dtype: int64\n",
            "\n",
            "Colona: account.Contract_Month-to-month\n",
            "account.Contract_Month-to-month\n",
            "True     3875\n",
            "False    3157\n",
            "Name: count, dtype: int64\n",
            "\n",
            "Colona: account.Contract_One year\n",
            "account.Contract_One year\n",
            "False    5560\n",
            "True     1472\n",
            "Name: count, dtype: int64\n",
            "\n",
            "Colona: account.Contract_Two year\n",
            "account.Contract_Two year\n",
            "False    5347\n",
            "True     1685\n",
            "Name: count, dtype: int64\n",
            "\n",
            "Colona: account.PaymentMethod_Bank transfer (automatic)\n",
            "account.PaymentMethod_Bank transfer (automatic)\n",
            "False    5490\n",
            "True     1542\n",
            "Name: count, dtype: int64\n",
            "\n",
            "Colona: account.PaymentMethod_Credit card (automatic)\n",
            "account.PaymentMethod_Credit card (automatic)\n",
            "False    5511\n",
            "True     1521\n",
            "Name: count, dtype: int64\n",
            "\n",
            "Colona: account.PaymentMethod_Electronic check\n",
            "account.PaymentMethod_Electronic check\n",
            "False    4667\n",
            "True     2365\n",
            "Name: count, dtype: int64\n",
            "\n",
            "Colona: account.PaymentMethod_Mailed check\n",
            "account.PaymentMethod_Mailed check\n",
            "False    5428\n",
            "True     1604\n",
            "Name: count, dtype: int64\n"
          ]
        }
      ]
    },
    {
      "cell_type": "markdown",
      "source": [
        "Comentario: A verificação com .value_counts() confirma que as colunas criadas pelo get_dummies contêm apenas valores True e False, como esperado. Aparentemente não temos \"falsos non-nulls\" nessas colunas."
      ],
      "metadata": {
        "id": "XgxAJMzVfk87"
      }
    },
    {
      "cell_type": "code",
      "metadata": {
        "colab": {
          "base_uri": "https://localhost:8080/"
        },
        "outputId": "5d254a56-3c58-4d72-cf71-e05376d15227",
        "id": "Eot6KPd1fk88"
      },
      "source": [
        "# Converter colunas booleanas (True/False) para inteiros (1/0)\n",
        "print(\"Convertendo colunas booleanas para inteiros (1/0)...\")\n",
        "\n",
        "# Seleciona apenas as colunas que são do tipo booleano (True/False)\n",
        "colunas_booleanas = df_transformado.select_dtypes(include='bool').columns\n",
        "\n",
        "# Converte as colunas booleanas selecionadas para tipo int\n",
        "df_transformado[colunas_booleanas] = df_transformado[colunas_booleanas].astype(int)\n",
        "\n",
        "print(\"Conversão concluída.\")\n",
        "\n",
        "# Verificação: Mostra os tipos de dados para confirmar a conversão\n",
        "print(\"\\n--- Tipos de Dados Após a Conversão de Boolean para Int ---\")\n",
        "df_transformado.info()"
      ],
      "execution_count": 69,
      "outputs": [
        {
          "output_type": "stream",
          "name": "stdout",
          "text": [
            "Convertendo colunas booleanas para inteiros (1/0)...\n",
            "Conversão concluída.\n",
            "\n",
            "--- Tipos de Dados Após a Conversão de Boolean para Int ---\n",
            "<class 'pandas.core.frame.DataFrame'>\n",
            "Index: 7032 entries, 0 to 7266\n",
            "Data columns (total 29 columns):\n",
            " #   Column                                           Non-Null Count  Dtype  \n",
            "---  ------                                           --------------  -----  \n",
            " 0   customerID                                       7032 non-null   object \n",
            " 1   Churn                                            7032 non-null   int64  \n",
            " 2   customer.SeniorCitizen                           7032 non-null   int64  \n",
            " 3   customer.Partner                                 0 non-null      float64\n",
            " 4   customer.Dependents                              0 non-null      float64\n",
            " 5   customer.tenure                                  7032 non-null   int64  \n",
            " 6   phone.PhoneService                               0 non-null      float64\n",
            " 7   phone.MultipleLines                              0 non-null      float64\n",
            " 8   internet.OnlineSecurity                          0 non-null      float64\n",
            " 9   internet.OnlineBackup                            0 non-null      float64\n",
            " 10  internet.DeviceProtection                        0 non-null      float64\n",
            " 11  internet.TechSupport                             0 non-null      float64\n",
            " 12  internet.StreamingTV                             0 non-null      float64\n",
            " 13  internet.StreamingMovies                         0 non-null      float64\n",
            " 14  account.PaperlessBilling                         0 non-null      float64\n",
            " 15  account.Charges.Monthly                          7032 non-null   float64\n",
            " 16  account.Charges.Total                            7032 non-null   float64\n",
            " 17  customer.gender_Female                           7032 non-null   int64  \n",
            " 18  customer.gender_Male                             7032 non-null   int64  \n",
            " 19  internet.InternetService_DSL                     7032 non-null   int64  \n",
            " 20  internet.InternetService_Fiber optic             7032 non-null   int64  \n",
            " 21  internet.InternetService_No                      7032 non-null   int64  \n",
            " 22  account.Contract_Month-to-month                  7032 non-null   int64  \n",
            " 23  account.Contract_One year                        7032 non-null   int64  \n",
            " 24  account.Contract_Two year                        7032 non-null   int64  \n",
            " 25  account.PaymentMethod_Bank transfer (automatic)  7032 non-null   int64  \n",
            " 26  account.PaymentMethod_Credit card (automatic)    7032 non-null   int64  \n",
            " 27  account.PaymentMethod_Electronic check           7032 non-null   int64  \n",
            " 28  account.PaymentMethod_Mailed check               7032 non-null   int64  \n",
            "dtypes: float64(13), int64(15), object(1)\n",
            "memory usage: 1.6+ MB\n"
          ]
        }
      ]
    },
    {
      "cell_type": "code",
      "source": [
        "# Identificar e analisar colunas numéricas que não são binárias esperadas\n",
        "\n",
        "print(\"--- Analisando colunas numéricas (não binárias esperadas) ---\")\n",
        "\n",
        "# Lista de colunas que *deveriam* ser binárias (para exclusão)\n",
        "colunas_binarias_int = [\n",
        "    'Churn',\n",
        "    'customer.SeniorCitizen',\n",
        "    'customer.Partner',\n",
        "    'customer.Dependents',\n",
        "    'phone.PhoneService',\n",
        "    'phone.MultipleLines',\n",
        "    'internet.OnlineSecurity',\n",
        "    'internet.OnlineBackup',\n",
        "    'internet.DeviceProtection',\n",
        "    'internet.TechSupport',\n",
        "    'internet.StreamingTV',\n",
        "    'internet.StreamingMovies',\n",
        "    'account.PaperlessBilling',\n",
        "    'customer.gender_Female',\n",
        "    'customer.gender_Male',\n",
        "    'internet.InternetService_DSL',\n",
        "    'internet.InternetService_Fiber optic',\n",
        "    'internet.InternetService_No',\n",
        "    'account.Contract_Month-to-month',\n",
        "    'account.Contract_One year',\n",
        "    'account.Contract_Two year',\n",
        "    'account.PaymentMethod_Bank transfer (automatic)',\n",
        "    'account.PaymentMethod_Credit card (automatic)',\n",
        "    'account.PaymentMethod_Electronic check',\n",
        "    'account.PaymentMethod_Mailed check'\n",
        "]\n",
        "\n",
        "# Selecionar todas as colunas numéricas (int64 e float64)\n",
        "colunas_numericas = df_transformado.select_dtypes(include=['int64', 'float64']).columns\n",
        "\n",
        "# Filtrar as colunas numéricas para excluir as que são esperadas como binárias\n",
        "colunas_para_analisar = [col for col in colunas_numericas if col not in colunas_binarias_int]\n",
        "\n",
        "if colunas_para_analisar:\n",
        "    print(\"\\nColunas numéricas para análise:\")\n",
        "    for coluna in colunas_para_analisar:\n",
        "        print(f\"- {coluna}\")\n",
        "\n",
        "    # Exibir estatísticas descritivas para essas colunas\n",
        "    print(\"\\n--- Estatísticas Descritivas ---\")\n",
        "    display(df_transformado[colunas_para_analisar].describe())\n",
        "\n",
        "else:\n",
        "    print(\"\\nNão foram encontradas colunas numéricas para analisar além das esperadas como binárias.\")"
      ],
      "metadata": {
        "colab": {
          "base_uri": "https://localhost:8080/",
          "height": 0
        },
        "id": "jJYXTcr_eacT",
        "outputId": "92583234-1382-404d-d7ca-07c9e9225655"
      },
      "execution_count": 70,
      "outputs": [
        {
          "output_type": "stream",
          "name": "stdout",
          "text": [
            "--- Analisando colunas numéricas (não binárias esperadas) ---\n",
            "\n",
            "Colunas numéricas para análise:\n",
            "- customer.tenure\n",
            "- account.Charges.Monthly\n",
            "- account.Charges.Total\n",
            "\n",
            "--- Estatísticas Descritivas ---\n"
          ]
        },
        {
          "output_type": "display_data",
          "data": {
            "text/plain": [
              "       customer.tenure  account.Charges.Monthly  account.Charges.Total\n",
              "count      7032.000000              7032.000000            7032.000000\n",
              "mean         32.421786                64.798208            2283.300441\n",
              "std          24.545260                30.085974            2266.771362\n",
              "min           1.000000                18.250000              18.800000\n",
              "25%           9.000000                35.587500             401.450000\n",
              "50%          29.000000                70.350000            1397.475000\n",
              "75%          55.000000                89.862500            3794.737500\n",
              "max          72.000000               118.750000            8684.800000"
            ],
            "text/html": [
              "\n",
              "  <div id=\"df-d559dc78-263b-4ba4-b9f8-4062c0036c7b\" class=\"colab-df-container\">\n",
              "    <div>\n",
              "<style scoped>\n",
              "    .dataframe tbody tr th:only-of-type {\n",
              "        vertical-align: middle;\n",
              "    }\n",
              "\n",
              "    .dataframe tbody tr th {\n",
              "        vertical-align: top;\n",
              "    }\n",
              "\n",
              "    .dataframe thead th {\n",
              "        text-align: right;\n",
              "    }\n",
              "</style>\n",
              "<table border=\"1\" class=\"dataframe\">\n",
              "  <thead>\n",
              "    <tr style=\"text-align: right;\">\n",
              "      <th></th>\n",
              "      <th>customer.tenure</th>\n",
              "      <th>account.Charges.Monthly</th>\n",
              "      <th>account.Charges.Total</th>\n",
              "    </tr>\n",
              "  </thead>\n",
              "  <tbody>\n",
              "    <tr>\n",
              "      <th>count</th>\n",
              "      <td>7032.000000</td>\n",
              "      <td>7032.000000</td>\n",
              "      <td>7032.000000</td>\n",
              "    </tr>\n",
              "    <tr>\n",
              "      <th>mean</th>\n",
              "      <td>32.421786</td>\n",
              "      <td>64.798208</td>\n",
              "      <td>2283.300441</td>\n",
              "    </tr>\n",
              "    <tr>\n",
              "      <th>std</th>\n",
              "      <td>24.545260</td>\n",
              "      <td>30.085974</td>\n",
              "      <td>2266.771362</td>\n",
              "    </tr>\n",
              "    <tr>\n",
              "      <th>min</th>\n",
              "      <td>1.000000</td>\n",
              "      <td>18.250000</td>\n",
              "      <td>18.800000</td>\n",
              "    </tr>\n",
              "    <tr>\n",
              "      <th>25%</th>\n",
              "      <td>9.000000</td>\n",
              "      <td>35.587500</td>\n",
              "      <td>401.450000</td>\n",
              "    </tr>\n",
              "    <tr>\n",
              "      <th>50%</th>\n",
              "      <td>29.000000</td>\n",
              "      <td>70.350000</td>\n",
              "      <td>1397.475000</td>\n",
              "    </tr>\n",
              "    <tr>\n",
              "      <th>75%</th>\n",
              "      <td>55.000000</td>\n",
              "      <td>89.862500</td>\n",
              "      <td>3794.737500</td>\n",
              "    </tr>\n",
              "    <tr>\n",
              "      <th>max</th>\n",
              "      <td>72.000000</td>\n",
              "      <td>118.750000</td>\n",
              "      <td>8684.800000</td>\n",
              "    </tr>\n",
              "  </tbody>\n",
              "</table>\n",
              "</div>\n",
              "    <div class=\"colab-df-buttons\">\n",
              "\n",
              "  <div class=\"colab-df-container\">\n",
              "    <button class=\"colab-df-convert\" onclick=\"convertToInteractive('df-d559dc78-263b-4ba4-b9f8-4062c0036c7b')\"\n",
              "            title=\"Convert this dataframe to an interactive table.\"\n",
              "            style=\"display:none;\">\n",
              "\n",
              "  <svg xmlns=\"http://www.w3.org/2000/svg\" height=\"24px\" viewBox=\"0 -960 960 960\">\n",
              "    <path d=\"M120-120v-720h720v720H120Zm60-500h600v-160H180v160Zm220 220h160v-160H400v160Zm0 220h160v-160H400v160ZM180-400h160v-160H180v160Zm440 0h160v-160H620v160ZM180-180h160v-160H180v160Zm440 0h160v-160H620v160Z\"/>\n",
              "  </svg>\n",
              "    </button>\n",
              "\n",
              "  <style>\n",
              "    .colab-df-container {\n",
              "      display:flex;\n",
              "      gap: 12px;\n",
              "    }\n",
              "\n",
              "    .colab-df-convert {\n",
              "      background-color: #E8F0FE;\n",
              "      border: none;\n",
              "      border-radius: 50%;\n",
              "      cursor: pointer;\n",
              "      display: none;\n",
              "      fill: #1967D2;\n",
              "      height: 32px;\n",
              "      padding: 0 0 0 0;\n",
              "      width: 32px;\n",
              "    }\n",
              "\n",
              "    .colab-df-convert:hover {\n",
              "      background-color: #E2EBFA;\n",
              "      box-shadow: 0px 1px 2px rgba(60, 64, 67, 0.3), 0px 1px 3px 1px rgba(60, 64, 67, 0.15);\n",
              "      fill: #174EA6;\n",
              "    }\n",
              "\n",
              "    .colab-df-buttons div {\n",
              "      margin-bottom: 4px;\n",
              "    }\n",
              "\n",
              "    [theme=dark] .colab-df-convert {\n",
              "      background-color: #3B4455;\n",
              "      fill: #D2E3FC;\n",
              "    }\n",
              "\n",
              "    [theme=dark] .colab-df-convert:hover {\n",
              "      background-color: #434B5C;\n",
              "      box-shadow: 0px 1px 3px 1px rgba(0, 0, 0, 0.15);\n",
              "      filter: drop-shadow(0px 1px 2px rgba(0, 0, 0, 0.3));\n",
              "      fill: #FFFFFF;\n",
              "    }\n",
              "  </style>\n",
              "\n",
              "    <script>\n",
              "      const buttonEl =\n",
              "        document.querySelector('#df-d559dc78-263b-4ba4-b9f8-4062c0036c7b button.colab-df-convert');\n",
              "      buttonEl.style.display =\n",
              "        google.colab.kernel.accessAllowed ? 'block' : 'none';\n",
              "\n",
              "      async function convertToInteractive(key) {\n",
              "        const element = document.querySelector('#df-d559dc78-263b-4ba4-b9f8-4062c0036c7b');\n",
              "        const dataTable =\n",
              "          await google.colab.kernel.invokeFunction('convertToInteractive',\n",
              "                                                    [key], {});\n",
              "        if (!dataTable) return;\n",
              "\n",
              "        const docLinkHtml = 'Like what you see? Visit the ' +\n",
              "          '<a target=\"_blank\" href=https://colab.research.google.com/notebooks/data_table.ipynb>data table notebook</a>'\n",
              "          + ' to learn more about interactive tables.';\n",
              "        element.innerHTML = '';\n",
              "        dataTable['output_type'] = 'display_data';\n",
              "        await google.colab.output.renderOutput(dataTable, element);\n",
              "        const docLink = document.createElement('div');\n",
              "        docLink.innerHTML = docLinkHtml;\n",
              "        element.appendChild(docLink);\n",
              "      }\n",
              "    </script>\n",
              "  </div>\n",
              "\n",
              "\n",
              "    <div id=\"df-6d9d253f-c7a1-48fb-b2a6-077964bcca2b\">\n",
              "      <button class=\"colab-df-quickchart\" onclick=\"quickchart('df-6d9d253f-c7a1-48fb-b2a6-077964bcca2b')\"\n",
              "                title=\"Suggest charts\"\n",
              "                style=\"display:none;\">\n",
              "\n",
              "<svg xmlns=\"http://www.w3.org/2000/svg\" height=\"24px\"viewBox=\"0 0 24 24\"\n",
              "     width=\"24px\">\n",
              "    <g>\n",
              "        <path d=\"M19 3H5c-1.1 0-2 .9-2 2v14c0 1.1.9 2 2 2h14c1.1 0 2-.9 2-2V5c0-1.1-.9-2-2-2zM9 17H7v-7h2v7zm4 0h-2V7h2v10zm4 0h-2v-4h2v4z\"/>\n",
              "    </g>\n",
              "</svg>\n",
              "      </button>\n",
              "\n",
              "<style>\n",
              "  .colab-df-quickchart {\n",
              "      --bg-color: #E8F0FE;\n",
              "      --fill-color: #1967D2;\n",
              "      --hover-bg-color: #E2EBFA;\n",
              "      --hover-fill-color: #174EA6;\n",
              "      --disabled-fill-color: #AAA;\n",
              "      --disabled-bg-color: #DDD;\n",
              "  }\n",
              "\n",
              "  [theme=dark] .colab-df-quickchart {\n",
              "      --bg-color: #3B4455;\n",
              "      --fill-color: #D2E3FC;\n",
              "      --hover-bg-color: #434B5C;\n",
              "      --hover-fill-color: #FFFFFF;\n",
              "      --disabled-bg-color: #3B4455;\n",
              "      --disabled-fill-color: #666;\n",
              "  }\n",
              "\n",
              "  .colab-df-quickchart {\n",
              "    background-color: var(--bg-color);\n",
              "    border: none;\n",
              "    border-radius: 50%;\n",
              "    cursor: pointer;\n",
              "    display: none;\n",
              "    fill: var(--fill-color);\n",
              "    height: 32px;\n",
              "    padding: 0;\n",
              "    width: 32px;\n",
              "  }\n",
              "\n",
              "  .colab-df-quickchart:hover {\n",
              "    background-color: var(--hover-bg-color);\n",
              "    box-shadow: 0 1px 2px rgba(60, 64, 67, 0.3), 0 1px 3px 1px rgba(60, 64, 67, 0.15);\n",
              "    fill: var(--button-hover-fill-color);\n",
              "  }\n",
              "\n",
              "  .colab-df-quickchart-complete:disabled,\n",
              "  .colab-df-quickchart-complete:disabled:hover {\n",
              "    background-color: var(--disabled-bg-color);\n",
              "    fill: var(--disabled-fill-color);\n",
              "    box-shadow: none;\n",
              "  }\n",
              "\n",
              "  .colab-df-spinner {\n",
              "    border: 2px solid var(--fill-color);\n",
              "    border-color: transparent;\n",
              "    border-bottom-color: var(--fill-color);\n",
              "    animation:\n",
              "      spin 1s steps(1) infinite;\n",
              "  }\n",
              "\n",
              "  @keyframes spin {\n",
              "    0% {\n",
              "      border-color: transparent;\n",
              "      border-bottom-color: var(--fill-color);\n",
              "      border-left-color: var(--fill-color);\n",
              "    }\n",
              "    20% {\n",
              "      border-color: transparent;\n",
              "      border-left-color: var(--fill-color);\n",
              "      border-top-color: var(--fill-color);\n",
              "    }\n",
              "    30% {\n",
              "      border-color: transparent;\n",
              "      border-left-color: var(--fill-color);\n",
              "      border-top-color: var(--fill-color);\n",
              "      border-right-color: var(--fill-color);\n",
              "    }\n",
              "    40% {\n",
              "      border-color: transparent;\n",
              "      border-right-color: var(--fill-color);\n",
              "      border-top-color: var(--fill-color);\n",
              "    }\n",
              "    60% {\n",
              "      border-color: transparent;\n",
              "      border-right-color: var(--fill-color);\n",
              "    }\n",
              "    80% {\n",
              "      border-color: transparent;\n",
              "      border-right-color: var(--fill-color);\n",
              "      border-bottom-color: var(--fill-color);\n",
              "    }\n",
              "    90% {\n",
              "      border-color: transparent;\n",
              "      border-bottom-color: var(--fill-color);\n",
              "    }\n",
              "  }\n",
              "</style>\n",
              "\n",
              "      <script>\n",
              "        async function quickchart(key) {\n",
              "          const quickchartButtonEl =\n",
              "            document.querySelector('#' + key + ' button');\n",
              "          quickchartButtonEl.disabled = true;  // To prevent multiple clicks.\n",
              "          quickchartButtonEl.classList.add('colab-df-spinner');\n",
              "          try {\n",
              "            const charts = await google.colab.kernel.invokeFunction(\n",
              "                'suggestCharts', [key], {});\n",
              "          } catch (error) {\n",
              "            console.error('Error during call to suggestCharts:', error);\n",
              "          }\n",
              "          quickchartButtonEl.classList.remove('colab-df-spinner');\n",
              "          quickchartButtonEl.classList.add('colab-df-quickchart-complete');\n",
              "        }\n",
              "        (() => {\n",
              "          let quickchartButtonEl =\n",
              "            document.querySelector('#df-6d9d253f-c7a1-48fb-b2a6-077964bcca2b button');\n",
              "          quickchartButtonEl.style.display =\n",
              "            google.colab.kernel.accessAllowed ? 'block' : 'none';\n",
              "        })();\n",
              "      </script>\n",
              "    </div>\n",
              "\n",
              "    </div>\n",
              "  </div>\n"
            ],
            "application/vnd.google.colaboratory.intrinsic+json": {
              "type": "dataframe",
              "summary": "{\n  \"name\": \"    print(\\\"\\\\nN\\u00e3o foram encontradas colunas num\\u00e9ricas para analisar al\\u00e9m das esperadas como bin\\u00e1rias\",\n  \"rows\": 8,\n  \"fields\": [\n    {\n      \"column\": \"customer.tenure\",\n      \"properties\": {\n        \"dtype\": \"number\",\n        \"std\": 2475.0322158792137,\n        \"min\": 1.0,\n        \"max\": 7032.0,\n        \"num_unique_values\": 8,\n        \"samples\": [\n          32.421786120591584,\n          29.0,\n          7032.0\n        ],\n        \"semantic_type\": \"\",\n        \"description\": \"\"\n      }\n    },\n    {\n      \"column\": \"account.Charges.Monthly\",\n      \"properties\": {\n        \"dtype\": \"number\",\n        \"std\": 2464.8092493026143,\n        \"min\": 18.25,\n        \"max\": 7032.0,\n        \"num_unique_values\": 8,\n        \"samples\": [\n          64.79820819112628,\n          70.35,\n          7032.0\n        ],\n        \"semantic_type\": \"\",\n        \"description\": \"\"\n      }\n    },\n    {\n      \"column\": \"account.Charges.Total\",\n      \"properties\": {\n        \"dtype\": \"number\",\n        \"std\": 3117.312944742373,\n        \"min\": 18.8,\n        \"max\": 8684.8,\n        \"num_unique_values\": 8,\n        \"samples\": [\n          2283.3004408418656,\n          1397.475,\n          7032.0\n        ],\n        \"semantic_type\": \"\",\n        \"description\": \"\"\n      }\n    }\n  ]\n}"
            }
          },
          "metadata": {}
        }
      ]
    },
    {
      "cell_type": "markdown",
      "source": [
        "# ⚪ **Refinamento**"
      ],
      "metadata": {
        "id": "X3NffLFu1bs0"
      }
    },
    {
      "cell_type": "code",
      "source": [
        "# Definir 'customerID' como o índice do DataFrame\n",
        "\n",
        "# Define a coluna 'customerID' como o índice do DataFrame.\n",
        "# Isso é uma boa prática para identificação única de registros e evita que 'customerID' seja tratada como uma feature para modelos.\n",
        "print(\"\\n2. Definindo 'customerID' como o índice do DataFrame...\")\n",
        "if 'customerID' in df_transformado.columns:\n",
        "    df_transformado.set_index('customerID', inplace=True)\n",
        "print(\"   'customerID' definido como índice.\")\n",
        "\n",
        "# Verificar o DataFrame após definir o índice\n",
        "print(\"\\n--- DataFrame após definir 'customerID' como índice ---\")\n",
        "display(df_transformado.head())\n",
        "print(\"\\n--- Tipos de Dados Após definir o índice ---\")\n",
        "df_transformado.info()"
      ],
      "metadata": {
        "colab": {
          "base_uri": "https://localhost:8080/",
          "height": 0
        },
        "id": "5h3E5TP3iqfW",
        "outputId": "b9709328-b871-44d8-ac06-2cd4a4b4be47"
      },
      "execution_count": 71,
      "outputs": [
        {
          "output_type": "stream",
          "name": "stdout",
          "text": [
            "\n",
            "2. Definindo 'customerID' como o índice do DataFrame...\n",
            "   'customerID' definido como índice.\n",
            "\n",
            "--- DataFrame após definir 'customerID' como índice ---\n"
          ]
        },
        {
          "output_type": "display_data",
          "data": {
            "text/plain": [
              "            Churn  customer.SeniorCitizen  customer.Partner  \\\n",
              "customerID                                                    \n",
              "0002-ORFBO      0                       0               NaN   \n",
              "0003-MKNFE      0                       0               NaN   \n",
              "0004-TLHLJ      1                       0               NaN   \n",
              "0011-IGKFF      1                       1               NaN   \n",
              "0013-EXCHZ      1                       1               NaN   \n",
              "\n",
              "            customer.Dependents  customer.tenure  phone.PhoneService  \\\n",
              "customerID                                                             \n",
              "0002-ORFBO                  NaN                9                 NaN   \n",
              "0003-MKNFE                  NaN                9                 NaN   \n",
              "0004-TLHLJ                  NaN                4                 NaN   \n",
              "0011-IGKFF                  NaN               13                 NaN   \n",
              "0013-EXCHZ                  NaN                3                 NaN   \n",
              "\n",
              "            phone.MultipleLines  internet.OnlineSecurity  \\\n",
              "customerID                                                 \n",
              "0002-ORFBO                  NaN                      NaN   \n",
              "0003-MKNFE                  NaN                      NaN   \n",
              "0004-TLHLJ                  NaN                      NaN   \n",
              "0011-IGKFF                  NaN                      NaN   \n",
              "0013-EXCHZ                  NaN                      NaN   \n",
              "\n",
              "            internet.OnlineBackup  internet.DeviceProtection  ...  \\\n",
              "customerID                                                    ...   \n",
              "0002-ORFBO                    NaN                        NaN  ...   \n",
              "0003-MKNFE                    NaN                        NaN  ...   \n",
              "0004-TLHLJ                    NaN                        NaN  ...   \n",
              "0011-IGKFF                    NaN                        NaN  ...   \n",
              "0013-EXCHZ                    NaN                        NaN  ...   \n",
              "\n",
              "            internet.InternetService_DSL  \\\n",
              "customerID                                 \n",
              "0002-ORFBO                             1   \n",
              "0003-MKNFE                             1   \n",
              "0004-TLHLJ                             0   \n",
              "0011-IGKFF                             0   \n",
              "0013-EXCHZ                             0   \n",
              "\n",
              "            internet.InternetService_Fiber optic  internet.InternetService_No  \\\n",
              "customerID                                                                      \n",
              "0002-ORFBO                                     0                            0   \n",
              "0003-MKNFE                                     0                            0   \n",
              "0004-TLHLJ                                     1                            0   \n",
              "0011-IGKFF                                     1                            0   \n",
              "0013-EXCHZ                                     1                            0   \n",
              "\n",
              "            account.Contract_Month-to-month  account.Contract_One year  \\\n",
              "customerID                                                               \n",
              "0002-ORFBO                                0                          1   \n",
              "0003-MKNFE                                1                          0   \n",
              "0004-TLHLJ                                1                          0   \n",
              "0011-IGKFF                                1                          0   \n",
              "0013-EXCHZ                                1                          0   \n",
              "\n",
              "            account.Contract_Two year  \\\n",
              "customerID                              \n",
              "0002-ORFBO                          0   \n",
              "0003-MKNFE                          0   \n",
              "0004-TLHLJ                          0   \n",
              "0011-IGKFF                          0   \n",
              "0013-EXCHZ                          0   \n",
              "\n",
              "            account.PaymentMethod_Bank transfer (automatic)  \\\n",
              "customerID                                                    \n",
              "0002-ORFBO                                                0   \n",
              "0003-MKNFE                                                0   \n",
              "0004-TLHLJ                                                0   \n",
              "0011-IGKFF                                                0   \n",
              "0013-EXCHZ                                                0   \n",
              "\n",
              "            account.PaymentMethod_Credit card (automatic)  \\\n",
              "customerID                                                  \n",
              "0002-ORFBO                                              0   \n",
              "0003-MKNFE                                              0   \n",
              "0004-TLHLJ                                              0   \n",
              "0011-IGKFF                                              0   \n",
              "0013-EXCHZ                                              0   \n",
              "\n",
              "            account.PaymentMethod_Electronic check  \\\n",
              "customerID                                           \n",
              "0002-ORFBO                                       0   \n",
              "0003-MKNFE                                       0   \n",
              "0004-TLHLJ                                       1   \n",
              "0011-IGKFF                                       1   \n",
              "0013-EXCHZ                                       0   \n",
              "\n",
              "            account.PaymentMethod_Mailed check  \n",
              "customerID                                      \n",
              "0002-ORFBO                                   1  \n",
              "0003-MKNFE                                   1  \n",
              "0004-TLHLJ                                   0  \n",
              "0011-IGKFF                                   0  \n",
              "0013-EXCHZ                                   1  \n",
              "\n",
              "[5 rows x 28 columns]"
            ],
            "text/html": [
              "\n",
              "  <div id=\"df-601b7b07-7a8f-4413-96d8-c69e57d258a5\" class=\"colab-df-container\">\n",
              "    <div>\n",
              "<style scoped>\n",
              "    .dataframe tbody tr th:only-of-type {\n",
              "        vertical-align: middle;\n",
              "    }\n",
              "\n",
              "    .dataframe tbody tr th {\n",
              "        vertical-align: top;\n",
              "    }\n",
              "\n",
              "    .dataframe thead th {\n",
              "        text-align: right;\n",
              "    }\n",
              "</style>\n",
              "<table border=\"1\" class=\"dataframe\">\n",
              "  <thead>\n",
              "    <tr style=\"text-align: right;\">\n",
              "      <th></th>\n",
              "      <th>Churn</th>\n",
              "      <th>customer.SeniorCitizen</th>\n",
              "      <th>customer.Partner</th>\n",
              "      <th>customer.Dependents</th>\n",
              "      <th>customer.tenure</th>\n",
              "      <th>phone.PhoneService</th>\n",
              "      <th>phone.MultipleLines</th>\n",
              "      <th>internet.OnlineSecurity</th>\n",
              "      <th>internet.OnlineBackup</th>\n",
              "      <th>internet.DeviceProtection</th>\n",
              "      <th>...</th>\n",
              "      <th>internet.InternetService_DSL</th>\n",
              "      <th>internet.InternetService_Fiber optic</th>\n",
              "      <th>internet.InternetService_No</th>\n",
              "      <th>account.Contract_Month-to-month</th>\n",
              "      <th>account.Contract_One year</th>\n",
              "      <th>account.Contract_Two year</th>\n",
              "      <th>account.PaymentMethod_Bank transfer (automatic)</th>\n",
              "      <th>account.PaymentMethod_Credit card (automatic)</th>\n",
              "      <th>account.PaymentMethod_Electronic check</th>\n",
              "      <th>account.PaymentMethod_Mailed check</th>\n",
              "    </tr>\n",
              "    <tr>\n",
              "      <th>customerID</th>\n",
              "      <th></th>\n",
              "      <th></th>\n",
              "      <th></th>\n",
              "      <th></th>\n",
              "      <th></th>\n",
              "      <th></th>\n",
              "      <th></th>\n",
              "      <th></th>\n",
              "      <th></th>\n",
              "      <th></th>\n",
              "      <th></th>\n",
              "      <th></th>\n",
              "      <th></th>\n",
              "      <th></th>\n",
              "      <th></th>\n",
              "      <th></th>\n",
              "      <th></th>\n",
              "      <th></th>\n",
              "      <th></th>\n",
              "      <th></th>\n",
              "      <th></th>\n",
              "    </tr>\n",
              "  </thead>\n",
              "  <tbody>\n",
              "    <tr>\n",
              "      <th>0002-ORFBO</th>\n",
              "      <td>0</td>\n",
              "      <td>0</td>\n",
              "      <td>NaN</td>\n",
              "      <td>NaN</td>\n",
              "      <td>9</td>\n",
              "      <td>NaN</td>\n",
              "      <td>NaN</td>\n",
              "      <td>NaN</td>\n",
              "      <td>NaN</td>\n",
              "      <td>NaN</td>\n",
              "      <td>...</td>\n",
              "      <td>1</td>\n",
              "      <td>0</td>\n",
              "      <td>0</td>\n",
              "      <td>0</td>\n",
              "      <td>1</td>\n",
              "      <td>0</td>\n",
              "      <td>0</td>\n",
              "      <td>0</td>\n",
              "      <td>0</td>\n",
              "      <td>1</td>\n",
              "    </tr>\n",
              "    <tr>\n",
              "      <th>0003-MKNFE</th>\n",
              "      <td>0</td>\n",
              "      <td>0</td>\n",
              "      <td>NaN</td>\n",
              "      <td>NaN</td>\n",
              "      <td>9</td>\n",
              "      <td>NaN</td>\n",
              "      <td>NaN</td>\n",
              "      <td>NaN</td>\n",
              "      <td>NaN</td>\n",
              "      <td>NaN</td>\n",
              "      <td>...</td>\n",
              "      <td>1</td>\n",
              "      <td>0</td>\n",
              "      <td>0</td>\n",
              "      <td>1</td>\n",
              "      <td>0</td>\n",
              "      <td>0</td>\n",
              "      <td>0</td>\n",
              "      <td>0</td>\n",
              "      <td>0</td>\n",
              "      <td>1</td>\n",
              "    </tr>\n",
              "    <tr>\n",
              "      <th>0004-TLHLJ</th>\n",
              "      <td>1</td>\n",
              "      <td>0</td>\n",
              "      <td>NaN</td>\n",
              "      <td>NaN</td>\n",
              "      <td>4</td>\n",
              "      <td>NaN</td>\n",
              "      <td>NaN</td>\n",
              "      <td>NaN</td>\n",
              "      <td>NaN</td>\n",
              "      <td>NaN</td>\n",
              "      <td>...</td>\n",
              "      <td>0</td>\n",
              "      <td>1</td>\n",
              "      <td>0</td>\n",
              "      <td>1</td>\n",
              "      <td>0</td>\n",
              "      <td>0</td>\n",
              "      <td>0</td>\n",
              "      <td>0</td>\n",
              "      <td>1</td>\n",
              "      <td>0</td>\n",
              "    </tr>\n",
              "    <tr>\n",
              "      <th>0011-IGKFF</th>\n",
              "      <td>1</td>\n",
              "      <td>1</td>\n",
              "      <td>NaN</td>\n",
              "      <td>NaN</td>\n",
              "      <td>13</td>\n",
              "      <td>NaN</td>\n",
              "      <td>NaN</td>\n",
              "      <td>NaN</td>\n",
              "      <td>NaN</td>\n",
              "      <td>NaN</td>\n",
              "      <td>...</td>\n",
              "      <td>0</td>\n",
              "      <td>1</td>\n",
              "      <td>0</td>\n",
              "      <td>1</td>\n",
              "      <td>0</td>\n",
              "      <td>0</td>\n",
              "      <td>0</td>\n",
              "      <td>0</td>\n",
              "      <td>1</td>\n",
              "      <td>0</td>\n",
              "    </tr>\n",
              "    <tr>\n",
              "      <th>0013-EXCHZ</th>\n",
              "      <td>1</td>\n",
              "      <td>1</td>\n",
              "      <td>NaN</td>\n",
              "      <td>NaN</td>\n",
              "      <td>3</td>\n",
              "      <td>NaN</td>\n",
              "      <td>NaN</td>\n",
              "      <td>NaN</td>\n",
              "      <td>NaN</td>\n",
              "      <td>NaN</td>\n",
              "      <td>...</td>\n",
              "      <td>0</td>\n",
              "      <td>1</td>\n",
              "      <td>0</td>\n",
              "      <td>1</td>\n",
              "      <td>0</td>\n",
              "      <td>0</td>\n",
              "      <td>0</td>\n",
              "      <td>0</td>\n",
              "      <td>0</td>\n",
              "      <td>1</td>\n",
              "    </tr>\n",
              "  </tbody>\n",
              "</table>\n",
              "<p>5 rows × 28 columns</p>\n",
              "</div>\n",
              "    <div class=\"colab-df-buttons\">\n",
              "\n",
              "  <div class=\"colab-df-container\">\n",
              "    <button class=\"colab-df-convert\" onclick=\"convertToInteractive('df-601b7b07-7a8f-4413-96d8-c69e57d258a5')\"\n",
              "            title=\"Convert this dataframe to an interactive table.\"\n",
              "            style=\"display:none;\">\n",
              "\n",
              "  <svg xmlns=\"http://www.w3.org/2000/svg\" height=\"24px\" viewBox=\"0 -960 960 960\">\n",
              "    <path d=\"M120-120v-720h720v720H120Zm60-500h600v-160H180v160Zm220 220h160v-160H400v160Zm0 220h160v-160H400v160ZM180-400h160v-160H180v160Zm440 0h160v-160H620v160ZM180-180h160v-160H180v160Zm440 0h160v-160H620v160Z\"/>\n",
              "  </svg>\n",
              "    </button>\n",
              "\n",
              "  <style>\n",
              "    .colab-df-container {\n",
              "      display:flex;\n",
              "      gap: 12px;\n",
              "    }\n",
              "\n",
              "    .colab-df-convert {\n",
              "      background-color: #E8F0FE;\n",
              "      border: none;\n",
              "      border-radius: 50%;\n",
              "      cursor: pointer;\n",
              "      display: none;\n",
              "      fill: #1967D2;\n",
              "      height: 32px;\n",
              "      padding: 0 0 0 0;\n",
              "      width: 32px;\n",
              "    }\n",
              "\n",
              "    .colab-df-convert:hover {\n",
              "      background-color: #E2EBFA;\n",
              "      box-shadow: 0px 1px 2px rgba(60, 64, 67, 0.3), 0px 1px 3px 1px rgba(60, 64, 67, 0.15);\n",
              "      fill: #174EA6;\n",
              "    }\n",
              "\n",
              "    .colab-df-buttons div {\n",
              "      margin-bottom: 4px;\n",
              "    }\n",
              "\n",
              "    [theme=dark] .colab-df-convert {\n",
              "      background-color: #3B4455;\n",
              "      fill: #D2E3FC;\n",
              "    }\n",
              "\n",
              "    [theme=dark] .colab-df-convert:hover {\n",
              "      background-color: #434B5C;\n",
              "      box-shadow: 0px 1px 3px 1px rgba(0, 0, 0, 0.15);\n",
              "      filter: drop-shadow(0px 1px 2px rgba(0, 0, 0, 0.3));\n",
              "      fill: #FFFFFF;\n",
              "    }\n",
              "  </style>\n",
              "\n",
              "    <script>\n",
              "      const buttonEl =\n",
              "        document.querySelector('#df-601b7b07-7a8f-4413-96d8-c69e57d258a5 button.colab-df-convert');\n",
              "      buttonEl.style.display =\n",
              "        google.colab.kernel.accessAllowed ? 'block' : 'none';\n",
              "\n",
              "      async function convertToInteractive(key) {\n",
              "        const element = document.querySelector('#df-601b7b07-7a8f-4413-96d8-c69e57d258a5');\n",
              "        const dataTable =\n",
              "          await google.colab.kernel.invokeFunction('convertToInteractive',\n",
              "                                                    [key], {});\n",
              "        if (!dataTable) return;\n",
              "\n",
              "        const docLinkHtml = 'Like what you see? Visit the ' +\n",
              "          '<a target=\"_blank\" href=https://colab.research.google.com/notebooks/data_table.ipynb>data table notebook</a>'\n",
              "          + ' to learn more about interactive tables.';\n",
              "        element.innerHTML = '';\n",
              "        dataTable['output_type'] = 'display_data';\n",
              "        await google.colab.output.renderOutput(dataTable, element);\n",
              "        const docLink = document.createElement('div');\n",
              "        docLink.innerHTML = docLinkHtml;\n",
              "        element.appendChild(docLink);\n",
              "      }\n",
              "    </script>\n",
              "  </div>\n",
              "\n",
              "\n",
              "    <div id=\"df-6d7bade7-5311-4e1b-93a8-6295bff9a9ca\">\n",
              "      <button class=\"colab-df-quickchart\" onclick=\"quickchart('df-6d7bade7-5311-4e1b-93a8-6295bff9a9ca')\"\n",
              "                title=\"Suggest charts\"\n",
              "                style=\"display:none;\">\n",
              "\n",
              "<svg xmlns=\"http://www.w3.org/2000/svg\" height=\"24px\"viewBox=\"0 0 24 24\"\n",
              "     width=\"24px\">\n",
              "    <g>\n",
              "        <path d=\"M19 3H5c-1.1 0-2 .9-2 2v14c0 1.1.9 2 2 2h14c1.1 0 2-.9 2-2V5c0-1.1-.9-2-2-2zM9 17H7v-7h2v7zm4 0h-2V7h2v10zm4 0h-2v-4h2v4z\"/>\n",
              "    </g>\n",
              "</svg>\n",
              "      </button>\n",
              "\n",
              "<style>\n",
              "  .colab-df-quickchart {\n",
              "      --bg-color: #E8F0FE;\n",
              "      --fill-color: #1967D2;\n",
              "      --hover-bg-color: #E2EBFA;\n",
              "      --hover-fill-color: #174EA6;\n",
              "      --disabled-fill-color: #AAA;\n",
              "      --disabled-bg-color: #DDD;\n",
              "  }\n",
              "\n",
              "  [theme=dark] .colab-df-quickchart {\n",
              "      --bg-color: #3B4455;\n",
              "      --fill-color: #D2E3FC;\n",
              "      --hover-bg-color: #434B5C;\n",
              "      --hover-fill-color: #FFFFFF;\n",
              "      --disabled-bg-color: #3B4455;\n",
              "      --disabled-fill-color: #666;\n",
              "  }\n",
              "\n",
              "  .colab-df-quickchart {\n",
              "    background-color: var(--bg-color);\n",
              "    border: none;\n",
              "    border-radius: 50%;\n",
              "    cursor: pointer;\n",
              "    display: none;\n",
              "    fill: var(--fill-color);\n",
              "    height: 32px;\n",
              "    padding: 0;\n",
              "    width: 32px;\n",
              "  }\n",
              "\n",
              "  .colab-df-quickchart:hover {\n",
              "    background-color: var(--hover-bg-color);\n",
              "    box-shadow: 0 1px 2px rgba(60, 64, 67, 0.3), 0 1px 3px 1px rgba(60, 64, 67, 0.15);\n",
              "    fill: var(--button-hover-fill-color);\n",
              "  }\n",
              "\n",
              "  .colab-df-quickchart-complete:disabled,\n",
              "  .colab-df-quickchart-complete:disabled:hover {\n",
              "    background-color: var(--disabled-bg-color);\n",
              "    fill: var(--disabled-fill-color);\n",
              "    box-shadow: none;\n",
              "  }\n",
              "\n",
              "  .colab-df-spinner {\n",
              "    border: 2px solid var(--fill-color);\n",
              "    border-color: transparent;\n",
              "    border-bottom-color: var(--fill-color);\n",
              "    animation:\n",
              "      spin 1s steps(1) infinite;\n",
              "  }\n",
              "\n",
              "  @keyframes spin {\n",
              "    0% {\n",
              "      border-color: transparent;\n",
              "      border-bottom-color: var(--fill-color);\n",
              "      border-left-color: var(--fill-color);\n",
              "    }\n",
              "    20% {\n",
              "      border-color: transparent;\n",
              "      border-left-color: var(--fill-color);\n",
              "      border-top-color: var(--fill-color);\n",
              "    }\n",
              "    30% {\n",
              "      border-color: transparent;\n",
              "      border-left-color: var(--fill-color);\n",
              "      border-top-color: var(--fill-color);\n",
              "      border-right-color: var(--fill-color);\n",
              "    }\n",
              "    40% {\n",
              "      border-color: transparent;\n",
              "      border-right-color: var(--fill-color);\n",
              "      border-top-color: var(--fill-color);\n",
              "    }\n",
              "    60% {\n",
              "      border-color: transparent;\n",
              "      border-right-color: var(--fill-color);\n",
              "    }\n",
              "    80% {\n",
              "      border-color: transparent;\n",
              "      border-right-color: var(--fill-color);\n",
              "      border-bottom-color: var(--fill-color);\n",
              "    }\n",
              "    90% {\n",
              "      border-color: transparent;\n",
              "      border-bottom-color: var(--fill-color);\n",
              "    }\n",
              "  }\n",
              "</style>\n",
              "\n",
              "      <script>\n",
              "        async function quickchart(key) {\n",
              "          const quickchartButtonEl =\n",
              "            document.querySelector('#' + key + ' button');\n",
              "          quickchartButtonEl.disabled = true;  // To prevent multiple clicks.\n",
              "          quickchartButtonEl.classList.add('colab-df-spinner');\n",
              "          try {\n",
              "            const charts = await google.colab.kernel.invokeFunction(\n",
              "                'suggestCharts', [key], {});\n",
              "          } catch (error) {\n",
              "            console.error('Error during call to suggestCharts:', error);\n",
              "          }\n",
              "          quickchartButtonEl.classList.remove('colab-df-spinner');\n",
              "          quickchartButtonEl.classList.add('colab-df-quickchart-complete');\n",
              "        }\n",
              "        (() => {\n",
              "          let quickchartButtonEl =\n",
              "            document.querySelector('#df-6d7bade7-5311-4e1b-93a8-6295bff9a9ca button');\n",
              "          quickchartButtonEl.style.display =\n",
              "            google.colab.kernel.accessAllowed ? 'block' : 'none';\n",
              "        })();\n",
              "      </script>\n",
              "    </div>\n",
              "\n",
              "    </div>\n",
              "  </div>\n"
            ],
            "application/vnd.google.colaboratory.intrinsic+json": {
              "type": "dataframe"
            }
          },
          "metadata": {}
        },
        {
          "output_type": "stream",
          "name": "stdout",
          "text": [
            "\n",
            "--- Tipos de Dados Após definir o índice ---\n",
            "<class 'pandas.core.frame.DataFrame'>\n",
            "Index: 7032 entries, 0002-ORFBO to 9995-HOTOH\n",
            "Data columns (total 28 columns):\n",
            " #   Column                                           Non-Null Count  Dtype  \n",
            "---  ------                                           --------------  -----  \n",
            " 0   Churn                                            7032 non-null   int64  \n",
            " 1   customer.SeniorCitizen                           7032 non-null   int64  \n",
            " 2   customer.Partner                                 0 non-null      float64\n",
            " 3   customer.Dependents                              0 non-null      float64\n",
            " 4   customer.tenure                                  7032 non-null   int64  \n",
            " 5   phone.PhoneService                               0 non-null      float64\n",
            " 6   phone.MultipleLines                              0 non-null      float64\n",
            " 7   internet.OnlineSecurity                          0 non-null      float64\n",
            " 8   internet.OnlineBackup                            0 non-null      float64\n",
            " 9   internet.DeviceProtection                        0 non-null      float64\n",
            " 10  internet.TechSupport                             0 non-null      float64\n",
            " 11  internet.StreamingTV                             0 non-null      float64\n",
            " 12  internet.StreamingMovies                         0 non-null      float64\n",
            " 13  account.PaperlessBilling                         0 non-null      float64\n",
            " 14  account.Charges.Monthly                          7032 non-null   float64\n",
            " 15  account.Charges.Total                            7032 non-null   float64\n",
            " 16  customer.gender_Female                           7032 non-null   int64  \n",
            " 17  customer.gender_Male                             7032 non-null   int64  \n",
            " 18  internet.InternetService_DSL                     7032 non-null   int64  \n",
            " 19  internet.InternetService_Fiber optic             7032 non-null   int64  \n",
            " 20  internet.InternetService_No                      7032 non-null   int64  \n",
            " 21  account.Contract_Month-to-month                  7032 non-null   int64  \n",
            " 22  account.Contract_One year                        7032 non-null   int64  \n",
            " 23  account.Contract_Two year                        7032 non-null   int64  \n",
            " 24  account.PaymentMethod_Bank transfer (automatic)  7032 non-null   int64  \n",
            " 25  account.PaymentMethod_Credit card (automatic)    7032 non-null   int64  \n",
            " 26  account.PaymentMethod_Electronic check           7032 non-null   int64  \n",
            " 27  account.PaymentMethod_Mailed check               7032 non-null   int64  \n",
            "dtypes: float64(13), int64(15)\n",
            "memory usage: 1.6+ MB\n"
          ]
        }
      ]
    },
    {
      "cell_type": "code",
      "source": [
        "# Ação: Renomear Colunas para Nomes Mais Descritivos e Amigáveis\n",
        "\n",
        "print(\"\\n3. Renomeando as colunas para facilitar a compreensão e o uso...\")\n",
        "# Dicionário de mapeamento para renomear as colunas com prefixos claros.\n",
        "mapa_nomes_finais = {\n",
        "    'Churn': 'Churn',\n",
        "    'customer.SeniorCitizen': 'Idoso',\n",
        "    'customer.Partner': 'Possui_Parceiro',\n",
        "    'customer.Dependents': 'Possui_Dependentes',\n",
        "    'customer.tenure': 'Meses_Contrato',\n",
        "    'phone.PhoneService': 'Servico_Telefonico',\n",
        "    'phone.MultipleLines': 'Multiplas_Linhas',\n",
        "    'internet.OnlineSecurity': 'Seguranca_Online',\n",
        "    'internet.OnlineBackup': 'Backup_Online',\n",
        "    'internet.DeviceProtection': 'Protecao_Dispositivo',\n",
        "    'internet.TechSupport': 'Suporte_Tecnico',\n",
        "    'internet.StreamingTV': 'Streaming_TV',\n",
        "    'internet.StreamingMovies': 'Streaming_Filmes',\n",
        "    'account.PaperlessBilling': 'Fatura_Online',\n",
        "    'account.Charges.Monthly': 'Gasto_Mensal',\n",
        "    'account.Charges.Total': 'Gasto_Total',\n",
        "    'customer.gender_Female': 'Genero_Feminino',\n",
        "    'customer.gender_Male': 'Genero_Masculino',\n",
        "    'internet.InternetService_DSL': 'Internet_DSL',\n",
        "    'internet.InternetService_Fiber optic': 'Internet_FibraOtica',\n",
        "    'internet.InternetService_No': 'Sem_Internet',\n",
        "    'account.Contract_Month-to-month': 'Contrato_Mensal',\n",
        "    'account.Contract_One year': 'Contrato_UmAno',\n",
        "    'account.Contract_Two year': 'Contrato_DoisAnos',\n",
        "    'account.PaymentMethod_Bank transfer (automatic)': 'Pgto_TransfBancaria',\n",
        "    'account.PaymentMethod_Credit card (automatic)': 'Pgto_CartaoCredito',\n",
        "    'account.PaymentMethod_Electronic check': 'Pgto_ChequeEletronico',\n",
        "    'account.PaymentMethod_Mailed check': 'Pgto_ChequeCorreio'\n",
        "}\n",
        "df_final = df_transformado.rename(columns=mapa_nomes_finais)\n",
        "print(\"   Colunas renomeadas.\")"
      ],
      "metadata": {
        "colab": {
          "base_uri": "https://localhost:8080/"
        },
        "id": "uSdMkBkZwTJz",
        "outputId": "26c7e7a7-99ae-407d-caf7-74f8fd694d9d"
      },
      "execution_count": 72,
      "outputs": [
        {
          "output_type": "stream",
          "name": "stdout",
          "text": [
            "\n",
            "3. Renomeando as colunas para facilitar a compreensão e o uso...\n",
            "   Colunas renomeadas.\n"
          ]
        }
      ]
    },
    {
      "cell_type": "markdown",
      "source": [
        "# **▶ Dicionário de Dados do Projeto**"
      ],
      "metadata": {
        "id": "3oEEYcaDZQCF"
      }
    },
    {
      "cell_type": "markdown",
      "source": [
        "Após o processo de ETL, nosso DataFrame final (`df_final`) contém as seguintes variáveis, prontas para análise:\n",
        "\n",
        "* **Variável Alvo:**\n",
        "    * `Churn`: (1 se o cliente cancelou, 0 se não).\n",
        "* **Variáveis Demográficas:**\n",
        "    * `Idoso`, `Possui_Parceiro`, `Possui_Dependentes`, `Genero_Feminino`, `Genero_Masculino`.\n",
        "* **Variáveis de Conta e Contrato:**\n",
        "    * `Meses_Contrato`, `Fatura_Online`, `Gasto_Mensal`, `Gasto_Total`, `Contrato_Mensal`, `Contrato_UmAno`, `Contrato_DoisAnos`.\n",
        "* **Variáveis de Serviços Contratados:**\n",
        "    * `Servico_Telefonico`, `Multiplas_Linhas`, `Internet_DSL`, `Internet_FibraOtica`, `Sem_Internet`, `Seguranca_Online`, `Backup_Online`, `Protecao_Dispositivo`, `Suporte_Tecnico`, `Streaming_TV`, `Streaming_Filmes`."
      ],
      "metadata": {
        "id": "iyIoZAy32LBh"
      }
    },
    {
      "cell_type": "markdown",
      "source": [
        "# ▶ **Análise Descritiva**"
      ],
      "metadata": {
        "id": "TawE905KZVoy"
      }
    },
    {
      "cell_type": "code",
      "source": [
        "# Análise Descritiva: Variáveis Numéricas Contínuas\n",
        "\n",
        "print(\"--- Estatísticas Descritivas para Variáveis Numéricas Chave ---\")\n",
        "# Gera estatísticas descritivas (contagem, média, desvio padrão, mínimo, quartis, máximo)\n",
        "# para as colunas numéricas de interesse.\n",
        "display(df_final[['Meses_Contrato', 'Gasto_Mensal', 'Gasto_Total']].describe())"
      ],
      "metadata": {
        "colab": {
          "base_uri": "https://localhost:8080/",
          "height": 0
        },
        "id": "NZQGYg0LZSaa",
        "outputId": "d278a5f0-784e-44d1-c67d-1eaa06092f09"
      },
      "execution_count": 73,
      "outputs": [
        {
          "output_type": "stream",
          "name": "stdout",
          "text": [
            "--- Estatísticas Descritivas para Variáveis Numéricas Chave ---\n"
          ]
        },
        {
          "output_type": "display_data",
          "data": {
            "text/plain": [
              "       Meses_Contrato  Gasto_Mensal  Gasto_Total\n",
              "count     7032.000000   7032.000000  7032.000000\n",
              "mean        32.421786     64.798208  2283.300441\n",
              "std         24.545260     30.085974  2266.771362\n",
              "min          1.000000     18.250000    18.800000\n",
              "25%          9.000000     35.587500   401.450000\n",
              "50%         29.000000     70.350000  1397.475000\n",
              "75%         55.000000     89.862500  3794.737500\n",
              "max         72.000000    118.750000  8684.800000"
            ],
            "text/html": [
              "\n",
              "  <div id=\"df-2d19bc9c-0153-4537-9c3f-0702d26256ff\" class=\"colab-df-container\">\n",
              "    <div>\n",
              "<style scoped>\n",
              "    .dataframe tbody tr th:only-of-type {\n",
              "        vertical-align: middle;\n",
              "    }\n",
              "\n",
              "    .dataframe tbody tr th {\n",
              "        vertical-align: top;\n",
              "    }\n",
              "\n",
              "    .dataframe thead th {\n",
              "        text-align: right;\n",
              "    }\n",
              "</style>\n",
              "<table border=\"1\" class=\"dataframe\">\n",
              "  <thead>\n",
              "    <tr style=\"text-align: right;\">\n",
              "      <th></th>\n",
              "      <th>Meses_Contrato</th>\n",
              "      <th>Gasto_Mensal</th>\n",
              "      <th>Gasto_Total</th>\n",
              "    </tr>\n",
              "  </thead>\n",
              "  <tbody>\n",
              "    <tr>\n",
              "      <th>count</th>\n",
              "      <td>7032.000000</td>\n",
              "      <td>7032.000000</td>\n",
              "      <td>7032.000000</td>\n",
              "    </tr>\n",
              "    <tr>\n",
              "      <th>mean</th>\n",
              "      <td>32.421786</td>\n",
              "      <td>64.798208</td>\n",
              "      <td>2283.300441</td>\n",
              "    </tr>\n",
              "    <tr>\n",
              "      <th>std</th>\n",
              "      <td>24.545260</td>\n",
              "      <td>30.085974</td>\n",
              "      <td>2266.771362</td>\n",
              "    </tr>\n",
              "    <tr>\n",
              "      <th>min</th>\n",
              "      <td>1.000000</td>\n",
              "      <td>18.250000</td>\n",
              "      <td>18.800000</td>\n",
              "    </tr>\n",
              "    <tr>\n",
              "      <th>25%</th>\n",
              "      <td>9.000000</td>\n",
              "      <td>35.587500</td>\n",
              "      <td>401.450000</td>\n",
              "    </tr>\n",
              "    <tr>\n",
              "      <th>50%</th>\n",
              "      <td>29.000000</td>\n",
              "      <td>70.350000</td>\n",
              "      <td>1397.475000</td>\n",
              "    </tr>\n",
              "    <tr>\n",
              "      <th>75%</th>\n",
              "      <td>55.000000</td>\n",
              "      <td>89.862500</td>\n",
              "      <td>3794.737500</td>\n",
              "    </tr>\n",
              "    <tr>\n",
              "      <th>max</th>\n",
              "      <td>72.000000</td>\n",
              "      <td>118.750000</td>\n",
              "      <td>8684.800000</td>\n",
              "    </tr>\n",
              "  </tbody>\n",
              "</table>\n",
              "</div>\n",
              "    <div class=\"colab-df-buttons\">\n",
              "\n",
              "  <div class=\"colab-df-container\">\n",
              "    <button class=\"colab-df-convert\" onclick=\"convertToInteractive('df-2d19bc9c-0153-4537-9c3f-0702d26256ff')\"\n",
              "            title=\"Convert this dataframe to an interactive table.\"\n",
              "            style=\"display:none;\">\n",
              "\n",
              "  <svg xmlns=\"http://www.w3.org/2000/svg\" height=\"24px\" viewBox=\"0 -960 960 960\">\n",
              "    <path d=\"M120-120v-720h720v720H120Zm60-500h600v-160H180v160Zm220 220h160v-160H400v160Zm0 220h160v-160H400v160ZM180-400h160v-160H180v160Zm440 0h160v-160H620v160ZM180-180h160v-160H180v160Zm440 0h160v-160H620v160Z\"/>\n",
              "  </svg>\n",
              "    </button>\n",
              "\n",
              "  <style>\n",
              "    .colab-df-container {\n",
              "      display:flex;\n",
              "      gap: 12px;\n",
              "    }\n",
              "\n",
              "    .colab-df-convert {\n",
              "      background-color: #E8F0FE;\n",
              "      border: none;\n",
              "      border-radius: 50%;\n",
              "      cursor: pointer;\n",
              "      display: none;\n",
              "      fill: #1967D2;\n",
              "      height: 32px;\n",
              "      padding: 0 0 0 0;\n",
              "      width: 32px;\n",
              "    }\n",
              "\n",
              "    .colab-df-convert:hover {\n",
              "      background-color: #E2EBFA;\n",
              "      box-shadow: 0px 1px 2px rgba(60, 64, 67, 0.3), 0px 1px 3px 1px rgba(60, 64, 67, 0.15);\n",
              "      fill: #174EA6;\n",
              "    }\n",
              "\n",
              "    .colab-df-buttons div {\n",
              "      margin-bottom: 4px;\n",
              "    }\n",
              "\n",
              "    [theme=dark] .colab-df-convert {\n",
              "      background-color: #3B4455;\n",
              "      fill: #D2E3FC;\n",
              "    }\n",
              "\n",
              "    [theme=dark] .colab-df-convert:hover {\n",
              "      background-color: #434B5C;\n",
              "      box-shadow: 0px 1px 3px 1px rgba(0, 0, 0, 0.15);\n",
              "      filter: drop-shadow(0px 1px 2px rgba(0, 0, 0, 0.3));\n",
              "      fill: #FFFFFF;\n",
              "    }\n",
              "  </style>\n",
              "\n",
              "    <script>\n",
              "      const buttonEl =\n",
              "        document.querySelector('#df-2d19bc9c-0153-4537-9c3f-0702d26256ff button.colab-df-convert');\n",
              "      buttonEl.style.display =\n",
              "        google.colab.kernel.accessAllowed ? 'block' : 'none';\n",
              "\n",
              "      async function convertToInteractive(key) {\n",
              "        const element = document.querySelector('#df-2d19bc9c-0153-4537-9c3f-0702d26256ff');\n",
              "        const dataTable =\n",
              "          await google.colab.kernel.invokeFunction('convertToInteractive',\n",
              "                                                    [key], {});\n",
              "        if (!dataTable) return;\n",
              "\n",
              "        const docLinkHtml = 'Like what you see? Visit the ' +\n",
              "          '<a target=\"_blank\" href=https://colab.research.google.com/notebooks/data_table.ipynb>data table notebook</a>'\n",
              "          + ' to learn more about interactive tables.';\n",
              "        element.innerHTML = '';\n",
              "        dataTable['output_type'] = 'display_data';\n",
              "        await google.colab.output.renderOutput(dataTable, element);\n",
              "        const docLink = document.createElement('div');\n",
              "        docLink.innerHTML = docLinkHtml;\n",
              "        element.appendChild(docLink);\n",
              "      }\n",
              "    </script>\n",
              "  </div>\n",
              "\n",
              "\n",
              "    <div id=\"df-e9c519e2-340a-49c9-aa3c-b82c4cde56f6\">\n",
              "      <button class=\"colab-df-quickchart\" onclick=\"quickchart('df-e9c519e2-340a-49c9-aa3c-b82c4cde56f6')\"\n",
              "                title=\"Suggest charts\"\n",
              "                style=\"display:none;\">\n",
              "\n",
              "<svg xmlns=\"http://www.w3.org/2000/svg\" height=\"24px\"viewBox=\"0 0 24 24\"\n",
              "     width=\"24px\">\n",
              "    <g>\n",
              "        <path d=\"M19 3H5c-1.1 0-2 .9-2 2v14c0 1.1.9 2 2 2h14c1.1 0 2-.9 2-2V5c0-1.1-.9-2-2-2zM9 17H7v-7h2v7zm4 0h-2V7h2v10zm4 0h-2v-4h2v4z\"/>\n",
              "    </g>\n",
              "</svg>\n",
              "      </button>\n",
              "\n",
              "<style>\n",
              "  .colab-df-quickchart {\n",
              "      --bg-color: #E8F0FE;\n",
              "      --fill-color: #1967D2;\n",
              "      --hover-bg-color: #E2EBFA;\n",
              "      --hover-fill-color: #174EA6;\n",
              "      --disabled-fill-color: #AAA;\n",
              "      --disabled-bg-color: #DDD;\n",
              "  }\n",
              "\n",
              "  [theme=dark] .colab-df-quickchart {\n",
              "      --bg-color: #3B4455;\n",
              "      --fill-color: #D2E3FC;\n",
              "      --hover-bg-color: #434B5C;\n",
              "      --hover-fill-color: #FFFFFF;\n",
              "      --disabled-bg-color: #3B4455;\n",
              "      --disabled-fill-color: #666;\n",
              "  }\n",
              "\n",
              "  .colab-df-quickchart {\n",
              "    background-color: var(--bg-color);\n",
              "    border: none;\n",
              "    border-radius: 50%;\n",
              "    cursor: pointer;\n",
              "    display: none;\n",
              "    fill: var(--fill-color);\n",
              "    height: 32px;\n",
              "    padding: 0;\n",
              "    width: 32px;\n",
              "  }\n",
              "\n",
              "  .colab-df-quickchart:hover {\n",
              "    background-color: var(--hover-bg-color);\n",
              "    box-shadow: 0 1px 2px rgba(60, 64, 67, 0.3), 0 1px 3px 1px rgba(60, 64, 67, 0.15);\n",
              "    fill: var(--button-hover-fill-color);\n",
              "  }\n",
              "\n",
              "  .colab-df-quickchart-complete:disabled,\n",
              "  .colab-df-quickchart-complete:disabled:hover {\n",
              "    background-color: var(--disabled-bg-color);\n",
              "    fill: var(--disabled-fill-color);\n",
              "    box-shadow: none;\n",
              "  }\n",
              "\n",
              "  .colab-df-spinner {\n",
              "    border: 2px solid var(--fill-color);\n",
              "    border-color: transparent;\n",
              "    border-bottom-color: var(--fill-color);\n",
              "    animation:\n",
              "      spin 1s steps(1) infinite;\n",
              "  }\n",
              "\n",
              "  @keyframes spin {\n",
              "    0% {\n",
              "      border-color: transparent;\n",
              "      border-bottom-color: var(--fill-color);\n",
              "      border-left-color: var(--fill-color);\n",
              "    }\n",
              "    20% {\n",
              "      border-color: transparent;\n",
              "      border-left-color: var(--fill-color);\n",
              "      border-top-color: var(--fill-color);\n",
              "    }\n",
              "    30% {\n",
              "      border-color: transparent;\n",
              "      border-left-color: var(--fill-color);\n",
              "      border-top-color: var(--fill-color);\n",
              "      border-right-color: var(--fill-color);\n",
              "    }\n",
              "    40% {\n",
              "      border-color: transparent;\n",
              "      border-right-color: var(--fill-color);\n",
              "      border-top-color: var(--fill-color);\n",
              "    }\n",
              "    60% {\n",
              "      border-color: transparent;\n",
              "      border-right-color: var(--fill-color);\n",
              "    }\n",
              "    80% {\n",
              "      border-color: transparent;\n",
              "      border-right-color: var(--fill-color);\n",
              "      border-bottom-color: var(--fill-color);\n",
              "    }\n",
              "    90% {\n",
              "      border-color: transparent;\n",
              "      border-bottom-color: var(--fill-color);\n",
              "    }\n",
              "  }\n",
              "</style>\n",
              "\n",
              "      <script>\n",
              "        async function quickchart(key) {\n",
              "          const quickchartButtonEl =\n",
              "            document.querySelector('#' + key + ' button');\n",
              "          quickchartButtonEl.disabled = true;  // To prevent multiple clicks.\n",
              "          quickchartButtonEl.classList.add('colab-df-spinner');\n",
              "          try {\n",
              "            const charts = await google.colab.kernel.invokeFunction(\n",
              "                'suggestCharts', [key], {});\n",
              "          } catch (error) {\n",
              "            console.error('Error during call to suggestCharts:', error);\n",
              "          }\n",
              "          quickchartButtonEl.classList.remove('colab-df-spinner');\n",
              "          quickchartButtonEl.classList.add('colab-df-quickchart-complete');\n",
              "        }\n",
              "        (() => {\n",
              "          let quickchartButtonEl =\n",
              "            document.querySelector('#df-e9c519e2-340a-49c9-aa3c-b82c4cde56f6 button');\n",
              "          quickchartButtonEl.style.display =\n",
              "            google.colab.kernel.accessAllowed ? 'block' : 'none';\n",
              "        })();\n",
              "      </script>\n",
              "    </div>\n",
              "\n",
              "    </div>\n",
              "  </div>\n"
            ],
            "application/vnd.google.colaboratory.intrinsic+json": {
              "type": "dataframe",
              "summary": "{\n  \"name\": \"display(df_final[['Meses_Contrato', 'Gasto_Mensal', 'Gasto_Total']]\",\n  \"rows\": 8,\n  \"fields\": [\n    {\n      \"column\": \"Meses_Contrato\",\n      \"properties\": {\n        \"dtype\": \"number\",\n        \"std\": 2475.0322158792137,\n        \"min\": 1.0,\n        \"max\": 7032.0,\n        \"num_unique_values\": 8,\n        \"samples\": [\n          32.421786120591584,\n          29.0,\n          7032.0\n        ],\n        \"semantic_type\": \"\",\n        \"description\": \"\"\n      }\n    },\n    {\n      \"column\": \"Gasto_Mensal\",\n      \"properties\": {\n        \"dtype\": \"number\",\n        \"std\": 2464.8092493026143,\n        \"min\": 18.25,\n        \"max\": 7032.0,\n        \"num_unique_values\": 8,\n        \"samples\": [\n          64.79820819112628,\n          70.35,\n          7032.0\n        ],\n        \"semantic_type\": \"\",\n        \"description\": \"\"\n      }\n    },\n    {\n      \"column\": \"Gasto_Total\",\n      \"properties\": {\n        \"dtype\": \"number\",\n        \"std\": 3117.312944742373,\n        \"min\": 18.8,\n        \"max\": 8684.8,\n        \"num_unique_values\": 8,\n        \"samples\": [\n          2283.3004408418656,\n          1397.475,\n          7032.0\n        ],\n        \"semantic_type\": \"\",\n        \"description\": \"\"\n      }\n    }\n  ]\n}"
            }
          },
          "metadata": {}
        }
      ]
    },
    {
      "cell_type": "markdown",
      "source": [
        "## **Interpretação da Análise**"
      ],
      "metadata": {
        "id": "EWTzA7M-ZaHa"
      }
    },
    {
      "cell_type": "markdown",
      "source": [
        "## Interpretação da Análise Descritiva"
      ],
      "metadata": {
        "id": "BQH9vIC-Zc02"
      }
    },
    {
      "cell_type": "markdown",
      "source": [
        "Os resultados acima nos dão insights valiosos sobre o perfil dos clientes:\n",
        "\n",
        "* **Meses de Contrato (Tenure):**\n",
        "    * A média de permanência de um cliente é de aproximadamente **32 meses** (quase 3 anos).\n",
        "    * Metade dos clientes (`50%`, a mediana) está na empresa há **29 meses** ou menos.\n",
        "    * Os 25% de clientes mais novos (`25%`) têm **9 meses** de contrato ou menos, indicando uma base de clientes recentes considerável que, como veremos, está em maior risco de Churn.\n",
        "* **Gasto Mensal:**\n",
        "    * O gasto médio mensal é de **R$64,76**.\n",
        "    * Há uma grande variação nos gastos (desvio padrão de R$30,09), com 25% dos clientes pagando até R$35,50 e os 25% que mais pagam, começando em R$89,85.\n",
        "* **Gasto Total:**\n",
        "    * O gasto total médio é de **R$2.283,30**.\n",
        "    * A enorme diferença entre a média (2283) e a mediana (1397) sugere que temos muitos clientes com gastos totais mais baixos (provavelmente os clientes mais novos) e um grupo menor de clientes com gastos totais muito altos (clientes antigos), que \"puxam\" a média para cima."
      ],
      "metadata": {
        "id": "5TzWHZzt25qK"
      }
    },
    {
      "cell_type": "markdown",
      "source": [
        "## Criando Variáveis Adicionais para Análise"
      ],
      "metadata": {
        "id": "EOP8llSzVTaV"
      }
    },
    {
      "cell_type": "code",
      "source": [
        "# Feature Engineering: Criação da Variável 'Total_Servicos'\n",
        "\n",
        "# Importa bibliotecas para visualização.\n",
        "import matplotlib.pyplot as plt\n",
        "import seaborn as sns\n",
        "\n",
        "# Configura o estilo visual padrão para os gráficos.\n",
        "sns.set_style('whitegrid')\n",
        "\n",
        "# Lista de colunas que representam serviços adicionais contratados pelos clientes.\n",
        "colunas_de_servico = [\n",
        "    'Servico_Telefonico', 'Multiplas_Linhas', 'Seguranca_Online',\n",
        "    'Backup_Online', 'Protecao_Dispositivo', 'Suporte_Tecnico',\n",
        "    'Streaming_TV', 'Streaming_Filmes'\n",
        "]\n",
        "\n",
        "# Cria uma nova coluna 'Total_Servicos' somando os valores binários (0 ou 1) de cada serviço.\n",
        "# Isso representa o número total de serviços adicionais que um cliente possui.\n",
        "df_final['Total_Servicos'] = df_final[colunas_de_servico].sum(axis=1)\n",
        "\n",
        "print(\"Coluna 'Total_Servicos' criada com sucesso.\")\n",
        "# Exibe as primeiras linhas da nova coluna em conjunto com 'Churn' para uma verificação rápida.\n",
        "display(df_final[['Total_Servicos', 'Churn']].head())"
      ],
      "metadata": {
        "colab": {
          "base_uri": "https://localhost:8080/",
          "height": 0
        },
        "id": "F5Yy8u9PVOit",
        "outputId": "97f55a76-9887-4318-86f6-fdfbe57f0d78"
      },
      "execution_count": 74,
      "outputs": [
        {
          "output_type": "stream",
          "name": "stdout",
          "text": [
            "Coluna 'Total_Servicos' criada com sucesso.\n"
          ]
        },
        {
          "output_type": "display_data",
          "data": {
            "text/plain": [
              "            Total_Servicos  Churn\n",
              "customerID                       \n",
              "0002-ORFBO             0.0      0\n",
              "0003-MKNFE             0.0      0\n",
              "0004-TLHLJ             0.0      1\n",
              "0011-IGKFF             0.0      1\n",
              "0013-EXCHZ             0.0      1"
            ],
            "text/html": [
              "\n",
              "  <div id=\"df-ab56d080-7db3-4ebc-8033-8b76dfd15b19\" class=\"colab-df-container\">\n",
              "    <div>\n",
              "<style scoped>\n",
              "    .dataframe tbody tr th:only-of-type {\n",
              "        vertical-align: middle;\n",
              "    }\n",
              "\n",
              "    .dataframe tbody tr th {\n",
              "        vertical-align: top;\n",
              "    }\n",
              "\n",
              "    .dataframe thead th {\n",
              "        text-align: right;\n",
              "    }\n",
              "</style>\n",
              "<table border=\"1\" class=\"dataframe\">\n",
              "  <thead>\n",
              "    <tr style=\"text-align: right;\">\n",
              "      <th></th>\n",
              "      <th>Total_Servicos</th>\n",
              "      <th>Churn</th>\n",
              "    </tr>\n",
              "    <tr>\n",
              "      <th>customerID</th>\n",
              "      <th></th>\n",
              "      <th></th>\n",
              "    </tr>\n",
              "  </thead>\n",
              "  <tbody>\n",
              "    <tr>\n",
              "      <th>0002-ORFBO</th>\n",
              "      <td>0.0</td>\n",
              "      <td>0</td>\n",
              "    </tr>\n",
              "    <tr>\n",
              "      <th>0003-MKNFE</th>\n",
              "      <td>0.0</td>\n",
              "      <td>0</td>\n",
              "    </tr>\n",
              "    <tr>\n",
              "      <th>0004-TLHLJ</th>\n",
              "      <td>0.0</td>\n",
              "      <td>1</td>\n",
              "    </tr>\n",
              "    <tr>\n",
              "      <th>0011-IGKFF</th>\n",
              "      <td>0.0</td>\n",
              "      <td>1</td>\n",
              "    </tr>\n",
              "    <tr>\n",
              "      <th>0013-EXCHZ</th>\n",
              "      <td>0.0</td>\n",
              "      <td>1</td>\n",
              "    </tr>\n",
              "  </tbody>\n",
              "</table>\n",
              "</div>\n",
              "    <div class=\"colab-df-buttons\">\n",
              "\n",
              "  <div class=\"colab-df-container\">\n",
              "    <button class=\"colab-df-convert\" onclick=\"convertToInteractive('df-ab56d080-7db3-4ebc-8033-8b76dfd15b19')\"\n",
              "            title=\"Convert this dataframe to an interactive table.\"\n",
              "            style=\"display:none;\">\n",
              "\n",
              "  <svg xmlns=\"http://www.w3.org/2000/svg\" height=\"24px\" viewBox=\"0 -960 960 960\">\n",
              "    <path d=\"M120-120v-720h720v720H120Zm60-500h600v-160H180v160Zm220 220h160v-160H400v160Zm0 220h160v-160H400v160ZM180-400h160v-160H180v160Zm440 0h160v-160H620v160ZM180-180h160v-160H180v160Zm440 0h160v-160H620v160Z\"/>\n",
              "  </svg>\n",
              "    </button>\n",
              "\n",
              "  <style>\n",
              "    .colab-df-container {\n",
              "      display:flex;\n",
              "      gap: 12px;\n",
              "    }\n",
              "\n",
              "    .colab-df-convert {\n",
              "      background-color: #E8F0FE;\n",
              "      border: none;\n",
              "      border-radius: 50%;\n",
              "      cursor: pointer;\n",
              "      display: none;\n",
              "      fill: #1967D2;\n",
              "      height: 32px;\n",
              "      padding: 0 0 0 0;\n",
              "      width: 32px;\n",
              "    }\n",
              "\n",
              "    .colab-df-convert:hover {\n",
              "      background-color: #E2EBFA;\n",
              "      box-shadow: 0px 1px 2px rgba(60, 64, 67, 0.3), 0px 1px 3px 1px rgba(60, 64, 67, 0.15);\n",
              "      fill: #174EA6;\n",
              "    }\n",
              "\n",
              "    .colab-df-buttons div {\n",
              "      margin-bottom: 4px;\n",
              "    }\n",
              "\n",
              "    [theme=dark] .colab-df-convert {\n",
              "      background-color: #3B4455;\n",
              "      fill: #D2E3FC;\n",
              "    }\n",
              "\n",
              "    [theme=dark] .colab-df-convert:hover {\n",
              "      background-color: #434B5C;\n",
              "      box-shadow: 0px 1px 3px 1px rgba(0, 0, 0, 0.15);\n",
              "      filter: drop-shadow(0px 1px 2px rgba(0, 0, 0, 0.3));\n",
              "      fill: #FFFFFF;\n",
              "    }\n",
              "  </style>\n",
              "\n",
              "    <script>\n",
              "      const buttonEl =\n",
              "        document.querySelector('#df-ab56d080-7db3-4ebc-8033-8b76dfd15b19 button.colab-df-convert');\n",
              "      buttonEl.style.display =\n",
              "        google.colab.kernel.accessAllowed ? 'block' : 'none';\n",
              "\n",
              "      async function convertToInteractive(key) {\n",
              "        const element = document.querySelector('#df-ab56d080-7db3-4ebc-8033-8b76dfd15b19');\n",
              "        const dataTable =\n",
              "          await google.colab.kernel.invokeFunction('convertToInteractive',\n",
              "                                                    [key], {});\n",
              "        if (!dataTable) return;\n",
              "\n",
              "        const docLinkHtml = 'Like what you see? Visit the ' +\n",
              "          '<a target=\"_blank\" href=https://colab.research.google.com/notebooks/data_table.ipynb>data table notebook</a>'\n",
              "          + ' to learn more about interactive tables.';\n",
              "        element.innerHTML = '';\n",
              "        dataTable['output_type'] = 'display_data';\n",
              "        await google.colab.output.renderOutput(dataTable, element);\n",
              "        const docLink = document.createElement('div');\n",
              "        docLink.innerHTML = docLinkHtml;\n",
              "        element.appendChild(docLink);\n",
              "      }\n",
              "    </script>\n",
              "  </div>\n",
              "\n",
              "\n",
              "    <div id=\"df-e63d4b2f-c5d8-49b5-8c71-9c320c02444f\">\n",
              "      <button class=\"colab-df-quickchart\" onclick=\"quickchart('df-e63d4b2f-c5d8-49b5-8c71-9c320c02444f')\"\n",
              "                title=\"Suggest charts\"\n",
              "                style=\"display:none;\">\n",
              "\n",
              "<svg xmlns=\"http://www.w3.org/2000/svg\" height=\"24px\"viewBox=\"0 0 24 24\"\n",
              "     width=\"24px\">\n",
              "    <g>\n",
              "        <path d=\"M19 3H5c-1.1 0-2 .9-2 2v14c0 1.1.9 2 2 2h14c1.1 0 2-.9 2-2V5c0-1.1-.9-2-2-2zM9 17H7v-7h2v7zm4 0h-2V7h2v10zm4 0h-2v-4h2v4z\"/>\n",
              "    </g>\n",
              "</svg>\n",
              "      </button>\n",
              "\n",
              "<style>\n",
              "  .colab-df-quickchart {\n",
              "      --bg-color: #E8F0FE;\n",
              "      --fill-color: #1967D2;\n",
              "      --hover-bg-color: #E2EBFA;\n",
              "      --hover-fill-color: #174EA6;\n",
              "      --disabled-fill-color: #AAA;\n",
              "      --disabled-bg-color: #DDD;\n",
              "  }\n",
              "\n",
              "  [theme=dark] .colab-df-quickchart {\n",
              "      --bg-color: #3B4455;\n",
              "      --fill-color: #D2E3FC;\n",
              "      --hover-bg-color: #434B5C;\n",
              "      --hover-fill-color: #FFFFFF;\n",
              "      --disabled-bg-color: #3B4455;\n",
              "      --disabled-fill-color: #666;\n",
              "  }\n",
              "\n",
              "  .colab-df-quickchart {\n",
              "    background-color: var(--bg-color);\n",
              "    border: none;\n",
              "    border-radius: 50%;\n",
              "    cursor: pointer;\n",
              "    display: none;\n",
              "    fill: var(--fill-color);\n",
              "    height: 32px;\n",
              "    padding: 0;\n",
              "    width: 32px;\n",
              "  }\n",
              "\n",
              "  .colab-df-quickchart:hover {\n",
              "    background-color: var(--hover-bg-color);\n",
              "    box-shadow: 0 1px 2px rgba(60, 64, 67, 0.3), 0 1px 3px 1px rgba(60, 64, 67, 0.15);\n",
              "    fill: var(--button-hover-fill-color);\n",
              "  }\n",
              "\n",
              "  .colab-df-quickchart-complete:disabled,\n",
              "  .colab-df-quickchart-complete:disabled:hover {\n",
              "    background-color: var(--disabled-bg-color);\n",
              "    fill: var(--disabled-fill-color);\n",
              "    box-shadow: none;\n",
              "  }\n",
              "\n",
              "  .colab-df-spinner {\n",
              "    border: 2px solid var(--fill-color);\n",
              "    border-color: transparent;\n",
              "    border-bottom-color: var(--fill-color);\n",
              "    animation:\n",
              "      spin 1s steps(1) infinite;\n",
              "  }\n",
              "\n",
              "  @keyframes spin {\n",
              "    0% {\n",
              "      border-color: transparent;\n",
              "      border-bottom-color: var(--fill-color);\n",
              "      border-left-color: var(--fill-color);\n",
              "    }\n",
              "    20% {\n",
              "      border-color: transparent;\n",
              "      border-left-color: var(--fill-color);\n",
              "      border-top-color: var(--fill-color);\n",
              "    }\n",
              "    30% {\n",
              "      border-color: transparent;\n",
              "      border-left-color: var(--fill-color);\n",
              "      border-top-color: var(--fill-color);\n",
              "      border-right-color: var(--fill-color);\n",
              "    }\n",
              "    40% {\n",
              "      border-color: transparent;\n",
              "      border-right-color: var(--fill-color);\n",
              "      border-top-color: var(--fill-color);\n",
              "    }\n",
              "    60% {\n",
              "      border-color: transparent;\n",
              "      border-right-color: var(--fill-color);\n",
              "    }\n",
              "    80% {\n",
              "      border-color: transparent;\n",
              "      border-right-color: var(--fill-color);\n",
              "      border-bottom-color: var(--fill-color);\n",
              "    }\n",
              "    90% {\n",
              "      border-color: transparent;\n",
              "      border-bottom-color: var(--fill-color);\n",
              "    }\n",
              "  }\n",
              "</style>\n",
              "\n",
              "      <script>\n",
              "        async function quickchart(key) {\n",
              "          const quickchartButtonEl =\n",
              "            document.querySelector('#' + key + ' button');\n",
              "          quickchartButtonEl.disabled = true;  // To prevent multiple clicks.\n",
              "          quickchartButtonEl.classList.add('colab-df-spinner');\n",
              "          try {\n",
              "            const charts = await google.colab.kernel.invokeFunction(\n",
              "                'suggestCharts', [key], {});\n",
              "          } catch (error) {\n",
              "            console.error('Error during call to suggestCharts:', error);\n",
              "          }\n",
              "          quickchartButtonEl.classList.remove('colab-df-spinner');\n",
              "          quickchartButtonEl.classList.add('colab-df-quickchart-complete');\n",
              "        }\n",
              "        (() => {\n",
              "          let quickchartButtonEl =\n",
              "            document.querySelector('#df-e63d4b2f-c5d8-49b5-8c71-9c320c02444f button');\n",
              "          quickchartButtonEl.style.display =\n",
              "            google.colab.kernel.accessAllowed ? 'block' : 'none';\n",
              "        })();\n",
              "      </script>\n",
              "    </div>\n",
              "\n",
              "    </div>\n",
              "  </div>\n"
            ],
            "application/vnd.google.colaboratory.intrinsic+json": {
              "type": "dataframe",
              "summary": "{\n  \"name\": \"display(df_final[['Total_Servicos', 'Churn']]\",\n  \"rows\": 5,\n  \"fields\": [\n    {\n      \"column\": \"customerID\",\n      \"properties\": {\n        \"dtype\": \"string\",\n        \"num_unique_values\": 5,\n        \"samples\": [\n          \"0003-MKNFE\",\n          \"0013-EXCHZ\",\n          \"0004-TLHLJ\"\n        ],\n        \"semantic_type\": \"\",\n        \"description\": \"\"\n      }\n    },\n    {\n      \"column\": \"Total_Servicos\",\n      \"properties\": {\n        \"dtype\": \"number\",\n        \"std\": 0.0,\n        \"min\": 0.0,\n        \"max\": 0.0,\n        \"num_unique_values\": 1,\n        \"samples\": [\n          0.0\n        ],\n        \"semantic_type\": \"\",\n        \"description\": \"\"\n      }\n    },\n    {\n      \"column\": \"Churn\",\n      \"properties\": {\n        \"dtype\": \"number\",\n        \"std\": 0,\n        \"min\": 0,\n        \"max\": 1,\n        \"num_unique_values\": 2,\n        \"samples\": [\n          1\n        ],\n        \"semantic_type\": \"\",\n        \"description\": \"\"\n      }\n    }\n  ]\n}"
            }
          },
          "metadata": {}
        }
      ]
    },
    {
      "cell_type": "markdown",
      "source": [
        "# (Gráfico) Taxa de Churn por Tipo de Contrato"
      ],
      "metadata": {
        "id": "5rPKZpR_VWhT"
      }
    },
    {
      "cell_type": "code",
      "source": [
        "# Análise Visual: Taxa de Churn por Tipo de Contrato\n",
        "\n",
        "# Prepara os dados para o gráfico: calcula a taxa de churn para cada tipo de contrato.\n",
        "# Filtra o DataFrame para cada tipo de contrato (Mensal, UmAno, DoisAnos) e calcula a média de 'Churn' (que é 1 para Churn, 0 para Não).\n",
        "df_contrato_churn_list = []\n",
        "for contrato_col in ['Contrato_Mensal', 'Contrato_UmAno', 'Contrato_DoisAnos']:\n",
        "    df_temp = df_final[df_final[contrato_col] == 1]\n",
        "    taxa_churn = df_temp['Churn'].mean() * 100\n",
        "    df_contrato_churn_list.append({'Tipo_Contrato': contrato_col.replace('Contrato_', ''), 'Taxa_Churn_%': taxa_churn})\n",
        "\n",
        "df_contrato_plot = pd.DataFrame(df_contrato_churn_list)\n",
        "\n",
        "plt.figure(figsize=(10, 7))\n",
        "# Cria um gráfico de barras para visualizar a taxa de churn por tipo de contrato.\n",
        "# 'palette' e 'order' são usados para garantir a consistência visual e a ordem das barras.\n",
        "ax = sns.barplot(x='Tipo_Contrato', y='Taxa_Churn_%', data=df_contrato_plot,\n",
        "                 palette=['#d9534f', '#ffad33', '#5cb85c'], hue='Tipo_Contrato', legend=False,\n",
        "                 order=['Mensal', 'UmAno', 'DoisAnos'])\n",
        "\n",
        "plt.title('Taxa de Churn por Tipo de Contrato', fontsize=16)\n",
        "plt.xlabel('Tipo de Contrato', fontsize=12)\n",
        "plt.ylabel('Taxa de Churn (%)', fontsize=12)\n",
        "\n",
        "# Adiciona os valores percentuais diretamente nas barras para facilitar a leitura.\n",
        "for p in ax.patches:\n",
        "    ax.annotate(f'{p.get_height():.2f}%', (p.get_x() + p.get_width() / 2., p.get_height()),\n",
        "                ha='center', va='center', fontsize=12, color='black', xytext=(0, 10),\n",
        "                textcoords='offset points')\n",
        "\n",
        "plt.show()\n",
        "\n",
        "print(\"\\nInterpretação do gráfico: Contratos mensais mostram a maior taxa de churn, enquanto contratos de longo prazo (Um Ano, Dois Anos) têm taxas significativamente menores, indicando maior lealdade.\")"
      ],
      "metadata": {
        "colab": {
          "base_uri": "https://localhost:8080/",
          "height": 0
        },
        "id": "PR9gqNN2VW8B",
        "outputId": "008aacea-2a1b-44f5-f71c-bf2078b5ccfc"
      },
      "execution_count": 75,
      "outputs": [
        {
          "output_type": "display_data",
          "data": {
            "text/plain": [
              "<Figure size 1000x700 with 1 Axes>"
            ],
            "image/png": "[encoded data removed]"
          },
          "metadata": {}
        },
        {
          "output_type": "stream",
          "name": "stdout",
          "text": [
            "\n",
            "Interpretação do gráfico: Contratos mensais mostram a maior taxa de churn, enquanto contratos de longo prazo (Um Ano, Dois Anos) têm taxas significativamente menores, indicando maior lealdade.\n"
          ]
        }
      ]
    },
    {
      "cell_type": "markdown",
      "source": [
        "# (Gráfico) Taxa de Churn por Total de Serviços Contratados"
      ],
      "metadata": {
        "id": "5i5216xQVcSc"
      }
    },
    {
      "cell_type": "code",
      "source": [
        "# Análise Visual: Taxa de Churn por Número de Serviços Contratados\n",
        "\n",
        "# Agrupa os dados pelo 'Total_Servicos' e calcula a taxa média de churn.\n",
        "df_servicos_churn = df_final.groupby('Total_Servicos')['Churn'].mean().mul(100).reset_index(name='Taxa_Churn_%')\n",
        "\n",
        "plt.figure(figsize=(12, 7))\n",
        "# Cria um gráfico de barras para visualizar a taxa de churn em relação ao número de serviços.\n",
        "ax = sns.barplot(x='Total_Servicos', y='Taxa_Churn_%', data=df_servicos_churn, color='steelblue')\n",
        "\n",
        "plt.title('Taxa de Churn por Número de Serviços Contratados', fontsize=16)\n",
        "plt.xlabel('Número de Serviços', fontsize=12)\n",
        "plt.ylabel('Taxa de Churn (%)', fontsize=12)\n",
        "\n",
        "# Adiciona os valores percentuais nas barras.\n",
        "for p in ax.patches:\n",
        "    ax.annotate(f'{p.get_height():.2f}%', (p.get_x() + p.get_width() / 2., p.get_height()),\n",
        "                ha='center', va='center', fontsize=11, color='black', xytext=(0, 5),\n",
        "                textcoords='offset points')\n",
        "\n",
        "plt.show()\n",
        "\n",
        "print(\"\\nInterpretação do gráfico: A taxa de churn tende a diminuir à medida que o número de serviços contratados pelo cliente aumenta, sugerindo que clientes mais engajados são mais leais.\")"
      ],
      "metadata": {
        "colab": {
          "base_uri": "https://localhost:8080/",
          "height": 0
        },
        "id": "e-cJQWTsVcro",
        "outputId": "21061050-4e98-47af-f808-81237f57861e"
      },
      "execution_count": 76,
      "outputs": [
        {
          "output_type": "display_data",
          "data": {
            "text/plain": [
              "<Figure size 1200x700 with 1 Axes>"
            ],
            "image/png": "[encoded data removed]"
          },
          "metadata": {}
        },
        {
          "output_type": "stream",
          "name": "stdout",
          "text": [
            "\n",
            "Interpretação do gráfico: A taxa de churn tende a diminuir à medida que o número de serviços contratados pelo cliente aumenta, sugerindo que clientes mais engajados são mais leais.\n"
          ]
        }
      ]
    },
    {
      "cell_type": "markdown",
      "source": [
        "Este gráfico nos dará uma visão clara de como a lealdade do cliente muda à medida que ele contrata mais serviços. Como você já descobriu, a taxa de churn tende a ser muito alta para clientes com poucos serviços e diminui drasticamente para aqueles que estão mais integrados ao ecossistema da TelecomX."
      ],
      "metadata": {
        "id": "Lfkk5VFmV_X4"
      }
    },
    {
      "cell_type": "markdown",
      "source": [
        "# (Gráfico) Matriz de Correlação com o Churn"
      ],
      "metadata": {
        "id": "0gAgsg0dViGg"
      }
    },
    {
      "cell_type": "code",
      "source": [
        "# Análise de Correlação: Heatmap com a Variável Alvo 'Churn'\n",
        "\n",
        "plt.figure(figsize=(10, 12))\n",
        "# Calcula a matriz de correlação do DataFrame e filtra para mostrar apenas as correlações com 'Churn'.\n",
        "# Ordena os valores para visualizar facilmente os fatores mais correlacionados (positiva ou negativamente).\n",
        "heatmap = sns.heatmap(\n",
        "    df_final.corr(numeric_only=True)[['Churn']].sort_values(by='Churn', ascending=False),\n",
        "    vmin=-1,      # Define o valor mínimo da escala de cores.\n",
        "    vmax=1,       # Define o valor máximo da escala de cores.\n",
        "    annot=True,   # Exibe os valores de correlação no heatmap.\n",
        "    cmap='coolwarm', # Usa um mapa de cores divergente para melhor visualização de correlações positivas (quente) e negativas (fria).\n",
        "    fmt=\".2f\"     # Formata os valores de anotação com 2 casas decimais.\n",
        ")\n",
        "\n",
        "plt.title('Variáveis Correlacionadas com o Churn', fontsize=18)\n",
        "plt.show()\n",
        "\n",
        "print(\"\\nInterpretação do Heatmap: O mapa de calor destaca as variáveis com maior correlação (positiva ou negativa) com o Churn, confirmando padrões observados em análises anteriores e revelando outras relações importantes para a modelagem.\")"
      ],
      "metadata": {
        "colab": {
          "base_uri": "https://localhost:8080/",
          "height": 0
        },
        "id": "lQbRAiGLVhVD",
        "outputId": "8be9c4d1-c8ef-4ebd-f877-58b6f560bd3a"
      },
      "execution_count": 77,
      "outputs": [
        {
          "output_type": "display_data",
          "data": {
            "text/plain": [
              "<Figure size 1000x1200 with 2 Axes>"
            ],
            "image/png": "[encoded data removed]"
          },
          "metadata": {}
        },
        {
          "output_type": "stream",
          "name": "stdout",
          "text": [
            "\n",
            "Interpretação do Heatmap: O mapa de calor destaca as variáveis com maior correlação (positiva ou negativa) com o Churn, confirmando padrões observados em análises anteriores e revelando outras relações importantes para a modelagem.\n"
          ]
        }
      ]
    },
    {
      "cell_type": "markdown",
      "source": [
        "Análise do Gráfico:\n",
        "Este gráfico nos dará uma \"classificação\" visual das nossas variáveis. Você verá no topo, com cores quentes (vermelho), as variáveis com a correlação mais positiva com o Churn, como Contrato_Mensal. Na parte inferior, com cores frias (azul), estarão as variáveis com a correlação mais negativa, como Meses_Contrato. Isso confirma numericamente todas as descobertas que fizemos com os gráficos de barras e box plots."
      ],
      "metadata": {
        "id": "2hWPPRtdWM3a"
      }
    },
    {
      "cell_type": "markdown",
      "metadata": {
        "id": "v-WzfSvTmaw9"
      },
      "source": [
        "# 📄 Relatório Final de Análise de Churn\n",
        "\n",
        "### 1. Sumário Executivo\n",
        "\n",
        "Este relatório consolida a análise sobre os fatores de Churn (cancelamento de serviços) para os clientes da TelecomX. Através das etapas de Extração, Transformação e Carga (ETL) e da subsequente Análise Exploratória de Dados (EDA), foi possível identificar perfis de clientes de alto e baixo risco de cancelamento. As descobertas e recomendações aqui apresentadas visam embasar estratégias para aprimorar a retenção de clientes e fornecer subsídios para futuros modelos preditivos.\n",
        "\n",
        "### 2. Principais Descobertas e Perfil de Risco\n",
        "\n",
        "A análise revelou um cenário de Churn de aproximadamente **26,54%** e destacou as seguintes características de alto risco:\n",
        "\n",
        "* **Contrato Mensal:** O tipo de contrato **Mensal** é o maior preditor de Churn, com uma taxa de **42,71%**. Clientes sem compromisso de longo prazo são significativamente mais propensos a cancelar, o que sugere a importância de ofertas de fidelização.\n",
        "* **Tempo de Contrato (Tenure) Curto:** Clientes **novos** (com poucos meses de serviço) apresentam uma taxa de Churn notavelmente superior em comparação com clientes de longa data. Isso indica uma \"zona de perigo\" crítica nos primeiros meses de relacionamento, sendo que 25% dos clientes mais novos têm 9 meses de contrato ou menos.\n",
        "* **Gasto Mensal Elevado:** Contas com **valores mensais mais altos** estão correlacionadas com uma maior propensão ao Churn, o que pode apontar para sensibilidade ao preço ou para expectativas de serviço não atendidas em relação ao valor pago.\n",
        "* **Serviço de Fibra Ótica:** Inesperadamente, clientes com serviço de **Fibra Ótica** demonstram uma taxa de cancelamento significativamente maior do que os usuários de DSL. Isso sugere problemas específicos nesta oferta, que podem estar relacionados a custo-benefício percebido, estabilidade da conexão ou qualidade do suporte técnico para essa tecnologia.\n",
        "\n",
        "### 3. Fatores de Proteção Identificados\n",
        "\n",
        "Em contrapartida, foram identificadas características que contribuem para uma maior retenção de clientes, agindo como fatores de proteção contra o Churn:\n",
        "\n",
        "* **Contratos de Longo Prazo:** Clientes com contratos de **1 ou 2 anos** apresentam alta lealdade e estabilidade. A taxa de Churn para contratos de 2 anos é de apenas **2,83%**, evidenciando que o compromisso de longo prazo é um pilar fundamental para a fidelização.\n",
        "* **Engajamento com Múltiplos Serviços:** Clientes que utilizam **mais serviços adicionais** (como Suporte Técnico, Segurança Online e Backup) são mais engajados e, consequentemente, menos propensos a cancelar. A taxa de Churn para clientes com 8 serviços cai para **5,29%**, reforçando a importância do ecossistema de produtos da TelecomX.\n",
        "\n",
        "### 4. Recomendações Estratégicas\n",
        "\n",
        "Com base nas análises e nos fatores de risco e proteção identificados, as seguintes recomendações estratégicas são propostas para a TelecomX, visando mitigar o Churn e otimizar a retenção de clientes:\n",
        "\n",
        "1.  **Priorizar a Migração de Contratos:**\n",
        "    * Desenvolver campanhas proativas e personalizadas para incentivar a transição de clientes de planos mensais para contratos anuais ou de dois anos.\n",
        "    * Oferecer incentivos claros e atraentes, como descontos progressivos na mensalidade, benefícios adicionais exclusivos ou *upgrades* de serviço, destacando o custo-benefício a longo prazo da fidelização. O investimento nessas ofertas de fidelização tende a ser significativamente inferior ao custo de aquisição de novos clientes.\n",
        "    * **Potencial de Impacto Estimado:** A migração de apenas 10% dos clientes com contrato mensal para um plano de 1 ano poderia potencialmente reduzir a taxa geral de Churn em aproximadamente 1,5 a 2 pontos percentuais, impactando positivamente o *Lifetime Value* (LTV) desses clientes.\n",
        "\n",
        "2.  **Implementar um Programa de Onboarding Robusto para Novos Clientes:**\n",
        "    * Criar um programa estruturado de \"boas-vindas\" focado nos primeiros 90 dias de serviço do cliente. Este período é crítico para a formação da percepção de valor, visto que a média de permanência dos clientes é de 32 meses, mas metade está na empresa há 29 meses ou menos.\n",
        "    * O programa deve assegurar uma experiência inicial impecável, oferecer suporte proativo e educar o cliente sobre o valor total e os benefícios de todos os serviços contratados. Isso visa construir uma relação sólida desde o início e reduzir o Churn inicial.\n",
        "    * **Potencial de Impacto Estimado:** Reduzir o Churn no primeiro trimestre de serviço em apenas 5% para a base de clientes recentes pode gerar uma economia anual substancial em custos de aquisição, dado o alto churn inicial.\n",
        "\n",
        "3.  **Investigar e Otimizar a Oferta de Fibra Ótica:**\n",
        "    * Realizar uma auditoria aprofundada da jornada do cliente de Fibra Ótica, desde o processo de instalação até a experiência diária com a conexão e o suporte técnico.\n",
        "    * Considerar a realização de pesquisas de satisfação específicas para este segmento de clientes e, se apropriado, grupos focais, a fim de identificar as causas raiz do alto Churn (e.g., problemas recorrentes de conectividade, disparidade entre preço e valor percebido, ou deficiências no atendimento técnico especializado).\n",
        "    * **Potencial de Impacto Estimado:** Abordar as causas do alto churn especificamente no serviço de Fibra Ótica pode reter um número significativo de clientes anualmente, dado que a Fibra Ótica atende à maior parcela da base de internet (3096 clientes), resultando em milhões de reais em receita recorrente.\n",
        "\n",
        "4.  **Incentivar o Cross-selling de Serviços de Valor Agregado:**\n",
        "    * Promover e facilitar a contratação de pacotes e combos que incluam serviços de Suporte Técnico, Segurança Online e Backup.\n",
        "    * Focar estrategicamente nos clientes que atualmente possuem apenas 1 a 4 serviços, pois esta \"zona de perigo\" representa uma oportunidade para aumentar seu engajamento e a percepção do ecossistema de produtos da TelecomX, transformando-os em clientes mais leais.\n",
        "    * **Potencial de Impacto Estimado:** Aumentar em 1 o número médio de serviços para clientes com até 4 serviços pode elevar a retenção desse grupo em Z% e aumentar a receita média por usuário (ARPU), consolidando a fidelidade.\n",
        "\n",
        "### 5. Validação e Monitoramento das Estratégias\n",
        "\n",
        "Para garantir a eficácia das recomendações propostas e otimizar os resultados, é fundamental que as novas estratégias sejam implementadas de forma controlada e seus impactos monitorados continuamente:\n",
        "\n",
        "* **Testes A/B:** Recomenda-se a implementação de testes A/B para as campanhas e programas propostos. Isso permitirá comparar o desempenho das novas abordagens com as estratégias existentes (ou um grupo de controle) em grupos segmentados de clientes, validando as hipóteses antes de uma implementação em larga escala.\n",
        "* **Monitoramento de KPIs:** Definir e acompanhar *Key Performance Indicators* (KPIs) específicos relacionados a cada recomendação, como:\n",
        "    * Taxa de migração de contrato.\n",
        "    * Taxa de Churn de novos clientes no período de *onboarding*.\n",
        "    * NPS (Net Promoter Score) ou CSAT (Customer Satisfaction) para clientes de Fibra Ótica.\n",
        "    * Número médio de serviços por cliente.\n",
        "* **Ciclo de Melhoria Contínua:** Utilizar os dados de monitoramento e os resultados dos testes para refinar e iterar sobre as estratégias, garantindo um ciclo de melhoria contínua na retenção de clientes.\n",
        "\n",
        "### 6. Próximos Passos: Construção de Modelos Preditivos de Churn\n",
        "\n",
        "Esta análise descritiva e exploratória forneceu *insights* valiosos sobre os fatores que impulsionam o Churn. O próximo passo lógico e de alto valor agregado seria o desenvolvimento de um **Modelo Preditivo de Churn**.\n",
        "\n",
        "Um modelo preditivo, utilizando algoritmos de aprendizado de máquina (como Regressão Logística, Random Forest, Gradient Boosting, etc.), seria capaz de:\n",
        "\n",
        "* **Identificar Clientes em Risco:** Prever quais clientes têm maior probabilidade de Churn antes que cancelem seus serviços.\n",
        "* **Segmentação de Clientes:** Permitir a criação de segmentos de clientes com base no seu risco de Churn e nas características que impulsionam esse risco.\n",
        "* **Intervenções Proativas e Personalizadas:** Habilitar a TelecomX a direcionar esforços de retenção para os clientes certos, no momento certo e com a oferta mais adequada, otimizando recursos e maximizando a eficácia das campanhas.\n",
        "\n",
        "Para a construção desse modelo, as etapas subsequentes incluirão:\n",
        "\n",
        "1.  **Escalonamento de Variáveis Numéricas:** Aplicação de técnicas como `StandardScaler` ou `MinMaxScaler` para padronizar a escala das variáveis numéricas, fundamental para o bom desempenho de muitos algoritmos de ML.\n",
        "2.  **Divisão do Dataset:** Separação do DataFrame em conjuntos de treino e teste (e validação, se necessário) para garantir uma avaliação robusta e imparcial do modelo.\n",
        "3.  **Seleção de Modelos:** Avaliação de diferentes algoritmos de classificação e seleção do mais adequado para o problema de Churn.\n",
        "4.  **Otimização de Hiperparâmetros:** Ajuste fino dos parâmetros dos modelos para maximizar seu desempenho.\n",
        "5.  **Avaliação de Desempenho:** Uso de métricas apropriadas para problemas de classificação desbalanceada (e.g., Precisão, Recall, F1-Score, Curva ROC/AUC) para medir a eficácia do modelo.\n",
        "\n",
        "### 7. Limitações da Análise\n",
        "\n",
        "É importante reconhecer as limitações inerentes a esta análise:\n",
        "\n",
        "* **Dados Utilizados:** A análise foi realizada com base nos dados fornecidos para o \"Challenge Telecom X\". Quaisquer vieses ou incompletudes nos dados originais podem influenciar os *insights* gerados.\n",
        "* **Variáveis Disponíveis:** A análise está restrita às variáveis contidas no dataset. Outros fatores externos ou internos não presentes nos dados (e.g., concorrência local, mudanças na economia, problemas de rede não registrados, feedback qualitativo de clientes) poderiam oferecer *insights* adicionais.\n",
        "* **Natureza Descritiva:** Embora a análise seja robusta em identificar padrões e correlações, ela é primariamente descritiva e não causal. Ou seja, ela mostra *o quê* acontece e *o que está correlacionado*, mas pode não provar a *causa e efeito* direto sem um estudo mais aprofundado ou experimentos controlados (como os testes A/B sugeridos).\n",
        "* **Generalização:** Os *insights* são específicos para a base de clientes da TelecomX e podem não ser diretamente generalizáveis para outras empresas de telecomunicações sem validação adicional.\n",
        "\n",
        "Apesar dessas limitações, os resultados obtidos fornecem uma base sólida e acionável para o desenvolvimento de estratégias de retenção."
      ]
    },
    {
      "cell_type": "markdown",
      "source": [
        "# **EXTRAS**"
      ],
      "metadata": {
        "id": "F1tblKBN49IK"
      }
    },
    {
      "cell_type": "markdown",
      "source": [
        "# **(Gráfico) Visualização da Distribuição de Variáveis Numéricas Contínuas**"
      ],
      "metadata": {
        "id": "sgO1mQxK404V"
      }
    },
    {
      "cell_type": "code",
      "source": [
        "import matplotlib.pyplot as plt\n",
        "import seaborn as sns\n",
        "\n",
        "sns.set_style('whitegrid') # Garante o estilo visual\n",
        "\n",
        "# --- Análise Visual da Distribuição de Variáveis Numéricas Contínuas ---\n",
        "print(\"\\n--- Visualizando a Distribuição de Variáveis Numéricas Chave ---\")\n",
        "\n",
        "# Colunas numéricas a serem analisadas\n",
        "numeric_cols_for_dist = ['Meses_Contrato', 'Gasto_Mensal', 'Gasto_Total']\n",
        "\n",
        "plt.figure(figsize=(18, 5))\n",
        "for i, col in enumerate(numeric_cols_for_dist):\n",
        "    # Histograma\n",
        "    plt.subplot(1, 3, i + 1)\n",
        "    sns.histplot(df_final[col], kde=True, bins=30, color='skyblue')\n",
        "    plt.title(f'Distribuição de {col}', fontsize=14)\n",
        "    plt.xlabel(col, fontsize=11)\n",
        "    plt.ylabel('Frequência', fontsize=11)\n",
        "    plt.grid(axis='y', alpha=0.75)\n",
        "\n",
        "plt.tight_layout()\n",
        "plt.show()\n",
        "\n",
        "plt.figure(figsize=(18, 5))\n",
        "for i, col in enumerate(numeric_cols_for_dist):\n",
        "    # Box Plot\n",
        "    plt.subplot(1, 3, i + 1)\n",
        "    sns.boxplot(x=df_final[col], color='lightcoral')\n",
        "    plt.title(f'Box Plot de {col}', fontsize=14)\n",
        "    plt.xlabel(col, fontsize=11)\n",
        "    plt.grid(axis='x', alpha=0.75)\n",
        "\n",
        "plt.tight_layout()\n",
        "plt.show()\n",
        "\n",
        "print(\"\\nInterpretação dos gráficos de distribuição: Fornecem uma visão visual da forma, centro e dispersão dos dados, incluindo a presença de outliers e assimetria. Por exemplo, Gasto_Total e Meses_Contrato podem mostrar distribuições enviesadas.\")"
      ],
      "metadata": {
        "colab": {
          "base_uri": "https://localhost:8080/",
          "height": 732
        },
        "id": "UKzZYjLG40JP",
        "outputId": "4d9b3568-1414-454f-a2fb-15527272ea36"
      },
      "execution_count": 78,
      "outputs": [
        {
          "output_type": "stream",
          "name": "stdout",
          "text": [
            "\n",
            "--- Visualizando a Distribuição de Variáveis Numéricas Chave ---\n"
          ]
        },
        {
          "output_type": "display_data",
          "data": {
            "text/plain": [
              "<Figure size 1800x500 with 3 Axes>"
            ],
            "image/png": "[encoded data removed]"
          },
          "metadata": {}
        },
        {
          "output_type": "display_data",
          "data": {
            "text/plain": [
              "<Figure size 1800x500 with 3 Axes>"
            ],
            "image/png": "[encoded data removed]"
          },
          "metadata": {}
        },
        {
          "output_type": "stream",
          "name": "stdout",
          "text": [
            "\n",
            "Interpretação dos gráficos de distribuição: Fornecem uma visão visual da forma, centro e dispersão dos dados, incluindo a presença de outliers e assimetria. Por exemplo, Gasto_Total e Meses_Contrato podem mostrar distribuições enviesadas.\n"
          ]
        }
      ]
    },
    {
      "cell_type": "markdown",
      "source": [
        "# **(Gráfico) Análise Bivariada de Variáveis Numéricas vs. Churn (Box Plots por Categoria)**"
      ],
      "metadata": {
        "id": "WU8BcEL25Aah"
      }
    },
    {
      "cell_type": "code",
      "source": [
        "# --- Análise de Variáveis Numéricas por Churn (Box Plots) ---\n",
        "print(\"\\n--- Comparando Variáveis Numéricas entre Clientes com e sem Churn ---\")\n",
        "\n",
        "plt.figure(figsize=(18, 6))\n",
        "for i, col in enumerate(numeric_cols_for_dist):\n",
        "    plt.subplot(1, 3, i + 1)\n",
        "    sns.boxplot(x='Churn', y=col, data=df_final, palette='viridis', hue='Churn', legend=False)\n",
        "    plt.title(f'{col} por Churn', fontsize=14)\n",
        "    plt.xlabel('Churn (0=Não, 1=Sim)', fontsize=11)\n",
        "    plt.ylabel(col, fontsize=11)\n",
        "    plt.grid(axis='y', alpha=0.75)\n",
        "\n",
        "plt.tight_layout()\n",
        "plt.show()\n",
        "\n",
        "print(\"\\nInterpretação dos box plots por Churn: Estes gráficos ajudam a visualizar diferenças nas medianas e na dispersão das variáveis numéricas entre os grupos de churn e não-churn. Por exemplo, espera-se que 'Meses_Contrato' seja menor para clientes com churn e 'Gasto_Mensal' e 'Gasto_Total' possam apresentar diferentes comportamentos.\")"
      ],
      "metadata": {
        "colab": {
          "base_uri": "https://localhost:8080/",
          "height": 483
        },
        "id": "ruVAa5cA5EjW",
        "outputId": "bf991bc2-09ee-4e70-830a-706f52a11ef8"
      },
      "execution_count": 79,
      "outputs": [
        {
          "output_type": "stream",
          "name": "stdout",
          "text": [
            "\n",
            "--- Comparando Variáveis Numéricas entre Clientes com e sem Churn ---\n"
          ]
        },
        {
          "output_type": "display_data",
          "data": {
            "text/plain": [
              "<Figure size 1800x600 with 3 Axes>"
            ],
            "image/png": "[encoded data removed]"
          },
          "metadata": {}
        },
        {
          "output_type": "stream",
          "name": "stdout",
          "text": [
            "\n",
            "Interpretação dos box plots por Churn: Estes gráficos ajudam a visualizar diferenças nas medianas e na dispersão das variáveis numéricas entre os grupos de churn e não-churn. Por exemplo, espera-se que 'Meses_Contrato' seja menor para clientes com churn e 'Gasto_Mensal' e 'Gasto_Total' possam apresentar diferentes comportamentos.\n"
          ]
        }
      ]
    },
    {
      "cell_type": "markdown",
      "source": [
        "# **(Gráfico) Análise de Outras Variáveis Categóricas (Tabelas de Contingência e Gráficos de Barras Empilhados/Agrupados)**"
      ],
      "metadata": {
        "id": "ZsbwFJj05HaS"
      }
    },
    {
      "cell_type": "code",
      "source": [
        "# --- Análise de Variáveis Categóricas por Churn ---\n",
        "print(\"\\n--- Analisando a Taxa de Churn para Outras Variáveis Categóricas ---\")\n",
        "\n",
        "categorical_cols_for_churn = [\n",
        "    'Idoso', 'Possui_Parceiro', 'Possui_Dependentes', 'Genero_Feminino', 'Genero_Masculino',\n",
        "    'Servico_Telefonico', 'Fatura_Online',\n",
        "    'Internet_DSL', 'Internet_FibraOtica', 'Sem_Internet',\n",
        "    'Pgto_TransfBancaria', 'Pgto_CartaoCredito', 'Pgto_ChequeEletronico', 'Pgto_ChequeCorreio'\n",
        "]\n",
        "\n",
        "plt.figure(figsize=(20, 25))\n",
        "for i, col in enumerate(categorical_cols_for_churn):\n",
        "    if col in df_final.columns:\n",
        "        churn_rate_by_cat = df_final.groupby(col)['Churn'].mean().mul(100).reset_index(name='Taxa_Churn_%')\n",
        "\n",
        "        plt.subplot(5, 3, i + 1) # Ajuste o grid de subplots conforme necessário\n",
        "        ax = sns.barplot(x=col, y='Taxa_Churn_%', data=churn_rate_by_cat, palette='coolwarm', hue=col, legend=False)\n",
        "        plt.title(f'Taxa de Churn por {col}', fontsize=14)\n",
        "        plt.xlabel(col, fontsize=11)\n",
        "        plt.ylabel('Taxa de Churn (%)', fontsize=11)\n",
        "        plt.ylim(0, 100) # Garante que o Y vá até 100%\n",
        "\n",
        "        for p in ax.patches:\n",
        "            ax.annotate(f'{p.get_height():.1f}%', (p.get_x() + p.get_width() / 2., p.get_height()),\n",
        "                        ha='center', va='center', fontsize=9, color='black', xytext=(0, 5),\n",
        "                        textcoords='offset points')\n",
        "    else:\n",
        "        print(f\"  AVISO: Coluna '{col}' não encontrada para análise.\")\n",
        "\n",
        "plt.tight_layout()\n",
        "plt.show()\n",
        "\n",
        "print(\"\\nInterpretação dos gráficos de churn por categoria: Revelam quais categorias específicas dentro de cada variável têm maior ou menor propensão ao churn. Por exemplo, 'Idoso' ou 'Fatura_Online' podem ter taxas de churn distintas.\")"
      ],
      "metadata": {
        "colab": {
          "base_uri": "https://localhost:8080/",
          "height": 1000
        },
        "id": "n5dmrkb15LkT",
        "outputId": "7a603ed2-afab-4ba7-e31c-69d606e767d4"
      },
      "execution_count": 80,
      "outputs": [
        {
          "output_type": "stream",
          "name": "stdout",
          "text": [
            "\n",
            "--- Analisando a Taxa de Churn para Outras Variáveis Categóricas ---\n"
          ]
        },
        {
          "output_type": "display_data",
          "data": {
            "text/plain": [
              "<Figure size 2000x2500 with 14 Axes>"
            ],
            "image/png": "[encoded data removed]"
          },
          "metadata": {}
        },
        {
          "output_type": "stream",
          "name": "stdout",
          "text": [
            "\n",
            "Interpretação dos gráficos de churn por categoria: Revelam quais categorias específicas dentro de cada variável têm maior ou menor propensão ao churn. Por exemplo, 'Idoso' ou 'Fatura_Online' podem ter taxas de churn distintas.\n"
          ]
        }
      ]
    }
  ],
  "metadata": {
    "colab": {
      "provenance": [],
      "include_colab_link": true
    },
    "kernelspec": {
      "display_name": "Python 3",
      "name": "python3"
    },
    "language_info": {
      "name": "python"
    }
  },
  "nbformat": 4,
  "nbformat_minor": 0
}